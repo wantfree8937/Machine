{
  "cells": [
    {
      "cell_type": "markdown",
      "metadata": {
        "id": "view-in-github",
        "colab_type": "text"
      },
      "source": [
        "<a href=\"https://colab.research.google.com/github/wantfree8937/Machine/blob/main/%EC%BB%B4%EA%B3%B5%EC%9E%85%EB%AC%B8%EA%B3%BC%ED%8C%8C%EC%9D%B4%EC%8D%AC%EA%B3%BC%EC%A0%9C3.ipynb\" target=\"_parent\"><img src=\"https://colab.research.google.com/assets/colab-badge.svg\" alt=\"Open In Colab\"/></a>"
      ]
    },
    {
      "cell_type": "markdown",
      "id": "2d03d247-e2d3-4afe-ab5e-83dc989ed62d",
      "metadata": {
        "id": "2d03d247-e2d3-4afe-ab5e-83dc989ed62d"
      },
      "source": [
        "# (실습) 기초 자료형"
      ]
    },
    {
      "cell_type": "code",
      "execution_count": 1,
      "id": "7865fd90",
      "metadata": {
        "id": "7865fd90"
      },
      "outputs": [],
      "source": [
        "from random import randint"
      ]
    },
    {
      "cell_type": "markdown",
      "id": "fd12dc3c",
      "metadata": {
        "id": "fd12dc3c"
      },
      "source": [
        "**문제 1**"
      ]
    },
    {
      "cell_type": "markdown",
      "id": "1539888f",
      "metadata": {
        "id": "1539888f"
      },
      "source": [
        "1부터 999,999만 사이의 임의의 정수가 주어졌을 때 \n",
        "해당 수를 지정된 방식으로 출력하는 코드를 작성하라.\n",
        "\n",
        "예를 들어 123을 아래와 같이 출력해야 한다.\n",
        "\n",
        "```python\n",
        "입력하신 숫자는 000123입니다.\n",
        "```\n",
        "\n",
        "힌트: `randint()` 함수와 문자열 포매팅 활용. "
      ]
    },
    {
      "cell_type": "markdown",
      "source": [
        "**문제1 답안**"
      ],
      "metadata": {
        "id": "xk0CqXsdgcp_"
      },
      "id": "xk0CqXsdgcp_"
    },
    {
      "cell_type": "code",
      "source": [
        "secret = randint(1, 999999)\n",
        "secret = format(secret, '06')\n",
        "#secret = '{0:06d}'.format(secret)\n",
        "\n",
        "print(f\"입력하신 숫자는 {secret}입니다.\")"
      ],
      "metadata": {
        "colab": {
          "base_uri": "https://localhost:8080/"
        },
        "id": "gyjCQlUigekV",
        "outputId": "5ac15ee3-84f3-4580-ead6-a7ce544f55bf"
      },
      "id": "gyjCQlUigekV",
      "execution_count": null,
      "outputs": [
        {
          "output_type": "stream",
          "name": "stdout",
          "text": [
            "입력하신 숫자는 649785입니다.\n"
          ]
        }
      ]
    },
    {
      "cell_type": "markdown",
      "id": "e6920a3e",
      "metadata": {
        "id": "e6920a3e"
      },
      "source": [
        "**문제 2**"
      ]
    },
    {
      "cell_type": "markdown",
      "id": "6f1738d6",
      "metadata": {
        "id": "6f1738d6"
      },
      "source": [
        "오늘의 요일이 주어질 때, 100일 후의 요일을 출력하는 코드를 작성하여라.\n",
        "단, 일, 월, 화, 수, 목, 금, 토 각각은 0, 1, 2, 3, 4, 5, 6 으로 대신한다.\n",
        "단, 오늘의 요일은 0부터 6 사이의 수로 무작위적으로 선택된다."
      ]
    },
    {
      "cell_type": "markdown",
      "source": [
        "**문제2 답안**"
      ],
      "metadata": {
        "id": "A4XhAw4jkOOl"
      },
      "id": "A4XhAw4jkOOl"
    },
    {
      "cell_type": "code",
      "source": [
        "day_list = ['일', '월', '화', '수', '목', '금', '토']\n",
        "secret = randint(0, 6)\n",
        "n = secret + 100 % 7\n",
        "\n",
        "if n > 6:\n",
        "  print(day_list[n - 7])\n",
        "else:\n",
        "  print(day_list[n])"
      ],
      "metadata": {
        "colab": {
          "base_uri": "https://localhost:8080/"
        },
        "id": "XmMPTZiSkQg8",
        "outputId": "cfc22282-4af4-412c-8096-91cd6ab80468"
      },
      "id": "XmMPTZiSkQg8",
      "execution_count": null,
      "outputs": [
        {
          "output_type": "stream",
          "name": "stdout",
          "text": [
            "일\n"
          ]
        }
      ]
    },
    {
      "cell_type": "markdown",
      "id": "f8b61e28",
      "metadata": {
        "id": "f8b61e28"
      },
      "source": [
        "**문제 3**"
      ]
    },
    {
      "cell_type": "markdown",
      "id": "edab045d",
      "metadata": {
        "id": "edab045d"
      },
      "source": [
        "주민등록번호 881120-1068234 등이 주워지면\n",
        "연월일(YYMMDD) 부분과 나머지 부분으로 구분하여 출력하는 코드를 작성하라.\n",
        "단, 주민등록번호는 `randint()` 함수를 이용하여 무작위로 생성한다. \n",
        "뒤 7자리는 1에서 4 사이의 숫자로 시작함에 주의하라. \n",
        "출력은 다음 형식으로 이루워져야 한다.\n",
        "\n",
        "```python\n",
        "생년월일: 881120\n",
        "  나머지: 1068234\n",
        "```\n",
        "\n",
        "힌트: 112500 등 실존하지 않는 생년월일을 피하기 위한 여러 가지 방식이 있을 수 있다. 제한을 가하거나, 아니면 특정 기준에 맞는 값이 나올 때까지 반복하면 된다. 아니면 6자리 수가 아닌 두 자리 수를 세 번 생성하여 결합할 수도 있다. "
      ]
    },
    {
      "cell_type": "markdown",
      "source": [
        "**문제3 답안**"
      ],
      "metadata": {
        "id": "eaMAn6nXmkYG"
      },
      "id": "eaMAn6nXmkYG"
    },
    {
      "cell_type": "code",
      "source": [
        "yy = format(randint(0, 99), '02')\n",
        "mm = format(randint(1, 12), '02')\n",
        "if mm == 1 or mm == 3 or mm == 5 or mm == 7 or mm == 8 or mm == 10 or mm == 12:   # 31일까지 있는 달\n",
        "  dd = format(randint(1, 31), '02')\n",
        "elif mm == 2:                                                                     # 2월\n",
        "  dd = format(randint(1, 28), '02')\n",
        "else:                                                                             # 30일까지 있는 달\n",
        "  dd = format(randint(1, 30), '02')\n",
        "\n",
        "num_first = str(randint(1, 4))\n",
        "num = format(randint(1, 999999), '06')\n",
        "left = num_first + num\n",
        "\n",
        "print(yy+mm+dd+\"-\"+left)\n",
        "print(f\"\\n생년월일: {yy+mm+dd} \\n  나머지: {left}\")"
      ],
      "metadata": {
        "colab": {
          "base_uri": "https://localhost:8080/"
        },
        "id": "imIf9S5Cmm_W",
        "outputId": "8e23c8d4-60f0-43c2-9f58-6a41c389d593"
      },
      "id": "imIf9S5Cmm_W",
      "execution_count": null,
      "outputs": [
        {
          "output_type": "stream",
          "name": "stdout",
          "text": [
            "230513-1943597\n",
            "\n",
            "생년월일: 230513 \n",
            "  나머지: 1943597\n"
          ]
        }
      ]
    },
    {
      "cell_type": "markdown",
      "id": "df172b35",
      "metadata": {
        "id": "df172b35"
      },
      "source": [
        "**문제 4**"
      ]
    },
    {
      "cell_type": "markdown",
      "id": "bb93953a",
      "metadata": {
        "id": "bb93953a"
      },
      "source": [
        "주민등록번호 뒷자리의 맨 첫 번째 숫자는 성별을 나타낸다. \n",
        "주민등록번호에서 성별을 나타내는 숫자를 \n",
        "아래 형식으로 출력하는 코드를 작성하라.\n",
        "\n",
        "힌트: 문자열 인덱싱을 활용한다."
      ]
    },
    {
      "cell_type": "markdown",
      "id": "daa7d0db",
      "metadata": {
        "id": "daa7d0db"
      },
      "source": [
        "출력:\n",
        "\n",
        "```python\n",
        "성별: 1 (남성)\n",
        "```"
      ]
    },
    {
      "cell_type": "markdown",
      "id": "024c938b",
      "metadata": {
        "id": "024c938b"
      },
      "source": [
        "출력:\n",
        "\n",
        "```python\n",
        "성별: 2 (여성)\n",
        "```"
      ]
    },
    {
      "cell_type": "markdown",
      "source": [
        "**문제4 답안**"
      ],
      "metadata": {
        "id": "Lx0bKhIvtASu"
      },
      "id": "Lx0bKhIvtASu"
    },
    {
      "cell_type": "code",
      "source": [
        "# 문제3과 연계\n",
        "if num_first == 1 or num_first == 3:\n",
        "  print(f\"성별: {num_first} (남성)\")\n",
        "else:\n",
        "  print(f\"성별: {num_first} (여성)\")"
      ],
      "metadata": {
        "colab": {
          "base_uri": "https://localhost:8080/"
        },
        "id": "joP9-frktCj1",
        "outputId": "1aa27e94-95e3-46aa-e2fe-4832ef63c28c"
      },
      "id": "joP9-frktCj1",
      "execution_count": null,
      "outputs": [
        {
          "output_type": "stream",
          "name": "stdout",
          "text": [
            "성별: 1 (여성)\n"
          ]
        }
      ]
    },
    {
      "cell_type": "markdown",
      "id": "2ed2bcc5",
      "metadata": {
        "id": "2ed2bcc5"
      },
      "source": [
        "**문제 5**"
      ]
    },
    {
      "cell_type": "markdown",
      "id": "5b0712cf",
      "metadata": {
        "id": "5b0712cf"
      },
      "source": [
        "다음과 같이 `a`, `b` 두 변수를 선언한 후 `a` 의 두 번째 요솟값을 변경하면 `b` 의 값은 \n",
        "어떻게 되는지 확인하고 그 이유를 설명하라."
      ]
    },
    {
      "cell_type": "code",
      "execution_count": null,
      "id": "6b7fba36",
      "metadata": {
        "id": "6b7fba36"
      },
      "outputs": [],
      "source": [
        "# a = b = [1, 2, 3]\n",
        "# a[1] = 4\n",
        "# print(b)"
      ]
    },
    {
      "cell_type": "markdown",
      "id": "e651f918",
      "metadata": {
        "id": "e651f918"
      },
      "source": [
        "설명하세요.\n",
        "\n",
        "..."
      ]
    },
    {
      "cell_type": "markdown",
      "source": [
        "**문제5 답안**"
      ],
      "metadata": {
        "id": "W3nj-DxVvqdz"
      },
      "id": "W3nj-DxVvqdz"
    },
    {
      "cell_type": "code",
      "source": [
        "a = b = [1, 2, 3]\n",
        "a[1] = 4\n",
        "print(b)\n",
        "print(a is b)"
      ],
      "metadata": {
        "colab": {
          "base_uri": "https://localhost:8080/"
        },
        "id": "5ISzyeKjvyEa",
        "outputId": "cfc32a78-34b0-4cc7-8fea-40e194cbdc35"
      },
      "id": "5ISzyeKjvyEa",
      "execution_count": 66,
      "outputs": [
        {
          "output_type": "stream",
          "name": "stdout",
          "text": [
            "[1, 4, 3]\n",
            "True\n"
          ]
        }
      ]
    },
    {
      "cell_type": "markdown",
      "source": [
        "하나의 변수에 리스트를 다른 변수에 할당하면 리스트가 두개가 되는게 아니라 두 변수가 하나의 리스트를 가르킨다. 그래서 리스트를 값을 변경하면 a와 b 모두에 영향이 간다."
      ],
      "metadata": {
        "id": "TcmrSL9PnKI8"
      },
      "id": "TcmrSL9PnKI8"
    },
    {
      "cell_type": "markdown",
      "id": "036a132a",
      "metadata": {
        "id": "036a132a"
      },
      "source": [
        "**문제 6**"
      ]
    },
    {
      "cell_type": "markdown",
      "id": "9003b7a9",
      "metadata": {
        "id": "9003b7a9"
      },
      "source": [
        "과일 이름으로 구성된 문자열 하나가 주어졌다."
      ]
    },
    {
      "cell_type": "code",
      "execution_count": null,
      "id": "fc8642e5",
      "metadata": {
        "id": "fc8642e5"
      },
      "outputs": [],
      "source": [
        "fruit = \"banana apple orange pineapple mango strawberry cherry\""
      ]
    },
    {
      "cell_type": "markdown",
      "source": [
        "**문제6 답안**"
      ],
      "metadata": {
        "id": "vvd7ChVjwRhw"
      },
      "id": "vvd7ChVjwRhw"
    },
    {
      "cell_type": "markdown",
      "id": "4fa6ee61",
      "metadata": {
        "id": "4fa6ee61"
      },
      "source": [
        "(1) `fruit` 변수로부터 her 문자열을 추출하는 코드를 작성하여라."
      ]
    },
    {
      "cell_type": "code",
      "source": [
        "fruit[-5:-2]"
      ],
      "metadata": {
        "colab": {
          "base_uri": "https://localhost:8080/",
          "height": 36
        },
        "id": "znkBa47PwZdI",
        "outputId": "63732e56-b88d-4c67-cfda-51472e4273a2"
      },
      "id": "znkBa47PwZdI",
      "execution_count": null,
      "outputs": [
        {
          "output_type": "execute_result",
          "data": {
            "text/plain": [
              "'her'"
            ],
            "application/vnd.google.colaboratory.intrinsic+json": {
              "type": "string"
            }
          },
          "metadata": {},
          "execution_count": 25
        }
      ]
    },
    {
      "cell_type": "markdown",
      "id": "0865ae3e",
      "metadata": {
        "id": "0865ae3e"
      },
      "source": [
        "(2) `fruit` 변수로부터 oae 문자열을 추출하는 코드를 작성하여라."
      ]
    },
    {
      "cell_type": "code",
      "source": [
        "fruit[34:27:-3]"
      ],
      "metadata": {
        "colab": {
          "base_uri": "https://localhost:8080/",
          "height": 36
        },
        "id": "bR8x9f2EwbPT",
        "outputId": "727062e1-c1e0-492a-c9d5-d560142d188e"
      },
      "id": "bR8x9f2EwbPT",
      "execution_count": null,
      "outputs": [
        {
          "output_type": "execute_result",
          "data": {
            "text/plain": [
              "'oae'"
            ],
            "application/vnd.google.colaboratory.intrinsic+json": {
              "type": "string"
            }
          },
          "metadata": {},
          "execution_count": 26
        }
      ]
    },
    {
      "cell_type": "markdown",
      "id": "5caed8e2",
      "metadata": {
        "id": "5caed8e2"
      },
      "source": [
        "(3) `fruit` 변수로부터 yrrehc 문자열을 추출하는 코드를 작성하여라."
      ]
    },
    {
      "cell_type": "code",
      "source": [
        "fruit[-1:-7:-1]"
      ],
      "metadata": {
        "colab": {
          "base_uri": "https://localhost:8080/",
          "height": 36
        },
        "id": "18M5pRggwcJb",
        "outputId": "1538f3fe-6a44-41a3-e8b6-6bf5f2945a21"
      },
      "id": "18M5pRggwcJb",
      "execution_count": null,
      "outputs": [
        {
          "output_type": "execute_result",
          "data": {
            "text/plain": [
              "'yrrehc'"
            ],
            "application/vnd.google.colaboratory.intrinsic+json": {
              "type": "string"
            }
          },
          "metadata": {},
          "execution_count": 27
        }
      ]
    },
    {
      "cell_type": "markdown",
      "id": "e613b028",
      "metadata": {
        "id": "e613b028"
      },
      "source": [
        "**문제 7**"
      ]
    },
    {
      "cell_type": "markdown",
      "id": "3de55c80",
      "metadata": {
        "id": "3de55c80"
      },
      "source": [
        "다음 문자열이 주어졌다.\n",
        "\n",
        "```python\n",
        "'n o r t h w e s t e r n'\n",
        "```\n",
        "\n",
        "위 문자열을 이용하여 아래 문자열을 생성하는 코드를 작성하라.\n",
        "\n",
        "```python\n",
        "'Northwestern'\n",
        "```"
      ]
    },
    {
      "cell_type": "markdown",
      "source": [
        "**문제7 답안**"
      ],
      "metadata": {
        "id": "YNa_as131taw"
      },
      "id": "YNa_as131taw"
    },
    {
      "cell_type": "code",
      "source": [
        "str1 = 'n o r t h w e s t e r n'\n",
        "str1 = str1.replace(\" \",\"\")\n",
        "str1.capitalize()"
      ],
      "metadata": {
        "colab": {
          "base_uri": "https://localhost:8080/",
          "height": 36
        },
        "id": "QRT0-_8U1x-a",
        "outputId": "1ae712db-c67b-4a18-9345-3b6040bae2a7"
      },
      "id": "QRT0-_8U1x-a",
      "execution_count": null,
      "outputs": [
        {
          "output_type": "execute_result",
          "data": {
            "text/plain": [
              "'Northwestern'"
            ],
            "application/vnd.google.colaboratory.intrinsic+json": {
              "type": "string"
            }
          },
          "metadata": {},
          "execution_count": 28
        }
      ]
    },
    {
      "cell_type": "markdown",
      "id": "520b5dab",
      "metadata": {
        "id": "520b5dab"
      },
      "source": [
        "**문제 8**"
      ]
    },
    {
      "cell_type": "markdown",
      "id": "62b4ffe3",
      "metadata": {
        "id": "62b4ffe3"
      },
      "source": [
        "아래 노래 가사를 활용하는 문제이다."
      ]
    },
    {
      "cell_type": "code",
      "execution_count": null,
      "id": "de3b3096",
      "metadata": {
        "id": "de3b3096"
      },
      "outputs": [],
      "source": [
        "song = \"When you are smiling, the whole world smiles with you\""
      ]
    },
    {
      "cell_type": "markdown",
      "source": [
        "**문제8 답안**"
      ],
      "metadata": {
        "id": "3phGipmu7PfJ"
      },
      "id": "3phGipmu7PfJ"
    },
    {
      "cell_type": "markdown",
      "id": "b8cc3285",
      "metadata": {
        "id": "b8cc3285"
      },
      "source": [
        "(1) `for` 문을 사용하여 `song`에서 `a`가 등장하는 횟수를 구하는 코드를 작성하라.  "
      ]
    },
    {
      "cell_type": "code",
      "execution_count": null,
      "id": "0450781b",
      "metadata": {
        "id": "0450781b",
        "colab": {
          "base_uri": "https://localhost:8080/"
        },
        "outputId": "9db063c7-2771-4075-aaba-e0d5ed4dfa4b"
      },
      "outputs": [
        {
          "output_type": "stream",
          "name": "stdout",
          "text": [
            "1\n"
          ]
        }
      ],
      "source": [
        "sum_a = 0\n",
        "for n in song: \n",
        "  if n == \"a\":\n",
        "    sum_a += 1\n",
        "print(sum_a)"
      ]
    },
    {
      "cell_type": "markdown",
      "id": "73bd79a3",
      "metadata": {
        "id": "73bd79a3"
      },
      "source": [
        "(2) 반복문을 사용하여  `song`에서 대소문자 구별없이 `w`가 등장하는 횟수를 구하는 코드를 작성하라."
      ]
    },
    {
      "cell_type": "code",
      "execution_count": null,
      "id": "e559adb3",
      "metadata": {
        "id": "e559adb3",
        "colab": {
          "base_uri": "https://localhost:8080/"
        },
        "outputId": "ae9140b4-143f-453b-c91c-3edd8b84edef"
      },
      "outputs": [
        {
          "output_type": "stream",
          "name": "stdout",
          "text": [
            "4\n"
          ]
        }
      ],
      "source": [
        "sum_w = 0\n",
        "song = song.lower()\n",
        "for n in song:\n",
        "  if n == \"w\":\n",
        "    sum_w += 1\n",
        "print(sum_w)"
      ]
    },
    {
      "cell_type": "markdown",
      "id": "264f343d",
      "metadata": {
        "id": "264f343d"
      },
      "source": [
        "**문제 9**"
      ]
    },
    {
      "cell_type": "markdown",
      "id": "2c45e398",
      "metadata": {
        "id": "2c45e398"
      },
      "source": [
        "`num`이 가리키는 정수가 숫자 3을 포함하는 경우에는\n",
        "`num` 의 세 배를 출력하고, \n",
        "아닌 경우에는 `num` 에서 2를 뺀 값을 출력하는 코드를 작성하라.\n",
        "단, `num` 이 가리키는 수는 임의로 생성된 세 자리 수이어야 한다."
      ]
    },
    {
      "cell_type": "markdown",
      "source": [
        "**문제9 답안**"
      ],
      "metadata": {
        "id": "TCG4FUNhFSed"
      },
      "id": "TCG4FUNhFSed"
    },
    {
      "cell_type": "code",
      "execution_count": null,
      "id": "d5d87f68",
      "metadata": {
        "id": "d5d87f68"
      },
      "outputs": [],
      "source": [
        "# 코드를 작성하세요.\n",
        "# 필요하면 코드셀 또는 텍스트셀을 추가할 수 있습니다.\n",
        "\n",
        "# num = 123\n",
        "# 출력: 369"
      ]
    },
    {
      "cell_type": "code",
      "source": [
        "num = randint(100, 999)\n",
        "#num = 123\n",
        "num_list = list(map(int, str(num)))\n",
        "sum_n = 0\n",
        "for n in num_list:\n",
        "  if n == 3:\n",
        "    sum_n += 1\n",
        "\n",
        "if sum_n > 0:\n",
        "  print(num * 3)\n",
        "else:\n",
        "  print(num - 2)"
      ],
      "metadata": {
        "colab": {
          "base_uri": "https://localhost:8080/"
        },
        "id": "oMiW-KGrFXal",
        "outputId": "299e690d-307f-485f-8271-2779481f62d3"
      },
      "id": "oMiW-KGrFXal",
      "execution_count": null,
      "outputs": [
        {
          "output_type": "stream",
          "name": "stdout",
          "text": [
            "1959\n"
          ]
        }
      ]
    },
    {
      "cell_type": "markdown",
      "id": "93c7f510",
      "metadata": {
        "id": "93c7f510"
      },
      "source": [
        "**문제 10**"
      ]
    },
    {
      "cell_type": "markdown",
      "id": "8e6d6612",
      "metadata": {
        "id": "8e6d6612"
      },
      "source": [
        "정수 나눗셈의 몫을 계산하는 코드를 `while` 반복문을 이용하여 구현한다.\n",
        "단, 분자와 분모는 임의로 생성하며, 분자는 두 자리 정수, 분모는 한 자리 정수로 제한한다.\n",
        "또한 몫 연산자 `//` 는 허용되지 않으며 덧셈과 뺄셈만 사용한다. "
      ]
    },
    {
      "cell_type": "markdown",
      "source": [
        "**문제10 답안**"
      ],
      "metadata": {
        "id": "fcXSjJNggSf6"
      },
      "id": "fcXSjJNggSf6"
    },
    {
      "cell_type": "code",
      "execution_count": null,
      "id": "5753542f",
      "metadata": {
        "id": "5753542f"
      },
      "outputs": [],
      "source": [
        "# 아래 변수를 이용하세요.\n",
        "\n",
        "# number = None\n",
        "# divisor = None\n",
        "# answer = None"
      ]
    },
    {
      "cell_type": "code",
      "source": [
        "number = randint(1,99)    # 분자\n",
        "divisor = randint(1,9)    # 분모\n",
        "answer = 0\n",
        "while number >= divisor:\n",
        "  number -= divisor\n",
        "  answer += 1\n",
        "print(answer)"
      ],
      "metadata": {
        "colab": {
          "base_uri": "https://localhost:8080/"
        },
        "id": "SFNAsy-IgW7e",
        "outputId": "42b2f4e0-0c2e-49be-fd97-a516b1c4bcde"
      },
      "id": "SFNAsy-IgW7e",
      "execution_count": null,
      "outputs": [
        {
          "output_type": "stream",
          "name": "stdout",
          "text": [
            "13\n"
          ]
        }
      ]
    },
    {
      "cell_type": "markdown",
      "id": "a9bb5495",
      "metadata": {
        "id": "a9bb5495"
      },
      "source": [
        "**문제 11**"
      ]
    },
    {
      "cell_type": "markdown",
      "id": "2a18be3b",
      "metadata": {
        "id": "2a18be3b"
      },
      "source": [
        "어느 한 택배사의 무게에 따른 가격표가 다음과 같다.\n",
        "\n",
        "| 5kg 미만 | 5kg 이상~10kg 미만 | 10kg 이상 |\n",
        "|:-------:|:--------------------:|:---------:|\n",
        "|5.000원 | 8,000원| 10,000원|\n",
        "\n",
        "우편물의 무게가 임의의 자연수로 주어졌을 때, 택배 가격을 알려주는 프로그램을 만들어라.\n",
        "단, 우편물의 무게는 최대 두 자리 수로 제한한다."
      ]
    },
    {
      "cell_type": "markdown",
      "source": [
        "**문제11 답안**"
      ],
      "metadata": {
        "id": "LD4masLhjpHA"
      },
      "id": "LD4masLhjpHA"
    },
    {
      "cell_type": "code",
      "source": [
        "wei = randint(1, 99)    # 우편물 무게\n",
        "\n",
        "if wei < 5:\n",
        "  print('5000원 입니다.')\n",
        "elif 5 <= wei <10:\n",
        "  print('8000원 입니다.')\n",
        "else:\n",
        "  print('10000원 입니다.')"
      ],
      "metadata": {
        "colab": {
          "base_uri": "https://localhost:8080/"
        },
        "id": "BahLAsyMjrR8",
        "outputId": "4029365a-96eb-48cf-d17d-3e167a559031"
      },
      "id": "BahLAsyMjrR8",
      "execution_count": null,
      "outputs": [
        {
          "output_type": "stream",
          "name": "stdout",
          "text": [
            "8000원 입니다.\n"
          ]
        }
      ]
    },
    {
      "cell_type": "markdown",
      "id": "6e53793d",
      "metadata": {
        "id": "6e53793d"
      },
      "source": [
        "**문제 12**"
      ]
    },
    {
      "cell_type": "markdown",
      "id": "a8aa77ea",
      "metadata": {
        "id": "a8aa77ea"
      },
      "source": [
        "0부터 100까지의 숫자 중에서 3의 배수와 7의 배수를 모두 찾아 출력한 다음, \n",
        "찾은 수들을 모두 더하여 아래와 같이 출력하는 코드를 작성하여라.\n",
        "\n",
        "```python\n",
        "0~100의 숫자 중 3의 배수와 7의 배수들의 합은 OOO이다.\n",
        "```"
      ]
    },
    {
      "cell_type": "markdown",
      "source": [
        "**문제12 답안**"
      ],
      "metadata": {
        "id": "WcR7kH1HkuxA"
      },
      "id": "WcR7kH1HkuxA"
    },
    {
      "cell_type": "code",
      "source": [
        "thr = 3\n",
        "sev = 7\n",
        "thr_list = [thr]\n",
        "sev_list = [sev]\n",
        "while thr < 100:\n",
        "  thr += 3\n",
        "  if thr > 100:\n",
        "    break\n",
        "  thr_list.append(thr)\n",
        "while sev < 100:\n",
        "  sev += 7\n",
        "  if sev > 100:\n",
        "    break\n",
        "  sev_list.append(sev)\n",
        "\n",
        "sum_thr = sum(thr_list)\n",
        "sum_sev = sum(sev_list)\n",
        "\n",
        "print(f\"3의 배수: {thr_list}\")\n",
        "print(f\"7의 배수: {sev_list}\")\n",
        "print(f'0~100의 숫자 중 3의 배수와 의 7배수들의 합은 {sum_thr+sum_sev}이다.')"
      ],
      "metadata": {
        "colab": {
          "base_uri": "https://localhost:8080/"
        },
        "id": "S9hWY-efkyEO",
        "outputId": "bbb70bd3-b41b-48c8-95f6-9fbd858ae514"
      },
      "id": "S9hWY-efkyEO",
      "execution_count": null,
      "outputs": [
        {
          "output_type": "stream",
          "name": "stdout",
          "text": [
            "3의 배수: [3, 6, 9, 12, 15, 18, 21, 24, 27, 30, 33, 36, 39, 42, 45, 48, 51, 54, 57, 60, 63, 66, 69, 72, 75, 78, 81, 84, 87, 90, 93, 96, 99]\n",
            "7의 배수: [7, 14, 21, 28, 35, 42, 49, 56, 63, 70, 77, 84, 91, 98]\n",
            "0~100의 숫자 중 3의 배수와 의 7배수들의 합은 2418이다.\n"
          ]
        }
      ]
    },
    {
      "cell_type": "markdown",
      "id": "03e30c2a",
      "metadata": {
        "id": "03e30c2a"
      },
      "source": [
        "**문제 13**"
      ]
    },
    {
      "cell_type": "markdown",
      "id": "096af73f",
      "metadata": {
        "id": "096af73f"
      },
      "source": [
        "임의의 자연수 n이 주어졌을 때, 1부터 n까지의 자연수 중에서 3의 배수이거나 \n",
        "3을 포함하는 숫자들의 합을 구하여라.\n",
        "단, n 은 두 자리의 수로 제한한다."
      ]
    },
    {
      "cell_type": "markdown",
      "source": [
        "**문제13 답안**"
      ],
      "metadata": {
        "id": "Yf_2d2UPpDKH"
      },
      "id": "Yf_2d2UPpDKH"
    },
    {
      "cell_type": "code",
      "source": [
        "num = randint(1, 99)    # 임의의 자연수\n",
        "thr = 3\n",
        "thr1_list = [thr]       # 3의 배수 리스트 \n",
        "thr2_list = []          # 3을 포함한 숫자 리스트\n",
        "num_list = list(range(1, num))\n",
        "\n",
        "while thr < num:        # 3의 배수 구하기\n",
        "  thr += 3\n",
        "  thr1_list.append(thr)\n",
        "\n",
        "for n in num_list:      # 3을 포함한 숫자 구하기 \n",
        "  if '3' in str(n):\n",
        "    thr2_list.append(n)\n",
        "\n",
        "sum_list = thr1_list + thr2_list  # 합치고 중복 제거\n",
        "sum_list = set(sum_list)\n",
        "\n",
        "print(f\"3의 배수: {thr1_list}\")\n",
        "print(f\"3을 포함한 숫자: {thr2_list}\")\n",
        "print(f\"3의 배수 혹은 3을 포함한 숫자: {sum_list}\")\n",
        "print(f\"합은 {sum(sum_list)}이다.\")"
      ],
      "metadata": {
        "colab": {
          "base_uri": "https://localhost:8080/"
        },
        "id": "LxiQKRHmpGAF",
        "outputId": "69e6e8bc-0353-4cf2-f15a-63c7459dbd98"
      },
      "id": "LxiQKRHmpGAF",
      "execution_count": null,
      "outputs": [
        {
          "output_type": "stream",
          "name": "stdout",
          "text": [
            "3의 배수: [3, 6, 9, 12, 15, 18, 21, 24, 27, 30, 33, 36, 39]\n",
            "3을 포함한 숫자: [3, 13, 23, 30, 31, 32, 33, 34, 35, 36]\n",
            "3의 배수 혹은 3을 포함한 숫자: {3, 6, 9, 12, 13, 15, 18, 21, 23, 24, 27, 30, 31, 32, 33, 34, 35, 36, 39}\n",
            "합은 441이다.\n"
          ]
        }
      ]
    },
    {
      "cell_type": "markdown",
      "id": "fd2fc091",
      "metadata": {
        "id": "fd2fc091"
      },
      "source": [
        "**문제 14**"
      ]
    },
    {
      "cell_type": "markdown",
      "id": "67fa0cc6",
      "metadata": {
        "id": "67fa0cc6"
      },
      "source": [
        "자연수 n이 주어졌을 때, n의 약수를 모두 출력하는 코드를 작성하여라. \n",
        "단, n 은 두 자리의 수로 제한한다."
      ]
    },
    {
      "cell_type": "markdown",
      "source": [
        "**문제14 답안**"
      ],
      "metadata": {
        "id": "qDRq_FZMyL8g"
      },
      "id": "qDRq_FZMyL8g"
    },
    {
      "cell_type": "code",
      "source": [
        "num = randint(1, 99)      # 임의의 자연수\n",
        "num_list = []\n",
        "print(f\"숫자: {num}\")\n",
        "\n",
        "for n in range(1, num+1):\n",
        "  if num % n == 0:\n",
        "    num_list.append(n)\n",
        "print(f\"약수: {num_list}\")"
      ],
      "metadata": {
        "id": "kBNZE_-ByOiY",
        "colab": {
          "base_uri": "https://localhost:8080/"
        },
        "outputId": "be19c7c3-ed43-4402-c297-970b1772a6d3"
      },
      "id": "kBNZE_-ByOiY",
      "execution_count": 11,
      "outputs": [
        {
          "output_type": "stream",
          "name": "stdout",
          "text": [
            "숫자: 36\n",
            "약수: [1, 2, 3, 4, 6, 9, 12, 18, 36]\n"
          ]
        }
      ]
    },
    {
      "cell_type": "markdown",
      "id": "beba89dc",
      "metadata": {
        "id": "beba89dc"
      },
      "source": [
        "**문제 15**"
      ]
    },
    {
      "cell_type": "markdown",
      "id": "f9febfa4",
      "metadata": {
        "id": "f9febfa4"
      },
      "source": [
        "일찍 태어난 사람이 늦게 태어난 사람보다 정확히 두 배의 나이를 갖는 경우가 발생한다. \n",
        "예를 들어, 2003년 7월 12일에 태어난 사람과 2006년 9월 30일에 태어난 사람은\n",
        "2009년 12월 19일에 서로의 나이가 딱 두 배가 된다.\n",
        "\n",
        "이를 확인하는 코드를 `Timestamp` 자료형을 이용하여 작성하라."
      ]
    },
    {
      "cell_type": "markdown",
      "source": [
        "**문제16 답안**"
      ],
      "metadata": {
        "id": "XiowdJW3UpIV"
      },
      "id": "XiowdJW3UpIV"
    },
    {
      "cell_type": "code",
      "execution_count": 41,
      "id": "04a0dc66",
      "metadata": {
        "id": "04a0dc66"
      },
      "outputs": [],
      "source": [
        "import pandas as pd \n",
        "\n",
        "d1 = pd.Timestamp('2003-07-12')\n",
        "d2 = pd.Timestamp('2006-09-30')"
      ]
    },
    {
      "cell_type": "code",
      "source": [
        "d3 = d2 - d1    # d1과 d2의 차이\n",
        "print(d2 + d3)"
      ],
      "metadata": {
        "colab": {
          "base_uri": "https://localhost:8080/"
        },
        "id": "kD12-2HlUu-P",
        "outputId": "c8fa1c52-ceaf-4c69-c9a6-141943d278cd"
      },
      "id": "kD12-2HlUu-P",
      "execution_count": 42,
      "outputs": [
        {
          "output_type": "stream",
          "name": "stdout",
          "text": [
            "2009-12-19 00:00:00\n"
          ]
        }
      ]
    },
    {
      "cell_type": "markdown",
      "id": "5d91f83d",
      "metadata": {
        "id": "5d91f83d"
      },
      "source": [
        "**문제 16**"
      ]
    },
    {
      "cell_type": "markdown",
      "id": "db3d1a42",
      "metadata": {
        "id": "db3d1a42"
      },
      "source": [
        "아래 명령문을 실행할 때 오류가 발생한다. 이유가 무엇인가?\n",
        "\n",
        "```python\n",
        "if 3/0 or True:\n",
        "    print(\"나는 출력되지 않아요.\")\n",
        "```\n",
        "\n",
        "이유를 설명하세요."
      ]
    },
    {
      "cell_type": "markdown",
      "source": [
        "**문제16 답안**"
      ],
      "metadata": {
        "id": "Hd3F8U8vd_3h"
      },
      "id": "Hd3F8U8vd_3h"
    },
    {
      "cell_type": "code",
      "source": [
        "#if 3/0 or True:\n",
        "#  print(\"나는 출력되지 않아요.\")\n",
        "\n",
        "# ZeroDivisionError: division by zero"
      ],
      "metadata": {
        "id": "C1w0_4yTeEC5"
      },
      "id": "C1w0_4yTeEC5",
      "execution_count": 49,
      "outputs": []
    },
    {
      "cell_type": "markdown",
      "source": [
        "3을 0으로 나눌수 없기때문에 발생"
      ],
      "metadata": {
        "id": "Cr8r-Z87gMV8"
      },
      "id": "Cr8r-Z87gMV8"
    },
    {
      "cell_type": "markdown",
      "id": "d4b81c5f",
      "metadata": {
        "id": "d4b81c5f"
      },
      "source": [
        "**문제 17**"
      ]
    },
    {
      "cell_type": "markdown",
      "id": "c5d52f6b",
      "metadata": {
        "id": "c5d52f6b"
      },
      "source": [
        "아래 명령문을 실행할 때 오류가 발생하지 않는다. 이유가 무엇인가?\n",
        "\n",
        "```python\n",
        "if True or 3/0:\n",
        "    print(\"오류가 발생하지 않아요.\")\n",
        "```\n",
        "\n",
        "이유를 설명하세요."
      ]
    },
    {
      "cell_type": "markdown",
      "source": [
        "**문제17 답안**"
      ],
      "metadata": {
        "id": "MX124zFdgiKY"
      },
      "id": "MX124zFdgiKY"
    },
    {
      "cell_type": "code",
      "source": [
        "if True or 3/0:\n",
        "  print(\"오류가 발생하지 않아요.\")"
      ],
      "metadata": {
        "colab": {
          "base_uri": "https://localhost:8080/"
        },
        "id": "2K6tUKxZgkQx",
        "outputId": "0517e760-3381-4a51-e4a7-33b6ab84acf7"
      },
      "id": "2K6tUKxZgkQx",
      "execution_count": 57,
      "outputs": [
        {
          "output_type": "stream",
          "name": "stdout",
          "text": [
            "오류가 발생하지 않아요.\n"
          ]
        }
      ]
    },
    {
      "cell_type": "markdown",
      "source": [
        "or 연산자는 둘 중 하나만 True면 바로 True를 반환한다.\n",
        "게다가 or 연산자는 왼쪽에서 오른쪽으로 결합성을 가지기 때문에 위에 코드는 오류가 발생하지 않는다."
      ],
      "metadata": {
        "id": "ywyUfbnChBbW"
      },
      "id": "ywyUfbnChBbW"
    }
  ],
  "metadata": {
    "kernelspec": {
      "display_name": "base",
      "language": "python",
      "name": "python3"
    },
    "language_info": {
      "codemirror_mode": {
        "name": "ipython",
        "version": 3
      },
      "file_extension": ".py",
      "mimetype": "text/x-python",
      "name": "python",
      "nbconvert_exporter": "python",
      "pygments_lexer": "ipython3",
      "version": "3.9.12 (main, Apr  4 2022, 05:22:27) [MSC v.1916 64 bit (AMD64)]"
    },
    "toc-autonumbering": true,
    "toc-showcode": false,
    "toc-showmarkdowntxt": false,
    "vscode": {
      "interpreter": {
        "hash": "6c86b3592b6800d985c04531f2c445f0fa6967131b8dd6395a925f7622e55602"
      }
    },
    "colab": {
      "provenance": [],
      "include_colab_link": true
    }
  },
  "nbformat": 4,
  "nbformat_minor": 5
}
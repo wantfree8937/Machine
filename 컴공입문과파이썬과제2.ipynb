{
  "cells": [
    {
      "cell_type": "markdown",
      "metadata": {
        "id": "view-in-github",
        "colab_type": "text"
      },
      "source": [
        "<a href=\"https://colab.research.google.com/github/wantfree8937/Machine/blob/main/%EC%BB%B4%EA%B3%B5%EC%9E%85%EB%AC%B8%EA%B3%BC%ED%8C%8C%EC%9D%B4%EC%8D%AC%EA%B3%BC%EC%A0%9C2.ipynb\" target=\"_parent\"><img src=\"https://colab.research.google.com/assets/colab-badge.svg\" alt=\"Open In Colab\"/></a>"
      ]
    },
    {
      "cell_type": "markdown",
      "id": "2d03d247-e2d3-4afe-ab5e-83dc989ed62d",
      "metadata": {
        "id": "2d03d247-e2d3-4afe-ab5e-83dc989ed62d"
      },
      "source": [
        "# (실습) 변수, 값, 표현식"
      ]
    },
    {
      "cell_type": "markdown",
      "id": "01c8fab8",
      "metadata": {
        "id": "01c8fab8"
      },
      "source": [
        "**주의 사항**\n",
        "\n",
        "* 기존에 작성된 코드셀/텍스트셀은 수정하지 않는다.\n",
        "* 필요한 경우 코드셀 또는 텍스트셀을 추가할 수 있다.\n",
        "* 실습 파일을 구글 드라이브에서 링크로 누구가 공유할 수 있도록 설정하세요."
      ]
    },
    {
      "cell_type": "markdown",
      "id": "c80ac5dd",
      "metadata": {
        "id": "c80ac5dd"
      },
      "source": [
        "**문제 1**"
      ]
    },
    {
      "cell_type": "markdown",
      "id": "b1e2794f",
      "metadata": {
        "id": "b1e2794f"
      },
      "source": [
        "다음 역삼각형 모양을 출력하는 코드를 작성하라.\n",
        "\n",
        "```python\n",
        "* * * * *  \n",
        "* * * *  \n",
        "* * *  \n",
        "* *  \n",
        "*\n",
        "```"
      ]
    },
    {
      "cell_type": "markdown",
      "source": [
        "**문제1 답안**"
      ],
      "metadata": {
        "id": "7sj7PEuYwGG4"
      },
      "id": "7sj7PEuYwGG4"
    },
    {
      "cell_type": "code",
      "source": [
        "a = '*'\n",
        "print(a*5)\n",
        "print(a*4)\n",
        "print(a*3)\n",
        "print(a*2)\n",
        "print(a)"
      ],
      "metadata": {
        "id": "CeS8dkCuwJ0o",
        "outputId": "15e12393-088c-48c4-fcda-6eaf1011609f",
        "colab": {
          "base_uri": "https://localhost:8080/"
        }
      },
      "id": "CeS8dkCuwJ0o",
      "execution_count": null,
      "outputs": [
        {
          "output_type": "stream",
          "name": "stdout",
          "text": [
            "*****\n",
            "****\n",
            "***\n",
            "**\n",
            "*\n"
          ]
        }
      ]
    },
    {
      "cell_type": "markdown",
      "id": "827df42a",
      "metadata": {
        "id": "827df42a"
      },
      "source": [
        "**문제 2**"
      ]
    },
    {
      "cell_type": "markdown",
      "id": "8a3373c9",
      "metadata": {
        "id": "8a3373c9"
      },
      "source": [
        "사용자로부터 입력받은 정수의 짝수, 홀수 여부를 판정하는 코드를 작성하라.\n",
        "\n",
        "힌트: `input()` 함수가 반환하는 값을 저장해서 활용한다.\n",
        "\n",
        "입력:\n",
        "\n",
        "```python\n",
        "5\n",
        "```\n",
        "\n",
        "출력:\n",
        "\n",
        "```python\n",
        "홀수\n",
        "```"
      ]
    },
    {
      "cell_type": "markdown",
      "source": [
        "**문제2 답안**"
      ],
      "metadata": {
        "id": "7s0pHF2nxmf1"
      },
      "id": "7s0pHF2nxmf1"
    },
    {
      "cell_type": "code",
      "source": [
        "num = int(input())\n",
        "if num % 2 == 1:\n",
        "  print(\"홀수\")\n",
        "else:\n",
        "  print(\"짝수\")"
      ],
      "metadata": {
        "colab": {
          "base_uri": "https://localhost:8080/"
        },
        "id": "1rcAYDxvxoim",
        "outputId": "9ccd5f19-a542-4341-e99b-ec52e68ce2ae"
      },
      "id": "1rcAYDxvxoim",
      "execution_count": null,
      "outputs": [
        {
          "output_type": "stream",
          "name": "stdout",
          "text": [
            "5\n",
            "홀수\n"
          ]
        }
      ]
    },
    {
      "cell_type": "markdown",
      "id": "a8cd81ca",
      "metadata": {
        "id": "a8cd81ca"
      },
      "source": [
        "**문제 3**"
      ]
    },
    {
      "cell_type": "markdown",
      "id": "97d4318f",
      "metadata": {
        "id": "97d4318f"
      },
      "source": [
        "사용자로부터 하나의 정수를 입력 받은 값이 17보다 크면 두 숫자의 차이의 제곱을 출력하는 코드를 작성하라.\n",
        "\n",
        "힌트: `input()` 함수가 반환하는 값을 저장해서 활용한다.\n",
        "\n",
        "\n",
        "입력:\n",
        "\n",
        "```python\n",
        "25\n",
        "```\n",
        "\n",
        "출력:\n",
        "\n",
        "```python\n",
        "64\n",
        "```"
      ]
    },
    {
      "cell_type": "markdown",
      "source": [
        "**문제3 답안**"
      ],
      "metadata": {
        "id": "CUf5nXjnzqP7"
      },
      "id": "CUf5nXjnzqP7"
    },
    {
      "cell_type": "code",
      "source": [
        "num = int(input())\n",
        "if num > 17:\n",
        "  print((num - 17)**2)\n",
        "else:\n",
        "  print(\"17보다 작거나 같음\")"
      ],
      "metadata": {
        "colab": {
          "base_uri": "https://localhost:8080/"
        },
        "id": "deNY5VIh0bNW",
        "outputId": "463ecc2f-02e8-426a-b07b-bfa8e3966c6d"
      },
      "id": "deNY5VIh0bNW",
      "execution_count": null,
      "outputs": [
        {
          "output_type": "stream",
          "name": "stdout",
          "text": [
            "20\n",
            "9\n"
          ]
        }
      ]
    },
    {
      "cell_type": "markdown",
      "id": "00ad8d4a",
      "metadata": {
        "id": "00ad8d4a"
      },
      "source": [
        "**문제 4**"
      ]
    },
    {
      "cell_type": "markdown",
      "id": "6681b467",
      "metadata": {
        "id": "6681b467"
      },
      "source": [
        "사용자로부터 하나의 정수 $n$ 을 입력받아 $n + n n + n n n$ 을 계산하는 코드를 작성하라.\n",
        "곱셈 계산이 아님에 주의하라.\n",
        "\n",
        "힌트: `input()` 함수가 반환하는 값을 저장해서 활용한다.\n",
        "\n",
        "입력:\n",
        "\n",
        "```python\n",
        "n: 5\n",
        "```\n",
        "\n",
        "출력:\n",
        "\n",
        "```python\n",
        "615\n",
        "```"
      ]
    },
    {
      "cell_type": "markdown",
      "source": [
        "**문제4 답안**"
      ],
      "metadata": {
        "id": "nGcJozqb1cJJ"
      },
      "id": "nGcJozqb1cJJ"
    },
    {
      "cell_type": "code",
      "source": [
        "num = input(\"n: \")\n",
        "print(int(num) + int(num*2) + int(num*3))"
      ],
      "metadata": {
        "colab": {
          "base_uri": "https://localhost:8080/"
        },
        "id": "RKBsuVu91e-h",
        "outputId": "8949bb28-e039-4d42-dc31-dd0fa5e0a2f8"
      },
      "id": "RKBsuVu91e-h",
      "execution_count": null,
      "outputs": [
        {
          "output_type": "stream",
          "name": "stdout",
          "text": [
            "n: 1\n",
            "123\n"
          ]
        }
      ]
    },
    {
      "cell_type": "markdown",
      "id": "4b89a2c9",
      "metadata": {
        "id": "4b89a2c9"
      },
      "source": [
        "**문제 5**"
      ]
    },
    {
      "cell_type": "markdown",
      "id": "a7b1e8ed",
      "metadata": {
        "id": "a7b1e8ed"
      },
      "source": [
        "두 정수 `a`와 `b`를 입력받아 \n",
        "`a + b`, `a - b`, `a * b`, `a / b`, `a // b`, `a % b`를 \n",
        "출력하는 코드를 작성하여라.\n",
        "\n",
        "힌트: `input()` 함수가 반환하는 값을 저장해서 활용한다.\n",
        "\n",
        "입력:\n",
        "\n",
        "```python\n",
        "a = 3\n",
        "b = 2\n",
        "```\n",
        "\n",
        "출력:\n",
        "\n",
        "```python\n",
        "3 + 2 = 5  \n",
        "3 - 2 = 1\n",
        "3 * 2 = 6 \n",
        "3 / 2 = 1.5\n",
        "3 // 2 = 1\n",
        "3 % 2 = 1\n",
        "```"
      ]
    },
    {
      "cell_type": "markdown",
      "source": [
        "**문제5 답안**"
      ],
      "metadata": {
        "id": "46c-aJ5P23pd"
      },
      "id": "46c-aJ5P23pd"
    },
    {
      "cell_type": "code",
      "source": [
        "a = int(input(\"a = \"))\n",
        "b = int(input(\"b = \"))\n",
        "print(f\"{a} + {b} = {a+b}\")\n",
        "print(f\"{a} - {b} = {a-b}\")\n",
        "print(f\"{a} * {b} = {a*b}\")\n",
        "print(f\"{a} / {b} = {a/b}\")\n",
        "print(f\"{a} // {b} = {a//b}\")\n",
        "print(f\"{a} % {b} = {a%b}\")"
      ],
      "metadata": {
        "colab": {
          "base_uri": "https://localhost:8080/"
        },
        "id": "wO-Ss7kK26QE",
        "outputId": "f41cade7-04c2-4b27-e9a8-74396a3762ec"
      },
      "id": "wO-Ss7kK26QE",
      "execution_count": null,
      "outputs": [
        {
          "output_type": "stream",
          "name": "stdout",
          "text": [
            "a = 3\n",
            "b = 2\n",
            "3 + 2 = 5\n",
            "3 - 2 = 1\n",
            "3 * 2 = 6\n",
            "3 / 2 = 1.5\n",
            "3 // 2 = 1\n",
            "3 % 2 = 1\n"
          ]
        }
      ]
    },
    {
      "cell_type": "markdown",
      "id": "6f79b27d",
      "metadata": {
        "id": "6f79b27d"
      },
      "source": [
        "**문제 6**"
      ]
    },
    {
      "cell_type": "markdown",
      "id": "40f6dcfd",
      "metadata": {
        "id": "40f6dcfd"
      },
      "source": [
        "반지름 $r$ 을 입력 받으면 구의 부피 $\\frac{4}{3} \\pi r^3$ 를 출력한다.\n",
        "힌트: 단 원주율($\\pi$)은 3.141592 로 사용한다.\n",
        "\n",
        "힌트: `input()` 함수가 반환하는 값을 저장해서 활용한다.\n",
        "\n",
        "입력:\n",
        "\n",
        "```python\n",
        "radius = 3\n",
        "```\n",
        "\n",
        "출력:\n",
        "\n",
        "```python\n",
        "반지름이 3 인 구의 부피는 113.097312 이다.\n",
        "```"
      ]
    },
    {
      "cell_type": "markdown",
      "source": [
        "**문제6 답안**"
      ],
      "metadata": {
        "id": "Ep0unm_15-W9"
      },
      "id": "Ep0unm_15-W9"
    },
    {
      "cell_type": "code",
      "source": [
        "pi = 3.141592\n",
        "num_r = int(input(\"radius = \"))\n",
        "print(f\"반지름이 {num_r}인 구의 부피는 {4/3*pi*(num_r**3)}이다.\")"
      ],
      "metadata": {
        "colab": {
          "base_uri": "https://localhost:8080/"
        },
        "id": "oWZQ2C1r6AyH",
        "outputId": "c64120f5-903c-4fea-a0d2-dcccd0fa52e3"
      },
      "id": "oWZQ2C1r6AyH",
      "execution_count": null,
      "outputs": [
        {
          "output_type": "stream",
          "name": "stdout",
          "text": [
            "radius = 3\n",
            "반지름이 3인 구의 부피는 113.097312이다.\n"
          ]
        }
      ]
    },
    {
      "cell_type": "markdown",
      "id": "948e92e4",
      "metadata": {
        "id": "948e92e4"
      },
      "source": [
        "**문제 7**"
      ]
    },
    {
      "cell_type": "markdown",
      "id": "c29c3bab",
      "metadata": {
        "id": "c29c3bab"
      },
      "source": [
        "두 자연수 $x$와 $y$를 입력받아 두 수의 \n",
        "산술평균<font size = \"2\">arithmetic mean</font>, \n",
        "기하평균<font size = \"2\">geometric mean</font>, \n",
        "조화평균<font size = \"2\">harmonic mean</font>을 \n",
        "출력하는 코드를 작성하여라.\n",
        "단 소수점 둘째자리에서 반올림한다.\n",
        "\n",
        "힌트: 두 자연수 x와 y의 산술평균($M_a$), 기하평균($M_g$), 조화평균($M_h$)을 구하는 식은 아래와 같으며\n",
        "`math` 또는 `numpy` 모듈의 `sqrt()` 함수를 이용하여 제곱근을 계산할 수 있다.\n",
        "\n",
        "$$\n",
        "\\begin{align*}\n",
        "M_a &= \\frac{x + y}{2}\\\\\n",
        "M_g &= \\sqrt{x y} \\\\\n",
        "M_h &= \\frac{2}{\\frac{1}{x} + \\frac{1}{y}}\n",
        "\\end{align*}\n",
        "$$\n",
        "\n",
        "입력:\n",
        "\n",
        "```python\n",
        "x = 3\n",
        "y = 7\n",
        "```\n",
        "\n",
        "출력\n",
        "\n",
        "```python\n",
        "ma = 5.0\n",
        "mg = 4.6\n",
        "mh = 4.2\n",
        "```"
      ]
    },
    {
      "cell_type": "markdown",
      "source": [
        "**문제7 답안**"
      ],
      "metadata": {
        "id": "XTVweFrxGhNk"
      },
      "id": "XTVweFrxGhNk"
    },
    {
      "cell_type": "code",
      "source": [
        "x = int(input(\"x = \"))\n",
        "y = int(input(\"y = \"))\n",
        "\n",
        "print(f\"ma = {round((x+y)/2, 1)}\")\n",
        "print(f\"mg = {round(((x*y)**(1/2)), 1)}\")\n",
        "print(f\"mh = {round(2/((1/x)+(1/y)), 1)}\")"
      ],
      "metadata": {
        "colab": {
          "base_uri": "https://localhost:8080/"
        },
        "id": "PgZIYMbsGjVl",
        "outputId": "d3151f18-d657-436e-eb8c-e3363b326a6d"
      },
      "id": "PgZIYMbsGjVl",
      "execution_count": 48,
      "outputs": [
        {
          "output_type": "stream",
          "name": "stdout",
          "text": [
            "x = 3\n",
            "y = 7\n",
            "ma = 5.0\n",
            "mg = 4.6\n",
            "mh = 4.2\n"
          ]
        }
      ]
    },
    {
      "cell_type": "markdown",
      "id": "2dedefbd",
      "metadata": {
        "id": "2dedefbd"
      },
      "source": [
        "**문제 8**"
      ]
    },
    {
      "cell_type": "markdown",
      "id": "e7c2bb54",
      "metadata": {
        "id": "e7c2bb54"
      },
      "source": [
        "다음은 BTS의 버터(Butter) 가사 일부분이다. \n",
        "아래와 같이 문자열을 출력하는 코드를 작성하여라(따옴표 포함).  \n",
        "\n",
        "```\n",
        "Smooth like \"butter\"\n",
        "    Like a criminal undercover\n",
        "        Gon' pop like trouble\n",
        "            Breakin' into your heart like that\n",
        "```\n",
        "\n",
        "힌트: 탭키 문자를 사용한다."
      ]
    },
    {
      "cell_type": "markdown",
      "source": [
        "**문제8 답안**"
      ],
      "metadata": {
        "id": "zojoQyX6IHwV"
      },
      "id": "zojoQyX6IHwV"
    },
    {
      "cell_type": "code",
      "source": [
        "print('smooth like \"butter\" \\n\\tLike a criminal undercover \\n\\t\\tGon\\' pop like trouble \\n\\t\\t\\tBreakin\\' into your heart like that')"
      ],
      "metadata": {
        "colab": {
          "base_uri": "https://localhost:8080/"
        },
        "id": "J1T1vYA0IJ60",
        "outputId": "1d5fbae3-de7b-47ec-e3f0-e8091566e629"
      },
      "id": "J1T1vYA0IJ60",
      "execution_count": 62,
      "outputs": [
        {
          "output_type": "stream",
          "name": "stdout",
          "text": [
            "smooth like \"butter\" \n",
            "\tLike a criminal undercover \n",
            "\t\tGon' pop like trouble \n",
            "\t\t\tBreakin' into your heart like that\n"
          ]
        }
      ]
    },
    {
      "cell_type": "markdown",
      "id": "9632fd8d",
      "metadata": {
        "id": "9632fd8d"
      },
      "source": [
        "**문제 9**"
      ]
    },
    {
      "cell_type": "markdown",
      "id": "eac218aa",
      "metadata": {
        "id": "eac218aa"
      },
      "source": [
        "가로, 세로 $30cm \\times 30cm$ 크기의 타일이 있다.\n",
        "타일은 온장을 그대로 사용할 수도 있고, 잘라서 일부분만 사용할 수도 있다.\n",
        "단, 잘라서 사용한 타일의 나머지는 사용하지 않는다.\n",
        "타일을 붙혀야 하는 공간의 가로, 세로 크기가 주어졌을 때 타일을 깔기 위해 사용되는 온장 타일과 \n",
        "잘라서 사용한 타일의 개수를 지정된 형식으로 출력하는 코드를 작성하여라.  \n",
        "\n",
        "입력: \n",
        "```python\n",
        "width = 400\n",
        "height = 300\n",
        "```\n",
        "\n",
        "출력: \n",
        "\n",
        "```python\n",
        "온장타일: 130\n",
        "자른타일:  10\n",
        "```"
      ]
    },
    {
      "cell_type": "markdown",
      "source": [
        "**문제9 답안**"
      ],
      "metadata": {
        "id": "fkOVjbTkJsUF"
      },
      "id": "fkOVjbTkJsUF"
    },
    {
      "cell_type": "code",
      "source": [
        "wid = int(input(\"width = \"))\n",
        "hei = int(input(\"height = \"))\n",
        "wid_di = (wid // 30)  # 가로를 30으로 나눈 몫\n",
        "hei_di = (hei // 30)  # 세로를 30으로 나눈 몫\n",
        "if wid % 30 == 0 and hei % 30 == 0:     # 자른타일이 없을경우\n",
        "  print(f\"온장타일: {wid_di * hei_di} \\n자른타일: 0\")\n",
        "elif wid % 30 != 0 and hei % 30 == 0:   # 가로만 자를경우\n",
        "  print(f\"온장타일: {(wid_di+ 1) * hei_di - hei_di} \\n자른타일: {hei_di}\")\n",
        "elif wid % 30 == 0 and hei % 30 != 0:   # 세로만 자를경우\n",
        "  print(f\"온장타일: {wid_di * (hei_di + 1) - wid_di} \\n자른타일: {wid_di}\")\n",
        "else:                                   # 가로, 세로 둘다 자를경우\n",
        "  print(f\"온장타일: {(wid_di + 1) * (hei_di + 1) - (wid_di + hei_di - 1)} \\n자른타일: {wid_di + hei_di - 1}\")"
      ],
      "metadata": {
        "colab": {
          "base_uri": "https://localhost:8080/"
        },
        "id": "Erv4gG8_Jud9",
        "outputId": "031d715c-2f36-4934-bf15-ea09514887f2"
      },
      "id": "Erv4gG8_Jud9",
      "execution_count": 67,
      "outputs": [
        {
          "output_type": "stream",
          "name": "stdout",
          "text": [
            "width = 400\n",
            "height = 300\n",
            "온장타일: 130 \n",
            "자른타일: 10\n"
          ]
        }
      ]
    },
    {
      "cell_type": "markdown",
      "id": "9f726294",
      "metadata": {
        "id": "9f726294"
      },
      "source": [
        "**문제 10**"
      ]
    },
    {
      "cell_type": "markdown",
      "id": "5abbc1b0",
      "metadata": {
        "id": "5abbc1b0"
      },
      "source": [
        "대기실에 $N$개의 의자가 일렬로 놓여 있다.\n",
        "어느 두 사람도 이웃하여 앉지 않을 때, 앉을 수 있는 최대 인원수와\n",
        "최소 인원수를 출력하는 코드를 구하여라.\n",
        "입력은 100이하의 자연수이고, 최대와 최소는 공백으로 구분하여 출력한다.\n",
        "단, 자리를 채운 후에는 더 이상 어느 누구도 자리에 앉을 수 없어야 한다.\n",
        "\n",
        "예를 들어, 5개의 의자가 일렬로 놓여 있을 때,\n",
        "최소 2명(OXXOX)에서 최대 3명(OXOXO) 까지 앉을 수 있다.\n",
        "\n",
        "입력:\n",
        "\n",
        "```python\n",
        "N = 5\n",
        "```\n",
        "\n",
        "출력:\n",
        "\n",
        "```python\n",
        "최소: 2명\n",
        "최대: 3명\n",
        "```"
      ]
    },
    {
      "cell_type": "markdown",
      "source": [
        "**문제10 답안**"
      ],
      "metadata": {
        "id": "8QC0qFCGSp39"
      },
      "id": "8QC0qFCGSp39"
    },
    {
      "cell_type": "code",
      "source": [
        "num = int(input(\"N = \"))\n",
        "\n",
        "if 2 < num <= 100 and num % 2 == 0:     # 100이하 자연수, 짝수\n",
        "  print(f\"\\n최소: 2명 \\n최대: {num // 2}명\")\n",
        "elif 2 < num <= 100 and num % 2 != 0:   # 100이하 자연수, 홀수\n",
        "  print(f\"\\n최소: 2명 \\n최대: {num // 2 + 1}명\")\n",
        "elif num == 1 or num == 2:              # 1혹은 2\n",
        "  print(\"\\n최소: 1명 \\n최대: 1명\")\n",
        "else:                                   # 100을 넘을 경우\n",
        "  print(\"\\n100개가 넘음\")\n",
        "  "
      ],
      "metadata": {
        "colab": {
          "base_uri": "https://localhost:8080/"
        },
        "id": "5bIRkbZ-Ssvt",
        "outputId": "f4fe0ab9-847f-4ed9-c505-804be76ac3c2"
      },
      "id": "5bIRkbZ-Ssvt",
      "execution_count": 78,
      "outputs": [
        {
          "output_type": "stream",
          "name": "stdout",
          "text": [
            "N = 5\n",
            "\n",
            "최소: 2명 \n",
            "최대: 3명\n"
          ]
        }
      ]
    },
    {
      "cell_type": "markdown",
      "id": "e5a75b5e",
      "metadata": {
        "id": "e5a75b5e"
      },
      "source": [
        "**문제 11**"
      ]
    },
    {
      "cell_type": "markdown",
      "id": "fff19ed9",
      "metadata": {
        "id": "fff19ed9"
      },
      "source": [
        "키와 몸무게를 인자로 받아 체질량지수(BMI)를 구하는 코드를 작성하여라.\n",
        "\n",
        "$$\\texttt{BMI} = \\frac{\\texttt{몸무게}}{\\texttt{키}^2}$$\n",
        "\n",
        "단, 몸무게는 킬로그램(kg) 을, 키는 미터(m)를 단위로 사용한다.\n",
        "또한 BMI 수치에 따른 체중 분류는 다음과 같다.\n",
        "\n",
        "| BMI 수치 | 체중 분류 |\n",
        "| :---: | :--- |\n",
        "| BMI <= 18.5 | 저체중 |\n",
        "| 18.5 < BMI <= 23 | 정상 |\n",
        "| 23 < BMI <= 25 | 과체중 |\n",
        "| 25 < BMI <= 30 | 비만 |\n",
        "| BMI > 30 | 고도비만 |\n",
        "\n",
        "입력:\n",
        "\n",
        "```python\n",
        "weight = 72   # 몸무게\n",
        "height = 178  # 키\n",
        "```\n",
        "\n",
        "출력:\n",
        "\n",
        "```python\n",
        "BMI는 정상 수치입니다.\n",
        "```"
      ]
    },
    {
      "cell_type": "markdown",
      "source": [
        "**문제11 답안**"
      ],
      "metadata": {
        "id": "6wbNfSLmZuXV"
      },
      "id": "6wbNfSLmZuXV"
    },
    {
      "cell_type": "code",
      "source": [
        "bmi_list = [\"저체중\", \"정상\", \"과체중\", \"비만\", \"고도비만\"]\n",
        "wei = int(input(\"weight = \"))   # kg\n",
        "hei = int(input(\"height = \"))   # cm\n",
        "hei_m = hei / 100               # m\n",
        "bmi = wei / (hei_m ** 2)\n",
        "\n",
        "if bmi <= 18.5:\n",
        "  print(f\"BMI는 {bmi_list[0]}수치입니다\")\n",
        "elif 18.5 < bmi <= 23:\n",
        "  print(f\"BMI는 {bmi_list[1]}수치입니다\")\n",
        "elif 23 < bmi <= 25:\n",
        "  print(f\"BMI는 {bmi_list[2]}수치입니다\")\n",
        "elif 25 < bmi <= 30:\n",
        "  print(f\"BMI는 {bmi_list[3]}수치입니다\")\n",
        "else:\n",
        "  print(f\"BMI는 {bmi_list[4]}수치입니다\")"
      ],
      "metadata": {
        "colab": {
          "base_uri": "https://localhost:8080/"
        },
        "id": "6IRQNSWzZwjt",
        "outputId": "5508f788-a801-4a7b-ea74-7ecfeb69e925"
      },
      "id": "6IRQNSWzZwjt",
      "execution_count": 97,
      "outputs": [
        {
          "output_type": "stream",
          "name": "stdout",
          "text": [
            "weight = 70\n",
            "height = 168\n",
            "BMI는 과체중수치입니다\n"
          ]
        }
      ]
    }
  ],
  "metadata": {
    "kernelspec": {
      "display_name": "Python 3 (ipykernel)",
      "language": "python",
      "name": "python3"
    },
    "language_info": {
      "codemirror_mode": {
        "name": "ipython",
        "version": 3
      },
      "file_extension": ".py",
      "mimetype": "text/x-python",
      "name": "python",
      "nbconvert_exporter": "python",
      "pygments_lexer": "ipython3",
      "version": "3.9.13"
    },
    "toc-autonumbering": true,
    "toc-showcode": false,
    "toc-showmarkdowntxt": false,
    "colab": {
      "provenance": [],
      "include_colab_link": true
    }
  },
  "nbformat": 4,
  "nbformat_minor": 5
}
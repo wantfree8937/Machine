{
  "cells": [
    {
      "cell_type": "markdown",
      "metadata": {
        "id": "view-in-github",
        "colab_type": "text"
      },
      "source": [
        "<a href=\"https://colab.research.google.com/github/wantfree8937/Machine/blob/main/%ED%8C%8C%EC%9D%B4%EC%8D%AC%EB%8D%B0%EC%9D%B4%ED%84%B0%EB%B6%84%EC%84%9D%EA%B3%BC%EC%A0%9C5.ipynb\" target=\"_parent\"><img src=\"https://colab.research.google.com/assets/colab-badge.svg\" alt=\"Open In Colab\"/></a>"
      ]
    },
    {
      "cell_type": "markdown",
      "metadata": {
        "id": "CAo79r97483O"
      },
      "source": [
        "# (실습) 어레이 중심 프로그래밍"
      ]
    },
    {
      "cell_type": "markdown",
      "metadata": {
        "id": "-rN0ytPh483P"
      },
      "source": [
        "**주의사항**\n",
        "\n",
        "- `None`은 적절한 표현식으로 대체한다.\n",
        "- `Pass`는 적절한 명령문으로 대체한다."
      ]
    },
    {
      "cell_type": "code",
      "execution_count": 1,
      "metadata": {
        "id": "J71Fcvihxzi9"
      },
      "outputs": [],
      "source": [
        "import numpy as np\n",
        "import matplotlib.pyplot as plt"
      ]
    },
    {
      "cell_type": "markdown",
      "metadata": {
        "id": "pTFzvlly483R"
      },
      "source": [
        "**문제 1**"
      ]
    },
    {
      "cell_type": "markdown",
      "metadata": {
        "id": "6--RhKis483R"
      },
      "source": [
        "길이가 같은 두 개의 랜덤 벡터 `A`, `B`가 다음과 같이 주어졌다."
      ]
    },
    {
      "cell_type": "code",
      "execution_count": 2,
      "metadata": {
        "id": "yWs8TfpY483R",
        "outputId": "8e8701bc-1f94-4f69-d017-7bd338621647",
        "colab": {
          "base_uri": "https://localhost:8080/"
        }
      },
      "outputs": [
        {
          "output_type": "execute_result",
          "data": {
            "text/plain": [
              "array([0, 1, 1, 0, 0])"
            ]
          },
          "metadata": {},
          "execution_count": 2
        }
      ],
      "source": [
        "A = np.random.randint(0,2,5)\n",
        "A"
      ]
    },
    {
      "cell_type": "code",
      "execution_count": 3,
      "metadata": {
        "id": "FtVk6kgw483S",
        "outputId": "d682a5ae-a6b7-4ff9-da53-39c5317ba055",
        "colab": {
          "base_uri": "https://localhost:8080/"
        }
      },
      "outputs": [
        {
          "output_type": "execute_result",
          "data": {
            "text/plain": [
              "array([0, 1, 1, 0, 1])"
            ]
          },
          "metadata": {},
          "execution_count": 3
        }
      ],
      "source": [
        "B = np.random.randint(0,2,5)\n",
        "B"
      ]
    },
    {
      "cell_type": "markdown",
      "metadata": {
        "id": "kxHAYVtk483T"
      },
      "source": [
        "(1) 두 벡터의 모든 항목이 동일한지 여부를 판단하라.\n",
        "단, `all()` 메서드를 이용한다."
      ]
    },
    {
      "cell_type": "code",
      "execution_count": 4,
      "metadata": {
        "id": "4adNhJqr483T"
      },
      "outputs": [],
      "source": [
        "Z = (A==B).all()"
      ]
    },
    {
      "cell_type": "markdown",
      "metadata": {
        "id": "E-0Sze3B483T"
      },
      "source": [
        "아래 코드는 수정하지 마세요!!!"
      ]
    },
    {
      "cell_type": "code",
      "execution_count": 5,
      "metadata": {
        "id": "UiDPjeU3483T"
      },
      "outputs": [],
      "source": [
        "Y = ((A==B).sum() == len(A))\n",
        "assert Z == Y"
      ]
    },
    {
      "cell_type": "markdown",
      "metadata": {
        "id": "jgV2xvvb483U"
      },
      "source": [
        "(2) 최소 한 개 이상의 항목이 동일한 인덱스에 위치하는지 여부를 판단하라.\n",
        "단, `any()` 메서드를 이용한다."
      ]
    },
    {
      "cell_type": "code",
      "execution_count": 6,
      "metadata": {
        "id": "6ro4QBPi483U"
      },
      "outputs": [],
      "source": [
        "Z = (A==B).any()"
      ]
    },
    {
      "cell_type": "markdown",
      "metadata": {
        "id": "GHtrL4f5483U"
      },
      "source": [
        "아래 코드는 수정하지 마세요!!!"
      ]
    },
    {
      "cell_type": "code",
      "execution_count": 7,
      "metadata": {
        "id": "ikO14QxH483U"
      },
      "outputs": [],
      "source": [
        "Y = ((A==B).sum() > 0)\n",
        "assert Z == Y"
      ]
    },
    {
      "cell_type": "markdown",
      "metadata": {
        "id": "kJvOe4sd483U"
      },
      "source": [
        "**문제 2**"
      ]
    },
    {
      "cell_type": "markdown",
      "metadata": {
        "id": "r6f3IpmE483U"
      },
      "source": [
        "`np.random.rand()` 함수는 `[0, 1)` 구간에서 균등 분포를 \n",
        "따르는 부동소수점을 무작위로 선택하여 지정된 모양의 어레이를 생성한다."
      ]
    },
    {
      "cell_type": "code",
      "execution_count": 8,
      "metadata": {
        "colab": {
          "base_uri": "https://localhost:8080/"
        },
        "id": "3y-9_C7cfMnc",
        "outputId": "99cdf517-ed21-4604-ed17-13fb3f7bf114"
      },
      "outputs": [
        {
          "output_type": "execute_result",
          "data": {
            "text/plain": [
              "array([[0.86327851, 0.67119883],\n",
              "       [0.31584098, 0.0088829 ],\n",
              "       [0.33985055, 0.87660231],\n",
              "       [0.40547355, 0.53943332],\n",
              "       [0.04875172, 0.19725859],\n",
              "       [0.95904406, 0.98133613],\n",
              "       [0.43602551, 0.95789602],\n",
              "       [0.75043893, 0.4800927 ],\n",
              "       [0.67277676, 0.00823087],\n",
              "       [0.35828744, 0.08067044]])"
            ]
          },
          "metadata": {},
          "execution_count": 8
        }
      ],
      "source": [
        "Z = np.random.rand(10, 2)\n",
        "Z"
      ]
    },
    {
      "cell_type": "markdown",
      "metadata": {
        "id": "gp6J7B2W483V"
      },
      "source": [
        "변수 `Z`가 가리키는 벡터의 항목 중에서 열별 최댓값을 -1로 대체하라.\n",
        "\n",
        "힌트: `argmax()` 어레이 메서드"
      ]
    },
    {
      "cell_type": "code",
      "execution_count": 9,
      "metadata": {
        "id": "xd7xvYZl483V",
        "colab": {
          "base_uri": "https://localhost:8080/"
        },
        "outputId": "9045e958-6f30-47ee-f406-54443efeda56"
      },
      "outputs": [
        {
          "output_type": "execute_result",
          "data": {
            "text/plain": [
              "array([[-1.        ,  0.67119883],\n",
              "       [-1.        ,  0.0088829 ],\n",
              "       [ 0.33985055, -1.        ],\n",
              "       [ 0.40547355, -1.        ],\n",
              "       [ 0.04875172, -1.        ],\n",
              "       [ 0.95904406, -1.        ],\n",
              "       [ 0.43602551, -1.        ],\n",
              "       [-1.        ,  0.4800927 ],\n",
              "       [-1.        ,  0.00823087],\n",
              "       [-1.        ,  0.08067044]])"
            ]
          },
          "metadata": {},
          "execution_count": 9
        }
      ],
      "source": [
        "for i in range(len(Z)):\n",
        "  Z[i, Z.argmax(axis = 1)[i]] = -1\n",
        "Z"
      ]
    },
    {
      "cell_type": "markdown",
      "metadata": {
        "id": "P2Xt2L0V483V"
      },
      "source": [
        "아래 코드는 수정하지 마세요!!!"
      ]
    },
    {
      "cell_type": "code",
      "execution_count": 10,
      "metadata": {
        "id": "co00X1l5483V"
      },
      "outputs": [],
      "source": [
        "assert (Z.min(axis=0)==-1).all()"
      ]
    },
    {
      "cell_type": "markdown",
      "metadata": {
        "id": "FNroLchK483V"
      },
      "source": [
        "**문제 3**"
      ]
    },
    {
      "cell_type": "markdown",
      "metadata": {
        "id": "xWockOHA483W"
      },
      "source": [
        "`np.random.uniform()` 함수는 지정된 구간에서 지정된 개수의 부동소수점을 균등 분포를 따르면서 무작위로 선택해서\n",
        "1차원 어레이를 생성한다. "
      ]
    },
    {
      "cell_type": "code",
      "execution_count": 11,
      "metadata": {
        "id": "n99XO9yn483W",
        "outputId": "f356cbbc-b554-435f-cc76-dca559b9c796",
        "colab": {
          "base_uri": "https://localhost:8080/"
        }
      },
      "outputs": [
        {
          "output_type": "execute_result",
          "data": {
            "text/plain": [
              "array([0.77132064, 0.02075195, 0.63364823, 0.74880388, 0.49850701,\n",
              "       0.22479665, 0.19806286, 0.76053071, 0.16911084, 0.08833981])"
            ]
          },
          "metadata": {},
          "execution_count": 11
        }
      ],
      "source": [
        "np.random.seed(10)\n",
        "\n",
        "Z = np.random.uniform(0, 1, 10)\n",
        "Z"
      ]
    },
    {
      "cell_type": "markdown",
      "metadata": {
        "id": "GeSzf8Dh483W"
      },
      "source": [
        "변수 `Z`가 가리키는 어레이에 포함된 항목 중에서 항목들의 평균값에 가장 가까운 값을 \n",
        "`min_mean` 변수가 가리키도록 하라.\n",
        "단, `argimin()` 메서드와 `np.abs()` 함수를 이용한다."
      ]
    },
    {
      "cell_type": "code",
      "execution_count": 12,
      "metadata": {
        "id": "XVT2VgPh483W"
      },
      "outputs": [],
      "source": [
        "min_mean = Z[abs(Z - Z.mean()).argmin()]"
      ]
    },
    {
      "cell_type": "markdown",
      "metadata": {
        "id": "d2520S8V483W"
      },
      "source": [
        "아래 코드는 수정하지 마세요!!!"
      ]
    },
    {
      "cell_type": "code",
      "execution_count": 13,
      "metadata": {
        "id": "FJqA3PcC483W"
      },
      "outputs": [],
      "source": [
        "assert round(min_mean, 3) == 0.499"
      ]
    },
    {
      "cell_type": "markdown",
      "metadata": {
        "id": "Iczi35ru483W"
      },
      "source": [
        "**문제 4**"
      ]
    },
    {
      "cell_type": "markdown",
      "metadata": {
        "id": "m5yjpvMC483X"
      },
      "source": [
        "2차원 어레이가 다음가 같이 주어졌다."
      ]
    },
    {
      "cell_type": "code",
      "execution_count": 14,
      "metadata": {
        "colab": {
          "base_uri": "https://localhost:8080/"
        },
        "outputId": "497b265b-5e08-4050-9822-1a3a6ab174ec",
        "id": "3XGTOUj7483X"
      },
      "outputs": [
        {
          "output_type": "execute_result",
          "data": {
            "text/plain": [
              "array([[0.68535982, 0.95339335],\n",
              "       [0.00394827, 0.51219226],\n",
              "       [0.81262096, 0.61252607],\n",
              "       [0.72175532, 0.29187607],\n",
              "       [0.91777412, 0.71457578],\n",
              "       [0.54254437, 0.14217005],\n",
              "       [0.37334076, 0.67413362],\n",
              "       [0.44183317, 0.43401399],\n",
              "       [0.61776698, 0.51313824],\n",
              "       [0.65039718, 0.60103895]])"
            ]
          },
          "metadata": {},
          "execution_count": 14
        }
      ],
      "source": [
        "Z = np.random.rand(10, 2)\n",
        "Z"
      ]
    },
    {
      "cell_type": "markdown",
      "metadata": {
        "id": "GEb0DQNA483X"
      },
      "source": [
        "변수 `Z`가 가리키는 어레이를 정규화 하라.\n",
        "즉, 항목들의 평균은 0, 표준편차는 1이 되도록 한다.\n",
        "단, `mean()`과 `std()` 메서드를 이용한다."
      ]
    },
    {
      "cell_type": "code",
      "execution_count": 15,
      "metadata": {
        "id": "qMnshZ5lU-Iy"
      },
      "outputs": [],
      "source": [
        "Z = (Z - Z.mean())/Z.std()"
      ]
    },
    {
      "cell_type": "markdown",
      "metadata": {
        "id": "QZRN9xTL483Y"
      },
      "source": [
        "아래 코드는 수정하지 마세요!!!"
      ]
    },
    {
      "cell_type": "code",
      "execution_count": 16,
      "metadata": {
        "id": "q3cKWgUU483Y"
      },
      "outputs": [],
      "source": [
        "assert round(Z.mean(), 1) == 0.0\n",
        "assert round(Z.std(), 1) == 1.0"
      ]
    },
    {
      "cell_type": "markdown",
      "metadata": {
        "id": "ixsZUdTT483Y"
      },
      "source": [
        "**텍스트 파일 다운로드 후 활용**"
      ]
    },
    {
      "cell_type": "markdown",
      "metadata": {
        "id": "oigI-06L483Y"
      },
      "source": [
        "`data_path`가 가리키는 인터넷 주소에 아래 내용의 파일이 저장되어 있다.\n",
        "\n",
        "```python\n",
        "1,  2,  3,  4,  5\n",
        "6,  7,  8,  9, 10\n",
        "11, 12, 13, 14, 15\n",
        "```"
      ]
    },
    {
      "cell_type": "code",
      "execution_count": 17,
      "metadata": {
        "id": "HJ60mC01483Y"
      },
      "outputs": [],
      "source": [
        "data_path = \"https://raw.githubusercontent.com/codingalzi/datapy/master/practices/data/exc_data_import.txt\""
      ]
    },
    {
      "cell_type": "markdown",
      "metadata": {
        "id": "bOwBxB18483Y"
      },
      "source": [
        "**문제 5**"
      ]
    },
    {
      "cell_type": "markdown",
      "metadata": {
        "id": "mynLWj4D483Z"
      },
      "source": [
        "위 파일을 불러와 아래 모양의 2차원 어레이를 생성하라.\n",
        "\n",
        "힌트: `np.genfromtxt()` 함수와 `delimiter` 키워드 매개변수"
      ]
    },
    {
      "cell_type": "markdown",
      "metadata": {
        "id": "DWUp8fmT483Z"
      },
      "source": [
        "```python\n",
        "array([[ 1,  2,  3,  4,  5],\n",
        "       [ 6,  7,  8,  9, 10],\n",
        "       [11, 12, 13, 14, 15]])\n",
        "```"
      ]
    },
    {
      "cell_type": "code",
      "execution_count": 18,
      "metadata": {
        "id": "q4PoW0sS483Z"
      },
      "outputs": [],
      "source": [
        "Z = np.genfromtxt(data_path, delimiter = \",\", dtype = int)"
      ]
    },
    {
      "cell_type": "markdown",
      "metadata": {
        "id": "AnyL8xXH483Z"
      },
      "source": [
        "아래 코드는 수정하지 마세요!!!"
      ]
    },
    {
      "cell_type": "code",
      "execution_count": 19,
      "metadata": {
        "id": "jXkU6faX483Z"
      },
      "outputs": [],
      "source": [
        "assert (Z == np.array([[ 1,  2,  3,  4,  5],\n",
        "                        [ 6,  7,  8,  9, 10],\n",
        "                        [11, 12, 13, 14, 15]])).all()"
      ]
    },
    {
      "cell_type": "markdown",
      "metadata": {
        "id": "653KNwFL483Z"
      },
      "source": [
        "**문제 6**"
      ]
    },
    {
      "cell_type": "markdown",
      "metadata": {
        "id": "ir19aQrz483a"
      },
      "source": [
        "`Z`에 `np.divmod()` 함수를 적용하라. 단 7로 나눈 몫과 나머지로 이루어진 어레이를 생성해야 한다."
      ]
    },
    {
      "cell_type": "code",
      "execution_count": 20,
      "metadata": {
        "id": "R-6l1BsV483a",
        "colab": {
          "base_uri": "https://localhost:8080/"
        },
        "outputId": "dead711d-4b0b-43f9-9bb6-2e175f6eeeb3"
      },
      "outputs": [
        {
          "output_type": "execute_result",
          "data": {
            "text/plain": [
              "(array([[0, 0, 0, 0, 0],\n",
              "        [0, 1, 1, 1, 1],\n",
              "        [1, 1, 1, 2, 2]]),\n",
              " array([[1, 2, 3, 4, 5],\n",
              "        [6, 0, 1, 2, 3],\n",
              "        [4, 5, 6, 0, 1]]))"
            ]
          },
          "metadata": {},
          "execution_count": 20
        }
      ],
      "source": [
        "Zmod = np.divmod(Z, 7)\n",
        "Zmod"
      ]
    },
    {
      "cell_type": "markdown",
      "metadata": {
        "id": "g2WS4EKa483a"
      },
      "source": [
        "아래 코드는 수정하지 마세요!!!"
      ]
    },
    {
      "cell_type": "code",
      "execution_count": 21,
      "metadata": {
        "id": "S7TlIIxG483a"
      },
      "outputs": [],
      "source": [
        "assert (Zmod[0] == np.array([[0, 0, 0, 0, 0],\n",
        "                              [0, 1, 1, 1, 1],\n",
        "                              [1, 1, 1, 2, 2]])).all()\n",
        "\n",
        "assert (Zmod[1] == np.array([[1, 2, 3, 4, 5],\n",
        "                              [6, 0, 1, 2, 3],\n",
        "                              [4, 5, 6, 0, 1]])).all()"
      ]
    },
    {
      "cell_type": "markdown",
      "metadata": {
        "id": "i87awxCx483a"
      },
      "source": [
        "**문제 7**"
      ]
    },
    {
      "cell_type": "markdown",
      "metadata": {
        "id": "8lP9bqi8483a"
      },
      "source": [
        "변수 `Z`가 가리키는 어레이에 7로 나누어 떨어지는 항목의 수를 `n_mod7_0` 변수가 가리키도록 하라.\n",
        "단, `Zmod`와 `sum()` 메서드를 이용한다."
      ]
    },
    {
      "cell_type": "code",
      "execution_count": 33,
      "metadata": {
        "id": "D6JAuNn-483a"
      },
      "outputs": [],
      "source": [
        "n_mod7_0 = np.sum(Zmod == 0)"
      ]
    },
    {
      "cell_type": "markdown",
      "metadata": {
        "id": "YrKtRubF483b"
      },
      "source": [
        "아래 코드는 수정하지 마세요!!!"
      ]
    },
    {
      "cell_type": "code",
      "execution_count": 34,
      "metadata": {
        "id": "UMyiRWc1483b"
      },
      "outputs": [],
      "source": [
        "assert n_mod7_0 == 2"
      ]
    },
    {
      "cell_type": "markdown",
      "metadata": {
        "id": "K4RpXcud483b"
      },
      "source": [
        "**문제 8**"
      ]
    },
    {
      "cell_type": "markdown",
      "metadata": {
        "id": "eYtZ5dmZ483b"
      },
      "source": [
        "변수 `Z`가 가리키는 어레이에 7로 나눴을 때 나머지가 3인 항목만으로 이루어진 1차원 어레이를 `n_mod7_3` 변수가 가리키도록 하라.\n",
        "단, `Z_mod`와 부울 인덱싱을 활용한다."
      ]
    },
    {
      "cell_type": "code",
      "execution_count": 39,
      "metadata": {
        "id": "iFU85KFu483b"
      },
      "outputs": [],
      "source": [
        "n_mod7_3 = Z[Zmod == 3]"
      ]
    },
    {
      "cell_type": "markdown",
      "metadata": {
        "id": "bCVLWGf0483b"
      },
      "source": [
        "아래 코드는 수정하지 마세요!!!"
      ]
    },
    {
      "cell_type": "code",
      "execution_count": 40,
      "metadata": {
        "id": "eoSEzlLH483b"
      },
      "outputs": [],
      "source": [
        "assert (n_mod7_3 == np.array([ 3, 10])).all()"
      ]
    },
    {
      "cell_type": "markdown",
      "metadata": {
        "id": "BDX3kwfA483b"
      },
      "source": [
        "**문제 9**"
      ]
    },
    {
      "cell_type": "markdown",
      "metadata": {
        "id": "OwzQFcKd483b"
      },
      "source": [
        "다음 어레이를 이용한다."
      ]
    },
    {
      "cell_type": "code",
      "execution_count": 46,
      "metadata": {
        "id": "ze5388yG483c",
        "outputId": "a3fc459b-6dca-4095-db8b-b970561e05a6",
        "colab": {
          "base_uri": "https://localhost:8080/"
        }
      },
      "outputs": [
        {
          "output_type": "execute_result",
          "data": {
            "text/plain": [
              "array([[11, 34,  2],\n",
              "       [47,  3,  7],\n",
              "       [35, 40, 16],\n",
              "       [16,  2, 15]])"
            ]
          },
          "metadata": {},
          "execution_count": 46
        }
      ],
      "source": [
        "np.random.seed(1235)\n",
        "\n",
        "Z = np.random.randint(0,50,(4, 3))\n",
        "Z"
      ]
    },
    {
      "cell_type": "markdown",
      "metadata": {
        "id": "9BnL7U5B483c"
      },
      "source": [
        "1번 열에 위치한 값들의 순서대로 행을 재배치한 어레이를 변수 `X`가 가리키도록 하라.\n",
        "단, `argsort()` 메서드와 인덱싱, 슬라이싱, 팬시 인덱싱을 사용한다."
      ]
    },
    {
      "cell_type": "code",
      "execution_count": 59,
      "metadata": {
        "id": "apVhdsVd483c",
        "colab": {
          "base_uri": "https://localhost:8080/"
        },
        "outputId": "f09fc744-0965-426d-e965-29364f6b71d9"
      },
      "outputs": [
        {
          "output_type": "execute_result",
          "data": {
            "text/plain": [
              "array([[16,  2, 15],\n",
              "       [47,  3,  7],\n",
              "       [11, 34,  2],\n",
              "       [35, 40, 16]])"
            ]
          },
          "metadata": {},
          "execution_count": 59
        }
      ],
      "source": [
        "X = Z[Z[:, 1].argsort()]"
      ]
    },
    {
      "cell_type": "markdown",
      "metadata": {
        "id": "laLA4YW1483c"
      },
      "source": [
        "아래 코드는 수정하지 마세요!!!"
      ]
    },
    {
      "cell_type": "code",
      "execution_count": 60,
      "metadata": {
        "id": "3Dsqgf8D483c"
      },
      "outputs": [],
      "source": [
        "assert (X == np.array([[16,  2, 15],\n",
        "                        [47,  3,  7],\n",
        "                        [11, 34,  2],\n",
        "                        [35, 40, 16]])).all()"
      ]
    },
    {
      "cell_type": "markdown",
      "metadata": {
        "id": "VjJk7MOU483c"
      },
      "source": [
        "**문제 10**"
      ]
    },
    {
      "cell_type": "markdown",
      "metadata": {
        "id": "gyhyqJ5Z483c"
      },
      "source": [
        "아래와 같은 그래프를 그리는 코드를 완성하라.\n",
        "단, `np.sin()`, `np.cos()` 두 유니버설 함수를 이용한다."
      ]
    },
    {
      "cell_type": "markdown",
      "metadata": {
        "id": "s1XMSFjB483d"
      },
      "source": [
        "<div align=\"center\"><img src=\"https://raw.githubusercontent.com/codingalzi/datapy/master/jupyter-book/images/sine-cosine.png?raw=true\" style=\"width:400px;\"></div>"
      ]
    },
    {
      "cell_type": "code",
      "execution_count": 73,
      "metadata": {
        "id": "SU8W0K6S483d",
        "colab": {
          "base_uri": "https://localhost:8080/",
          "height": 449
        },
        "outputId": "349a6b7f-910e-40c5-95e3-6cec24cc0869"
      },
      "outputs": [
        {
          "output_type": "display_data",
          "data": {
            "text/plain": [
              "<Figure size 640x480 with 1 Axes>"
            ],
            "image/png": "[encoded data removed]"
          },
          "metadata": {}
        }
      ],
      "source": [
        "x = np.arange(0, 3 * np.pi, 0.1)\n",
        "y_sin = np.sin(x)\n",
        "y_cos = np.cos(x)\n",
        " \n",
        "plt.plot(x, y_sin)\n",
        "plt.plot(x, y_cos)\n",
        "plt.xlabel('x axis')\n",
        "plt.ylabel('y axis')\n",
        "plt.legend(['sine', 'cosine'])\n",
        " \n",
        "plt.show()"
      ]
    }
  ],
  "metadata": {
    "colab": {
      "provenance": [],
      "include_colab_link": true
    },
    "kernelspec": {
      "display_name": "Python 3 (ipykernel)",
      "language": "python",
      "name": "python3"
    },
    "language_info": {
      "codemirror_mode": {
        "name": "ipython",
        "version": 3
      },
      "file_extension": ".py",
      "mimetype": "text/x-python",
      "name": "python",
      "nbconvert_exporter": "python",
      "pygments_lexer": "ipython3",
      "version": "3.10.6"
    },
    "vscode": {
      "interpreter": {
        "hash": "ad0f3c8a064f687cbf898a0868fd45ba1c7e928ac8a0404f7c241d812ddc1e76"
      }
    }
  },
  "nbformat": 4,
  "nbformat_minor": 0
}
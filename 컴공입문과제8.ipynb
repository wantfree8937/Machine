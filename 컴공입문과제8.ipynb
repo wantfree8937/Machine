{
  "cells": [
    {
      "cell_type": "markdown",
      "metadata": {
        "id": "view-in-github",
        "colab_type": "text"
      },
      "source": [
        "<a href=\"https://colab.research.google.com/github/wantfree8937/Machine/blob/main/%EC%BB%B4%EA%B3%B5%EC%9E%85%EB%AC%B8%EA%B3%BC%EC%A0%9C8.ipynb\" target=\"_parent\"><img src=\"https://colab.research.google.com/assets/colab-badge.svg\" alt=\"Open In Colab\"/></a>"
      ]
    },
    {
      "cell_type": "markdown",
      "id": "bd286fa2",
      "metadata": {
        "id": "bd286fa2"
      },
      "source": [
        "# (실습) 모음 자료형 1부: 문자열, 리스트, 튜플"
      ]
    },
    {
      "cell_type": "markdown",
      "id": "88745e8b",
      "metadata": {
        "id": "88745e8b"
      },
      "source": [
        "## 문자열"
      ]
    },
    {
      "cell_type": "markdown",
      "id": "d32f57f0",
      "metadata": {
        "id": "d32f57f0"
      },
      "source": [
        "**문제 1**"
      ]
    },
    {
      "cell_type": "markdown",
      "id": "3cba19ed",
      "metadata": {
        "id": "3cba19ed"
      },
      "source": [
        "문자열 `a:b:c:d` 을 이용하여 문자열 `a#b#c#d` 생성하는 코드를 작성하라.\n",
        "단, 문자열의 메서드만 사용한다."
      ]
    },
    {
      "cell_type": "code",
      "execution_count": null,
      "id": "b7d1715b",
      "metadata": {
        "id": "b7d1715b"
      },
      "outputs": [],
      "source": [
        "# pass 와  None을 적절한 명령문과 표현식으로 대체하라.\n",
        "# 단, 문자열 \"a#b#c#d\" 가 직접 언급되지 않아야 한다.\n",
        "\n",
        "input_str = \"a:b:c:d\"\n",
        "\n",
        "\n",
        "output_str = input_str.replace(\":\", \"#\") # \":\"를 \"#\"으로 변환"
      ]
    },
    {
      "cell_type": "code",
      "execution_count": null,
      "id": "f333e359",
      "metadata": {
        "id": "f333e359"
      },
      "outputs": [],
      "source": [
        "# 아래 코드의 주석 기호를 삭제하고 실행할 때 오류가 발생하지 않아야 한다.\n",
        "\n",
        "assert output_str == \"a#b#c#d\""
      ]
    },
    {
      "cell_type": "markdown",
      "id": "afe9bac7",
      "metadata": {
        "id": "afe9bac7"
      },
      "source": [
        "**문제 2**"
      ]
    },
    {
      "cell_type": "markdown",
      "id": "bef57d51",
      "metadata": {
        "id": "bef57d51"
      },
      "source": [
        "메뉴와 가격이 공백으로 구분된 두 개의 문자열로 주어졌다."
      ]
    },
    {
      "cell_type": "code",
      "execution_count": null,
      "id": "d9f9519d",
      "metadata": {
        "id": "d9f9519d"
      },
      "outputs": [],
      "source": [
        "menu = \"ham bread chicken egg\"\n",
        "prices = \"1200 5000 17000 500\""
      ]
    },
    {
      "cell_type": "markdown",
      "id": "13373741",
      "metadata": {
        "id": "13373741"
      },
      "source": [
        "가장 저렴한 메뉴와 가장 비싼 메뉴를 추천하는 문자열을 \n",
        "다음과 같이 출력하는 프로그램을 구현하라.\n",
        "\n",
        "```python\n",
        "가장 저렴한 메뉴: egg  \n",
        "가장 비  싼 메뉴: chicken  \n",
        "```"
      ]
    },
    {
      "cell_type": "code",
      "execution_count": null,
      "id": "a9fde44d",
      "metadata": {
        "id": "a9fde44d",
        "colab": {
          "base_uri": "https://localhost:8080/"
        },
        "outputId": "045c77c7-a110-496b-f568-b3bf02dbb8c6"
      },
      "outputs": [
        {
          "output_type": "stream",
          "name": "stdout",
          "text": [
            "가장 저렴한 메뉴: egg\n",
            "가장 비 싼 메뉴: chicken\n"
          ]
        }
      ],
      "source": [
        "# pass 를 적절한 명령문과 표현식으로 대체하라.\n",
        "# 단, 출력해야 하는 문자열이 직접 언급되지 않아야 한다.\n",
        "\n",
        "menu_list = menu.split(\" \")                 # 메뉴 리스트\n",
        "prices_list = prices.split(\" \")             # 가격 리스트\n",
        "prices_list = list(map(int, prices_list))   # 가격 리스트를 int형으로 변환\n",
        "\n",
        "print(f\"가장 저렴한 메뉴: {menu_list[prices_list.index(min(prices_list))]}\")    # 가격 리스트 중 가장 작은 수의 인덱스를 가져와 메뉴 리스트에 인덱싱\n",
        "print(f\"가장 비 싼 메뉴: {menu_list[prices_list.index(max(prices_list))]}\")     # 가격 리스트 중 가장 큰 수의 인덱스를 가져와 메뉴 리스트에 인덱싱"
      ]
    },
    {
      "cell_type": "markdown",
      "id": "354be079",
      "metadata": {
        "id": "354be079"
      },
      "source": [
        "**문제 3**"
      ]
    },
    {
      "cell_type": "markdown",
      "id": "8dd82085",
      "metadata": {
        "id": "8dd82085"
      },
      "source": [
        "n! 은 1부터 n 까지의 자연수의 곱을 나타내며, \n",
        "n 의 계승 또는 팩토리얼<font size=\"2\">factorial</fotn>이라 부른다. \n",
        "\n",
        "자연수 n 이 주어졌을 때, n! 의 끝에 있는 0 의 개수를 반환하는 `terminalZeroCount()` 함수를 \n",
        "작성하라. \n",
        "단, n 은 1보다 크고 100보다 작은 자연수라고 가정하며, 문자열 메서드를 활용해야 한다."
      ]
    },
    {
      "cell_type": "code",
      "execution_count": null,
      "id": "ac2fe290",
      "metadata": {
        "id": "ac2fe290"
      },
      "outputs": [],
      "source": [
        "# pass 와  None을 적절한 명령문과 표현식으로 대체하라.\n",
        "\n",
        "def terminalZeroCount(n):\n",
        "    fac = 1           # 팩토리얼\n",
        "    count = 0         # 0의 개수\n",
        "    for i in range(1, n+1):   # 팩토리얼 구하기\n",
        "      fac *= i\n",
        "    \n",
        "    for letter in reversed(str(fac)):   # 팩토리얼을 문자열로 변환 후 뒤집어 for문으로 \"0\"이 아닐때까지 카운트\n",
        "      if letter != \"0\":   \n",
        "        return count\n",
        "      count += 1\n",
        "\n",
        "    return"
      ]
    },
    {
      "cell_type": "code",
      "execution_count": null,
      "id": "c3f0fbc5",
      "metadata": {
        "id": "c3f0fbc5"
      },
      "outputs": [],
      "source": [
        "# 아래 코드의 주석 기호를 삭제하고 실행할 때 오류가 발생하지 않아야 한다.\n",
        "\n",
        "assert terminalZeroCount(5) == 1\n",
        "assert terminalZeroCount(10) == 2\n",
        "assert terminalZeroCount(20) == 4"
      ]
    },
    {
      "cell_type": "markdown",
      "id": "d2152213",
      "metadata": {
        "id": "d2152213"
      },
      "source": [
        "**문제 4**"
      ]
    },
    {
      "cell_type": "markdown",
      "id": "515fa524",
      "metadata": {
        "id": "515fa524"
      },
      "source": [
        "거꾸로 노래 부르기 좋아하는 청개구리는 아래와 같이 노래를 부른다.  \n",
        "\n",
        "> 끼토산 야끼토 로디어 냐느가 총깡총깡 서면뛰 를디어 냐느가\n",
        "\n",
        "문자열이 주어졌을 때, 공백을 단위로 각 단어를 거꾸로 뒤집은 문자열을 반환하는 \n",
        "`revers_words()` 함수를 작성하라.\n",
        "단, 입력 문자열은 줄바꿈 없이 주어진다고 가정한다."
      ]
    },
    {
      "cell_type": "code",
      "execution_count": null,
      "id": "9cb7052e",
      "metadata": {
        "id": "9cb7052e"
      },
      "outputs": [],
      "source": [
        "# pass 와  None을 적절한 명령문과 표현식으로 대체하라.\n",
        "\n",
        "def reverse_words(s):\n",
        "    rev_list = []               # 뒤집어진 단어 리스트\n",
        "    s_list = s.split(\" \")       # 문자열 s를 \" \"를 기준으로 리스트화\n",
        "    \n",
        "    for i in s_list:            # 리스트 s를 뒤집어 rev_list에 추가 \n",
        "      rev_list.append(i[::-1])\n",
        "    \n",
        "    return \" \".join(rev_list)   # rev_list를 문자열 리스트로 변환하고 반환"
      ]
    },
    {
      "cell_type": "code",
      "execution_count": null,
      "id": "64101fa1",
      "metadata": {
        "id": "64101fa1"
      },
      "outputs": [],
      "source": [
        "# 아래 코드의 주석 기호를 삭제하고 실행할 때 오류가 발생하지 않아야 한다.\n",
        "\n",
        "lyrics = '산토끼 토끼야 어디로 가느냐'\n",
        "rev_lyrics = '끼토산 야끼토 로디어 냐느가'\n",
        "\n",
        "assert reverse_words(lyrics) == rev_lyrics"
      ]
    },
    {
      "cell_type": "code",
      "execution_count": null,
      "id": "1355a6d7",
      "metadata": {
        "id": "1355a6d7"
      },
      "outputs": [],
      "source": [
        "# 아래 코드의 주석 기호를 삭제하고 실행할 때 오류가 발생하지 않아야 한다.\n",
        "\n",
        "lyrics2 = '깡총깡총 뛰면서 어디를 가느냐'\n",
        "rev_lyrics2 = '총깡총깡 서면뛰 를디어 냐느가'\n",
        "\n",
        "assert reverse_words(lyrics2) == rev_lyrics2"
      ]
    },
    {
      "cell_type": "markdown",
      "id": "eb60dd52",
      "metadata": {
        "id": "eb60dd52"
      },
      "source": [
        "**문제 5**"
      ]
    },
    {
      "cell_type": "markdown",
      "id": "5c79cde1",
      "metadata": {
        "id": "5c79cde1"
      },
      "source": [
        "사용자의 이름과 전화번호를 입력 받으면 다음과 같이 반환하는 \n",
        "`phone_book()` 함수를 구현하라.\n",
        "단, 사용자의 이름은 두 글자에서 네 글자 사이며, \n",
        "핸드폰 번호는 9개에서 11개의 숫자가 다양한 방식으로 주어진다."
      ]
    },
    {
      "cell_type": "code",
      "source": [
        "name = \"김강현이\"\n",
        "name_list = list(name)\n",
        "name_list[1] = \"*\"\n",
        "\"\".join(name_list)\n",
        "\n",
        "phone = \"031-123-5678\"\n",
        "int(phone[-4:])"
      ],
      "metadata": {
        "colab": {
          "base_uri": "https://localhost:8080/"
        },
        "id": "WiLBFKL83PJz",
        "outputId": "5449eca0-7225-48de-be1e-fb8da31c6578"
      },
      "id": "WiLBFKL83PJz",
      "execution_count": null,
      "outputs": [
        {
          "output_type": "execute_result",
          "data": {
            "text/plain": [
              "5678"
            ]
          },
          "metadata": {},
          "execution_count": 10
        }
      ]
    },
    {
      "cell_type": "code",
      "execution_count": null,
      "id": "8c8c762d",
      "metadata": {
        "id": "8c8c762d"
      },
      "outputs": [],
      "source": [
        "# pass 와  None을 적절한 명령문과 표현식으로 대체하라.\n",
        "\n",
        "def phone_book(name, phone):\n",
        "    \n",
        "    name_list = list(name)    # name 리스트화\n",
        "    name_list[1] = \"*\"        # name 리스트의 2번째 요소를 \"*\"로 변경\n",
        "    \n",
        "    return (\"\".join(name_list), int(phone[-4:]))  # name 리스트를 문자열로 변환 후 반환, phone 문자열의 뒤에서 4번째 부터 끝까지를 int형으로 변환 후 반환"
      ]
    },
    {
      "cell_type": "code",
      "execution_count": null,
      "id": "a83d2bc7",
      "metadata": {
        "id": "a83d2bc7"
      },
      "outputs": [],
      "source": [
        "# 아래 코드의 주석 기호를 삭제하고 실행할 때 오류가 발생하지 않아야 한다.\n",
        "\n",
        "assert phone_book('김강현', '010-1234-5678') == ('김*현', 5678)\n",
        "assert phone_book('강현', '01012345678') == ('강*', 5678)\n",
        "assert phone_book('김강현이', '031-123-5678') == ('김*현이', 5678)\n",
        "assert phone_book('강현이', '02-123-5678') == ('강*이', 5678)\n",
        "assert phone_book('김강현', '010.1234.5678') == ('김*현', 5678)"
      ]
    },
    {
      "cell_type": "markdown",
      "id": "6aa9fb5f",
      "metadata": {
        "id": "6aa9fb5f"
      },
      "source": [
        "**문제 6**"
      ]
    },
    {
      "cell_type": "markdown",
      "id": "b9d29417",
      "metadata": {
        "id": "b9d29417"
      },
      "source": [
        "변수와 함수의 이름을 지정할 때 **카멜**<font size = \"2\">camel</font> 표기법 또는 \n",
        "**팟홀**<font size=\"2\">pothole</font> 표기법(**스네이크**<font size=\"2\">snake</font> 표기법으로도 불림)을 \n",
        "사용한다.\n",
        "\n",
        "* 카멜 표기법 : 소문자로 시작하고, 이어지는 단어의 시작은 대문자로 작성하는 표기법.\n",
        "    - 예제: `userName`, `printMessage`, `countA` 등. \n",
        "\n",
        "* 팟홀 표기법 또는 스네이크 표기법 : 모두 소문자를 사용하고, 단어 사이에 밑줄기호(`_`)를 사용하는 표기법. \n",
        "    - 예제: `user_name`, `print_message`, `count_a` 등.   \n",
        "\n",
        "\n",
        "카멜 표기법을 팟홀 표기법으로 변환하는 `camel2pothole()` 함수를 구현하라.\n",
        "\n",
        "힌트: `str.isupper()`메서드는 문자열이 대문자인지를 확인해준다.  "
      ]
    },
    {
      "cell_type": "code",
      "execution_count": null,
      "id": "ffc2f7ff",
      "metadata": {
        "id": "ffc2f7ff"
      },
      "outputs": [],
      "source": [
        "# pass 와  None을 적절한 명령문과 표현식으로 대체하라.\n",
        "\n",
        "def camel2pothole(s):\n",
        "    s_list = []     # s의 리스트\n",
        "\n",
        "    for i in list(s):   # 리스트 s의 요소 중 대문자가 있을 경우 \"_\" + 소문자로 변환 하여 추가\n",
        "      if i == i.upper():\n",
        "        s_list.append(\"_\" + i.lower())\n",
        "      else:\n",
        "        s_list.append(i)\n",
        "\n",
        "    return \"\".join(s_list) # 리스트 s를 문자열로 변환 후 반환"
      ]
    },
    {
      "cell_type": "code",
      "execution_count": null,
      "id": "950b763d",
      "metadata": {
        "id": "950b763d"
      },
      "outputs": [],
      "source": [
        "# 아래 코드의 주석 기호를 삭제하고 실행할 때 오류가 발생하지 않아야 한다.\n",
        "\n",
        "assert camel2pothole(\"userName\") == \"user_name\"\n",
        "assert camel2pothole(\"printMessage\") == \"print_message\"\n",
        "assert camel2pothole(\"countA\") == \"count_a\""
      ]
    },
    {
      "cell_type": "markdown",
      "id": "851481ba",
      "metadata": {
        "id": "851481ba"
      },
      "source": [
        "**문제 7**"
      ]
    },
    {
      "cell_type": "markdown",
      "id": "261638db",
      "metadata": {
        "id": "261638db"
      },
      "source": [
        "아래 조건을 만족하는 `zip_strings()` 함수를 구현하라.\n",
        "\n",
        "* 세 개의 문자열을 각각 입력 받는 `str1`, `str2`, `str3` 매개 변수를 사용한다.\n",
        "* `str3`가 가리키는 값이 `str1` 과 `str2` 이 가리키는 문자열에 포함된 문자들을\n",
        "    번갈아가며 결합한 결과이면 `True`를, 아니면 `False` 를 반환한다.\n",
        "* 두 문자열의 길이가 다르면, 가능한 데까지만 문자를 번갈아가며 결합하고 나머지는 그대로 적어준다.    \n",
        "\n",
        "힌트: `zip()` 함수 활용 가능."
      ]
    },
    {
      "cell_type": "code",
      "execution_count": null,
      "id": "047f15e3",
      "metadata": {
        "id": "047f15e3"
      },
      "outputs": [],
      "source": [
        "# pass 와  None을 적절한 명령문과 표현식으로 대체하라.\n",
        "\n",
        "def zip_strings(str1, str2, str3):\n",
        "    str_list1 = []\n",
        "    str_list2 = []\n",
        "\n",
        "    for letter1, letter2 in zip(str1, str2): # str1로 시작하는 list와 str2로 시작하는 리스트를 각각 생성\n",
        "      str_list1.append(letter1)\n",
        "      str_list1.append(letter2)\n",
        "    \n",
        "    for letter1, letter2 in zip(str1, str2):\n",
        "      str_list2.append(letter2)\n",
        "      str_list2.append(letter1)\n",
        "\n",
        "    if len(str1) < len(str2):                # str2의 문자열이 길 경우\n",
        "      str_list1.append(str2[len(str1):])\n",
        "      str_list2.append(str2[len(str1):])\n",
        "    elif len(str1) > len(str2):              # str1의 문자열이 길 경우\n",
        "      str_list1.append(str1[len(str2):])\n",
        "      str_list2.append(str1[len(str2):])\n",
        "\n",
        "    str_list1 = \"\".join(str_list1)           # 리스트 합치기\n",
        "    str_list2 = \"\".join(str_list2)\n",
        "      \n",
        "    return str3 == str_list1 or str3 == str_list2"
      ]
    },
    {
      "cell_type": "code",
      "execution_count": null,
      "id": "11477807",
      "metadata": {
        "id": "11477807"
      },
      "outputs": [],
      "source": [
        "# 아래 코드의 주석 기호를 삭제하고 실행할 때 오류가 발생하지 않아야 한다.\n",
        "\n",
        "assert zip_strings('dog', 'cat', 'dcoagt') == True\n",
        "assert zip_strings('cat', 'dog', 'dcoagt') == True\n",
        "assert zip_strings('dog', 'cat', 'cdoagt') == False\n",
        "assert zip_strings('computing', 'math','cmoamtphuting') == True\n",
        "assert zip_strings('math', 'computing','cmoamtphuting') == True\n",
        "assert zip_strings('math', 'computing', 'mcoamtphuting') == False"
      ]
    },
    {
      "cell_type": "markdown",
      "id": "c5dcc540",
      "metadata": {
        "id": "c5dcc540"
      },
      "source": [
        "## 리스트"
      ]
    },
    {
      "cell_type": "markdown",
      "id": "e8233271",
      "metadata": {
        "id": "e8233271"
      },
      "source": [
        "**문제 8**"
      ]
    },
    {
      "cell_type": "markdown",
      "id": "7b1ec1be",
      "metadata": {
        "id": "7b1ec1be"
      },
      "source": [
        "`num_list` 변수가 아래처럼 선언되었다."
      ]
    },
    {
      "cell_type": "code",
      "execution_count": null,
      "id": "e3cdd991",
      "metadata": {
        "id": "e3cdd991"
      },
      "outputs": [],
      "source": [
        "num_list = [[1, 2, 3, [4, 5]], [6, 7, 8], 9]"
      ]
    },
    {
      "cell_type": "markdown",
      "id": "08c4ddd2",
      "metadata": {
        "id": "08c4ddd2"
      },
      "source": [
        "(1) `9`를 츨력하는 코드를 작성하여라.   "
      ]
    },
    {
      "cell_type": "code",
      "execution_count": null,
      "id": "219b9ae3",
      "metadata": {
        "id": "219b9ae3",
        "colab": {
          "base_uri": "https://localhost:8080/"
        },
        "outputId": "dd0b6d1c-b309-4b85-cf59-1d7ab875247d"
      },
      "outputs": [
        {
          "output_type": "execute_result",
          "data": {
            "text/plain": [
              "9"
            ]
          },
          "metadata": {},
          "execution_count": 62
        }
      ],
      "source": [
        "# pass 적절한 명령문 또는 표현식으로 대체하라.\n",
        "\n",
        "num_list[2]"
      ]
    },
    {
      "cell_type": "markdown",
      "id": "6ad2f609",
      "metadata": {
        "id": "6ad2f609"
      },
      "source": [
        "(2) `7`를 출력하는 코드를 작성하여라.   "
      ]
    },
    {
      "cell_type": "code",
      "execution_count": null,
      "id": "40efea4e",
      "metadata": {
        "id": "40efea4e",
        "colab": {
          "base_uri": "https://localhost:8080/"
        },
        "outputId": "1acc26b6-587f-42aa-f031-9b18ad10854f"
      },
      "outputs": [
        {
          "output_type": "execute_result",
          "data": {
            "text/plain": [
              "7"
            ]
          },
          "metadata": {},
          "execution_count": 64
        }
      ],
      "source": [
        "# pass 적절한 명령문 또는 표현식으로 대체하라.\n",
        "\n",
        "num_list[1][1]"
      ]
    },
    {
      "cell_type": "markdown",
      "id": "df7d4671",
      "metadata": {
        "id": "df7d4671"
      },
      "source": [
        "(3) `[3, [4, 5]]`를 출력하는 코드를 작성하여라.  "
      ]
    },
    {
      "cell_type": "code",
      "execution_count": null,
      "id": "90388f2c",
      "metadata": {
        "id": "90388f2c",
        "colab": {
          "base_uri": "https://localhost:8080/"
        },
        "outputId": "5ec5444d-0d6d-404d-8444-162ac902a360"
      },
      "outputs": [
        {
          "output_type": "execute_result",
          "data": {
            "text/plain": [
              "[3, [4, 5]]"
            ]
          },
          "metadata": {},
          "execution_count": 65
        }
      ],
      "source": [
        "# pass 적절한 명령문 또는 표현식으로 대체하라.\n",
        "\n",
        "num_list[0][2:]"
      ]
    },
    {
      "cell_type": "markdown",
      "id": "e1d3f8c8",
      "metadata": {
        "id": "e1d3f8c8"
      },
      "source": [
        "**문제 9**"
      ]
    },
    {
      "cell_type": "markdown",
      "id": "36126643",
      "metadata": {
        "id": "36126643"
      },
      "source": [
        "어느 평가위원회는 평가 점수 중 최고점과 최저점을 제외한 점수들의 평균을 최종 평가 점수로 부여하려고 한다. \n",
        "선수 A의 점수가 다음 리스트로 주어졌다."
      ]
    },
    {
      "cell_type": "code",
      "execution_count": null,
      "id": "9d75ee5b",
      "metadata": {
        "id": "9d75ee5b"
      },
      "outputs": [],
      "source": [
        "A = [85, 96, 78, 88, 81, 92, 73]"
      ]
    },
    {
      "cell_type": "markdown",
      "id": "640baea1",
      "metadata": {
        "id": "640baea1"
      },
      "source": [
        "선수 A의 최종 평가 점수를 출력하는 코드를 작성하여라.\n",
        "\n",
        "힌트: `sum()` 함수 또는 `numpy.mean()` 함수 활용"
      ]
    },
    {
      "cell_type": "code",
      "execution_count": null,
      "id": "26b04a54",
      "metadata": {
        "id": "26b04a54"
      },
      "outputs": [],
      "source": [
        "# pass 와  None을 적절한 명령문과 표현식으로 대체하라.\n",
        "import numpy as np    # 넘파이 불러오기\n",
        "\n",
        "A.remove(np.max(A))   # 최대값 삭제\n",
        "A.remove(np.min(A))   # 최소값 삭제\n",
        "\n",
        "average_A = np.mean(A)"
      ]
    },
    {
      "cell_type": "code",
      "execution_count": null,
      "id": "1ff9cf76",
      "metadata": {
        "id": "1ff9cf76"
      },
      "outputs": [],
      "source": [
        "# 아래 코드의 주석 기호를 삭제하고 실행할 때 오류가 발생하지 않아야 한다.\n",
        "\n",
        "assert average_A == 84.8"
      ]
    },
    {
      "cell_type": "markdown",
      "id": "6f2a748d",
      "metadata": {
        "id": "6f2a748d"
      },
      "source": [
        "**문제 10**"
      ]
    },
    {
      "cell_type": "markdown",
      "id": "7bd89970",
      "metadata": {
        "id": "7bd89970"
      },
      "source": [
        "리스트을 항목을 내림차순으로 정렬한 값을 반환하는 `rev_list()` 함수를 구현하라."
      ]
    },
    {
      "cell_type": "code",
      "execution_count": null,
      "id": "4175bdf6",
      "metadata": {
        "id": "4175bdf6"
      },
      "outputs": [],
      "source": [
        "# pass 와  None을 적절한 명령문과 표현식으로 대체하라.\n",
        "\n",
        "def rev_list(aList):\n",
        "    \n",
        "    aList.sort(reverse = True)\n",
        "\n",
        "    return aList"
      ]
    },
    {
      "cell_type": "code",
      "execution_count": null,
      "id": "d09f18c3",
      "metadata": {
        "id": "d09f18c3"
      },
      "outputs": [],
      "source": [
        "# 아래 코드의 주석 기호를 삭제하고 실행할 때 오류가 발생하지 않아야 한다.\n",
        "\n",
        "assert rev_list([2, 4, 1, 2]) == [4, 2, 2, 1]\n",
        "assert rev_list(['c', 'f', 'a']) == ['f', 'c', 'a']\n",
        "assert rev_list(['_ff', 'ABC', 'abd']) == ['abd', '_ff', 'ABC']"
      ]
    },
    {
      "cell_type": "markdown",
      "id": "47bf8991",
      "metadata": {
        "id": "47bf8991"
      },
      "source": [
        "**문제 11**"
      ]
    },
    {
      "cell_type": "markdown",
      "id": "83a2b626",
      "metadata": {
        "id": "83a2b626"
      },
      "source": [
        "리스트 `['Life', 'is', 'too', 'short']` 를 이용하여\n",
        "문자열 `\"Life is too short\"` 을 생성하는 코드를 작성하라.\n",
        "단, 리스트의 `pop()` 메서드를 사용해야 한다."
      ]
    },
    {
      "cell_type": "code",
      "execution_count": null,
      "id": "104e6207",
      "metadata": {
        "id": "104e6207"
      },
      "outputs": [],
      "source": [
        "# pass 와  None을 적절한 명령문과 표현식으로 대체하라.\n",
        "# 단, 문자열 \"Life is too short\" 이 직접 언급되지 않아야 한다.\n",
        "\n",
        "input_list = ['Life', 'is', 'too', 'short']\n",
        "\n",
        "str1 = \"\"\n",
        "while len(input_list) != 0:   # input_list의 길이가 0이 될 때까지 반복\n",
        "  str1 += input_list.pop(0)\n",
        "  if len(input_list) == 0:    # input_list의 길이가 0이 되면 while문 중지\n",
        "    break\n",
        "  str1 += \" \"\n",
        "\n",
        "output_str = str1"
      ]
    },
    {
      "cell_type": "code",
      "execution_count": null,
      "id": "7e6a4b7b",
      "metadata": {
        "id": "7e6a4b7b"
      },
      "outputs": [],
      "source": [
        "# 아래 코드의 주석 기호를 삭제하고 실행할 때 오류가 발생하지 않아야 한다.\n",
        "\n",
        "assert output_str == \"Life is too short\""
      ]
    },
    {
      "cell_type": "markdown",
      "id": "c638540c",
      "metadata": {
        "id": "c638540c"
      },
      "source": [
        "**문제 12**"
      ]
    },
    {
      "cell_type": "markdown",
      "id": "fa3c8b22",
      "metadata": {
        "id": "fa3c8b22"
      },
      "source": [
        "정수 `a`와 자연수 `n`을 입력받아, `n`개의 항목을 갖는 리스트를 출력하는 \n",
        "`int_clone()` 함수를 작성하여라.\n",
        "단, 리스트의 항목은 `a`부터 시작하고, 그 다음 항목은 이전 항목보다 `a`만큼 크다.        "
      ]
    },
    {
      "cell_type": "code",
      "execution_count": null,
      "id": "fbc85c96",
      "metadata": {
        "id": "fbc85c96"
      },
      "outputs": [],
      "source": [
        "# pass 와  None을 적절한 명령문과 표현식으로 대체하라.\n",
        "\n",
        "def int_clone(a, n):\n",
        "    assert n > 0\n",
        "    num_list = []\n",
        "\n",
        "    for i in range(1, n+1):\n",
        "      num_list.append(a * i)\n",
        "    \n",
        "    return num_list "
      ]
    },
    {
      "cell_type": "code",
      "execution_count": null,
      "id": "d55a7143",
      "metadata": {
        "id": "d55a7143"
      },
      "outputs": [],
      "source": [
        "# 아래 코드의 주석 기호를 삭제하고 실행할 때 오류가 발생하지 않아야 한다.\n",
        "\n",
        "assert int_clone(3, 4) == [3, 6, 9, 12]\n",
        "assert int_clone(2, 3) == [2, 4, 6]"
      ]
    },
    {
      "cell_type": "markdown",
      "id": "96a3365c",
      "metadata": {
        "id": "96a3365c"
      },
      "source": [
        "**문제 13**"
      ]
    },
    {
      "cell_type": "markdown",
      "id": "f6f65528",
      "metadata": {
        "id": "f6f65528"
      },
      "source": [
        "주어진 정수를 오름차순으로 정렬하여, 리스트 형태로 반환하는 `int2sorted_list()` 함수를 작성하라.\n",
        "단, 양의 정수만 입력값으로 사용한다."
      ]
    },
    {
      "cell_type": "code",
      "execution_count": null,
      "id": "f71f7786",
      "metadata": {
        "id": "f71f7786"
      },
      "outputs": [],
      "source": [
        "# pass 와  None을 적절한 명령문과 표현식으로 대체하라.\n",
        "\n",
        "def int2sorted_list(an_int):\n",
        "    assert an_int > 0\n",
        "    \n",
        "    an_list = list(map(str, str(an_int)))\n",
        "    an_list.sort()\n",
        "\n",
        "    return an_list"
      ]
    },
    {
      "cell_type": "code",
      "execution_count": null,
      "id": "5d645f23",
      "metadata": {
        "id": "5d645f23"
      },
      "outputs": [],
      "source": [
        "# 아래 코드의 주석 기호를 삭제하고 실행할 때 오류가 발생하지 않아야 한다.\n",
        "\n",
        "assert int2sorted_list(32145) == ['1', '2', '3', '4', '5']\n",
        "assert int2sorted_list(435) == ['3', '4', '5']"
      ]
    },
    {
      "cell_type": "markdown",
      "id": "9c748f5d",
      "metadata": {
        "id": "9c748f5d"
      },
      "source": [
        "**문제 14**"
      ]
    },
    {
      "cell_type": "markdown",
      "id": "af16f521",
      "metadata": {
        "id": "af16f521"
      },
      "source": [
        "교육 참가자 명단과 수료자 명단이 아래처럼 리스트로 주어다."
      ]
    },
    {
      "cell_type": "code",
      "execution_count": null,
      "id": "1d533922",
      "metadata": {
        "id": "1d533922"
      },
      "outputs": [],
      "source": [
        "participant = ['Apeach', 'Ryan', 'Muzi', 'Choonsik', 'Neo', 'Tube']\n",
        "completion = ['Ryan', 'Muzi', 'Neo', 'Choonsik']"
      ]
    },
    {
      "cell_type": "markdown",
      "id": "24680079",
      "metadata": {
        "id": "24680079"
      },
      "source": [
        "수료하지 못한 사람들의 명단을 리스트로 출력하는 코드를 작성하여라.\n",
        "단, 참여자 중 동명이인은 없고, 순서는 중요하지 않다. "
      ]
    },
    {
      "cell_type": "code",
      "execution_count": null,
      "id": "53354ffd",
      "metadata": {
        "id": "53354ffd"
      },
      "outputs": [],
      "source": [
        "# pass 와  None을 적절한 명령문과 표현식으로 대체하라.\n",
        "# 단, 답을 직접 언급하지 말아야 한다.\n",
        "\n",
        "str_list = []\n",
        "\n",
        "for str1 in participant:\n",
        "  if str1 not in completion:\n",
        "    str_list.append(str1)\n",
        "\n",
        "unfinished = str_list"
      ]
    },
    {
      "cell_type": "code",
      "execution_count": null,
      "id": "41881253",
      "metadata": {
        "id": "41881253"
      },
      "outputs": [],
      "source": [
        "# 아래 코드의 주석 기호를 삭제하고 실행할 때 오류가 발생하지 않아야 한다.\n",
        "\n",
        "assert unfinished == ['Apeach', 'Tube']"
      ]
    },
    {
      "cell_type": "markdown",
      "id": "f77664cd",
      "metadata": {
        "id": "f77664cd"
      },
      "source": [
        "**문제 15**"
      ]
    },
    {
      "cell_type": "markdown",
      "id": "7953bb77",
      "metadata": {
        "id": "7953bb77"
      },
      "source": [
        "임의로 중첩된 리스트를 풀어헤쳐 중첩이 없는 리스트를 생성하는\n",
        "`flatten()` 함수를 `while` 반복문을 이용하여 구현하라.\n",
        "단, 재귀는 허용되지 않는다.\n",
        "\n",
        "참고: 이 문제는 조금 어려우며, [stackoverflow: 임의로 중첩된 리스트 납작하게 만들기](https://stackoverflow.com/questions/10823877/what-is-the-fastest-way-to-flatten-arbitrarily-nested-lists-in-python) 를 참고할 수 있다."
      ]
    },
    {
      "cell_type": "code",
      "source": [
        "def flatten(aList):\n",
        "  for i, x in enumerate(aList):   # aList의 index와 항목을 가져온다\n",
        "    while isinstance(x, list):    # x가 list일 경우 계속한다\n",
        "      aList[i:i+1] = x            # list 평탄화\n",
        "      x = aList[i]\n",
        "  return aList"
      ],
      "metadata": {
        "id": "_IUSgumF0jYz"
      },
      "id": "_IUSgumF0jYz",
      "execution_count": 10,
      "outputs": []
    },
    {
      "cell_type": "code",
      "source": [
        "assert flatten([1, 2, [3, 4, [5], ['hi']], 6]) == [1, 2, 3, 4, 5, 'hi', 6]"
      ],
      "metadata": {
        "id": "_JGzMhAdYYPk"
      },
      "id": "_JGzMhAdYYPk",
      "execution_count": 11,
      "outputs": []
    },
    {
      "cell_type": "markdown",
      "id": "c7215317",
      "metadata": {
        "id": "c7215317"
      },
      "source": [
        "## 튜플"
      ]
    },
    {
      "cell_type": "markdown",
      "id": "d943e3c6",
      "metadata": {
        "id": "d943e3c6"
      },
      "source": [
        "**문제 16**"
      ]
    },
    {
      "cell_type": "markdown",
      "id": "24744bc6",
      "metadata": {
        "id": "24744bc6"
      },
      "source": [
        "튜플이 인자로 들어오면 튜플의 기존 항목들이 역순으로 추가된 튜플을 반환하는 \n",
        "`tuple_double_rev()` 함수를 구현하라."
      ]
    },
    {
      "cell_type": "code",
      "execution_count": null,
      "id": "d7512aaa",
      "metadata": {
        "id": "d7512aaa"
      },
      "outputs": [],
      "source": [
        "# pass 와  None을 적절한 명령문과 표현식으로 대체하라.\n",
        "\n",
        "def tuple_double_rev(t):\n",
        "    rev = list(t)\n",
        "    rev.sort(reverse=True)    \n",
        "\n",
        "    return t + tuple(rev)"
      ]
    },
    {
      "cell_type": "code",
      "execution_count": null,
      "id": "0654ee6c",
      "metadata": {
        "id": "0654ee6c"
      },
      "outputs": [],
      "source": [
        "# 아래 코드의 주석 기호를 삭제하고 실행할 때 오류가 발생하지 않아야 한다.\n",
        "\n",
        "assert tuple_double_rev((1, 2, 3)) == (1, 2, 3, 3, 2, 1)\n",
        "assert tuple_double_rev(('a', 'b')) == ('a', 'b', 'b', 'a')"
      ]
    }
  ],
  "metadata": {
    "kernelspec": {
      "display_name": "Python 3 (ipykernel)",
      "language": "python",
      "name": "python3"
    },
    "language_info": {
      "codemirror_mode": {
        "name": "ipython",
        "version": 3
      },
      "file_extension": ".py",
      "mimetype": "text/x-python",
      "name": "python",
      "nbconvert_exporter": "python",
      "pygments_lexer": "ipython3",
      "version": "3.9.7"
    },
    "colab": {
      "provenance": [],
      "include_colab_link": true
    }
  },
  "nbformat": 4,
  "nbformat_minor": 5
}
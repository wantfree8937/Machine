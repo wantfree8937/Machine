{
  "cells": [
    {
      "cell_type": "markdown",
      "metadata": {
        "id": "view-in-github",
        "colab_type": "text"
      },
      "source": [
        "<a href=\"https://colab.research.google.com/github/wantfree8937/Machine/blob/main/%EC%BB%B4%EA%B3%B5%EC%9E%85%EB%AC%B8%EA%B3%BC%EC%A0%9C8.ipynb\" target=\"_parent\"><img src=\"https://colab.research.google.com/assets/colab-badge.svg\" alt=\"Open In Colab\"/></a>"
      ]
    },
    {
      "cell_type": "markdown",
      "id": "63ac596b",
      "metadata": {
        "id": "63ac596b"
      },
      "source": [
        "# (실습) 사례 연구: 프로그램 구상"
      ]
    },
    {
      "cell_type": "markdown",
      "id": "abca766c",
      "metadata": {
        "id": "abca766c"
      },
      "source": [
        "**주의 사항** \n",
        "\n",
        "* 기존에 작성된 코드셀/텍스트셀은 수정하지 않는다.\n",
        "* 필요한 경우 코드셀 또는 텍스트셀을 추가할 수 있다.\n",
        "* 실습 파일을 구글 드라이브에서 링크로 누구가 공유할 수 있도록 설정하세요."
      ]
    },
    {
      "cell_type": "markdown",
      "id": "8bcd32f9",
      "metadata": {
        "id": "8bcd32f9"
      },
      "source": [
        "**문제 1**"
      ]
    },
    {
      "cell_type": "markdown",
      "id": "f3bbdcbb",
      "metadata": {
        "id": "f3bbdcbb"
      },
      "source": [
        "두 개의 정수 `a`, `b`를 입력받아 `a/b`를 계산하는 코드를 작성하여라.\n",
        "단, 아래의 내용을 만족하도록 코드를 작성한다.\n",
        "\n",
        "* 정수가 아닌 값이 입력될 경우, 정수를 입력하라고 전달한다.\n",
        "* `b`에 `0`이 입력될 경우, `0`이 아닌 숫자를 입력하라고 전달한다. "
      ]
    },
    {
      "cell_type": "code",
      "execution_count": null,
      "id": "b1c98e1f",
      "metadata": {
        "id": "b1c98e1f",
        "colab": {
          "base_uri": "https://localhost:8080/"
        },
        "outputId": "b357b0b4-933e-4855-cfeb-f83b1fe73a8a"
      },
      "outputs": [
        {
          "output_type": "stream",
          "name": "stdout",
          "text": [
            "첫째 정수를 입력하세요: 8\n",
            "둘째 정수를 입력하세요: 4\n",
            "정답: 2.0\n"
          ]
        }
      ],
      "source": [
        "# # 주석을 없앤 다음에 pass 를 적절한 명령문으로 대체하라.\n",
        "\n",
        "while True:\n",
        "    try:\n",
        "      a = int(input(\"첫째 정수를 입력하세요: \"))\n",
        "      b = int(input(\"둘째 정수를 입력하세요: \"))\n",
        "      \n",
        "      print(f\"정답: {a/b}\")                       # 정답 출력\n",
        "      break\n",
        "\n",
        "    except ValueError:                            # 정수가 아닌 경우\n",
        "      print('정수를 입력해주세요')\n",
        "\n",
        "    except ZeroDivisionError:                     # 분모가 0인 경우\n",
        "      print('0이 아닌 숫자를 입력해주세요')"
      ]
    },
    {
      "cell_type": "markdown",
      "id": "5b88d1d4",
      "metadata": {
        "id": "5b88d1d4"
      },
      "source": [
        "**문제 2**"
      ]
    },
    {
      "cell_type": "markdown",
      "id": "d17cf62c",
      "metadata": {
        "id": "d17cf62c"
      },
      "source": [
        "[수 알아맞히기 게임](https://codingalzi.github.io/pybook/casestudy_guessing_numbers.html)에서 \n",
        "참여자가 1에서 100까지의 범위를 벗어나는\n",
        "정수를 입력하면 재입력을 요구하도록 업그레이드 하라.\n",
        "\n",
        "힌트: `if` 조건문을 추가로 사용한다."
      ]
    },
    {
      "cell_type": "code",
      "execution_count": null,
      "id": "522e6c8a",
      "metadata": {
        "id": "522e6c8a",
        "colab": {
          "base_uri": "https://localhost:8080/"
        },
        "outputId": "a31e78b8-cfde-4a92-d318-5ece9965a31b"
      },
      "outputs": [
        {
          "output_type": "stream",
          "name": "stdout",
          "text": [
            "수 알아맞히기 게임에 환영합니다.\n",
            "72\n",
            "1부터 100 사이의 정수 하나를 입력하세요: 72\n",
            "맞았습니다!\n",
            "게임 종료!\n"
          ]
        }
      ],
      "source": [
        "# # 아래 코드를 업그레이드 하라.\n",
        "\n",
        "from random import randint\n",
        "\n",
        "print(\"수 알아맞히기 게임에 환영합니다.\")\n",
        "\n",
        "secret = randint(1,100)\n",
        "guess = -1\n",
        "\n",
        "while guess != secret:\n",
        "    \n",
        "    try:  # 정수 입력이 아닌 경우 대처             \n",
        "        guess = int(input(\"1부터 100 사이의 정수 하나를 입력하세요: \"))\n",
        "\n",
        "        if guess < 1 or guess > 100:\n",
        "          print(\"범위에서 벗어났습니다. 다시 입력해주세요.\")\n",
        "          continue\n",
        "          \n",
        "    except: \n",
        "        continue  # while 반복문의 처음으로 돌아가기\n",
        "\n",
        "    if guess == secret:\n",
        "        print(\"맞았습니다!\")\n",
        "    elif guess > secret:\n",
        "        print(\"너무 커요!\")\n",
        "    else:\n",
        "        print(\"너무 작아요!\")\n",
        "\n",
        "print(\"게임 종료!\")"
      ]
    },
    {
      "cell_type": "markdown",
      "id": "fcba6e3d",
      "metadata": {
        "id": "fcba6e3d"
      },
      "source": [
        "**문제 3**"
      ]
    },
    {
      "cell_type": "markdown",
      "id": "c355f9b1",
      "metadata": {
        "id": "c355f9b1"
      },
      "source": [
        "[수 알아맞히기 게임](https://codingalzi.github.io/pybook/casestudy_guessing_numbers.html)이 종료될 때 \n",
        "사용자가 몇 번 만에 정답을 맞혔는지 알려주도록 프로그램을 업그레이드 하라.\n",
        "단, 1과 100 사이의 수를 입력한 경우만 고려한다.\n",
        "\n",
        "힌트: `while` 반복문이 몇 번 실행되는 횟수를 기억하는 변수를 사용한다."
      ]
    },
    {
      "cell_type": "code",
      "execution_count": null,
      "id": "c241eb58",
      "metadata": {
        "id": "c241eb58",
        "colab": {
          "base_uri": "https://localhost:8080/"
        },
        "outputId": "0f345b67-66a4-4585-8809-9ade09ed9f7f"
      },
      "outputs": [
        {
          "output_type": "stream",
          "name": "stdout",
          "text": [
            "수 알아맞히기 게임에 환영합니다.\n",
            "77\n",
            "1부터 100 사이의 정수 하나를 입력하세요: 70\n",
            "너무 작아요!\n",
            "1부터 100 사이의 정수 하나를 입력하세요: 0\n",
            "범위에서 벗어났습니다. 다시 입력해주세요.\n",
            "1부터 100 사이의 정수 하나를 입력하세요: 74\n",
            "너무 작아요!\n",
            "1부터 100 사이의 정수 하나를 입력하세요: 75\n",
            "너무 작아요!\n",
            "1부터 100 사이의 정수 하나를 입력하세요: 76\n",
            "너무 작아요!\n",
            "1부터 100 사이의 정수 하나를 입력하세요: 77\n",
            "맞았습니다!\n",
            "게임 종료! 5번 만에 맞추셨습니다.\n"
          ]
        }
      ],
      "source": [
        "# 문제 2 코드를 업그레이드 하라.\n",
        "\n",
        "from random import randint\n",
        "\n",
        "print(\"수 알아맞히기 게임에 환영합니다.\")\n",
        "\n",
        "secret = randint(1, 100)\n",
        "guess = -1\n",
        "count = 0   # 반복 횟수 저장\n",
        "\n",
        "while guess != secret:\n",
        "\n",
        "  try:\n",
        "    guess = int(input(\"1부터 100 사이의 정수 하나를 입력하세요: \"))\n",
        "    count += 1\n",
        "\n",
        "    if guess < 1 or guess > 100:\n",
        "      print(\"범위에서 벗어났습니다. 다시 입력해주세요.\")\n",
        "      count -= 1\n",
        "      continue\n",
        "\n",
        "  except:\n",
        "    continue\n",
        "\n",
        "  if guess == secret:\n",
        "    print(\"맞았습니다!\")\n",
        "  elif guess > secret:\n",
        "    print(\"너무 커요!\")\n",
        "  else:\n",
        "    print(\"너무 작아요!\")\n",
        "\n",
        "print(f\"게임 종료! {count}번 만에 맞추셨습니다.\")"
      ]
    },
    {
      "cell_type": "markdown",
      "id": "673c8c99",
      "metadata": {
        "id": "673c8c99"
      },
      "source": [
        "**문제 4**"
      ]
    },
    {
      "cell_type": "markdown",
      "id": "af83745c",
      "metadata": {
        "id": "af83745c"
      },
      "source": [
        "[수 알아맞히기 게임](https://codingalzi.github.io/pybook/casestudy_guessing_numbers.html) 실행중에 \n",
        "참여자가 영어 알파벳 `q` 또는 `Q` 를 입력하면 게임이 종료되도록 프로그램을 업그레이드 하라.\n",
        "\n",
        "힌트: `int()` 함수가 사용되는 위치를 다르게 한다."
      ]
    },
    {
      "cell_type": "code",
      "execution_count": null,
      "id": "c0a4fdb8",
      "metadata": {
        "id": "c0a4fdb8",
        "colab": {
          "base_uri": "https://localhost:8080/"
        },
        "outputId": "1cb7a76c-8a56-4e18-80cc-6bd1a8a72800"
      },
      "outputs": [
        {
          "output_type": "stream",
          "name": "stdout",
          "text": [
            "수 알아맞히기 게임에 환영합니다.\n",
            "20\n",
            "1부터 100 사이의 정수 하나를 입력하세요: 10\n",
            "너무 작아요!\n",
            "1부터 100 사이의 정수 하나를 입력하세요: 15\n",
            "너무 작아요!\n",
            "1부터 100 사이의 정수 하나를 입력하세요: 20\n",
            "맞았습니다!\n",
            "게임 종료! 3번 만에 맞추셨습니다.\n"
          ]
        }
      ],
      "source": [
        "# 문제 3 코드를 업그레이드 하라.\n",
        "\n",
        "from random import randint\n",
        "\n",
        "print(\"수 알아맞히기 게임에 환영합니다.\")\n",
        "\n",
        "secret = randint(1, 100)\n",
        "guess = -1\n",
        "count = 0   # 반복 횟수 저장\n",
        "\n",
        "print(secret)\n",
        "\n",
        "while int(guess) != secret:\n",
        "\n",
        "  try:\n",
        "    guess = input(\"1부터 100 사이의 정수 하나를 입력하세요: \")\n",
        "    count += 1\n",
        "\n",
        "    if str(guess) == \"q\" or str(guess) == \"Q\":\n",
        "      break\n",
        "\n",
        "    if int(guess) < 1 or int(guess) > 100:\n",
        "      print(\"범위에서 벗어났습니다. 다시 입력해주세요.\")\n",
        "      count -= 1\n",
        "      continue\n",
        "\n",
        "  except:\n",
        "    continue\n",
        "\n",
        "  if int(guess) == secret:\n",
        "    print(\"맞았습니다!\")\n",
        "  elif int(guess) > secret:\n",
        "    print(\"너무 커요!\")\n",
        "  else:\n",
        "    print(\"너무 작아요!\")\n",
        "\n",
        "if str(guess) == 'q' or str(guess) == 'Q':\n",
        "  print('게임을 종료합니다.')\n",
        "else:\n",
        "  print(f\"게임 종료! {count}번 만에 맞추셨습니다.\")"
      ]
    },
    {
      "cell_type": "markdown",
      "id": "64ab7352",
      "metadata": {
        "id": "64ab7352"
      },
      "source": [
        "**문제 5**"
      ]
    },
    {
      "cell_type": "markdown",
      "id": "fc026162",
      "metadata": {
        "id": "fc026162"
      },
      "source": [
        "숫자 야구 게임은 임의로 정한 세 자리의 수(`answer`)를 참여자가 맞히는 게임으로, 아래의 규칙을 따른다.\n",
        "\n",
        "* 사용되는 수는 1부터 9까지의 서로 다른 숫자이다. \n",
        "* 참여자가 입력한 수가 `answer`와 다를 경우, 참여자에게 아래 기준에 따른 결과를 알려준다.\n",
        "  * 숫자의 위치가 맞으면, 스트라이크\n",
        "  * 숫자는 맞지만 위치가 틀리면, 볼\n",
        "  * 숫자와 위치가 모두 틀리면, 아웃\n",
        "\n",
        "예를 들어, `answer` 가 123 일 때, 참여자가 456 을 입력하면 `아웃` 을, \n",
        "257 을 입력하면 `1볼` 을, \n",
        "273 을 입력하면 `1볼 1스트라이크` 를 출력한다.\n",
        "\n",
        "숫자 야구 게임을 구현하라.\n",
        "단, 맞혀야 하는 세 자리의 수는 157로 지정하며,\n",
        "사용자가 서로 다른 세 개의 숫자로 이루어진 수를 입력하도록 유도한다."
      ]
    },
    {
      "cell_type": "code",
      "execution_count": 11,
      "id": "fd09d349",
      "metadata": {
        "id": "fd09d349",
        "colab": {
          "base_uri": "https://localhost:8080/"
        },
        "outputId": "bfcb6cfa-e98d-40f1-ad21-52b02c0d6d54"
      },
      "outputs": [
        {
          "output_type": "stream",
          "name": "stdout",
          "text": [
            "숫자 야구 게임에 환영합니다.\n",
            "1부터 9까지의 숫자로 세자리 수를 만들어 주세요: 155\n",
            "서로 다른 세 개의 숫자로 입력해주세요.\n",
            "1부터 9까지의 숫자로 세자리 수를 만들어 주세요: 175\n",
            "2볼 1스트라이크\n",
            "게임 종료!\n"
          ]
        }
      ],
      "source": [
        "# answer = 157\n",
        "\n",
        "print(\"숫자 야구 게임에 환영합니다.\")\n",
        "\n",
        "answer = 157\n",
        "guess = 0\n",
        "ball = 0        # 볼\n",
        "strike = 0      # 스트라이크\n",
        "\n",
        "while guess == 0:\n",
        "  guess = input(\"1부터 9까지의 숫자로 세자리 수를 만들어 주세요: \")\n",
        "  if guess[0] == guess[1] or guess[1] == guess[2] or guess[0] == guess[2]:\n",
        "    print(\"서로 다른 세 개의 숫자로 입력해주세요.\")\n",
        "    guess = 0\n",
        "\n",
        "for i in range(3):\n",
        "  for j in range(3):\n",
        "    if guess[i] == str(answer)[j]:\n",
        "      if i == j:\n",
        "        strike += 1\n",
        "      else:\n",
        "        ball += 1\n",
        "  \n",
        "if strike == 0 and ball == 0:\n",
        "  print(\"아웃\")\n",
        "elif strike != 0 and ball == 0:\n",
        "  print(f\"{strike}스트라이크\")\n",
        "elif strike == 0 and ball != 0:\n",
        "  print(f\"{ball}볼\")\n",
        "else:\n",
        "  print(f\"{ball}볼 {strike}스트라이크\")\n",
        "print(\"게임 종료!\")"
      ]
    },
    {
      "cell_type": "markdown",
      "id": "634be104",
      "metadata": {
        "id": "634be104"
      },
      "source": [
        "**문제 6**"
      ]
    },
    {
      "cell_type": "markdown",
      "id": "94460267",
      "metadata": {
        "id": "94460267"
      },
      "source": [
        "숫자 야구 게임을 다음 조건이 만족되도록 업그레이드 하라.\n",
        "\n",
        "> 참여자가 정답을 맞힐 때까지 게임이 실행된다."
      ]
    },
    {
      "cell_type": "code",
      "execution_count": null,
      "id": "204e7d3e",
      "metadata": {
        "id": "204e7d3e"
      },
      "outputs": [],
      "source": [
        "# 문제 5 코드를 업그레이드 하라.\n",
        "\n",
        "print(\"숫자 야구 게임에 환영합니다.\")\n",
        "\n",
        "answer = 157\n",
        "guess = -1\n",
        "\n",
        "while int(guess) != answer:\n",
        "  ball = 0        # 볼\n",
        "  strike = 0      # 스트라이크\n",
        "\n",
        "  try:\n",
        "    guess = input(\"1부터 9까지의 숫자로 세자리 수를 만들어 주세요: \")\n",
        "    \n",
        "    if guess[0] == guess[1] or guess[1] == guess[2] or guess[0] == guess[2]:    # 중복되는 숫자가 올 경우\n",
        "      print(\"서로 다른 세 개의 숫자로 입력해주세요.\")\n",
        "      continue\n",
        "\n",
        "  except:\n",
        "    continue\n",
        "\n",
        "  for i in range(3):                  # 볼 or 스트라이크 확인\n",
        "    for j in range(3):\n",
        "      if guess[i] == str(answer)[j]:\n",
        "        if i == j:\n",
        "          strike += 1\n",
        "        else:\n",
        "          ball += 1\n",
        "  \n",
        "  if strike == 0 and ball == 0:\n",
        "    print(\"아웃\")\n",
        "  elif strike != 0 and ball == 0:\n",
        "    print(f\"{strike}스트라이크\")\n",
        "  elif strike == 0 and ball != 0:\n",
        "    print(f\"{ball}볼\")\n",
        "  else:\n",
        "    print(f\"{ball}볼 {strike}스트라이크\")\n",
        "print(\"게임 종료!\")"
      ]
    },
    {
      "cell_type": "markdown",
      "id": "6167db78",
      "metadata": {
        "id": "6167db78"
      },
      "source": [
        "**문제 7**"
      ]
    },
    {
      "cell_type": "markdown",
      "id": "fac2173e",
      "metadata": {
        "id": "fac2173e"
      },
      "source": [
        "숫자 야구 게임을 다음 조건이 만족되도록 업그레이드 하라.\n",
        "\n",
        "> 맞혀야 하는 세 자리의 수가 무작위로 지정된다. 단, 0은 포함하지 않는다.\n",
        "\n",
        "힌트: `random.randint()` 함수를 이용한다."
      ]
    },
    {
      "cell_type": "code",
      "source": [
        "from random import randint\n",
        "\n",
        "answer = []\n",
        "\n",
        "for i in range(3):\n",
        "  num = randint(1, 9)\n",
        "  while num in answer:\n",
        "    num = randint(1, 9)\n",
        "  answer.append(num)\n",
        "answer = int(''.join(map(str, answer)))\n",
        "answer"
      ],
      "metadata": {
        "colab": {
          "base_uri": "https://localhost:8080/"
        },
        "id": "drpHHuZ0GQIf",
        "outputId": "fb22eb63-fbf6-4f90-8d4f-f4501b96bb6f"
      },
      "id": "drpHHuZ0GQIf",
      "execution_count": 79,
      "outputs": [
        {
          "output_type": "execute_result",
          "data": {
            "text/plain": [
              "482"
            ]
          },
          "metadata": {},
          "execution_count": 79
        }
      ]
    },
    {
      "cell_type": "code",
      "execution_count": 80,
      "id": "a5cc126d",
      "metadata": {
        "id": "a5cc126d",
        "colab": {
          "base_uri": "https://localhost:8080/"
        },
        "outputId": "437dcfaf-2129-444f-d0b5-6edcdd38b0c8"
      },
      "outputs": [
        {
          "output_type": "stream",
          "name": "stdout",
          "text": [
            "숫자 야구 게임에 환영합니다.\n",
            "641\n",
            "1부터 9까지의 숫자로 세자리 수를 만들어 주세요: 641\n",
            "3스트라이크\n",
            "게임 종료!\n"
          ]
        }
      ],
      "source": [
        "# 문제 6 코드를 업그레이드 하라.\n",
        "\n",
        "from random import randint\n",
        "\n",
        "print(\"숫자 야구 게임에 환영합니다.\")\n",
        "\n",
        "answer = []\n",
        "\n",
        "for i in range(3):        # 정답 세 자리수 무작위 지정\n",
        "  num = randint(1, 9)\n",
        "  while num in answer:\n",
        "    num = randint(1, 9)\n",
        "  answer.append(num)\n",
        "\n",
        "answer = int(''.join(map(str, answer)))   # 리스트 합치기\n",
        "\n",
        "guess = -1\n",
        "\n",
        "while int(guess) != answer:\n",
        "  ball = 0        # 볼\n",
        "  strike = 0      # 스트라이크\n",
        "\n",
        "  try:\n",
        "    guess = input(\"1부터 9까지의 숫자로 세자리 수를 만들어 주세요: \")\n",
        "\n",
        "    if guess[0] == guess[1] or guess[1] == guess[2] or guess[0] == guess[2]:\n",
        "      print(\"서로 다른 세 개의 숫자로 입력해주세요.\")\n",
        "      continue\n",
        "\n",
        "  except:\n",
        "    continue\n",
        "\n",
        "  for i in range(3):              \n",
        "    for j in range(3):\n",
        "      if guess[i] == str(answer)[j]:\n",
        "        if i == j:\n",
        "          strike += 1\n",
        "        else:\n",
        "          ball += 1\n",
        "  \n",
        "  if strike == 0 and ball == 0:\n",
        "    print(\"아웃\")\n",
        "  elif strike != 0 and ball == 0:\n",
        "    print(f\"{strike}스트라이크\")\n",
        "  elif strike == 0 and ball != 0:\n",
        "    print(f\"{ball}볼\")\n",
        "  else:\n",
        "    print(f\"{ball}볼 {strike}스트라이크\")\n",
        "print(\"게임 종료!\")"
      ]
    },
    {
      "cell_type": "markdown",
      "id": "f55bcd38",
      "metadata": {
        "id": "f55bcd38"
      },
      "source": [
        "**문제 8**"
      ]
    },
    {
      "cell_type": "markdown",
      "id": "ef83064b",
      "metadata": {
        "id": "ef83064b"
      },
      "source": [
        "숫자 야구 게임을 다음 조건이 만족되도록 업그레이드 하라.\n",
        "\n",
        "> 게임 참여자가 영어 알파벳 `q` 또는 `Q` 를 입력하면 게임을 종료한다."
      ]
    },
    {
      "cell_type": "code",
      "execution_count": 82,
      "id": "5133cc40",
      "metadata": {
        "id": "5133cc40",
        "colab": {
          "base_uri": "https://localhost:8080/"
        },
        "outputId": "27947bec-d228-46c7-dfc1-91f0202726e3"
      },
      "outputs": [
        {
          "output_type": "stream",
          "name": "stdout",
          "text": [
            "숫자 야구 게임에 환영합니다.\n",
            "253\n",
            "1부터 9까지의 숫자로 세자리 수를 만들어 주세요: 255\n",
            "서로 다른 세 개의 숫자로 입력해주세요.\n",
            "1부터 9까지의 숫자로 세자리 수를 만들어 주세요: 235\n",
            "2볼 1스트라이크\n",
            "1부터 9까지의 숫자로 세자리 수를 만들어 주세요: Q\n",
            "게임 종료!\n"
          ]
        }
      ],
      "source": [
        "# 문제 7 코드를 업그레이드 하라.\n",
        "\n",
        "from random import randint\n",
        "\n",
        "print(\"숫자 야구 게임에 환영합니다.\")\n",
        "\n",
        "answer = []\n",
        "\n",
        "for i in range(3):        # 정답 세 자리수 무작위 지정\n",
        "  num = randint(1, 9)\n",
        "  while num in answer:\n",
        "    num = randint(1, 9)\n",
        "  answer.append(num)\n",
        "\n",
        "answer = int(''.join(map(str, answer)))   # 리스트 합치기\n",
        "\n",
        "guess = -1\n",
        "\n",
        "while int(guess) != answer:\n",
        "  ball = 0        # 볼\n",
        "  strike = 0      # 스트라이크\n",
        "\n",
        "  try:\n",
        "    guess = input(\"1부터 9까지의 숫자로 세자리 수를 만들어 주세요: \")\n",
        "    \n",
        "    if str(guess) == 'q' or str(guess) == 'Q':      # q나 Q를 입력하면 게임 종료\n",
        "      break\n",
        "\n",
        "    if guess[0] == guess[1] or guess[1] == guess[2] or guess[0] == guess[2]:\n",
        "      print(\"서로 다른 세 개의 숫자로 입력해주세요.\")\n",
        "      continue\n",
        "\n",
        "  except:\n",
        "    continue\n",
        "\n",
        "  for i in range(3):              \n",
        "    for j in range(3):\n",
        "      if guess[i] == str(answer)[j]:\n",
        "        if i == j:\n",
        "          strike += 1\n",
        "        else:\n",
        "          ball += 1\n",
        "  \n",
        "  if strike == 0 and ball == 0:\n",
        "    print(\"아웃\")\n",
        "  elif strike != 0 and ball == 0:\n",
        "    print(f\"{strike}스트라이크\")\n",
        "  elif strike == 0 and ball != 0:\n",
        "    print(f\"{ball}볼\")\n",
        "  else:\n",
        "    print(f\"{ball}볼 {strike}스트라이크\")\n",
        "print(\"게임 종료!\")"
      ]
    },
    {
      "cell_type": "markdown",
      "id": "3846dd62",
      "metadata": {
        "id": "3846dd62"
      },
      "source": [
        "**문제 9**"
      ]
    },
    {
      "cell_type": "markdown",
      "id": "a6ddf86d",
      "metadata": {
        "id": "a6ddf86d"
      },
      "source": [
        "숫자 야구 게임을 다음 조건이 만족되도록 업그레이드 하라.\n",
        "\n",
        "> 정수가 아닌 값이 입력되면 무시하고 재입력하도록 한다."
      ]
    },
    {
      "cell_type": "code",
      "execution_count": 99,
      "id": "b1e462dc",
      "metadata": {
        "id": "b1e462dc",
        "colab": {
          "base_uri": "https://localhost:8080/"
        },
        "outputId": "240e457b-a191-47e2-cd7c-069482189962"
      },
      "outputs": [
        {
          "output_type": "stream",
          "name": "stdout",
          "text": [
            "숫자 야구 게임에 환영합니다.\n",
            "1부터 9까지의 숫자로 세자리 수를 만들어 주세요: ㄷ\n",
            "정수 값을 입력해주세요\n",
            "1부터 9까지의 숫자로 세자리 수를 만들어 주세요: Q\n",
            "게임 종료!\n"
          ]
        }
      ],
      "source": [
        "# 문제 8 코드를 업그레이드 하라.\n",
        "\n",
        "from random import randint\n",
        "\n",
        "print(\"숫자 야구 게임에 환영합니다.\")\n",
        "\n",
        "answer = []\n",
        "\n",
        "for i in range(3):        # 정답 세 자리수 무작위 지정\n",
        "  num = randint(1, 9)\n",
        "  while num in answer:\n",
        "    num = randint(1, 9)\n",
        "  answer.append(num)\n",
        "\n",
        "answer = int(''.join(map(str, answer)))   # 리스트 합치기\n",
        "\n",
        "guess = -1\n",
        "\n",
        "while guess != answer:\n",
        "  ball = 0        # 볼\n",
        "  strike = 0      # 스트라이크\n",
        "\n",
        "  try:\n",
        "    guess = input(\"1부터 9까지의 숫자로 세자리 수를 만들어 주세요: \")\n",
        "    \n",
        "    if str(guess) == 'q' or str(guess) == 'Q':      # q나 Q를 입력하면 게임 종료\n",
        "      break\n",
        "\n",
        "    if guess[0] == guess[1] or guess[1] == guess[2] or guess[0] == guess[2]:\n",
        "      print(\"서로 다른 세 개의 숫자로 입력해주세요.\")\n",
        "      continue\n",
        "\n",
        "  except IndexError:                                # 정수 값이 아닐 경우\n",
        "    print(\"정수 값을 입력해주세요\")\n",
        "    continue\n",
        "\n",
        "  for i in range(3):              \n",
        "    for j in range(3):\n",
        "      if guess[i] == str(answer)[j]:\n",
        "        if i == j:\n",
        "          strike += 1\n",
        "        else:\n",
        "          ball += 1\n",
        "  \n",
        "  if strike == 0 and ball == 0:\n",
        "    print(\"아웃\")\n",
        "  elif strike != 0 and ball == 0:\n",
        "    print(f\"{strike}스트라이크\")\n",
        "  elif strike == 0 and ball != 0:\n",
        "    print(f\"{ball}볼\")\n",
        "  else:\n",
        "    print(f\"{ball}볼 {strike}스트라이크\")\n",
        "print(\"게임 종료!\")"
      ]
    }
  ],
  "metadata": {
    "kernelspec": {
      "display_name": "Python 3 (ipykernel)",
      "language": "python",
      "name": "python3"
    },
    "language_info": {
      "codemirror_mode": {
        "name": "ipython",
        "version": 3
      },
      "file_extension": ".py",
      "mimetype": "text/x-python",
      "name": "python",
      "nbconvert_exporter": "python",
      "pygments_lexer": "ipython3",
      "version": "3.9.7"
    },
    "colab": {
      "provenance": [],
      "include_colab_link": true
    }
  },
  "nbformat": 4,
  "nbformat_minor": 5
}
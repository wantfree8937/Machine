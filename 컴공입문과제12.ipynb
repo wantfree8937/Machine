{
  "cells": [
    {
      "cell_type": "markdown",
      "metadata": {
        "id": "view-in-github",
        "colab_type": "text"
      },
      "source": [
        "<a href=\"https://colab.research.google.com/github/wantfree8937/Machine/blob/main/%EC%BB%B4%EA%B3%B5%EC%9E%85%EB%AC%B8%EA%B3%BC%EC%A0%9C12.ipynb\" target=\"_parent\"><img src=\"https://colab.research.google.com/assets/colab-badge.svg\" alt=\"Open In Colab\"/></a>"
      ]
    },
    {
      "cell_type": "markdown",
      "metadata": {
        "id": "TAkfhEQkoyuD"
      },
      "source": [
        "# (실습) 모듈"
      ]
    },
    {
      "cell_type": "markdown",
      "metadata": {
        "id": "U1C7zIy5oyuI"
      },
      "source": [
        "참고: [(실습) 파일](http://localhost:8888/notebooks/pybook/practices/practice-files.ipynb)에 있는 연습문제를 먼저 해결해야 한다."
      ]
    },
    {
      "cell_type": "markdown",
      "metadata": {
        "id": "4cjqPp6uoyuJ"
      },
      "source": [
        "**기본 설정**"
      ]
    },
    {
      "cell_type": "markdown",
      "metadata": {
        "id": "YizQLqMsoyuJ"
      },
      "source": [
        "필요한 모듈 불러오기"
      ]
    },
    {
      "cell_type": "code",
      "execution_count": 232,
      "metadata": {
        "id": "Fdt9nU-toyuK"
      },
      "outputs": [],
      "source": [
        "from pathlib import Path\n",
        "from urllib.request import urlretrieve"
      ]
    },
    {
      "cell_type": "markdown",
      "metadata": {
        "id": "2VQ-mBR5oyuL"
      },
      "source": [
        "데이터 텍스트 파일 서버 주소"
      ]
    },
    {
      "cell_type": "code",
      "execution_count": 233,
      "metadata": {
        "id": "RA8WsF8qoyuM"
      },
      "outputs": [],
      "source": [
        "base_url = \"https://raw.githubusercontent.com/codingalzi/pybook/master/jupyter-book/data/\""
      ]
    },
    {
      "cell_type": "markdown",
      "metadata": {
        "id": "OtH10IjAoyuM"
      },
      "source": [
        "다운로드 경로: 현재 작업 디렉토리의 `data` 하위 디렉토리"
      ]
    },
    {
      "cell_type": "code",
      "execution_count": 234,
      "metadata": {
        "id": "5CpE5JmboyuN"
      },
      "outputs": [],
      "source": [
        "# 데이터 저장위치 지정과 생성\n",
        "data_path = Path() / \"data\"\n",
        "data_path.mkdir(parents=True, exist_ok=True)"
      ]
    },
    {
      "cell_type": "code",
      "execution_count": 235,
      "metadata": {
        "id": "7pejsvRfoyuO"
      },
      "outputs": [],
      "source": [
        "# 코드 파일 저장위치 지정과 생성\n",
        "code_path = Path() / \"codes\"\n",
        "code_path.mkdir(parents=True, exist_ok=True)"
      ]
    },
    {
      "cell_type": "markdown",
      "metadata": {
        "id": "UR8eropboyuP"
      },
      "source": [
        "파일 서버에서 지정된 파일을 동일한 파일명으로 지정된 디렉토리에 저장하는 함수"
      ]
    },
    {
      "cell_type": "code",
      "execution_count": 236,
      "metadata": {
        "id": "AQga0r_ToyuP"
      },
      "outputs": [],
      "source": [
        "def myWget(path, filename):\n",
        "    # 다운로드 대상 파일 경로\n",
        "    file_url = base_url + filename\n",
        "\n",
        "    # 저장 경로와 파일명\n",
        "    target_path = path / filename\n",
        "\n",
        "    return urlretrieve(file_url, target_path)"
      ]
    },
    {
      "cell_type": "markdown",
      "metadata": {
        "id": "gSF_tBKvfg9V"
      },
      "source": [
        "`shopA.txt`, `shopB.txt` 두 파일은 각각 쇼핑몰A와 쇼핑몰B에서 판매하는 상품의 가격을 담고 있다.\n",
        "먼저 해당 파일을 다운로드 한다.\n",
        "다운로드 경로는 현재 작업 디렉토리의 `data` 하위 디렉토리이다. "
      ]
    },
    {
      "cell_type": "code",
      "execution_count": 237,
      "metadata": {
        "id": "uthixKdgoyuQ",
        "outputId": "75efb7c4-f4aa-43f9-e514-7b0c199ded2c",
        "colab": {
          "base_uri": "https://localhost:8080/"
        }
      },
      "outputs": [
        {
          "output_type": "execute_result",
          "data": {
            "text/plain": [
              "(PosixPath('data/shopA.txt'), <http.client.HTTPMessage at 0x7f399cba37f0>)"
            ]
          },
          "metadata": {},
          "execution_count": 237
        }
      ],
      "source": [
        "myWget(data_path, \"shopA.txt\")"
      ]
    },
    {
      "cell_type": "code",
      "execution_count": 238,
      "metadata": {
        "id": "Osc_nELloyuR",
        "outputId": "b4e60a87-be21-451e-cb0d-70e8439036bb",
        "colab": {
          "base_uri": "https://localhost:8080/"
        }
      },
      "outputs": [
        {
          "output_type": "execute_result",
          "data": {
            "text/plain": [
              "(PosixPath('data/shopB.txt'), <http.client.HTTPMessage at 0x7f399cba2b30>)"
            ]
          },
          "metadata": {},
          "execution_count": 238
        }
      ],
      "source": [
        "myWget(data_path, \"shopB.txt\")"
      ]
    },
    {
      "cell_type": "markdown",
      "metadata": {
        "id": "5aBAtYD3oyuR"
      },
      "source": [
        "**문제 1**"
      ]
    },
    {
      "cell_type": "markdown",
      "metadata": {
        "id": "XWrBIAXmoyuS"
      },
      "source": [
        "[(실습) 파일](http://localhost:8888/notebooks/pybook/practices/practice-files.ipynb)에서 \n",
        "구현한 `shopping()`, `item_price()` 두 함수를 포함한 \n",
        "`price.py` 모듈을 `code_path` 경로의 디렉토리에 생성하여 저장하라.\n",
        "\n",
        "주의사항: 구글 코랩에서 파이썬 코드 파일을 직접 작성하기는 간단하지 않다.\n",
        "대신에 자신의 구글 드라이브, 깃허브에 먼저 `price.py` 파일을 저장해 놓은 상태에서\n",
        "`myWget()` 함수를 이용하도록 한다.\n",
        "이때 `base_url` 값을 다르게 지정하거나 `myWget()` 함수가 다른 서버 주소를 이용하도록 수정해야 한다."
      ]
    },
    {
      "cell_type": "code",
      "execution_count": 239,
      "metadata": {
        "id": "J4rS7m0boyuS",
        "colab": {
          "base_uri": "https://localhost:8080/"
        },
        "outputId": "23810d23-896f-440d-a973-6c991e967172"
      },
      "outputs": [
        {
          "output_type": "execute_result",
          "data": {
            "text/plain": [
              "(PosixPath('codes/price.py'), <http.client.HTTPMessage at 0x7f399cba2860>)"
            ]
          },
          "metadata": {},
          "execution_count": 239
        }
      ],
      "source": [
        "# 코드를 작성하라.\n",
        "base_url = \"https://raw.githubusercontent.com/wantfree8937/wantfree8937/main/\"\n",
        "\n",
        "myWget(code_path, \"price.py\")"
      ]
    },
    {
      "cell_type": "code",
      "source": [
        "with open(code_path / \"price.py\") as f:\n",
        "    print(f.read())"
      ],
      "metadata": {
        "colab": {
          "base_uri": "https://localhost:8080/"
        },
        "id": "m_2MX3l_qm4t",
        "outputId": "bb9861ba-3787-4312-dc9d-8de3cad9f11c"
      },
      "execution_count": 240,
      "outputs": [
        {
          "output_type": "stream",
          "name": "stdout",
          "text": [
            "def shopping(shop_file):\n",
            "    shop_dict = {} # 생성할 사전 객체\n",
            "\n",
            "    with open(\"data/\"+ shop_file) as f:\n",
            "      for line in f:\n",
            "        if line != \"\\n\":\n",
            "          name, price = line.strip().split()\n",
            "          if name != \"#쇼핑몰\":\n",
            "            shop_dict[name] = price\n",
            "\n",
            "    return shop_dict\n",
            "\n",
            "def item_price(shop_file, item):\n",
            "    return shopping(shop_file)[item]\n",
            "\n"
          ]
        }
      ]
    },
    {
      "cell_type": "markdown",
      "metadata": {
        "id": "S6D-n6NCoyuS"
      },
      "source": [
        "**문제 2**"
      ]
    },
    {
      "cell_type": "markdown",
      "metadata": {
        "id": "Lryq9NfroyuT"
      },
      "source": [
        "[(실습) 파일](http://localhost:8888/notebooks/pybook/practices/practice-files.ipynb)에서 \n",
        "구현한 `price_comparison()`를 새로 구현하라. \n",
        "단, 앞서 저장한 `price.py` 모듈을 활용한다."
      ]
    },
    {
      "cell_type": "code",
      "source": [
        "code_path.absolute()"
      ],
      "metadata": {
        "colab": {
          "base_uri": "https://localhost:8080/"
        },
        "id": "J-0g1ySwtcQe",
        "outputId": "7c81aa7e-cbfc-48a3-f54d-dedeb9fb8d9b"
      },
      "execution_count": 241,
      "outputs": [
        {
          "output_type": "execute_result",
          "data": {
            "text/plain": [
              "PosixPath('/content/codes')"
            ]
          },
          "metadata": {},
          "execution_count": 241
        }
      ]
    },
    {
      "cell_type": "code",
      "source": [
        "import sys\n",
        "\n",
        "sys.path.append(str(code_path.absolute()))"
      ],
      "metadata": {
        "id": "MSomrzuttdZ2"
      },
      "execution_count": 242,
      "outputs": []
    },
    {
      "cell_type": "code",
      "execution_count": 252,
      "metadata": {
        "id": "XTxmdCLooyuT"
      },
      "outputs": [],
      "source": [
        "# 아래 주석을 제거한 다음에 코드를 완성하라.\n",
        "import codes.price\n",
        "\n",
        "def price_comparison(item):\n",
        "    itemA = codes.price.item_price(\"shopA.txt\",item)\n",
        "    itemB = codes.price.item_price(\"shopB.txt\",item)\n",
        "    itemA_int = int(itemA.replace(\"원\",\"\"))\n",
        "    itemB_int = int(itemB.replace(\"원\",\"\"))\n",
        "    if itemA_int < itemB_int:\n",
        "      return \"쇼핑몰A가 더 저렴함. 가격: \" + itemA\n",
        "    else:\n",
        "      return \"쇼핑몰B가 더 저렴함. 가격: \" + itemB"
      ]
    },
    {
      "cell_type": "code",
      "execution_count": 255,
      "metadata": {
        "id": "vpB-4qwHoyuT",
        "colab": {
          "base_uri": "https://localhost:8080/"
        },
        "outputId": "598eaef5-ce56-458b-d4d5-6068b27df100"
      },
      "outputs": [
        {
          "output_type": "stream",
          "name": "stdout",
          "text": [
            "쇼핑몰A가 더 저렴함. 가격: 7980원\n"
          ]
        }
      ],
      "source": [
        "print(price_comparison('김치'))"
      ]
    }
  ],
  "metadata": {
    "colab": {
      "provenance": [],
      "include_colab_link": true
    },
    "kernelspec": {
      "display_name": "Python 3 (ipykernel)",
      "language": "python",
      "name": "python3"
    },
    "language_info": {
      "codemirror_mode": {
        "name": "ipython",
        "version": 3
      },
      "file_extension": ".py",
      "mimetype": "text/x-python",
      "name": "python",
      "nbconvert_exporter": "python",
      "pygments_lexer": "ipython3",
      "version": "3.9.7"
    }
  },
  "nbformat": 4,
  "nbformat_minor": 0
}
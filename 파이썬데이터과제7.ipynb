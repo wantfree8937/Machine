{
  "cells": [
    {
      "cell_type": "markdown",
      "metadata": {
        "id": "view-in-github",
        "colab_type": "text"
      },
      "source": [
        "<a href=\"https://colab.research.google.com/github/wantfree8937/Machine/blob/main/%ED%8C%8C%EC%9D%B4%EC%8D%AC%EB%8D%B0%EC%9D%B4%ED%84%B0%EA%B3%BC%EC%A0%9C7.ipynb\" target=\"_parent\"><img src=\"https://colab.research.google.com/assets/colab-badge.svg\" alt=\"Open In Colab\"/></a>"
      ]
    },
    {
      "cell_type": "markdown",
      "id": "97ecff92",
      "metadata": {
        "id": "97ecff92"
      },
      "source": [
        "# (실습) 실전 예제: 어레이 활용"
      ]
    },
    {
      "cell_type": "code",
      "execution_count": 1,
      "id": "83c36ad1",
      "metadata": {
        "id": "83c36ad1"
      },
      "outputs": [],
      "source": [
        "import numpy as np"
      ]
    },
    {
      "cell_type": "markdown",
      "id": "4523eae0",
      "metadata": {
        "id": "4523eae0"
      },
      "source": [
        "아래 코드는 인터넷 데이터 저장소로부터 아이리스(붓꽃) 데이터(`iris.data`)를 \n",
        "2차원 넘파이 어레이로 불러온다."
      ]
    },
    {
      "cell_type": "markdown",
      "id": "0b973d49",
      "metadata": {
        "id": "0b973d49"
      },
      "source": [
        "- `np.genfromtxt()` 함수의 `dtype='str'` 키워드 옵션: 부동소수점과 문자열이 함께 포함된 데이터이기에 모두 문자열로 통일해서 불러오는 용도"
      ]
    },
    {
      "cell_type": "code",
      "execution_count": 2,
      "id": "f44d0a1e",
      "metadata": {
        "id": "f44d0a1e"
      },
      "outputs": [],
      "source": [
        "import numpy as np\n",
        "\n",
        "# 아이리스(붓꽃) 데이터 불러오기\n",
        "url = 'https://archive.ics.uci.edu/ml/machine-learning-databases/iris/iris.data'\n",
        "iris = np.genfromtxt(url, delimiter=',', dtype='str')"
      ]
    },
    {
      "cell_type": "markdown",
      "id": "4d45917c",
      "metadata": {
        "id": "4d45917c"
      },
      "source": [
        "`iris.data` 파일에는 아래 형식의 데이터가 150개 들어 있다. \n",
        "\n",
        "```python\n",
        "5.1,3.5,1.4,0.2,Iris-setosa\n",
        "```\n",
        "\n",
        "하나의 데이터에 사용된 값들은 하나의 아이리스(붓꽃)에 대한 꽃잎, 꽃받침과 관련된 특성(features)과 품종을 나타내며,\n",
        "보다 구체적으로 아래 순서를 따른다.\n",
        "\n",
        "```\n",
        "꽃받침 길이, 꽃받침 너비, 꽃잎 길이, 꽃잎 너비, 품종\n",
        "```"
      ]
    },
    {
      "cell_type": "code",
      "execution_count": 3,
      "id": "8bb7c2f9",
      "metadata": {
        "id": "8bb7c2f9",
        "colab": {
          "base_uri": "https://localhost:8080/"
        },
        "outputId": "759930b9-64f3-4208-b937-a229d3a0e59a"
      },
      "outputs": [
        {
          "output_type": "execute_result",
          "data": {
            "text/plain": [
              "(150, 5)"
            ]
          },
          "metadata": {},
          "execution_count": 3
        }
      ],
      "source": [
        "iris.shape"
      ]
    },
    {
      "cell_type": "markdown",
      "id": "c0484899",
      "metadata": {
        "id": "c0484899"
      },
      "source": [
        "길이와 너비를 저장하는 특성들은 원래 숫자이지만 위 코드는 문자열로 불러왔다.\n",
        "처음 5개 데이터를 확인하면 다음과 같다.\n",
        "\n",
        "__참고:__ `'<U15'`는 길이가 최대 15인 유니코드 문자열 자료형을 나타낸다."
      ]
    },
    {
      "cell_type": "code",
      "execution_count": 4,
      "id": "3f1f98ba",
      "metadata": {
        "id": "3f1f98ba",
        "colab": {
          "base_uri": "https://localhost:8080/"
        },
        "outputId": "93bc7de1-aee1-4b08-d7c6-e789d7c8dfa2"
      },
      "outputs": [
        {
          "output_type": "execute_result",
          "data": {
            "text/plain": [
              "array([['5.1', '3.5', '1.4', '0.2', 'Iris-setosa'],\n",
              "       ['4.9', '3.0', '1.4', '0.2', 'Iris-setosa'],\n",
              "       ['4.7', '3.2', '1.3', '0.2', 'Iris-setosa'],\n",
              "       ['4.6', '3.1', '1.5', '0.2', 'Iris-setosa'],\n",
              "       ['5.0', '3.6', '1.4', '0.2', 'Iris-setosa']], dtype='<U15')"
            ]
          },
          "metadata": {},
          "execution_count": 4
        }
      ],
      "source": [
        "iris[:5]"
      ]
    },
    {
      "cell_type": "markdown",
      "id": "5bda5d05",
      "metadata": {
        "id": "5bda5d05"
      },
      "source": [
        "수치형 데이터와 품종 데이터를 분리해서 각각 (150,4), (150,) 모양의 어레이를 생성하자.\n",
        "이때 수치형 데이터는 `'f8'`, 즉 `'float64'` 자료형을 사용하도록 한다."
      ]
    },
    {
      "cell_type": "code",
      "execution_count": 5,
      "id": "f0a6a0a4",
      "metadata": {
        "id": "f0a6a0a4"
      },
      "outputs": [],
      "source": [
        "iris_features = iris[:,:4].astype('f8')\n",
        "iris_labels = iris[:, 4]"
      ]
    },
    {
      "cell_type": "code",
      "execution_count": 6,
      "id": "ef1b835d",
      "metadata": {
        "id": "ef1b835d",
        "colab": {
          "base_uri": "https://localhost:8080/"
        },
        "outputId": "ba4bfb9a-f843-4042-b346-1c08184c5484"
      },
      "outputs": [
        {
          "output_type": "execute_result",
          "data": {
            "text/plain": [
              "array([[5.1, 3.5, 1.4, 0.2],\n",
              "       [4.9, 3. , 1.4, 0.2],\n",
              "       [4.7, 3.2, 1.3, 0.2],\n",
              "       [4.6, 3.1, 1.5, 0.2],\n",
              "       [5. , 3.6, 1.4, 0.2]])"
            ]
          },
          "metadata": {},
          "execution_count": 6
        }
      ],
      "source": [
        "iris_features[:5]"
      ]
    },
    {
      "cell_type": "markdown",
      "id": "51420ffa",
      "metadata": {
        "id": "51420ffa"
      },
      "source": [
        "150개의 데이터는 아래 세 개의 품종으로 구분되며, 각각 50개씩 아래 언급된 순서대로 구분되어 있다.\n",
        "\n",
        "```\n",
        "'Iris-setosa', 'Iris-versicolor', 'Iris-virginica'\n",
        "```\n",
        "\n",
        "즉, 0번, 50번, 100번부터 각 품종의 데이터가 시작된다."
      ]
    },
    {
      "cell_type": "code",
      "execution_count": 7,
      "id": "ec1e3d75",
      "metadata": {
        "id": "ec1e3d75",
        "colab": {
          "base_uri": "https://localhost:8080/"
        },
        "outputId": "50c6a285-cb0e-494c-8db0-7f21a13ca413"
      },
      "outputs": [
        {
          "output_type": "execute_result",
          "data": {
            "text/plain": [
              "array(['Iris-setosa', 'Iris-versicolor', 'Iris-virginica'], dtype='<U15')"
            ]
          },
          "metadata": {},
          "execution_count": 7
        }
      ],
      "source": [
        "iris_labels[::50]"
      ]
    },
    {
      "cell_type": "code",
      "execution_count": 8,
      "id": "2bc9ae96",
      "metadata": {
        "id": "2bc9ae96",
        "colab": {
          "base_uri": "https://localhost:8080/"
        },
        "outputId": "97dbf0b5-e876-4705-f77f-94519e26ca81"
      },
      "outputs": [
        {
          "output_type": "execute_result",
          "data": {
            "text/plain": [
              "array(['Iris-setosa', 'Iris-setosa', 'Iris-setosa', 'Iris-setosa',\n",
              "       'Iris-setosa'], dtype='<U15')"
            ]
          },
          "metadata": {},
          "execution_count": 8
        }
      ],
      "source": [
        "iris_labels[:5]"
      ]
    },
    {
      "cell_type": "code",
      "execution_count": 9,
      "id": "35fa2b46",
      "metadata": {
        "id": "35fa2b46",
        "colab": {
          "base_uri": "https://localhost:8080/"
        },
        "outputId": "f98c0576-1470-41a6-d24c-0b2d8ef006ef"
      },
      "outputs": [
        {
          "output_type": "execute_result",
          "data": {
            "text/plain": [
              "array(['Iris-versicolor', 'Iris-versicolor', 'Iris-versicolor',\n",
              "       'Iris-versicolor', 'Iris-versicolor'], dtype='<U15')"
            ]
          },
          "metadata": {},
          "execution_count": 9
        }
      ],
      "source": [
        "iris_labels[50:55]"
      ]
    },
    {
      "cell_type": "code",
      "execution_count": 10,
      "id": "fd477f1b",
      "metadata": {
        "id": "fd477f1b",
        "colab": {
          "base_uri": "https://localhost:8080/"
        },
        "outputId": "0b066647-60df-4efa-ed6b-3f05539b5aea"
      },
      "outputs": [
        {
          "output_type": "execute_result",
          "data": {
            "text/plain": [
              "array(['Iris-virginica', 'Iris-virginica', 'Iris-virginica',\n",
              "       'Iris-virginica', 'Iris-virginica'], dtype='<U15')"
            ]
          },
          "metadata": {},
          "execution_count": 10
        }
      ],
      "source": [
        "iris_labels[100:105]"
      ]
    },
    {
      "cell_type": "markdown",
      "id": "707f09a7",
      "metadata": {
        "id": "707f09a7"
      },
      "source": [
        "**문제 1**"
      ]
    },
    {
      "cell_type": "markdown",
      "id": "bcca0683",
      "metadata": {
        "id": "bcca0683"
      },
      "source": [
        "꽃잎 길이(2번 열)가 1.5보다 크거나 꽃받침 길이(0번 열)가 5.0보다 작은 데이터만 추출하라."
      ]
    },
    {
      "cell_type": "code",
      "execution_count": 11,
      "id": "9a6320ee",
      "metadata": {
        "id": "9a6320ee",
        "colab": {
          "base_uri": "https://localhost:8080/"
        },
        "outputId": "c8561b67-d021-4c9e-c472-1c9fed1b9aff"
      },
      "outputs": [
        {
          "output_type": "execute_result",
          "data": {
            "text/plain": [
              "array([[4.8, 3.4, 1.6, 0.2],\n",
              "       [4.8, 3.4, 1.9, 0.2],\n",
              "       [4.7, 3.2, 1.6, 0.2],\n",
              "       [4.8, 3.1, 1.6, 0.2],\n",
              "       [4.9, 2.4, 3.3, 1. ],\n",
              "       [4.9, 2.5, 4.5, 1.7]])"
            ]
          },
          "metadata": {},
          "execution_count": 11
        }
      ],
      "source": [
        "# None을 적절한 부울 표현식으로 대체하라.\n",
        "\n",
        "mask = (iris_features[:, 2] > 1.5) & (iris_features[:, 0] < 5.0)\n",
        "iris_features[mask]"
      ]
    },
    {
      "cell_type": "markdown",
      "id": "bc8df63e",
      "metadata": {
        "id": "bc8df63e"
      },
      "source": [
        "**문제 2**"
      ]
    },
    {
      "cell_type": "markdown",
      "id": "41628dd8",
      "metadata": {
        "id": "41628dd8"
      },
      "source": [
        "꽃받침 길이(0번 열)와 꽃잎 길이(2번 열) 사이의 상관관계를 계산하라.\n",
        "\n",
        "힌트: 넘파이의 적절한 함수를 활용한다. 상관계수에 대한 설명은 [위키백과: 상관분석](https://ko.wikipedia.org/wiki/상관_분석)을 참고한다."
      ]
    },
    {
      "cell_type": "code",
      "execution_count": 12,
      "id": "90beda34",
      "metadata": {
        "id": "90beda34",
        "colab": {
          "base_uri": "https://localhost:8080/"
        },
        "outputId": "8e9f8e5e-dd9d-4274-e358-a2d26908712e"
      },
      "outputs": [
        {
          "output_type": "execute_result",
          "data": {
            "text/plain": [
              "array([[1.        , 0.87175416],\n",
              "       [0.87175416, 1.        ]])"
            ]
          },
          "metadata": {},
          "execution_count": 12
        }
      ],
      "source": [
        "# 적절한 넘파이 함수를 호출하라.\n",
        "\n",
        "np.corrcoef(iris_features[:,0], iris_features[:,2])"
      ]
    },
    {
      "cell_type": "markdown",
      "id": "b97ffc00",
      "metadata": {
        "id": "b97ffc00"
      },
      "source": [
        "**문제 3**"
      ]
    },
    {
      "cell_type": "markdown",
      "id": "b6699dd6",
      "metadata": {
        "id": "b6699dd6"
      },
      "source": [
        "아래 식으로 계산된 값을 갖는 새로운 열(column)이 추가된 2차원 어레이  `iris_features_added`를 생성하라.\n",
        "\n",
        "$$\\frac{\\text{원주율} \\times \\text{꽃잎길이} \\times \\text{꽃받침길이}^2}{3} $$\n",
        "\n",
        "힌트: `np.stack()` 함수를 활용할 수 있다."
      ]
    },
    {
      "cell_type": "code",
      "execution_count": 13,
      "id": "48627edc",
      "metadata": {
        "id": "48627edc"
      },
      "outputs": [],
      "source": [
        "# pass와 None을 각각 적절한 코드와 표현식으로 대체하라.\n",
        "import math\n",
        "\n",
        "added = (math.pi * iris_features[:, 2] * iris_features[:, 0] ** 2) / 3\n",
        "\n",
        "iris_features_added = np.hstack((iris_features, added[:, np.newaxis]))"
      ]
    },
    {
      "cell_type": "code",
      "execution_count": 14,
      "id": "57fbd892",
      "metadata": {
        "id": "57fbd892",
        "colab": {
          "base_uri": "https://localhost:8080/"
        },
        "outputId": "dab1ea92-828d-40f2-dde7-ca3d9a9385ca"
      },
      "outputs": [
        {
          "output_type": "execute_result",
          "data": {
            "text/plain": [
              "array([[ 5.1       ,  3.5       ,  1.4       ,  0.2       , 38.13265163],\n",
              "       [ 4.9       ,  3.        ,  1.4       ,  0.2       , 35.20049849],\n",
              "       [ 4.7       ,  3.2       ,  1.3       ,  0.2       , 30.07237208],\n",
              "       [ 4.6       ,  3.1       ,  1.5       ,  0.2       , 33.23805027],\n",
              "       [ 5.        ,  3.6       ,  1.4       ,  0.2       , 36.65191429]])"
            ]
          },
          "metadata": {},
          "execution_count": 14
        }
      ],
      "source": [
        "# 아래 주석을 해제하고 실행하라.\n",
        "\n",
        "assert iris_features_added.shape == (150, 5)\n",
        "iris_features_added[:5]"
      ]
    },
    {
      "cell_type": "markdown",
      "id": "4d4b4f93",
      "metadata": {
        "id": "4d4b4f93"
      },
      "source": [
        "**문제 4**"
      ]
    },
    {
      "cell_type": "markdown",
      "id": "ffedb587",
      "metadata": {
        "id": "ffedb587"
      },
      "source": [
        "`Iris_versicolor` 품종에 해당하는 데이터만 `iris_features`로부터 추출하라. "
      ]
    },
    {
      "cell_type": "code",
      "execution_count": 15,
      "id": "523d1d75",
      "metadata": {
        "id": "523d1d75",
        "colab": {
          "base_uri": "https://localhost:8080/"
        },
        "outputId": "99c62198-f50c-40e0-9530-cfe80cc7ab56"
      },
      "outputs": [
        {
          "output_type": "execute_result",
          "data": {
            "text/plain": [
              "array([[7. , 3.2, 4.7, 1.4],\n",
              "       [6.4, 3.2, 4.5, 1.5],\n",
              "       [6.9, 3.1, 4.9, 1.5],\n",
              "       [5.5, 2.3, 4. , 1.3],\n",
              "       [6.5, 2.8, 4.6, 1.5]])"
            ]
          },
          "metadata": {},
          "execution_count": 15
        }
      ],
      "source": [
        "# None을 적절한 부울 표현식으로 대체하라.\n",
        "\n",
        "mask = (iris_labels == 'Iris-versicolor')\n",
        "iris_features[mask][:5]"
      ]
    },
    {
      "cell_type": "markdown",
      "id": "dc332748",
      "metadata": {
        "id": "dc332748"
      },
      "source": [
        "**문제 5**"
      ]
    },
    {
      "cell_type": "markdown",
      "id": "17a8b3f7",
      "metadata": {
        "id": "17a8b3f7"
      },
      "source": [
        "꽃받침 길이(0번 열)의 평균값(mean), 중앙값(median), 표준편차(standard deviation)를 구하라."
      ]
    },
    {
      "cell_type": "code",
      "execution_count": 185,
      "id": "4d122a6e",
      "metadata": {
        "id": "4d122a6e",
        "colab": {
          "base_uri": "https://localhost:8080/"
        },
        "outputId": "f8789950-e0ff-4e3e-e471-5b22bd25484a"
      },
      "outputs": [
        {
          "output_type": "stream",
          "name": "stdout",
          "text": [
            "5.843333333333334 5.8 0.8253012917851409\n"
          ]
        }
      ],
      "source": [
        "# None을 적절한 표현식으로 대체하라.\n",
        "\n",
        "petal_sepal_mean = np.mean(iris_features[:,0])\n",
        "petal_sepal_median = np.median(iris_features[:,0])\n",
        "petal_sepal_std = np.std(iris_features[:,0])\n",
        "\n",
        "print(petal_sepal_mean, petal_sepal_median, petal_sepal_std)"
      ]
    },
    {
      "cell_type": "markdown",
      "id": "a2c3c9e4",
      "metadata": {
        "id": "a2c3c9e4"
      },
      "source": [
        "**문제 6**"
      ]
    },
    {
      "cell_type": "markdown",
      "id": "11d0a4d8",
      "metadata": {
        "id": "11d0a4d8"
      },
      "source": [
        "세 개의 품종 별 꽃받침 너비(1번 열)의 평균값을 계산하여 아래 어레이와 동일한 모양을 갖는 \n",
        "어레이 `iris_kind_sepal_length`를 생성하라.\n",
        "\n",
        "```\n",
        "[['Iris-setosa', 3.418],\n",
        " ['Iris-versicolor', 2.770],\n",
        " ['Iris-virginica', 2.974]]\n",
        "```"
      ]
    },
    {
      "cell_type": "code",
      "execution_count": 17,
      "id": "4845447a",
      "metadata": {
        "id": "4845447a",
        "colab": {
          "base_uri": "https://localhost:8080/"
        },
        "outputId": "02c8b464-c0e5-4197-cdf6-f834efafda95"
      },
      "outputs": [
        {
          "output_type": "execute_result",
          "data": {
            "text/plain": [
              "[['Iris-setosa', 3.418],\n",
              " ['Iris-versicolor', 2.7700000000000005],\n",
              " ['Iris-virginica', 2.974]]"
            ]
          },
          "metadata": {},
          "execution_count": 17
        }
      ],
      "source": [
        "# pass와 None을 각각 적절한 코드와 표현식으로 대체하라.\n",
        "\n",
        "def iris_mean(name):\n",
        "  return np.mean(iris_features[iris_labels == name][:,1])\n",
        "\n",
        "iris_array = []\n",
        "\n",
        "for item in ['Iris-setosa', 'Iris-versicolor', 'Iris-virginica']:\n",
        "  iris_array.append([item, iris_mean(item)])\n",
        "\n",
        "iris_kind_sepal_length = iris_array\n",
        "\n",
        "iris_kind_sepal_length"
      ]
    },
    {
      "cell_type": "markdown",
      "id": "e3715123",
      "metadata": {
        "id": "e3715123"
      },
      "source": [
        "**문제 7**"
      ]
    },
    {
      "cell_type": "markdown",
      "id": "3c42692f",
      "metadata": {
        "id": "3c42692f"
      },
      "source": [
        "꽃잎 너비(3번 열)에 사용된 값을 모두 0과 1사이의 값으로 변환하라. \n",
        "\n",
        "힌트: 꽃잎 너비 등 하나의 특성에 속하는 값을 모두 0과 1사이의 값으로 변환하는 작업을 정규화(normalization)라 한다.\n",
        "정규화에 대한 설명은 [정규화/표준화](https://rucrazia.tistory.com/90)를 참고하라."
      ]
    },
    {
      "cell_type": "code",
      "execution_count": 18,
      "id": "aefce832",
      "metadata": {
        "id": "aefce832"
      },
      "outputs": [],
      "source": [
        "# None을 적절한 부울 표현식으로 대체하라.\n",
        "\n",
        "iris_features_normalized = (iris_features[:,3] - min(iris_features[:,3])) / (max(iris_features[:,3]) - min(iris_features[:,3]))"
      ]
    },
    {
      "cell_type": "code",
      "execution_count": 19,
      "id": "c6c01fbf",
      "metadata": {
        "id": "c6c01fbf",
        "colab": {
          "base_uri": "https://localhost:8080/"
        },
        "outputId": "42ae3e0a-1c5f-4d09-897d-dac1c2fd2596"
      },
      "outputs": [
        {
          "output_type": "execute_result",
          "data": {
            "text/plain": [
              "array([0.04166667, 0.04166667, 0.04166667, 0.04166667, 0.04166667])"
            ]
          },
          "metadata": {},
          "execution_count": 19
        }
      ],
      "source": [
        "# 아래 주석을 해제하고 실행하라.\n",
        "\n",
        "iris_features_normalized[:5]"
      ]
    },
    {
      "cell_type": "markdown",
      "id": "d3c1a73a",
      "metadata": {
        "id": "d3c1a73a"
      },
      "source": [
        "**문제 8**"
      ]
    },
    {
      "cell_type": "markdown",
      "id": "18411e15",
      "metadata": {
        "id": "18411e15"
      },
      "source": [
        "`iris_features`에 사용된 모든 값을 특성 별로 표준화(standardization)하라. \n",
        "\n",
        "힌트: 표준화에 대한 설명은 [정규화/표준화](https://rucrazia.tistory.com/90)를 참고하라."
      ]
    },
    {
      "cell_type": "code",
      "execution_count": 20,
      "id": "2f960ff4",
      "metadata": {
        "id": "2f960ff4"
      },
      "outputs": [],
      "source": [
        "# None을 적절한 부울 표현식으로 대체하라.\n",
        "\n",
        "iris_features_standardized = (iris_features - np.mean(iris_features, axis=0)) / np.std(iris_features, axis=0)"
      ]
    },
    {
      "cell_type": "code",
      "execution_count": 29,
      "id": "c29ef50d",
      "metadata": {
        "id": "c29ef50d",
        "colab": {
          "base_uri": "https://localhost:8080/"
        },
        "outputId": "833bf082-e547-4c9e-8273-3f5effa4e82c"
      },
      "outputs": [
        {
          "output_type": "execute_result",
          "data": {
            "text/plain": [
              "array([[-0.90068117,  1.03205722, -1.3412724 , -1.31297673],\n",
              "       [-1.14301691, -0.1249576 , -1.3412724 , -1.31297673],\n",
              "       [-1.38535265,  0.33784833, -1.39813811, -1.31297673],\n",
              "       [-1.50652052,  0.10644536, -1.2844067 , -1.31297673],\n",
              "       [-1.02184904,  1.26346019, -1.3412724 , -1.31297673]])"
            ]
          },
          "metadata": {},
          "execution_count": 29
        }
      ],
      "source": [
        "# 아래 주석을 해제하고 실행하라.\n",
        "\n",
        "iris_features_standardized[:5]"
      ]
    },
    {
      "cell_type": "markdown",
      "id": "e96b4435",
      "metadata": {
        "id": "e96b4435"
      },
      "source": [
        "**문제 9**"
      ]
    },
    {
      "cell_type": "markdown",
      "id": "3d7c5106",
      "metadata": {
        "id": "3d7c5106"
      },
      "source": [
        "붓꽃 데이터셋의 품종 분류를 아래 그림과 같은 형식으로 그리는 코드를 작성하라."
      ]
    },
    {
      "cell_type": "markdown",
      "id": "62c6e56d",
      "metadata": {
        "id": "62c6e56d"
      },
      "source": [
        "<div align=\"center\"><img src=\"https://raw.githubusercontent.com/codingalzi/datapy/master/jupyter-book/images/iris-classification.png\" style=\"width:600px;\"></div>"
      ]
    },
    {
      "cell_type": "code",
      "source": [
        "X = iris_features_standardized[:, 2] # 꽃잎 길이\n",
        "Y = iris_features_standardized[:, 3] # 꽃잎 너비"
      ],
      "metadata": {
        "id": "T2mAWRKBPp6e"
      },
      "id": "T2mAWRKBPp6e",
      "execution_count": 74,
      "outputs": []
    },
    {
      "cell_type": "code",
      "source": [
        "import matplotlib.pyplot as plt\n",
        "\n",
        "plt.figure(figsize=(10, 5))\n",
        "\n",
        "plt.plot(X, Y, 'bo')\n",
        "# plt.plot(X, Y, color='blue', marker='o', linestyle='')\n",
        "\n",
        "plt.axis([-1.8, 2, -1.5, 2])"
      ],
      "metadata": {
        "colab": {
          "base_uri": "https://localhost:8080/",
          "height": 469
        },
        "id": "6yX8WnyfPOCE",
        "outputId": "d8a77849-5e8a-4590-bfdd-0f4d794a14a1"
      },
      "id": "6yX8WnyfPOCE",
      "execution_count": 75,
      "outputs": [
        {
          "output_type": "execute_result",
          "data": {
            "text/plain": [
              "(-1.8, 2.0, -1.5, 2.0)"
            ]
          },
          "metadata": {},
          "execution_count": 75
        },
        {
          "output_type": "display_data",
          "data": {
            "text/plain": [
              "<Figure size 1000x500 with 1 Axes>"
            ],
            "image/png": "[encoded data removed]"
          },
          "metadata": {}
        }
      ]
    },
    {
      "cell_type": "code",
      "source": [
        "plt.figure(figsize=(10, 5))\n",
        "\n",
        "# 세토사 품종 산점도: 빨강 네모\n",
        "plt.plot(X[iris_labels == 'Iris-setosa'], Y[iris_labels == 'Iris-setosa'], 'rs', label='Iris setosa')\n",
        "# 버시컬러 품종 산점도: 초록 동그라미\n",
        "plt.plot(X[iris_labels == 'Iris-versicolor'], Y[iris_labels == 'Iris-versicolor'], 'go', label='Iris versicolor')\n",
        "# 버지니카 품종 산점도: 파랑 x\n",
        "plt.plot(X[iris_labels == 'Iris-virginica'], Y[iris_labels == 'Iris-virginica'], 'bx',  label='Iris setosa')\n",
        "\n",
        "plt.xlabel(\"Petal length\")\n",
        "plt.ylabel(\"Petal width\")\n",
        "plt.legend(loc=\"center left\")\n",
        "\n",
        "plt.axis([-1.8, 2, -1.5, 2])\n",
        "plt.show()"
      ],
      "metadata": {
        "colab": {
          "base_uri": "https://localhost:8080/",
          "height": 470
        },
        "id": "xjEDCHX0Qc-C",
        "outputId": "1ff3a557-9aac-43ce-c948-a3bdabdc873b"
      },
      "id": "xjEDCHX0Qc-C",
      "execution_count": 175,
      "outputs": [
        {
          "output_type": "display_data",
          "data": {
            "text/plain": [
              "<Figure size 1000x500 with 1 Axes>"
            ],
            "image/png": "[encoded data removed]"
          },
          "metadata": {}
        }
      ]
    },
    {
      "cell_type": "code",
      "source": [
        "points_x = np.arange(-1.8, 2.1, 0.02)\n",
        "points_y = np.arange(-1.5, 2.1, 0.02)\n",
        "xs, ys = np.meshgrid(points_x, points_y)"
      ],
      "metadata": {
        "id": "ng8OVV5gT_cF"
      },
      "id": "ng8OVV5gT_cF",
      "execution_count": 179,
      "outputs": []
    },
    {
      "cell_type": "code",
      "source": [
        "Z = np.zeros(xs.shape)\n",
        "Z[(-1.0 <= xs + ys) & (xs + ys < 1.5)] = 1\n",
        "Z[(1.4 <= xs + 1.2*ys)] = 2"
      ],
      "metadata": {
        "id": "TtorqAkWT1fN"
      },
      "id": "TtorqAkWT1fN",
      "execution_count": 180,
      "outputs": []
    },
    {
      "cell_type": "code",
      "source": [
        "# 각 종류의 평균값 지정\n",
        "setosa_length_mean = np.mean(iris_features_standardized[iris_labels == 'Iris-setosa'][:,2])\n",
        "setosa_width_mean  = np.mean(iris_features_standardized[iris_labels == 'Iris-setosa'][:,3])\n",
        "versicolor_length_mean = np.mean(iris_features_standardized[iris_labels == 'Iris-versicolor'][:,2])\n",
        "versicolor_width_mean  = np.mean(iris_features_standardized[iris_labels == 'Iris-versicolor'][:,3])\n",
        "virginica_length_mean = np.mean(iris_features_standardized[iris_labels == 'Iris-virginica'][:,2])\n",
        "virginica_width_mean  = np.mean(iris_features_standardized[iris_labels == 'Iris-virginica'][:,3])"
      ],
      "metadata": {
        "id": "iwCZesB1yzge"
      },
      "id": "iwCZesB1yzge",
      "execution_count": 206,
      "outputs": []
    },
    {
      "cell_type": "code",
      "source": [
        "plt.figure(figsize=(10, 5))\n",
        "\n",
        "# 등고선을 색으로 구분\n",
        "plt.contourf(xs, ys, Z, alpha=0.3, cmap='Wistia')\n",
        "\n",
        "# 붓꽃 데이터 산점도\n",
        "plt.plot(X[iris_labels == 'Iris-setosa'], Y[iris_labels == 'Iris-setosa'], 'rs', label='Iris setosa')\n",
        "plt.plot(X[iris_labels == 'Iris-versicolor'], Y[iris_labels == 'Iris-versicolor'], 'go', label='Iris versicolor')\n",
        "plt.plot(X[iris_labels == 'Iris-virginica'], Y[iris_labels == 'Iris-virginica'], 'bx',  label='Iris setosa')\n",
        "\n",
        "# 각 종류의 평균값 별 표시\n",
        "plt.plot(setosa_length_mean, setosa_width_mean, 'k*', markersize=10)\n",
        "plt.plot(versicolor_length_mean, versicolor_width_mean, 'k*', markersize=10)\n",
        "plt.plot(virginica_length_mean, virginica_width_mean, 'k*', markersize=10)\n",
        "\n",
        "plt.xlabel(\"Petal length\")\n",
        "plt.ylabel(\"Petal width\")\n",
        "plt.legend(loc=\"center left\")\n",
        "plt.axis([-1.8, 2, -1.5, 2])\n",
        "\n",
        "# plt.grid()\n",
        "plt.show()"
      ],
      "metadata": {
        "colab": {
          "base_uri": "https://localhost:8080/",
          "height": 470
        },
        "id": "xCKKSmaUUIR0",
        "outputId": "12a82677-cc69-4e50-9733-3b5cfc2bf1c5"
      },
      "id": "xCKKSmaUUIR0",
      "execution_count": 207,
      "outputs": [
        {
          "output_type": "display_data",
          "data": {
            "text/plain": [
              "<Figure size 1000x500 with 1 Axes>"
            ],
            "image/png": "[encoded data removed]"
          },
          "metadata": {}
        }
      ]
    }
  ],
  "metadata": {
    "kernelspec": {
      "display_name": "Python 3 (ipykernel)",
      "language": "python",
      "name": "python3"
    },
    "language_info": {
      "codemirror_mode": {
        "name": "ipython",
        "version": 3
      },
      "file_extension": ".py",
      "mimetype": "text/x-python",
      "name": "python",
      "nbconvert_exporter": "python",
      "pygments_lexer": "ipython3",
      "version": "3.9.12"
    },
    "colab": {
      "provenance": [],
      "include_colab_link": true
    }
  },
  "nbformat": 4,
  "nbformat_minor": 5
}
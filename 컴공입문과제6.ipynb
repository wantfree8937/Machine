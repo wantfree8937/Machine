{
  "cells": [
    {
      "cell_type": "markdown",
      "metadata": {
        "id": "view-in-github",
        "colab_type": "text"
      },
      "source": [
        "<a href=\"https://colab.research.google.com/github/wantfree8937/Machine/blob/main/%EC%BB%B4%EA%B3%B5%EC%9E%85%EB%AC%B8%EA%B3%BC%EC%A0%9C6.ipynb\" target=\"_parent\"><img src=\"https://colab.research.google.com/assets/colab-badge.svg\" alt=\"Open In Colab\"/></a>"
      ]
    },
    {
      "cell_type": "markdown",
      "id": "4355d4f8",
      "metadata": {
        "id": "4355d4f8"
      },
      "source": [
        "# (실습) 조건문"
      ]
    },
    {
      "cell_type": "markdown",
      "id": "b8768f47",
      "metadata": {
        "id": "b8768f47"
      },
      "source": [
        "**문제 1**"
      ]
    },
    {
      "cell_type": "markdown",
      "id": "d89d072d",
      "metadata": {
        "id": "d89d072d"
      },
      "source": [
        "자연수 n 이 주어졌을 때, 1의 자릿수가 3의 배수이면 입력값의 세 배를, 아니면 두 배를 반환하는 \n",
        "함수 `three_or_not()` 함수를 구현하라.\n",
        "\n",
        "힌트: 나머지 연산자를 활용한다."
      ]
    },
    {
      "cell_type": "code",
      "execution_count": null,
      "id": "554dcd24",
      "metadata": {
        "id": "554dcd24"
      },
      "outputs": [],
      "source": [
        "# 아래 코드에서 pass 를 적절한 명령문으로, None 을 적절한 표현식으로 대체하라.\n",
        "\n",
        "def three_or_not(n):\n",
        "    \n",
        "    if list(map(int, str(n)))[-1] % 3 == 0:\n",
        "      n *= 3\n",
        "    else:\n",
        "      n *= 2\n",
        "            \n",
        "    return n"
      ]
    },
    {
      "cell_type": "code",
      "execution_count": null,
      "id": "a3153f7a",
      "metadata": {
        "id": "a3153f7a"
      },
      "outputs": [],
      "source": [
        "# 아래 코드의 주석 기호를 제거하고 실행했을 때 오류가 발생하지 않아야 함.\n",
        "\n",
        "assert three_or_not(13) == 39\n",
        "assert three_or_not(24) == 48"
      ]
    },
    {
      "cell_type": "markdown",
      "id": "e38e2861",
      "metadata": {
        "id": "e38e2861"
      },
      "source": [
        "**문제 2**"
      ]
    },
    {
      "cell_type": "markdown",
      "id": "e7d78b78",
      "metadata": {
        "id": "e7d78b78"
      },
      "source": [
        "`time` 모듈에 UTC(Coordinated Universal Time)를 알려주는 `time()` 함수가 포함되어 있다.\n",
        "`time()` 함수는 일종의 컴퓨터 시간의 생일인 1970년 1월 1일을 기준으로 \n",
        "함수의 호출 순간까지 흐른 시간을 초 단위로 반환한다."
      ]
    },
    {
      "cell_type": "code",
      "execution_count": null,
      "id": "8dea55a7",
      "metadata": {
        "id": "8dea55a7",
        "outputId": "51d83b29-0240-447d-fe27-2034410acf25",
        "colab": {
          "base_uri": "https://localhost:8080/"
        }
      },
      "outputs": [
        {
          "output_type": "stream",
          "name": "stdout",
          "text": [
            "1678940775.8247254\n"
          ]
        }
      ],
      "source": [
        "import time\n",
        "x = time.time()\n",
        "\n",
        "print(x)"
      ]
    },
    {
      "cell_type": "markdown",
      "id": "70f972c0",
      "metadata": {
        "id": "70f972c0"
      },
      "source": [
        "현재의 UTC를 시, 분, 초 단위로 변환하는\n",
        "함수 `time_convert()` 함수를 구현하라.\n",
        "단, 반환값은 아래 포맷을 갖춘 문자열이어야 하며,\n",
        "초는 반올림해서 계산한다.\n",
        "\n",
        "```python\n",
        "시-분-초\n",
        "```\n",
        "\n",
        "힌트: `divmod()` 함수를 활용할 수 있다."
      ]
    },
    {
      "cell_type": "code",
      "execution_count": null,
      "id": "72cc29e4",
      "metadata": {
        "id": "72cc29e4"
      },
      "outputs": [],
      "source": [
        "# 아래 코드에서 pass 를 적절한 명령문으로, None 을 적절한 표현식으로 대체하라.\n",
        "#   1시간 30분 30초 = 3600 + 1800 + 30 = 5430    30 5400 \n",
        "def time_convert():\n",
        "    \n",
        "    hour_min = divmod(int(x), 3600)\n",
        "    sec = round((x % 60))\n",
        "\n",
        "    return print(f\"{hour_min[0]}-{hour_min[1]}-{sec}\")"
      ]
    },
    {
      "cell_type": "code",
      "execution_count": null,
      "id": "fe0f3f5d",
      "metadata": {
        "id": "fe0f3f5d",
        "colab": {
          "base_uri": "https://localhost:8080/"
        },
        "outputId": "96164aa4-8b5e-4cc4-b797-acd1e43957b9"
      },
      "outputs": [
        {
          "output_type": "stream",
          "name": "stdout",
          "text": [
            "466372-1575-16\n"
          ]
        }
      ],
      "source": [
        "# 아래 코드의 주석 기호를 제거하고 실행하면 아래 모양의 결과가 나와야 한다.\n",
        "# '457875-29-17'\n",
        "\n",
        "time_convert()"
      ]
    },
    {
      "cell_type": "markdown",
      "id": "fc695b76",
      "metadata": {
        "id": "fc695b76"
      },
      "source": [
        "**문제 3**"
      ]
    },
    {
      "cell_type": "markdown",
      "id": "f1072099",
      "metadata": {
        "id": "f1072099"
      },
      "source": [
        "오늘의 요일을 확인하여 0에서 6 사이의 정수를 반환하는 함수\n",
        "`wday2num()` 함수를 구현하라.\n",
        "단, 다음 조건을 만족해야 한다.\n",
        "\n",
        "- 일(Sun), 월(Mon), 화(Tue), 수(Wed), 목(Thu), 금(Fri), 토(Sat) 순서대로 0, 1, 2, 3, 4, 5, 6 을 사용한다.\n",
        "- 하나의 매개변수 `wday` 를 사용하며, 키워드 인자로 `\"Sun\"`을 사용한다.\n",
        "- 지정된 `wday` 와 오늘의 요일이 일치하면 \n",
        "    해당 요일도 함께 튜플로 반환한다.\n",
        "    \n",
        "힌트: `time.ctime()` 함수 활용."
      ]
    },
    {
      "cell_type": "code",
      "execution_count": null,
      "id": "b59b16a9",
      "metadata": {
        "id": "b59b16a9",
        "outputId": "30432340-d550-46fa-9704-690679b40e3f",
        "colab": {
          "base_uri": "https://localhost:8080/",
          "height": 35
        }
      },
      "outputs": [
        {
          "output_type": "execute_result",
          "data": {
            "text/plain": [
              "'Thu Mar 16 04:57:56 2023'"
            ],
            "application/vnd.google.colaboratory.intrinsic+json": {
              "type": "string"
            }
          },
          "metadata": {},
          "execution_count": 30
        }
      ],
      "source": [
        "time.ctime()"
      ]
    },
    {
      "cell_type": "code",
      "execution_count": null,
      "id": "231a0b69",
      "metadata": {
        "id": "231a0b69",
        "outputId": "04541102-0f79-43f6-827e-c0ceb232c664",
        "colab": {
          "base_uri": "https://localhost:8080/",
          "height": 35
        }
      },
      "outputs": [
        {
          "output_type": "execute_result",
          "data": {
            "text/plain": [
              "'Thu Mar 16 04:57:55 2023'"
            ],
            "application/vnd.google.colaboratory.intrinsic+json": {
              "type": "string"
            }
          },
          "metadata": {},
          "execution_count": 29
        }
      ],
      "source": [
        "time.ctime(time.time())"
      ]
    },
    {
      "cell_type": "code",
      "source": [
        "tuple(time.ctime().split(\" \"))"
      ],
      "metadata": {
        "colab": {
          "base_uri": "https://localhost:8080/"
        },
        "id": "XDsKouE0zCmR",
        "outputId": "284aed96-8fc3-4e59-bb04-221e045d45fe"
      },
      "id": "XDsKouE0zCmR",
      "execution_count": null,
      "outputs": [
        {
          "output_type": "execute_result",
          "data": {
            "text/plain": [
              "('Thu', 'Mar', '16', '05:04:55', '2023')"
            ]
          },
          "metadata": {},
          "execution_count": 35
        }
      ]
    },
    {
      "cell_type": "code",
      "execution_count": null,
      "id": "6d78f2bb",
      "metadata": {
        "id": "6d78f2bb"
      },
      "outputs": [],
      "source": [
        "# 아래 코드에서 pass 를 적절한 명령문으로, None 을 적절한 표현식으로 대체하라.\n",
        "\n",
        "def wday2num(wday=\"Sun\"):\n",
        "    \n",
        "    day = [\"Sun\", \"Mon\", \"Tue\", \"Wed\", \"Thu\", \"Fri\", \"Sat\"] # 요일 리스트\n",
        "    time_list = list(time.ctime().split(\" \"))               # time.ctime() 리스트 변환\n",
        "    count = -1\n",
        "\n",
        "    for i in day:                                           # 정수 반환 반복문\n",
        "      count += 1\n",
        "      if i == wday:\n",
        "        break\n",
        "\n",
        "    if wday == time_list[0]:                                # wday가 오늘 요일과 같을 경우\n",
        "      return (count, wday)\n",
        "\n",
        "    return count"
      ]
    },
    {
      "cell_type": "code",
      "execution_count": null,
      "id": "78c4e218",
      "metadata": {
        "id": "78c4e218",
        "colab": {
          "base_uri": "https://localhost:8080/"
        },
        "outputId": "7aa2dbbc-5379-4f99-be65-6698c88fbcbd"
      },
      "outputs": [
        {
          "output_type": "execute_result",
          "data": {
            "text/plain": [
              "0"
            ]
          },
          "metadata": {},
          "execution_count": 49
        }
      ],
      "source": [
        "wday2num(wday=\"Mon\")\n",
        "wday2num(wday=\"Sun\")"
      ]
    },
    {
      "cell_type": "markdown",
      "id": "e6857870",
      "metadata": {
        "id": "e6857870"
      },
      "source": [
        "**문제 4**"
      ]
    },
    {
      "cell_type": "markdown",
      "id": "af2ac26c",
      "metadata": {
        "id": "af2ac26c"
      },
      "source": [
        "페르마의 마지막 정리는 정수 $n$ 이 2보다 클 때, \n",
        "아래 식을 만족하는 세 개의 양의 정수 $a$, $b$, $c$ 가 존재하지 않는다고 말한다.\n",
        "\n",
        "$$\n",
        "a^n + b^n = c^n \n",
        "$$\n",
        "\n",
        "$n$, $a$, $b$, $c$ 네 개의 값이 주어졌을 때 위 등식이 성립하는지 여부를 판단하는 함수\n",
        "`fermat()` 를 구현하라.\n",
        "단, 다음 조건을 만족해야 한다.\n",
        "\n",
        "- `n`, `a`, `b`, `c` 네 개의 매개변수를 사용한다.\n",
        "- `n` 에 2보다 같거나 작은 수가 인자로 사용되면 `False`를 반환한다.\n",
        "- `n` 에 2보다 큰 경우 위 식이 성립하면 `True`, 아니면 `False` 를 반환한다."
      ]
    },
    {
      "cell_type": "code",
      "execution_count": null,
      "id": "6493e8ea",
      "metadata": {
        "id": "6493e8ea"
      },
      "outputs": [],
      "source": [
        "# 아래 코드에서 pass 를 적절한 명령문으로, None 을 적절한 표현식으로 대체하라.\n",
        "\n",
        "def fermat(n, a, b, c):\n",
        "    \n",
        "    if n <= 2:\n",
        "      return False\n",
        "    \n",
        "    if (a ** n) + (b ** n) == (c ** n):\n",
        "      return True\n",
        "\n",
        "    return False"
      ]
    },
    {
      "cell_type": "code",
      "execution_count": null,
      "id": "1d0150cc",
      "metadata": {
        "id": "1d0150cc"
      },
      "outputs": [],
      "source": [
        "# 아래 코드의 주석 기호를 제거하고 실행했을 때 오류가 발생하지 않아야 함.\n",
        "\n",
        "assert fermat(2, 3, 5, 7) == False\n",
        "assert fermat(3, 17, 3, 22) == False"
      ]
    },
    {
      "cell_type": "markdown",
      "id": "8cbebd75",
      "metadata": {
        "id": "8cbebd75"
      },
      "source": [
        "**문제 5**"
      ]
    },
    {
      "cell_type": "markdown",
      "id": "41bf63c4",
      "metadata": {
        "id": "41bf63c4"
      },
      "source": [
        "세 개의 막대를 이용하여 삼각형을 만들 수 있는지 여부를 판단하는 함수\n",
        "`triangle()` 함수를 구현하라.\n",
        "단, 다음 조건을 만족해야 한다.\n",
        "\n",
        "- 세 개의 양의 정수를 입력받는다.\n",
        "- 삼각형을 만들 수 있으면 `True`, 아니면 `False`를 반환한다.\n",
        "\n",
        "힌트: 막대 하나의 길이가 다른 두 막대의 길이의 합보다 크면 삼각형을 만들 수 없다."
      ]
    },
    {
      "cell_type": "code",
      "execution_count": null,
      "id": "7a11eb8b",
      "metadata": {
        "id": "7a11eb8b"
      },
      "outputs": [],
      "source": [
        "# 아래 코드에서 pass 를 적절한 명령문으로, None 을 적절한 표현식으로 대체하라.\n",
        "\n",
        "def triangle(a, b, c):\n",
        "    \n",
        "    if a + b > c and a + c > b and b + c > a:\n",
        "      return True\n",
        "\n",
        "    return False"
      ]
    },
    {
      "cell_type": "code",
      "execution_count": null,
      "id": "97353a5c",
      "metadata": {
        "id": "97353a5c"
      },
      "outputs": [],
      "source": [
        "# 아래 코드의 주석 기호를 제거하고 실행했을 때 오류가 발생하지 않아야 함.\n",
        "\n",
        "assert triangle(3, 5, 7) == True\n",
        "assert triangle(17, 3, 22) == False"
      ]
    },
    {
      "cell_type": "markdown",
      "id": "c234a67f",
      "metadata": {
        "id": "c234a67f"
      },
      "source": [
        "**문제 6**"
      ]
    },
    {
      "cell_type": "markdown",
      "id": "c6c9afed",
      "metadata": {
        "id": "c6c9afed"
      },
      "source": [
        "'racecar', '토마토', 'stats'와 같이 앞뒤를 뒤집어도 \n",
        "똑같은 문자열을 **회문**(palindrome)이라고 한다. \n",
        "문자열이 주어질 때, 그 문자열이 회문이면 `Success` 를, 아니면 `Fail` 을 반환하는 함수\n",
        "`palindrome()` 를 작성하여라.\n",
        "\n",
        "힌트: 문자열 인덱싱, 슬라이싱 활용"
      ]
    },
    {
      "cell_type": "code",
      "execution_count": null,
      "id": "f96af980",
      "metadata": {
        "id": "f96af980"
      },
      "outputs": [],
      "source": [
        "# 아래 코드에서 pass 를 적절한 명령문으로, None 을 적절한 표현식으로 대체하라.\n",
        "\n",
        "def palindrome(aString):\n",
        "    \n",
        "    if aString == aString[::-1]:\n",
        "      return \"Success\"\n",
        "\n",
        "    return \"Fail\""
      ]
    },
    {
      "cell_type": "code",
      "execution_count": null,
      "id": "65514e9f",
      "metadata": {
        "id": "65514e9f"
      },
      "outputs": [],
      "source": [
        "# 아래 코드의 주석 기호를 제거하고 실행했을 때 오류가 발생하지 않아야 함.\n",
        "\n",
        "assert palindrome(\"racecar\") == \"Success\"\n",
        "assert palindrome(\"tomato\") == \"Fail\"\n",
        "assert palindrome(\"기러기\") == \"Success\"\n",
        "assert palindrome(\"인싸 의사의 싸인\") == \"Success\"\n",
        "assert palindrome(\"다시 합창합시다\") == \"Fail\""
      ]
    },
    {
      "cell_type": "markdown",
      "id": "f0925f3e",
      "metadata": {
        "id": "f0925f3e"
      },
      "source": [
        "**문제 7**"
      ]
    },
    {
      "cell_type": "markdown",
      "id": "70737c8e",
      "metadata": {
        "id": "70737c8e"
      },
      "source": [
        "이전 문제의 `palindrome()` 함수가 문자열에 포함된 공백(space)을 무시하도록 수정하라."
      ]
    },
    {
      "cell_type": "code",
      "execution_count": null,
      "id": "9e20c394",
      "metadata": {
        "id": "9e20c394"
      },
      "outputs": [],
      "source": [
        "# 아래 코드에서 pass 를 적절한 명령문으로, None 을 적절한 표현식으로 대체하라.\n",
        "\n",
        "def palindrome(aString):\n",
        "    \n",
        "    aString = aString.replace(\" \", \"\")\n",
        "\n",
        "    if aString == aString[::-1]:\n",
        "      return \"Success\"\n",
        "\n",
        "    return \"Fail\""
      ]
    },
    {
      "cell_type": "code",
      "execution_count": null,
      "id": "df098186",
      "metadata": {
        "id": "df098186"
      },
      "outputs": [],
      "source": [
        "# 아래 코드의 주석 기호를 제거하고 실행했을 때 오류가 발생하지 않아야 함.\n",
        "\n",
        "assert palindrome(\"race car\") == \"Success\"\n",
        "assert palindrome(\"tom ato\") == \"Fail\"\n",
        "assert palindrome(\"인싸의사의 싸인\") == \"Success\"\n",
        "assert palindrome(\"다시 합창합시다\") == \"Success\""
      ]
    }
  ],
  "metadata": {
    "kernelspec": {
      "display_name": "Python 3 (ipykernel)",
      "language": "python",
      "name": "python3"
    },
    "language_info": {
      "codemirror_mode": {
        "name": "ipython",
        "version": 3
      },
      "file_extension": ".py",
      "mimetype": "text/x-python",
      "name": "python",
      "nbconvert_exporter": "python",
      "pygments_lexer": "ipython3",
      "version": "3.9.7"
    },
    "colab": {
      "provenance": [],
      "include_colab_link": true
    }
  },
  "nbformat": 4,
  "nbformat_minor": 5
}
{
  "cells": [
    {
      "cell_type": "markdown",
      "metadata": {
        "id": "view-in-github",
        "colab_type": "text"
      },
      "source": [
        "<a href=\"https://colab.research.google.com/github/wantfree8937/Machine/blob/main/%EA%B3%BC%EC%A0%9C4.ipynb\" target=\"_parent\"><img src=\"https://colab.research.google.com/assets/colab-badge.svg\" alt=\"Open In Colab\"/></a>"
      ]
    },
    {
      "cell_type": "markdown",
      "metadata": {
        "id": "_WWyxn0oIvqM"
      },
      "source": [
        "## (구글코랩) 분류 학습하기\n"
      ]
    },
    {
      "cell_type": "code",
      "execution_count": 1,
      "metadata": {
        "id": "kF_FDOCaI8lJ"
      },
      "outputs": [],
      "source": [
        "# 기본설정\n",
        "import sys\n",
        "assert sys.version_info >= (3, 7)\n",
        "import sklearn\n",
        "assert sklearn.__version__ >= \"1.0.1\"\n",
        "\n",
        "import matplotlib.pyplot as plt\n",
        "\n",
        "plt.rc('font', size=14)\n",
        "plt.rc('axes', labelsize=14, titlesize=14)\n",
        "plt.rc('legend', fontsize=14)\n",
        "plt.rc('xtick', labelsize=10)\n",
        "plt.rc('ytick', labelsize=10)"
      ]
    },
    {
      "cell_type": "markdown",
      "metadata": {
        "id": "lJ61cbtfOS_b"
      },
      "source": [
        "### MNIST 데이터셋"
      ]
    },
    {
      "cell_type": "code",
      "execution_count": 2,
      "metadata": {
        "id": "FJP8fL7YJXKR"
      },
      "outputs": [],
      "source": [
        "# 데이터 불러오기\n",
        "from sklearn.datasets import fetch_openml\n",
        "\n",
        "mnist = fetch_openml('mnist_784', as_frame=False)"
      ]
    },
    {
      "cell_type": "code",
      "execution_count": 3,
      "metadata": {
        "colab": {
          "base_uri": "https://localhost:8080/"
        },
        "id": "hrfY2oBmJiRk",
        "outputId": "50b41b7b-962f-4c40-bd78-82392fa02654"
      },
      "outputs": [
        {
          "output_type": "execute_result",
          "data": {
            "text/plain": [
              "dict_keys(['data', 'target', 'frame', 'categories', 'feature_names', 'target_names', 'DESCR', 'details', 'url'])"
            ]
          },
          "metadata": {},
          "execution_count": 3
        }
      ],
      "source": [
        "mnist.keys()  # Bunch 자료형 속성"
      ]
    },
    {
      "cell_type": "code",
      "execution_count": 4,
      "metadata": {
        "colab": {
          "base_uri": "https://localhost:8080/"
        },
        "id": "i5VLXIG6Jmu8",
        "outputId": "1394642d-ebc2-407c-b30b-5f99e901575f"
      },
      "outputs": [
        {
          "output_type": "execute_result",
          "data": {
            "text/plain": [
              "array([[0., 0., 0., ..., 0., 0., 0.],\n",
              "       [0., 0., 0., ..., 0., 0., 0.],\n",
              "       [0., 0., 0., ..., 0., 0., 0.],\n",
              "       ...,\n",
              "       [0., 0., 0., ..., 0., 0., 0.],\n",
              "       [0., 0., 0., ..., 0., 0., 0.],\n",
              "       [0., 0., 0., ..., 0., 0., 0.]])"
            ]
          },
          "metadata": {},
          "execution_count": 4
        }
      ],
      "source": [
        "X, y = mnist.data, mnist.target\n",
        "X"
      ]
    },
    {
      "cell_type": "code",
      "execution_count": 5,
      "metadata": {
        "colab": {
          "base_uri": "https://localhost:8080/"
        },
        "id": "PcJo_aWgJoGh",
        "outputId": "2def90b1-0794-46d1-b9ff-4600271ad8c0"
      },
      "outputs": [
        {
          "output_type": "execute_result",
          "data": {
            "text/plain": [
              "(70000, 784)"
            ]
          },
          "metadata": {},
          "execution_count": 5
        }
      ],
      "source": [
        "X.shape # 70000개의 이미지, 길이가 784(=28x28)인 1차원 어레이"
      ]
    },
    {
      "cell_type": "code",
      "execution_count": 6,
      "metadata": {
        "colab": {
          "base_uri": "https://localhost:8080/"
        },
        "id": "XrZUQFkWJtEg",
        "outputId": "dd728e20-d872-49d8-a297-6532fe8b4226"
      },
      "outputs": [
        {
          "output_type": "execute_result",
          "data": {
            "text/plain": [
              "array(['5', '0', '4', ..., '4', '5', '6'], dtype=object)"
            ]
          },
          "metadata": {},
          "execution_count": 6
        }
      ],
      "source": [
        "y # 70000개, 0부터 9까지의 숫자"
      ]
    },
    {
      "cell_type": "code",
      "execution_count": 7,
      "metadata": {
        "colab": {
          "base_uri": "https://localhost:8080/",
          "height": 0
        },
        "id": "y-ubEBe4J3SL",
        "outputId": "1440b5b5-3f4d-4581-99f6-ec7c06880a8a"
      },
      "outputs": [
        {
          "output_type": "display_data",
          "data": {
            "text/plain": [
              "<Figure size 432x288 with 1 Axes>"
            ],
            "image/png": "[encoded data removed]"
          },
          "metadata": {
            "needs_background": "light"
          }
        }
      ],
      "source": [
        "import matplotlib.pyplot as plt\n",
        "\n",
        "# 28x28 모양의 2차원 어레이로 변환 후 이미지 그리기\n",
        "def plot_digit(image_data):\n",
        "    image = image_data.reshape(28, 28)\n",
        "    plt.imshow(image, cmap=\"binary\")\n",
        "    plt.axis(\"off\")\n",
        "\n",
        "# 첫째 이미지 그리기\n",
        "some_digit = X[0]\n",
        "plot_digit(some_digit)\n",
        "plt.show()"
      ]
    },
    {
      "cell_type": "code",
      "execution_count": 8,
      "metadata": {
        "colab": {
          "base_uri": "https://localhost:8080/",
          "height": 0
        },
        "id": "tdch1TYNJ4hL",
        "outputId": "481d29b6-ea7f-4d46-c0ac-8cd76081dd51"
      },
      "outputs": [
        {
          "output_type": "execute_result",
          "data": {
            "text/plain": [
              "'5'"
            ],
            "application/vnd.google.colaboratory.intrinsic+json": {
              "type": "string"
            }
          },
          "metadata": {},
          "execution_count": 8
        }
      ],
      "source": [
        "y[0]"
      ]
    },
    {
      "cell_type": "code",
      "execution_count": 9,
      "metadata": {
        "colab": {
          "base_uri": "https://localhost:8080/",
          "height": 0
        },
        "id": "_4AiWRJtJ6Qf",
        "outputId": "5e84c2eb-d2b1-4988-f55b-885470047bc0"
      },
      "outputs": [
        {
          "output_type": "display_data",
          "data": {
            "text/plain": [
              "<Figure size 648x648 with 100 Axes>"
            ],
            "image/png": "[encoded data removed]"
          },
          "metadata": {
            "needs_background": "light"
          }
        }
      ],
      "source": [
        "# 처음 100개 이미지\n",
        "plt.figure(figsize=(9, 9))\n",
        "\n",
        "# 10x10 모양의 이미지 모음. plt.subplot 활용\n",
        "for idx, image_data in enumerate(X[:100]):\n",
        "    plt.subplot(10, 10, idx + 1)\n",
        "    plot_digit(image_data)\n",
        "\n",
        "plt.subplots_adjust(wspace=0, hspace=0)\n",
        "plt.show()"
      ]
    },
    {
      "cell_type": "code",
      "execution_count": 10,
      "metadata": {
        "id": "3wbA3-6FJ7vU"
      },
      "outputs": [],
      "source": [
        "X_train, X_test, y_train, y_test = X[:60000], X[60000:], y[:60000], y[60000:] # 훈련 셋과 데이터 셋 나누기"
      ]
    },
    {
      "cell_type": "markdown",
      "metadata": {
        "id": "eWXPxfYuQ16X"
      },
      "source": [
        "### 이진 분류기 훈련"
      ]
    },
    {
      "cell_type": "code",
      "execution_count": 11,
      "metadata": {
        "id": "WkChZ8CMQ6eW"
      },
      "outputs": [],
      "source": [
        "y_train_5 = (y_train == '5')  # True for all 5s, False for all other digits\n",
        "y_test_5 = (y_test == '5')"
      ]
    },
    {
      "cell_type": "code",
      "execution_count": 12,
      "metadata": {
        "colab": {
          "base_uri": "https://localhost:8080/"
        },
        "id": "LMF5SWPlRxAy",
        "outputId": "d4e89192-8c9b-481e-f0dd-5774c4b55afe"
      },
      "outputs": [
        {
          "output_type": "execute_result",
          "data": {
            "text/plain": [
              "SGDClassifier(random_state=42)"
            ]
          },
          "metadata": {},
          "execution_count": 12
        }
      ],
      "source": [
        "from sklearn.linear_model import SGDClassifier\n",
        "\n",
        "sgd_clf = SGDClassifier(random_state=42)\n",
        "sgd_clf.fit(X_train, y_train_5)"
      ]
    },
    {
      "cell_type": "code",
      "execution_count": 13,
      "metadata": {
        "colab": {
          "base_uri": "https://localhost:8080/"
        },
        "id": "ml1yeCd2R6RY",
        "outputId": "2341532f-bbec-4d87-8fc5-b88f3a0272e3"
      },
      "outputs": [
        {
          "output_type": "execute_result",
          "data": {
            "text/plain": [
              "array([ True])"
            ]
          },
          "metadata": {},
          "execution_count": 13
        }
      ],
      "source": [
        "sgd_clf.predict([some_digit])"
      ]
    },
    {
      "cell_type": "markdown",
      "metadata": {
        "id": "KkZqvURQSUD-"
      },
      "source": [
        "### 분류기 성능 측정"
      ]
    },
    {
      "cell_type": "code",
      "execution_count": 14,
      "metadata": {
        "colab": {
          "base_uri": "https://localhost:8080/"
        },
        "id": "dz9oTkjqSYmW",
        "outputId": "30ab4e64-7659-4a2a-f581-689f23810213"
      },
      "outputs": [
        {
          "output_type": "execute_result",
          "data": {
            "text/plain": [
              "array([0.95035, 0.96035, 0.9604 ])"
            ]
          },
          "metadata": {},
          "execution_count": 14
        }
      ],
      "source": [
        "from sklearn.model_selection import cross_val_score\n",
        "\n",
        "cross_val_score(sgd_clf, X_train, y_train_5, cv=3, scoring=\"accuracy\")"
      ]
    },
    {
      "cell_type": "code",
      "execution_count": 15,
      "metadata": {
        "colab": {
          "base_uri": "https://localhost:8080/"
        },
        "id": "WiJsqHK0Sj08",
        "outputId": "f4b8a732-528e-4bc6-d488-4809b45588b0"
      },
      "outputs": [
        {
          "output_type": "stream",
          "name": "stdout",
          "text": [
            "0.95035\n",
            "0.96035\n",
            "0.9604\n"
          ]
        }
      ],
      "source": [
        "# 위의 cross_val_score() 함수와 동일한 기능\n",
        "from sklearn.model_selection import StratifiedKFold\n",
        "from sklearn.base import clone\n",
        "\n",
        "skfolds = StratifiedKFold(n_splits=3)  # add shuffle=True is the dataset is not\n",
        "                                       # already shuffled\n",
        "for train_index, test_index in skfolds.split(X_train, y_train_5):\n",
        "    clone_clf = clone(sgd_clf)\n",
        "    X_train_folds = X_train[train_index]\n",
        "    y_train_folds = y_train_5[train_index]\n",
        "    X_test_fold = X_train[test_index]\n",
        "    y_test_fold = y_train_5[test_index]\n",
        "\n",
        "    clone_clf.fit(X_train_folds, y_train_folds)\n",
        "    y_pred = clone_clf.predict(X_test_fold)\n",
        "    n_correct = sum(y_pred == y_test_fold)\n",
        "    print(n_correct / len(y_pred))"
      ]
    },
    {
      "cell_type": "code",
      "execution_count": 16,
      "metadata": {
        "colab": {
          "base_uri": "https://localhost:8080/"
        },
        "id": "_nM-cr-dTWss",
        "outputId": "6cb5fb62-e367-4b03-d392-aed3ec13c42e"
      },
      "outputs": [
        {
          "output_type": "stream",
          "name": "stdout",
          "text": [
            "False\n"
          ]
        }
      ],
      "source": [
        "from sklearn.dummy import DummyClassifier\n",
        "\n",
        "dummy_clf = DummyClassifier()\n",
        "dummy_clf.fit(X_train, y_train_5)\n",
        "\n",
        "print(any(dummy_clf.predict(X_train)))   # 무조건 5가 아니다라고 예측!"
      ]
    },
    {
      "cell_type": "markdown",
      "metadata": {
        "id": "WffBMNSBWrM1"
      },
      "source": [
        "### 오차 행렬, 정밀도, 재현율"
      ]
    },
    {
      "cell_type": "markdown",
      "metadata": {
        "id": "LmoRh_qQXFwE"
      },
      "source": [
        "오차 행렬"
      ]
    },
    {
      "cell_type": "code",
      "execution_count": 17,
      "metadata": {
        "colab": {
          "base_uri": "https://localhost:8080/"
        },
        "id": "dIsXbcx7WyFa",
        "outputId": "89c596bf-74f3-4ea2-8f75-c3d81fc69adf"
      },
      "outputs": [
        {
          "output_type": "execute_result",
          "data": {
            "text/plain": [
              "array([[53892,   687],\n",
              "       [ 1891,  3530]])"
            ]
          },
          "metadata": {},
          "execution_count": 17
        }
      ],
      "source": [
        "from sklearn.model_selection import cross_val_predict\n",
        "\n",
        "y_train_pred = cross_val_predict(sgd_clf, X_train, y_train_5, cv=3)\n",
        "\n",
        "from sklearn.metrics import confusion_matrix\n",
        "\n",
        "cm = confusion_matrix(y_train_5, y_train_pred)\n",
        "cm"
      ]
    },
    {
      "cell_type": "markdown",
      "metadata": {
        "id": "PRDF-P4tXBXZ"
      },
      "source": [
        "위 결과는 다음을 보여준다.\n",
        "\n",
        "```\n",
        "TN | FP\n",
        "---|---\n",
        "FN | TP\n",
        "```\n",
        "\n",
        "* TN: 참 음성 개수. 즉, 5가 아닌 이미지를 5가 아니라고 정확하게 예측한 경우의 수\n",
        "* FP: 거짓 양성 개수. 즉, 5가 아닌 이미지를 5라고 잘못 예측한 경우의 수\n",
        "* FN: 거짓 음성 개수. 즉, 5를 나타내는 이미지를 5가 아니라고 잘못 예측한 경우의 수\n",
        "* TP: 참 양성 개수. 즉, 5를 나타내는 이미지를 5라고 정확하게 예측한 경우의 수"
      ]
    },
    {
      "cell_type": "markdown",
      "metadata": {
        "id": "8IYy-v8ZXHRU"
      },
      "source": [
        "정밀도"
      ]
    },
    {
      "cell_type": "code",
      "execution_count": 18,
      "metadata": {
        "colab": {
          "base_uri": "https://localhost:8080/"
        },
        "id": "iqpnPcWZXJEJ",
        "outputId": "5fb1a428-93b5-45b7-a152-dacc56559cff"
      },
      "outputs": [
        {
          "output_type": "execute_result",
          "data": {
            "text/plain": [
              "0.8370879772350012"
            ]
          },
          "metadata": {},
          "execution_count": 18
        }
      ],
      "source": [
        "from sklearn.metrics import precision_score, recall_score\n",
        "\n",
        "precision_score(y_train_5, y_train_pred)  # == 3530 / (687 + 3530)"
      ]
    },
    {
      "cell_type": "markdown",
      "metadata": {
        "id": "xp_cIqlmXKbf"
      },
      "source": [
        "재현율"
      ]
    },
    {
      "cell_type": "code",
      "execution_count": 19,
      "metadata": {
        "colab": {
          "base_uri": "https://localhost:8080/"
        },
        "id": "l6-oidJJXLWO",
        "outputId": "2b774b5a-bcc1-4338-98ae-af16f41e1cc4"
      },
      "outputs": [
        {
          "output_type": "execute_result",
          "data": {
            "text/plain": [
              "0.6511713705958311"
            ]
          },
          "metadata": {},
          "execution_count": 19
        }
      ],
      "source": [
        "recall_score(y_train_5, y_train_pred)  # == 3530 / (1891 + 3530)"
      ]
    },
    {
      "cell_type": "markdown",
      "metadata": {
        "id": "aV-uSA8dXRSR"
      },
      "source": [
        "F<sub>1</sub> 점수"
      ]
    },
    {
      "cell_type": "code",
      "execution_count": 20,
      "metadata": {
        "colab": {
          "base_uri": "https://localhost:8080/"
        },
        "id": "7Q_xNmM5XVf2",
        "outputId": "46240496-44a5-48b8-a2c5-3a717394fead"
      },
      "outputs": [
        {
          "output_type": "execute_result",
          "data": {
            "text/plain": [
              "0.7325171197343846"
            ]
          },
          "metadata": {},
          "execution_count": 20
        }
      ],
      "source": [
        "from sklearn.metrics import f1_score\n",
        "\n",
        "f1_score(y_train_5, y_train_pred)"
      ]
    },
    {
      "cell_type": "markdown",
      "metadata": {
        "id": "StSp_kukXcd7"
      },
      "source": [
        "**(참고) 결정 임곗값, 정밀도, 재현율 그래프 그리기**"
      ]
    },
    {
      "cell_type": "code",
      "execution_count": 21,
      "metadata": {
        "colab": {
          "base_uri": "https://localhost:8080/",
          "height": 0
        },
        "id": "uzi4JDC5XcyY",
        "outputId": "adcdfac8-0f85-46d9-827f-4b5104dbc9a2"
      },
      "outputs": [
        {
          "output_type": "display_data",
          "data": {
            "text/plain": [
              "<Figure size 576x288 with 1 Axes>"
            ],
            "image/png": "[encoded data removed]"
          },
          "metadata": {
            "needs_background": "light"
          }
        }
      ],
      "source": [
        "y_scores = cross_val_predict(sgd_clf, X_train, y_train_5, cv=3,\n",
        "                             method=\"decision_function\")\n",
        "\n",
        "from sklearn.metrics import precision_recall_curve\n",
        "\n",
        "precisions, recalls, thresholds = precision_recall_curve(y_train_5, y_scores)\n",
        "\n",
        "plt.figure(figsize=(8, 4))  # extra code – it's not needed, just formatting\n",
        "plt.plot(thresholds, precisions[:-1], \"b--\", label=\"Precision\", linewidth=2)\n",
        "plt.plot(thresholds, recalls[:-1], \"g-\", label=\"Recall\", linewidth=2)\n",
        "\n",
        "threshold = 3000  # 결정임곗값 = 3000\n",
        "plt.vlines(threshold, 0, 1.0, \"k\", \"dotted\", label=\"threshold\")\n",
        "\n",
        "# extra code – this section just beautifies and saves Figure 3–5\n",
        "idx = (thresholds >= threshold).argmax()  # first index ≥ threshold\n",
        "plt.plot(thresholds[idx], precisions[idx], \"bo\")\n",
        "plt.plot(thresholds[idx], recalls[idx], \"go\")\n",
        "plt.axis([-50000, 50000, 0, 1])\n",
        "plt.grid()\n",
        "plt.xlabel(\"Threshold\")\n",
        "plt.legend(loc=\"center right\")\n",
        "\n",
        "plt.show()"
      ]
    },
    {
      "cell_type": "markdown",
      "metadata": {
        "id": "zwTvpTb-Xmm8"
      },
      "source": [
        "**(참고) 재현율 대 정밀도 그래프 그리기**"
      ]
    },
    {
      "cell_type": "code",
      "execution_count": 22,
      "metadata": {
        "colab": {
          "base_uri": "https://localhost:8080/",
          "height": 0
        },
        "id": "YGEjgwOpXo-_",
        "outputId": "54a1a497-6d76-492c-cebd-e7f8a0229431"
      },
      "outputs": [
        {
          "output_type": "display_data",
          "data": {
            "text/plain": [
              "<Figure size 432x360 with 1 Axes>"
            ],
            "image/png": "[encoded data removed]"
          },
          "metadata": {
            "needs_background": "light"
          }
        }
      ],
      "source": [
        "import matplotlib.patches as patches  # extra code – for the curved arrow\n",
        "\n",
        "plt.figure(figsize=(6, 5))  # extra code – not needed, just formatting\n",
        "\n",
        "plt.plot(recalls, precisions, linewidth=2, label=\"Precision/Recall curve\")\n",
        "\n",
        "# extra code – just beautifies and saves Figure 3–6\n",
        "plt.plot([recalls[idx], recalls[idx]], [0., precisions[idx]], \"k:\")\n",
        "plt.plot([0.0, recalls[idx]], [precisions[idx], precisions[idx]], \"k:\")\n",
        "plt.plot([recalls[idx]], [precisions[idx]], \"ko\",\n",
        "         label=\"Point at threshold 3,000\")\n",
        "plt.gca().add_patch(patches.FancyArrowPatch(\n",
        "    (0.79, 0.60), (0.61, 0.78),\n",
        "    connectionstyle=\"arc3,rad=.2\",\n",
        "    arrowstyle=\"Simple, tail_width=1.5, head_width=8, head_length=10\",\n",
        "    color=\"#444444\"))\n",
        "plt.text(0.56, 0.62, \"Higher\\nthreshold\", color=\"#333333\")\n",
        "plt.xlabel(\"Recall\")\n",
        "plt.ylabel(\"Precision\")\n",
        "plt.axis([0, 1, 0, 1])\n",
        "plt.grid()\n",
        "plt.legend(loc=\"lower left\")\n",
        "\n",
        "plt.show()"
      ]
    },
    {
      "cell_type": "markdown",
      "metadata": {
        "id": "DVjdoxqaXsDw"
      },
      "source": [
        "**(참고) 90% 정밀도 분류기 구현**"
      ]
    },
    {
      "cell_type": "code",
      "execution_count": 23,
      "metadata": {
        "colab": {
          "base_uri": "https://localhost:8080/"
        },
        "id": "4Zho2ZX-X7s5",
        "outputId": "72eafff9-e4fc-4f3c-e23d-4c0fd33d958b"
      },
      "outputs": [
        {
          "output_type": "execute_result",
          "data": {
            "text/plain": [
              "3370.0194991439557"
            ]
          },
          "metadata": {},
          "execution_count": 23
        }
      ],
      "source": [
        "# 정밀도 90%가 달성되는 지점의 임곗값을 확인\n",
        "idx_for_90_precision = (precisions >= 0.90).argmax()\n",
        "threshold_for_90_precision = thresholds[idx_for_90_precision]\n",
        "threshold_for_90_precision"
      ]
    },
    {
      "cell_type": "code",
      "execution_count": 24,
      "metadata": {
        "colab": {
          "base_uri": "https://localhost:8080/"
        },
        "id": "V08NwHTeYI9u",
        "outputId": "81f597c7-db60-441e-eb3f-d9290bba0bd7"
      },
      "outputs": [
        {
          "output_type": "execute_result",
          "data": {
            "text/plain": [
              "0.9000345901072293"
            ]
          },
          "metadata": {},
          "execution_count": 24
        }
      ],
      "source": [
        "y_train_pred_90 = (y_scores >= threshold_for_90_precision)\n",
        "precision_score(y_train_5, y_train_pred_90)"
      ]
    },
    {
      "cell_type": "markdown",
      "metadata": {
        "id": "mXVbMN3xYThs"
      },
      "source": [
        "### ROC 곡선의 AUC"
      ]
    },
    {
      "cell_type": "markdown",
      "metadata": {
        "id": "wkNG5t9TYcca"
      },
      "source": [
        "**(참고) ROC 곡선 그리기**"
      ]
    },
    {
      "cell_type": "code",
      "execution_count": 25,
      "metadata": {
        "colab": {
          "base_uri": "https://localhost:8080/",
          "height": 0
        },
        "id": "tur3Pz4JYaJd",
        "outputId": "fd12f9f3-451d-4df8-e958-f6f6a12b84b1"
      },
      "outputs": [
        {
          "output_type": "display_data",
          "data": {
            "text/plain": [
              "<Figure size 432x360 with 1 Axes>"
            ],
            "image/png": "[encoded data removed]"
          },
          "metadata": {
            "needs_background": "light"
          }
        }
      ],
      "source": [
        "from sklearn.metrics import roc_curve\n",
        "\n",
        "fpr, tpr, thresholds = roc_curve(y_train_5, y_scores)  # roc_curve() 함수는 임곗값의 변화에 따른 TPR, FPR 을 계산한다\n",
        "\n",
        "idx_for_threshold_at_90 = (thresholds <= threshold_for_90_precision).argmax()\n",
        "tpr_90, fpr_90 = tpr[idx_for_threshold_at_90], fpr[idx_for_threshold_at_90]\n",
        "\n",
        "plt.figure(figsize=(6, 5))  # extra code – not needed, just formatting\n",
        "plt.plot(fpr, tpr, linewidth=2, label=\"ROC curve\")\n",
        "plt.plot([0, 1], [0, 1], 'k:', label=\"Random classifier's ROC curve\")\n",
        "plt.plot([fpr_90], [tpr_90], \"ko\", label=\"Threshold for 90% precision\")\n",
        "\n",
        "# extra code – just beautifies and saves Figure 3–7\n",
        "plt.gca().add_patch(patches.FancyArrowPatch(\n",
        "    (0.20, 0.89), (0.07, 0.70),\n",
        "    connectionstyle=\"arc3,rad=.4\",\n",
        "    arrowstyle=\"Simple, tail_width=1.5, head_width=8, head_length=10\",\n",
        "    color=\"#444444\"))\n",
        "plt.text(0.12, 0.71, \"Higher\\nthreshold\", color=\"#333333\")\n",
        "plt.xlabel('False Positive Rate (Fall-Out)')\n",
        "plt.ylabel('True Positive Rate (Recall)')\n",
        "plt.grid()\n",
        "plt.axis([0, 1, 0, 1])\n",
        "plt.legend(loc=\"lower right\", fontsize=13)\n",
        "\n",
        "plt.show()"
      ]
    },
    {
      "cell_type": "code",
      "execution_count": 26,
      "metadata": {
        "colab": {
          "base_uri": "https://localhost:8080/"
        },
        "id": "l6ytW_kbcgCj",
        "outputId": "9c97bab1-9168-465d-cce5-536373f72c77"
      },
      "outputs": [
        {
          "output_type": "execute_result",
          "data": {
            "text/plain": [
              "0.9604938554008616"
            ]
          },
          "metadata": {},
          "execution_count": 26
        }
      ],
      "source": [
        "from sklearn.metrics import roc_auc_score # 정밀도\n",
        "\n",
        "roc_auc_score(y_train_5, y_scores)"
      ]
    },
    {
      "cell_type": "markdown",
      "metadata": {
        "id": "RAPzUUZHddaj"
      },
      "source": [
        "### 다중 클래스 분류"
      ]
    },
    {
      "cell_type": "markdown",
      "metadata": {
        "id": "0zIXeaf_exEX"
      },
      "source": [
        "**`SVC` 모델 활용**"
      ]
    },
    {
      "cell_type": "code",
      "execution_count": 27,
      "metadata": {
        "colab": {
          "base_uri": "https://localhost:8080/"
        },
        "id": "AF9eSqMxdfVk",
        "outputId": "e65dffda-1502-43fa-feaa-27819bc13fcb"
      },
      "outputs": [
        {
          "output_type": "execute_result",
          "data": {
            "text/plain": [
              "SVC(random_state=42)"
            ]
          },
          "metadata": {},
          "execution_count": 27
        }
      ],
      "source": [
        "# SVC 모델은 기본적으로 일대일(OvO) 방식을 사용한다\n",
        "from sklearn.svm import SVC\n",
        "\n",
        "svm_clf = SVC(random_state=42)\n",
        "svm_clf.fit(X_train[:2000], y_train[:2000])  # y_train, not y_train_5"
      ]
    },
    {
      "cell_type": "code",
      "execution_count": 28,
      "metadata": {
        "colab": {
          "base_uri": "https://localhost:8080/"
        },
        "id": "HqcBaYHLduro",
        "outputId": "631c05bf-1dd5-46be-b22b-7dd0247be601"
      },
      "outputs": [
        {
          "output_type": "execute_result",
          "data": {
            "text/plain": [
              "array(['5'], dtype=object)"
            ]
          },
          "metadata": {},
          "execution_count": 28
        }
      ],
      "source": [
        "svm_clf.predict([some_digit])"
      ]
    },
    {
      "cell_type": "code",
      "execution_count": 29,
      "metadata": {
        "colab": {
          "base_uri": "https://localhost:8080/"
        },
        "id": "bg-7SsW9eq2O",
        "outputId": "5a9908d9-f9e0-4db0-d9e3-82426e441f6f"
      },
      "outputs": [
        {
          "output_type": "execute_result",
          "data": {
            "text/plain": [
              "array([[ 3.79,  0.73,  6.06,  8.3 , -0.29,  9.3 ,  1.75,  2.77,  7.21,\n",
              "         4.82]])"
            ]
          },
          "metadata": {},
          "execution_count": 29
        }
      ],
      "source": [
        "some_digit_scores = svm_clf.decision_function([some_digit])\n",
        "some_digit_scores.round(2)"
      ]
    },
    {
      "cell_type": "code",
      "execution_count": 30,
      "metadata": {
        "colab": {
          "base_uri": "https://localhost:8080/"
        },
        "id": "8zlp5msSfr1d",
        "outputId": "d6c7206d-149c-4586-9450-fb7537e37262"
      },
      "outputs": [
        {
          "output_type": "execute_result",
          "data": {
            "text/plain": [
              "5"
            ]
          },
          "metadata": {},
          "execution_count": 30
        }
      ],
      "source": [
        "class_id = some_digit_scores.argmax()\n",
        "class_id"
      ]
    },
    {
      "cell_type": "code",
      "execution_count": 31,
      "metadata": {
        "colab": {
          "base_uri": "https://localhost:8080/"
        },
        "id": "OzX0j5ckgBXF",
        "outputId": "cebe285f-a627-4329-e8a7-d1e482620dd5"
      },
      "outputs": [
        {
          "output_type": "execute_result",
          "data": {
            "text/plain": [
              "array(['0', '1', '2', '3', '4', '5', '6', '7', '8', '9'], dtype=object)"
            ]
          },
          "metadata": {},
          "execution_count": 31
        }
      ],
      "source": [
        "svm_clf.classes_"
      ]
    },
    {
      "cell_type": "code",
      "execution_count": 32,
      "metadata": {
        "colab": {
          "base_uri": "https://localhost:8080/",
          "height": 0
        },
        "id": "m6U6QNIZgCZo",
        "outputId": "780a7c85-74e6-4f0b-fba8-4a9539c16bd2"
      },
      "outputs": [
        {
          "output_type": "execute_result",
          "data": {
            "text/plain": [
              "'5'"
            ],
            "application/vnd.google.colaboratory.intrinsic+json": {
              "type": "string"
            }
          },
          "metadata": {},
          "execution_count": 32
        }
      ],
      "source": [
        "svm_clf.classes_[class_id]"
      ]
    },
    {
      "cell_type": "markdown",
      "metadata": {
        "id": "MyAKNcRsygTK"
      },
      "source": [
        "**참고: `OvO` 대 `OvR` 활용**"
      ]
    },
    {
      "cell_type": "code",
      "execution_count": 33,
      "metadata": {
        "colab": {
          "base_uri": "https://localhost:8080/"
        },
        "id": "g4Y45CivyiPy",
        "outputId": "c7375439-1100-4f7e-8eca-928129b2f69d"
      },
      "outputs": [
        {
          "output_type": "execute_result",
          "data": {
            "text/plain": [
              "array([[ 0.11, -0.21, -0.97,  0.51, -1.01,  0.19,  0.09, -0.31, -0.04,\n",
              "        -0.45, -1.28,  0.25, -1.01, -0.13, -0.32, -0.9 , -0.36, -0.93,\n",
              "         0.79, -1.  ,  0.45,  0.24, -0.24,  0.25,  1.54, -0.77,  1.11,\n",
              "         1.13,  1.04,  1.2 , -1.42, -0.53, -0.45, -0.99, -0.95,  1.21,\n",
              "         1.  ,  1.  ,  1.08, -0.02, -0.67, -0.14, -0.3 , -0.13,  0.25]])"
            ]
          },
          "metadata": {},
          "execution_count": 33
        }
      ],
      "source": [
        "# extra code – shows how to get all 45 OvO scores if needed\n",
        "svm_clf.decision_function_shape = \"ovo\"\n",
        "some_digit_scores_ovo = svm_clf.decision_function([some_digit])\n",
        "some_digit_scores_ovo.round(2)"
      ]
    },
    {
      "cell_type": "markdown",
      "metadata": {
        "id": "D7OwIHfPyuY7"
      },
      "source": [
        "- `OneVsOneClassifier` 클래스: 일대일 전략 지원\n",
        "- `OneVsRestClassifier` 클래스: 일대다 전략 지원"
      ]
    },
    {
      "cell_type": "code",
      "execution_count": 34,
      "metadata": {
        "colab": {
          "base_uri": "https://localhost:8080/"
        },
        "id": "ZinvA9OjywLD",
        "outputId": "d514bdcc-2b15-437c-da05-57358c0b2309"
      },
      "outputs": [
        {
          "output_type": "execute_result",
          "data": {
            "text/plain": [
              "OneVsRestClassifier(estimator=SVC(random_state=42))"
            ]
          },
          "metadata": {},
          "execution_count": 34
        }
      ],
      "source": [
        "from sklearn.multiclass import OneVsRestClassifier\n",
        "\n",
        "ovr_clf = OneVsRestClassifier(SVC(random_state=42))\n",
        "ovr_clf.fit(X_train[:2000], y_train[:2000])"
      ]
    },
    {
      "cell_type": "code",
      "execution_count": 35,
      "metadata": {
        "colab": {
          "base_uri": "https://localhost:8080/"
        },
        "id": "azPdXavtyyiT",
        "outputId": "4d6ef9f3-7fb3-4f01-91c6-70e2364b1ef2"
      },
      "outputs": [
        {
          "output_type": "execute_result",
          "data": {
            "text/plain": [
              "array(['5'], dtype='<U1')"
            ]
          },
          "metadata": {},
          "execution_count": 35
        }
      ],
      "source": [
        "ovr_clf.predict([some_digit])"
      ]
    },
    {
      "cell_type": "code",
      "execution_count": 36,
      "metadata": {
        "colab": {
          "base_uri": "https://localhost:8080/"
        },
        "id": "0azXglzxyzjg",
        "outputId": "a3b70e25-5484-4574-8de3-85be2aa1e0f4"
      },
      "outputs": [
        {
          "output_type": "execute_result",
          "data": {
            "text/plain": [
              "10"
            ]
          },
          "metadata": {},
          "execution_count": 36
        }
      ],
      "source": [
        "len(ovr_clf.estimators_)"
      ]
    },
    {
      "cell_type": "markdown",
      "metadata": {
        "id": "xfqCmzSvRflt"
      },
      "source": [
        "**다중 클래스 분류 모델 교차 검증**\n",
        "\n",
        "SGDClassifier 모델은 기본적으로 OvR(일대다) 방식을 사용하여 다중 클래스 분류를 진행한다. 그런데 MNIST에 대해 성능이 별로 높지 않다. 심지어 첫째 샘플에 대한 예측도 틀린다."
      ]
    },
    {
      "cell_type": "code",
      "execution_count": 37,
      "metadata": {
        "colab": {
          "base_uri": "https://localhost:8080/"
        },
        "id": "q6xWyt_RRgIX",
        "outputId": "4ae680a2-60eb-4318-c432-8eb1793f2fde"
      },
      "outputs": [
        {
          "output_type": "execute_result",
          "data": {
            "text/plain": [
              "array(['3'], dtype='<U1')"
            ]
          },
          "metadata": {},
          "execution_count": 37
        }
      ],
      "source": [
        "sgd_clf = SGDClassifier(random_state=42)\n",
        "sgd_clf.fit(X_train, y_train)\n",
        "sgd_clf.predict([some_digit])"
      ]
    },
    {
      "cell_type": "code",
      "execution_count": 38,
      "metadata": {
        "colab": {
          "base_uri": "https://localhost:8080/"
        },
        "id": "08ll6-v-RjCv",
        "outputId": "2fec8c94-5521-4225-98cf-222fe469fc21"
      },
      "outputs": [
        {
          "output_type": "execute_result",
          "data": {
            "text/plain": [
              "array([[-31893., -34420.,  -9531.,   1824., -22320.,  -1386., -26189.,\n",
              "        -16148.,  -4604., -12051.]])"
            ]
          },
          "metadata": {},
          "execution_count": 38
        }
      ],
      "source": [
        "sgd_clf.decision_function([some_digit]).round() # 낮은 결정 함수 점수"
      ]
    },
    {
      "cell_type": "code",
      "execution_count": 39,
      "metadata": {
        "colab": {
          "base_uri": "https://localhost:8080/"
        },
        "id": "e555V87NSyJU",
        "outputId": "1a414511-5641-4a28-bac7-7ffcf692430f"
      },
      "outputs": [
        {
          "output_type": "execute_result",
          "data": {
            "text/plain": [
              "array([0.87365, 0.85835, 0.8689 ])"
            ]
          },
          "metadata": {},
          "execution_count": 39
        }
      ],
      "source": [
        "cross_val_score(sgd_clf, X_train, y_train, cv=3, scoring=\"accuracy\")  # 교차 검증 활용 점수"
      ]
    },
    {
      "cell_type": "code",
      "execution_count": 40,
      "metadata": {
        "colab": {
          "base_uri": "https://localhost:8080/"
        },
        "id": "_HK8WGq2S69n",
        "outputId": "7426b5a5-8078-43ef-f634-71d20b9dcebf"
      },
      "outputs": [
        {
          "output_type": "execute_result",
          "data": {
            "text/plain": [
              "array([0.8983, 0.891 , 0.9018])"
            ]
          },
          "metadata": {},
          "execution_count": 40
        }
      ],
      "source": [
        "# 표준화 스케일링으로 성능 향상\n",
        "from sklearn.preprocessing import StandardScaler\n",
        "\n",
        "scaler = StandardScaler()\n",
        "X_train_scaled = scaler.fit_transform(X_train.astype(\"float64\"))\n",
        "cross_val_score(sgd_clf, X_train_scaled, y_train, cv=3, scoring=\"accuracy\")"
      ]
    },
    {
      "cell_type": "markdown",
      "metadata": {
        "id": "hgBsL3CmRUi7"
      },
      "source": [
        "### 에러 분석"
      ]
    },
    {
      "cell_type": "code",
      "execution_count": 41,
      "metadata": {
        "id": "tjq6oFqpRWj7"
      },
      "outputs": [],
      "source": [
        "from sklearn.metrics import ConfusionMatrixDisplay\n",
        "\n",
        "y_train_pred = cross_val_predict(sgd_clf, X_train_scaled, y_train, cv=3)"
      ]
    },
    {
      "cell_type": "markdown",
      "metadata": {
        "id": "GCFHrbDrekW3"
      },
      "source": [
        "**오차 행렬 활용**\n",
        "\n",
        "- 왼쪽 이미지: 다중 클래스 분류 모델의 오차 행렬을 색상과 함께 표현한다.\n",
        "- 오른쪽 이미지: 행별 퍼센티지의 합이 100이 되도록 정규화한다."
      ]
    },
    {
      "cell_type": "code",
      "execution_count": 42,
      "metadata": {
        "colab": {
          "base_uri": "https://localhost:8080/",
          "height": 0
        },
        "id": "Ew-hlQfNd7Z0",
        "outputId": "17836fec-85a9-44a4-83c0-f3338dd79acd"
      },
      "outputs": [
        {
          "output_type": "display_data",
          "data": {
            "text/plain": [
              "<Figure size 648x288 with 4 Axes>"
            ],
            "image/png": "[encoded data removed]"
          },
          "metadata": {
            "needs_background": "light"
          }
        }
      ],
      "source": [
        "# extra code – this cell generates and saves Figure 3–9\n",
        "fig, axs = plt.subplots(nrows=1, ncols=2, figsize=(9, 4))\n",
        "plt.rc('font', size=9)\n",
        "ConfusionMatrixDisplay.from_predictions(y_train, y_train_pred, ax=axs[0])\n",
        "axs[0].set_title(\"Confusion matrix\")\n",
        "plt.rc('font', size=10)\n",
        "ConfusionMatrixDisplay.from_predictions(y_train, y_train_pred, ax=axs[1],\n",
        "                                        normalize=\"true\", values_format=\".0%\")\n",
        "axs[1].set_title(\"CM normalized by row\")\n",
        "\n",
        "plt.show()"
      ]
    },
    {
      "cell_type": "markdown",
      "metadata": {
        "id": "qS_GGfsgeoqk"
      },
      "source": [
        "**오차율 활용**\n",
        "\n",
        "- 왼쪽 이미지: 올바르게 예측된 샘플을 제외한 후에 행별로 오인된 숫자의 비율을 확인하면 다음과 같다\n",
        "    - `sample_weight` 키워드 인자 활용\n",
        "- 오른쪽 이미지: 칸별 정규화 진행 결과를 보여준다. "
      ]
    },
    {
      "cell_type": "code",
      "execution_count": 43,
      "metadata": {
        "colab": {
          "base_uri": "https://localhost:8080/",
          "height": 0
        },
        "id": "THn8VU64eoGU",
        "outputId": "332ef83d-d07b-4608-cacf-a137414d3ae9"
      },
      "outputs": [
        {
          "output_type": "display_data",
          "data": {
            "text/plain": [
              "<Figure size 648x288 with 4 Axes>"
            ],
            "image/png": "[encoded data removed]"
          },
          "metadata": {
            "needs_background": "light"
          }
        }
      ],
      "source": [
        "sample_weight = (y_train_pred != y_train)\n",
        "\n",
        "fig, axs = plt.subplots(nrows=1, ncols=2, figsize=(9, 4))\n",
        "plt.rc('font', size=10)\n",
        "\n",
        "ConfusionMatrixDisplay.from_predictions(y_train, y_train_pred, ax=axs[0],\n",
        "                                        sample_weight=sample_weight,\n",
        "                                        normalize=\"true\", values_format=\".0%\")\n",
        "axs[0].set_title(\"Errors normalized by row\")\n",
        "\n",
        "ConfusionMatrixDisplay.from_predictions(y_train, y_train_pred, ax=axs[1],\n",
        "                                        sample_weight=sample_weight,\n",
        "                                        normalize=\"pred\", values_format=\".0%\")\n",
        "axs[1].set_title(\"Errors normalized by column\")\n",
        "\n",
        "plt.show()\n",
        "plt.rc('font', size=14)  # make fonts great again"
      ]
    },
    {
      "cell_type": "markdown",
      "metadata": {
        "id": "8e_HQE1dewob"
      },
      "source": [
        "**개별 오류 확인**\n",
        "\n",
        "위 오른쪽 이미지에 의하면 5로 오인된 이미지 중에서 숫자 3 이미지의 비율이 38%로 가장 높다.\n",
        "실제로 오차 행렬과 유사한 행렬을 3과 5에 대해 나타내면 다음과 같다.\n",
        "\n",
        "* 음성: 3으로 판정\n",
        "* 양성: 5로 판정"
      ]
    },
    {
      "cell_type": "code",
      "execution_count": 44,
      "metadata": {
        "id": "aa2Rb7vVeyw4"
      },
      "outputs": [],
      "source": [
        "cl_a, cl_b = '3', '5'\n",
        "X_aa = X_train[(y_train == cl_a) & (y_train_pred == cl_a)]\n",
        "X_ab = X_train[(y_train == cl_a) & (y_train_pred == cl_b)]\n",
        "X_ba = X_train[(y_train == cl_b) & (y_train_pred == cl_a)]\n",
        "X_bb = X_train[(y_train == cl_b) & (y_train_pred == cl_b)]"
      ]
    },
    {
      "cell_type": "code",
      "execution_count": 45,
      "metadata": {
        "colab": {
          "base_uri": "https://localhost:8080/",
          "height": 0
        },
        "id": "_rnBrdbAe0HG",
        "outputId": "440fd734-aebc-43a7-bed4-708a3ca5be0d"
      },
      "outputs": [
        {
          "output_type": "display_data",
          "data": {
            "text/plain": [
              "<Figure size 360x360 with 1 Axes>"
            ],
            "image/png": "[encoded data removed]"
          },
          "metadata": {
            "needs_background": "light"
          }
        }
      ],
      "source": [
        "# extra code – this cell generates and saves Figure 3–11\n",
        "size = 5\n",
        "pad = 0.2\n",
        "plt.figure(figsize=(size, size))\n",
        "for images, (label_col, label_row) in [(X_ba, (0, 0)), (X_bb, (1, 0)),\n",
        "                                       (X_aa, (0, 1)), (X_ab, (1, 1))]:\n",
        "    for idx, image_data in enumerate(images[:size*size]):\n",
        "        x = idx % size + label_col * (size + pad)\n",
        "        y = idx // size + label_row * (size + pad)\n",
        "        plt.imshow(image_data.reshape(28, 28), cmap=\"binary\",\n",
        "                   extent=(x, x + 1, y, y + 1))\n",
        "plt.xticks([size / 2, size + pad + size / 2], [str(cl_a), str(cl_b)])\n",
        "plt.yticks([size / 2, size + pad + size / 2], [str(cl_b), str(cl_a)])\n",
        "plt.plot([size + pad / 2, size + pad / 2], [0, 2 * size + pad], \"k:\")\n",
        "plt.plot([0, 2 * size + pad], [size + pad / 2, size + pad / 2], \"k:\")\n",
        "plt.axis([0, 2 * size + pad, 0, 2 * size + pad])\n",
        "plt.xlabel(\"Predicted label\")\n",
        "plt.ylabel(\"True label\")\n",
        "plt.show()"
      ]
    },
    {
      "cell_type": "markdown",
      "metadata": {
        "id": "BXjaVLrze7dD"
      },
      "source": [
        "### 다중 레이블 분류"
      ]
    },
    {
      "cell_type": "code",
      "execution_count": 46,
      "metadata": {
        "colab": {
          "base_uri": "https://localhost:8080/"
        },
        "id": "tA2ylZkke9zX",
        "outputId": "35b81f9c-270d-4754-85ca-4ad46cded0ad"
      },
      "outputs": [
        {
          "output_type": "execute_result",
          "data": {
            "text/plain": [
              "KNeighborsClassifier()"
            ]
          },
          "metadata": {},
          "execution_count": 46
        }
      ],
      "source": [
        "# 각 숫자 이미지에 대해 7이상인지 여부와 홀수인지 여부를 동시에 판단하는 분류 모델을 구현\n",
        "import numpy as np\n",
        "from sklearn.neighbors import KNeighborsClassifier\n",
        "\n",
        "y_train_large = (y_train >= '7')\n",
        "y_train_odd = (y_train.astype('int8') % 2 == 1)\n",
        "y_multilabel = np.c_[y_train_large, y_train_odd]\n",
        "\n",
        "knn_clf = KNeighborsClassifier()\n",
        "knn_clf.fit(X_train, y_multilabel)"
      ]
    },
    {
      "cell_type": "code",
      "execution_count": 47,
      "metadata": {
        "colab": {
          "base_uri": "https://localhost:8080/"
        },
        "id": "GQkC-roiPitN",
        "outputId": "0b79f13c-cc0e-418c-9541-1507fdb915ed"
      },
      "outputs": [
        {
          "output_type": "execute_result",
          "data": {
            "text/plain": [
              "array([[False,  True]])"
            ]
          },
          "metadata": {},
          "execution_count": 47
        }
      ],
      "source": [
        "knn_clf.predict([some_digit])"
      ]
    },
    {
      "cell_type": "markdown",
      "metadata": {
        "id": "oNVFt8nisupu"
      },
      "source": [
        "**다중 레이블 분류 모델 평가**\n",
        "\n"
      ]
    },
    {
      "cell_type": "code",
      "execution_count": 48,
      "metadata": {
        "colab": {
          "base_uri": "https://localhost:8080/"
        },
        "id": "uXSDBTouss4h",
        "outputId": "8ac7e273-e7e2-43aa-ec66-2d810e659254"
      },
      "outputs": [
        {
          "output_type": "execute_result",
          "data": {
            "text/plain": [
              "0.976410265560605"
            ]
          },
          "metadata": {},
          "execution_count": 48
        }
      ],
      "source": [
        "y_train_knn_pred = cross_val_predict(knn_clf, X_train, y_multilabel, cv=3)\n",
        "f1_score(y_multilabel, y_train_knn_pred, average=\"macro\")"
      ]
    },
    {
      "cell_type": "code",
      "execution_count": 49,
      "metadata": {
        "colab": {
          "base_uri": "https://localhost:8080/"
        },
        "id": "-O4QTRJps5zn",
        "outputId": "830a78fa-1e03-4352-9b76-097cdf9ebbf8"
      },
      "outputs": [
        {
          "output_type": "execute_result",
          "data": {
            "text/plain": [
              "0.9778357403921755"
            ]
          },
          "metadata": {},
          "execution_count": 49
        }
      ],
      "source": [
        "f1_score(y_multilabel, y_train_knn_pred, average=\"weighted\")"
      ]
    },
    {
      "cell_type": "code",
      "execution_count": 50,
      "metadata": {
        "colab": {
          "base_uri": "https://localhost:8080/"
        },
        "id": "V2wei3motJPS",
        "outputId": "62337ab5-951f-4fa1-d355-0b66e123d593"
      },
      "outputs": [
        {
          "output_type": "execute_result",
          "data": {
            "text/plain": [
              "ClassifierChain(base_estimator=SVC(), cv=3, random_state=42)"
            ]
          },
          "metadata": {},
          "execution_count": 50
        }
      ],
      "source": [
        "from sklearn.multioutput import ClassifierChain\n",
        "\n",
        "chain_clf = ClassifierChain(SVC(), cv=3, random_state=42)\n",
        "chain_clf.fit(X_train[:2000], y_multilabel[:2000])"
      ]
    },
    {
      "cell_type": "code",
      "execution_count": 51,
      "metadata": {
        "colab": {
          "base_uri": "https://localhost:8080/"
        },
        "id": "Q8nQLaYOtKvt",
        "outputId": "e801c430-053d-455e-873d-a859f750851d"
      },
      "outputs": [
        {
          "output_type": "execute_result",
          "data": {
            "text/plain": [
              "array([[0., 1.]])"
            ]
          },
          "metadata": {},
          "execution_count": 51
        }
      ],
      "source": [
        "chain_clf.predict([some_digit])"
      ]
    },
    {
      "cell_type": "markdown",
      "metadata": {
        "id": "_zUOECsZtvUN"
      },
      "source": [
        "###  다중 출력 분류"
      ]
    },
    {
      "cell_type": "markdown",
      "metadata": {
        "id": "qBkgXKvbt4jx"
      },
      "source": [
        "노이즈가 포함된 사진에서 원본 사진을 예측하는 분류 모델을 구현한다."
      ]
    },
    {
      "cell_type": "code",
      "execution_count": 52,
      "metadata": {
        "id": "tnaFJhSGtwuB"
      },
      "outputs": [],
      "source": [
        "np.random.seed(42)  # to make this code example reproducible\n",
        "noise = np.random.randint(0, 100, (len(X_train), 784))\n",
        "X_train_mod = X_train + noise\n",
        "noise = np.random.randint(0, 100, (len(X_test), 784))\n",
        "X_test_mod = X_test + noise\n",
        "y_train_mod = X_train\n",
        "y_test_mod = X_test"
      ]
    },
    {
      "cell_type": "code",
      "execution_count": 53,
      "metadata": {
        "colab": {
          "base_uri": "https://localhost:8080/",
          "height": 0
        },
        "id": "s_8egRC2tyAn",
        "outputId": "0b226419-816c-42f1-948b-600768cf9ba6"
      },
      "outputs": [
        {
          "output_type": "display_data",
          "data": {
            "text/plain": [
              "<Figure size 432x288 with 2 Axes>"
            ],
            "image/png": "[encoded data removed]"
          },
          "metadata": {
            "needs_background": "light"
          }
        }
      ],
      "source": [
        "# extra code – this cell generates and saves Figure 3–12\n",
        "plt.subplot(121); plot_digit(X_test_mod[0])\n",
        "plt.subplot(122); plot_digit(y_test_mod[0])\n",
        "\n",
        "plt.show()"
      ]
    },
    {
      "cell_type": "code",
      "execution_count": 54,
      "metadata": {
        "colab": {
          "base_uri": "https://localhost:8080/",
          "height": 0
        },
        "id": "U8FbXmLityoU",
        "outputId": "86b82b13-5ed4-4a23-c453-dbb37fadd9a8"
      },
      "outputs": [
        {
          "output_type": "display_data",
          "data": {
            "text/plain": [
              "<Figure size 432x288 with 1 Axes>"
            ],
            "image/png": "[encoded data removed]"
          },
          "metadata": {
            "needs_background": "light"
          }
        }
      ],
      "source": [
        "knn_clf = KNeighborsClassifier()\n",
        "knn_clf.fit(X_train_mod, y_train_mod)\n",
        "clean_digit = knn_clf.predict([X_test_mod[0]])\n",
        "plot_digit(clean_digit)\n",
        "\n",
        "plt.show()"
      ]
    },
    {
      "cell_type": "markdown",
      "metadata": {
        "id": "5c8JmHyuFvQT"
      },
      "source": [
        "## 과제 1"
      ]
    },
    {
      "cell_type": "markdown",
      "source": [
        "https://www.kaggle.com/code/psy8937/fork-of-titanic-survival"
      ],
      "metadata": {
        "id": "OGg8ramMANJN"
      }
    },
    {
      "cell_type": "markdown",
      "source": [
        "![leaderboard.png](data:image/png;base64,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)"
      ],
      "metadata": {
        "id": "CqaIhNsBAO3I"
      }
    },
    {
      "cell_type": "markdown",
      "metadata": {
        "id": "I9ys1vhoF1dd"
      },
      "source": [
        "## 과제 2"
      ]
    },
    {
      "cell_type": "markdown",
      "source": [
        "### 1. An MNIST Classifier With Over 97% Accuracy"
      ],
      "metadata": {
        "id": "AW1SHHhSA-nE"
      }
    },
    {
      "cell_type": "markdown",
      "source": [
        "**MNIST 데이터셋에 97% 이상의 정확도의 분류기 만들기**"
      ],
      "metadata": {
        "id": "B2z31mpbRAs-"
      }
    },
    {
      "cell_type": "code",
      "execution_count": 55,
      "metadata": {
        "id": "c06poIu7F3Qb",
        "colab": {
          "base_uri": "https://localhost:8080/"
        },
        "outputId": "9ef5486c-3614-45f7-97c4-e2afc0764e1c"
      },
      "outputs": [
        {
          "output_type": "execute_result",
          "data": {
            "text/plain": [
              "0.9688"
            ]
          },
          "metadata": {},
          "execution_count": 55
        }
      ],
      "source": [
        "# 우선 KNeighborsClassifier 분류기로 측정\n",
        "knn_clf = KNeighborsClassifier()\n",
        "knn_clf.fit(X_train, y_train)\n",
        "baseline_accuracy = knn_clf.score(X_test, y_test)\n",
        "baseline_accuracy"
      ]
    },
    {
      "cell_type": "markdown",
      "source": [
        "기본 하이퍼파라미터에서 좋은점수가 나왔지만 하이퍼파라미터를 조정하면 좋은 점수 나올지 알아보자"
      ],
      "metadata": {
        "id": "dRzPsFLHMljr"
      }
    },
    {
      "cell_type": "code",
      "source": [
        "from sklearn.model_selection import GridSearchCV\n",
        "\n",
        "param_grid = [{'weights': [\"uniform\", \"distance\"], 'n_neighbors': [3, 4, 5, 6]}]\n",
        "\n",
        "knn_clf = KNeighborsClassifier()\n",
        "grid_search = GridSearchCV(knn_clf, param_grid, cv=5)\n",
        "grid_search.fit(X_train[:10_000], y_train[:10_000]) # 10000개의 이미지로 훈련"
      ],
      "metadata": {
        "colab": {
          "base_uri": "https://localhost:8080/"
        },
        "id": "mUaS7a-VBa_0",
        "outputId": "4e5dbe3a-c88c-4fb0-d2e5-b509c1db566a"
      },
      "execution_count": 56,
      "outputs": [
        {
          "output_type": "execute_result",
          "data": {
            "text/plain": [
              "GridSearchCV(cv=5, estimator=KNeighborsClassifier(),\n",
              "             param_grid=[{'n_neighbors': [3, 4, 5, 6],\n",
              "                          'weights': ['uniform', 'distance']}])"
            ]
          },
          "metadata": {},
          "execution_count": 56
        }
      ]
    },
    {
      "cell_type": "code",
      "source": [
        "grid_search.best_params_"
      ],
      "metadata": {
        "colab": {
          "base_uri": "https://localhost:8080/"
        },
        "id": "prXPttgTBd-N",
        "outputId": "93c0b3c0-0aa0-4c20-a375-501e558c2712"
      },
      "execution_count": 57,
      "outputs": [
        {
          "output_type": "execute_result",
          "data": {
            "text/plain": [
              "{'n_neighbors': 4, 'weights': 'distance'}"
            ]
          },
          "metadata": {},
          "execution_count": 57
        }
      ]
    },
    {
      "cell_type": "code",
      "source": [
        "grid_search.best_score_"
      ],
      "metadata": {
        "colab": {
          "base_uri": "https://localhost:8080/"
        },
        "id": "M7-7T94IB_ea",
        "outputId": "0fcafd09-e4c4-401d-fe10-f3f4c64536f3"
      },
      "execution_count": 58,
      "outputs": [
        {
          "output_type": "execute_result",
          "data": {
            "text/plain": [
              "0.9441999999999998"
            ]
          },
          "metadata": {},
          "execution_count": 58
        }
      ]
    },
    {
      "cell_type": "markdown",
      "source": [
        "10000개의 이미지로 훈련해서 점수가 떨어졌지만 기존 훈련셋에 훈련하면"
      ],
      "metadata": {
        "id": "V4sMjaPUORRu"
      }
    },
    {
      "cell_type": "code",
      "source": [
        "grid_search.best_estimator_.fit(X_train, y_train)\n",
        "tuned_accuracy = grid_search.score(X_test, y_test)\n",
        "tuned_accuracy"
      ],
      "metadata": {
        "colab": {
          "base_uri": "https://localhost:8080/"
        },
        "id": "hTKbWyPrCBHs",
        "outputId": "2b9177ee-c342-4e16-f396-0b62a9a0eda3"
      },
      "execution_count": 59,
      "outputs": [
        {
          "output_type": "execute_result",
          "data": {
            "text/plain": [
              "0.9714"
            ]
          },
          "metadata": {},
          "execution_count": 59
        }
      ]
    },
    {
      "cell_type": "markdown",
      "source": [
        "97%의 좋은 결과를 얻을수 있다."
      ],
      "metadata": {
        "id": "d2TJrwKVOooT"
      }
    },
    {
      "cell_type": "markdown",
      "source": [
        "### 2. Data Augmentation"
      ],
      "metadata": {
        "id": "MdzovisHCFDX"
      }
    },
    {
      "cell_type": "markdown",
      "source": [
        "**MNIST 이미지를 왼쪽,오른쪽, 위, 아래로 1 픽셀씩 움직인 복사본을 각각 만들고 훈련셋에 추가한다. 그 훈련셋에 대해 최상의 모델을 훈련하고 테스트셋의 정확도를 측정**"
      ],
      "metadata": {
        "id": "I7HOQL1EUckr"
      }
    },
    {
      "cell_type": "code",
      "source": [
        "from scipy.ndimage.interpolation import shift"
      ],
      "metadata": {
        "id": "AV-nU_RoCFcS"
      },
      "execution_count": 60,
      "outputs": []
    },
    {
      "cell_type": "code",
      "source": [
        "# MNIST 이미지 이동 함수\n",
        "def shift_image(image, dx, dy):\n",
        "    image = image.reshape((28, 28))\n",
        "    shifted_image = shift(image, [dy, dx], cval=0, mode=\"constant\")\n",
        "    return shifted_image.reshape([-1])"
      ],
      "metadata": {
        "id": "lXOoZJv7CHrF"
      },
      "execution_count": 61,
      "outputs": []
    },
    {
      "cell_type": "code",
      "source": [
        "# 원본, 위, 아래 작동확인\n",
        "image = X_train[1000]  # some random digit to demo\n",
        "shifted_image_down = shift_image(image, 0, 5)\n",
        "shifted_image_left = shift_image(image, -5, 0)\n",
        "\n",
        "plt.figure(figsize=(12, 3))\n",
        "plt.subplot(131)\n",
        "plt.title(\"Original\")\n",
        "plt.imshow(image.reshape(28, 28),\n",
        "           interpolation=\"nearest\", cmap=\"Greys\")\n",
        "plt.subplot(132)\n",
        "plt.title(\"Shifted down\")\n",
        "plt.imshow(shifted_image_down.reshape(28, 28),\n",
        "           interpolation=\"nearest\", cmap=\"Greys\")\n",
        "plt.subplot(133)\n",
        "plt.title(\"Shifted left\")\n",
        "plt.imshow(shifted_image_left.reshape(28, 28),\n",
        "           interpolation=\"nearest\", cmap=\"Greys\")\n",
        "plt.show()"
      ],
      "metadata": {
        "colab": {
          "base_uri": "https://localhost:8080/",
          "height": 0
        },
        "id": "hkZ5al_gCJBr",
        "outputId": "81198096-07e8-4cb9-e7ee-c1fad7056ee2"
      },
      "execution_count": 62,
      "outputs": [
        {
          "output_type": "display_data",
          "data": {
            "text/plain": [
              "<Figure size 864x216 with 3 Axes>"
            ],
            "image/png": "[encoded data removed]"
          },
          "metadata": {
            "needs_background": "light"
          }
        }
      ]
    },
    {
      "cell_type": "code",
      "source": [
        "# 상하좌우로 이동된 이미지를 넣은 훈련셋을 만들기\n",
        "X_train_augmented = [image for image in X_train]\n",
        "y_train_augmented = [label for label in y_train]\n",
        "\n",
        "for dx, dy in ((-1, 0), (1, 0), (0, 1), (0, -1)):\n",
        "    for image, label in zip(X_train, y_train):\n",
        "        X_train_augmented.append(shift_image(image, dx, dy))\n",
        "        y_train_augmented.append(label)\n",
        "\n",
        "X_train_augmented = np.array(X_train_augmented)\n",
        "y_train_augmented = np.array(y_train_augmented)"
      ],
      "metadata": {
        "id": "cJzql7MiCKdN"
      },
      "execution_count": 63,
      "outputs": []
    },
    {
      "cell_type": "code",
      "source": [
        "# 이동된 이미지가 그룹화 하지않게 훈련셋을 섞어 주기\n",
        "shuffle_idx = np.random.permutation(len(X_train_augmented))\n",
        "X_train_augmented = X_train_augmented[shuffle_idx]\n",
        "y_train_augmented = y_train_augmented[shuffle_idx]"
      ],
      "metadata": {
        "id": "e-dqxipxCL6J"
      },
      "execution_count": 64,
      "outputs": []
    },
    {
      "cell_type": "markdown",
      "source": [
        "1번 문제에서 얻은 하이퍼파라미터를 사용해서 훈련해보자"
      ],
      "metadata": {
        "id": "KHSVec6XYWir"
      }
    },
    {
      "cell_type": "code",
      "source": [
        "knn_clf = KNeighborsClassifier(**grid_search.best_params_)"
      ],
      "metadata": {
        "id": "4vhIwDqoCNBu"
      },
      "execution_count": 65,
      "outputs": []
    },
    {
      "cell_type": "code",
      "source": [
        "knn_clf.fit(X_train_augmented, y_train_augmented)"
      ],
      "metadata": {
        "colab": {
          "base_uri": "https://localhost:8080/"
        },
        "id": "6LDyY4-eCOKe",
        "outputId": "490c38f7-c264-416f-a890-5ec97486c248"
      },
      "execution_count": 66,
      "outputs": [
        {
          "output_type": "execute_result",
          "data": {
            "text/plain": [
              "KNeighborsClassifier(n_neighbors=4, weights='distance')"
            ]
          },
          "metadata": {},
          "execution_count": 66
        }
      ]
    },
    {
      "cell_type": "code",
      "source": [
        "augmented_accuracy = knn_clf.score(X_test, y_test)"
      ],
      "metadata": {
        "id": "1V5eB4ocmoXL"
      },
      "execution_count": 67,
      "outputs": []
    },
    {
      "cell_type": "markdown",
      "source": [
        "데이터 보강으로 정확도가 향상되었다"
      ],
      "metadata": {
        "id": "OZUDk5gQZxTS"
      }
    },
    {
      "cell_type": "code",
      "source": [
        "error_rate_change = (1 - augmented_accuracy) / (1 - tuned_accuracy) - 1\n",
        "print(f\"error_rate_change = {error_rate_change:.0%}\")"
      ],
      "metadata": {
        "colab": {
          "base_uri": "https://localhost:8080/"
        },
        "id": "tVsh0D--Crgy",
        "outputId": "110c9a6c-b365-4069-8ea1-c07ec9a99fe6"
      },
      "execution_count": 68,
      "outputs": [
        {
          "output_type": "stream",
          "name": "stdout",
          "text": [
            "error_rate_change = -17%\n"
          ]
        }
      ]
    },
    {
      "cell_type": "markdown",
      "source": [
        "데이터 보강으로 오류율도 떨어졌다"
      ],
      "metadata": {
        "id": "sVxsnYeZZ3jl"
      }
    },
    {
      "cell_type": "markdown",
      "source": [
        "### 3. Tackle the Titanic dataset"
      ],
      "metadata": {
        "id": "oIrQwA_MC0uZ"
      }
    },
    {
      "cell_type": "markdown",
      "source": [
        "**타이타닉 데이터셋 다루기. 다른 열을 기반으로 Survived열을 예측 하는 분류기를 훈련**"
      ],
      "metadata": {
        "id": "Li0MmSyQaeoK"
      }
    },
    {
      "cell_type": "code",
      "source": [
        "# 데이터 불러오기\n",
        "from pathlib import Path\n",
        "import pandas as pd\n",
        "import tarfile\n",
        "import urllib.request\n",
        "\n",
        "def load_titanic_data():\n",
        "    tarball_path = Path(\"datasets/titanic.tgz\")\n",
        "    if not tarball_path.is_file():\n",
        "        Path(\"datasets\").mkdir(parents=True, exist_ok=True)\n",
        "        url = \"https://github.com/ageron/data/raw/main/titanic.tgz\"\n",
        "        urllib.request.urlretrieve(url, tarball_path)\n",
        "        with tarfile.open(tarball_path) as titanic_tarball:\n",
        "            titanic_tarball.extractall(path=\"datasets\")\n",
        "    return [pd.read_csv(Path(\"datasets/titanic\") / filename)\n",
        "            for filename in (\"train.csv\", \"test.csv\")]"
      ],
      "metadata": {
        "id": "dkwcc3WCC1gF"
      },
      "execution_count": 69,
      "outputs": []
    },
    {
      "cell_type": "code",
      "source": [
        "train_data, test_data = load_titanic_data()"
      ],
      "metadata": {
        "id": "CH-n8mrKC3YA"
      },
      "execution_count": 70,
      "outputs": []
    },
    {
      "cell_type": "code",
      "source": [
        "train_data.head()"
      ],
      "metadata": {
        "colab": {
          "base_uri": "https://localhost:8080/",
          "height": 0
        },
        "id": "hDJcn6lKC4oS",
        "outputId": "39a228b9-9d77-4670-db8d-00a9a0b845f9"
      },
      "execution_count": 71,
      "outputs": [
        {
          "output_type": "execute_result",
          "data": {
            "text/plain": [
              "   PassengerId  Survived  Pclass  \\\n",
              "0            1         0       3   \n",
              "1            2         1       1   \n",
              "2            3         1       3   \n",
              "3            4         1       1   \n",
              "4            5         0       3   \n",
              "\n",
              "                                                Name     Sex   Age  SibSp  \\\n",
              "0                            Braund, Mr. Owen Harris    male  22.0      1   \n",
              "1  Cumings, Mrs. John Bradley (Florence Briggs Th...  female  38.0      1   \n",
              "2                             Heikkinen, Miss. Laina  female  26.0      0   \n",
              "3       Futrelle, Mrs. Jacques Heath (Lily May Peel)  female  35.0      1   \n",
              "4                           Allen, Mr. William Henry    male  35.0      0   \n",
              "\n",
              "   Parch            Ticket     Fare Cabin Embarked  \n",
              "0      0         A/5 21171   7.2500   NaN        S  \n",
              "1      0          PC 17599  71.2833   C85        C  \n",
              "2      0  STON/O2. 3101282   7.9250   NaN        S  \n",
              "3      0            113803  53.1000  C123        S  \n",
              "4      0            373450   8.0500   NaN        S  "
            ],
            "text/html": [
              "\n",
              "  <div id=\"df-d467f4b8-91f6-45ea-9dc6-1e220d28d31f\">\n",
              "    <div class=\"colab-df-container\">\n",
              "      <div>\n",
              "<style scoped>\n",
              "    .dataframe tbody tr th:only-of-type {\n",
              "        vertical-align: middle;\n",
              "    }\n",
              "\n",
              "    .dataframe tbody tr th {\n",
              "        vertical-align: top;\n",
              "    }\n",
              "\n",
              "    .dataframe thead th {\n",
              "        text-align: right;\n",
              "    }\n",
              "</style>\n",
              "<table border=\"1\" class=\"dataframe\">\n",
              "  <thead>\n",
              "    <tr style=\"text-align: right;\">\n",
              "      <th></th>\n",
              "      <th>PassengerId</th>\n",
              "      <th>Survived</th>\n",
              "      <th>Pclass</th>\n",
              "      <th>Name</th>\n",
              "      <th>Sex</th>\n",
              "      <th>Age</th>\n",
              "      <th>SibSp</th>\n",
              "      <th>Parch</th>\n",
              "      <th>Ticket</th>\n",
              "      <th>Fare</th>\n",
              "      <th>Cabin</th>\n",
              "      <th>Embarked</th>\n",
              "    </tr>\n",
              "  </thead>\n",
              "  <tbody>\n",
              "    <tr>\n",
              "      <th>0</th>\n",
              "      <td>1</td>\n",
              "      <td>0</td>\n",
              "      <td>3</td>\n",
              "      <td>Braund, Mr. Owen Harris</td>\n",
              "      <td>male</td>\n",
              "      <td>22.0</td>\n",
              "      <td>1</td>\n",
              "      <td>0</td>\n",
              "      <td>A/5 21171</td>\n",
              "      <td>7.2500</td>\n",
              "      <td>NaN</td>\n",
              "      <td>S</td>\n",
              "    </tr>\n",
              "    <tr>\n",
              "      <th>1</th>\n",
              "      <td>2</td>\n",
              "      <td>1</td>\n",
              "      <td>1</td>\n",
              "      <td>Cumings, Mrs. John Bradley (Florence Briggs Th...</td>\n",
              "      <td>female</td>\n",
              "      <td>38.0</td>\n",
              "      <td>1</td>\n",
              "      <td>0</td>\n",
              "      <td>PC 17599</td>\n",
              "      <td>71.2833</td>\n",
              "      <td>C85</td>\n",
              "      <td>C</td>\n",
              "    </tr>\n",
              "    <tr>\n",
              "      <th>2</th>\n",
              "      <td>3</td>\n",
              "      <td>1</td>\n",
              "      <td>3</td>\n",
              "      <td>Heikkinen, Miss. Laina</td>\n",
              "      <td>female</td>\n",
              "      <td>26.0</td>\n",
              "      <td>0</td>\n",
              "      <td>0</td>\n",
              "      <td>STON/O2. 3101282</td>\n",
              "      <td>7.9250</td>\n",
              "      <td>NaN</td>\n",
              "      <td>S</td>\n",
              "    </tr>\n",
              "    <tr>\n",
              "      <th>3</th>\n",
              "      <td>4</td>\n",
              "      <td>1</td>\n",
              "      <td>1</td>\n",
              "      <td>Futrelle, Mrs. Jacques Heath (Lily May Peel)</td>\n",
              "      <td>female</td>\n",
              "      <td>35.0</td>\n",
              "      <td>1</td>\n",
              "      <td>0</td>\n",
              "      <td>113803</td>\n",
              "      <td>53.1000</td>\n",
              "      <td>C123</td>\n",
              "      <td>S</td>\n",
              "    </tr>\n",
              "    <tr>\n",
              "      <th>4</th>\n",
              "      <td>5</td>\n",
              "      <td>0</td>\n",
              "      <td>3</td>\n",
              "      <td>Allen, Mr. William Henry</td>\n",
              "      <td>male</td>\n",
              "      <td>35.0</td>\n",
              "      <td>0</td>\n",
              "      <td>0</td>\n",
              "      <td>373450</td>\n",
              "      <td>8.0500</td>\n",
              "      <td>NaN</td>\n",
              "      <td>S</td>\n",
              "    </tr>\n",
              "  </tbody>\n",
              "</table>\n",
              "</div>\n",
              "      <button class=\"colab-df-convert\" onclick=\"convertToInteractive('df-d467f4b8-91f6-45ea-9dc6-1e220d28d31f')\"\n",
              "              title=\"Convert this dataframe to an interactive table.\"\n",
              "              style=\"display:none;\">\n",
              "        \n",
              "  <svg xmlns=\"http://www.w3.org/2000/svg\" height=\"24px\"viewBox=\"0 0 24 24\"\n",
              "       width=\"24px\">\n",
              "    <path d=\"M0 0h24v24H0V0z\" fill=\"none\"/>\n",
              "    <path d=\"M18.56 5.44l.94 2.06.94-2.06 2.06-.94-2.06-.94-.94-2.06-.94 2.06-2.06.94zm-11 1L8.5 8.5l.94-2.06 2.06-.94-2.06-.94L8.5 2.5l-.94 2.06-2.06.94zm10 10l.94 2.06.94-2.06 2.06-.94-2.06-.94-.94-2.06-.94 2.06-2.06.94z\"/><path d=\"M17.41 7.96l-1.37-1.37c-.4-.4-.92-.59-1.43-.59-.52 0-1.04.2-1.43.59L10.3 9.45l-7.72 7.72c-.78.78-.78 2.05 0 2.83L4 21.41c.39.39.9.59 1.41.59.51 0 1.02-.2 1.41-.59l7.78-7.78 2.81-2.81c.8-.78.8-2.07 0-2.86zM5.41 20L4 18.59l7.72-7.72 1.47 1.35L5.41 20z\"/>\n",
              "  </svg>\n",
              "      </button>\n",
              "      \n",
              "  <style>\n",
              "    .colab-df-container {\n",
              "      display:flex;\n",
              "      flex-wrap:wrap;\n",
              "      gap: 12px;\n",
              "    }\n",
              "\n",
              "    .colab-df-convert {\n",
              "      background-color: #E8F0FE;\n",
              "      border: none;\n",
              "      border-radius: 50%;\n",
              "      cursor: pointer;\n",
              "      display: none;\n",
              "      fill: #1967D2;\n",
              "      height: 32px;\n",
              "      padding: 0 0 0 0;\n",
              "      width: 32px;\n",
              "    }\n",
              "\n",
              "    .colab-df-convert:hover {\n",
              "      background-color: #E2EBFA;\n",
              "      box-shadow: 0px 1px 2px rgba(60, 64, 67, 0.3), 0px 1px 3px 1px rgba(60, 64, 67, 0.15);\n",
              "      fill: #174EA6;\n",
              "    }\n",
              "\n",
              "    [theme=dark] .colab-df-convert {\n",
              "      background-color: #3B4455;\n",
              "      fill: #D2E3FC;\n",
              "    }\n",
              "\n",
              "    [theme=dark] .colab-df-convert:hover {\n",
              "      background-color: #434B5C;\n",
              "      box-shadow: 0px 1px 3px 1px rgba(0, 0, 0, 0.15);\n",
              "      filter: drop-shadow(0px 1px 2px rgba(0, 0, 0, 0.3));\n",
              "      fill: #FFFFFF;\n",
              "    }\n",
              "  </style>\n",
              "\n",
              "      <script>\n",
              "        const buttonEl =\n",
              "          document.querySelector('#df-d467f4b8-91f6-45ea-9dc6-1e220d28d31f button.colab-df-convert');\n",
              "        buttonEl.style.display =\n",
              "          google.colab.kernel.accessAllowed ? 'block' : 'none';\n",
              "\n",
              "        async function convertToInteractive(key) {\n",
              "          const element = document.querySelector('#df-d467f4b8-91f6-45ea-9dc6-1e220d28d31f');\n",
              "          const dataTable =\n",
              "            await google.colab.kernel.invokeFunction('convertToInteractive',\n",
              "                                                     [key], {});\n",
              "          if (!dataTable) return;\n",
              "\n",
              "          const docLinkHtml = 'Like what you see? Visit the ' +\n",
              "            '<a target=\"_blank\" href=https://colab.research.google.com/notebooks/data_table.ipynb>data table notebook</a>'\n",
              "            + ' to learn more about interactive tables.';\n",
              "          element.innerHTML = '';\n",
              "          dataTable['output_type'] = 'display_data';\n",
              "          await google.colab.output.renderOutput(dataTable, element);\n",
              "          const docLink = document.createElement('div');\n",
              "          docLink.innerHTML = docLinkHtml;\n",
              "          element.appendChild(docLink);\n",
              "        }\n",
              "      </script>\n",
              "    </div>\n",
              "  </div>\n",
              "  "
            ]
          },
          "metadata": {},
          "execution_count": 71
        }
      ]
    },
    {
      "cell_type": "markdown",
      "source": [
        "아래는 각 속성의 뜻이다:\n",
        "* **PassengerId**: 각 승객의 고유번호\n",
        "* **Survived**: 생존여부\n",
        "* **Pclass**: 객실등급\n",
        "* **Name**, **Sex**, **Age**: 이름, 성별, 나이\n",
        "* **SibSp**: 동승한 형제자매나 배우자의 수\n",
        "* **Parch**: 동승한 부모나 자식의 수\n",
        "* **Ticket**: 티켓 고유번호\n",
        "* **Fare**: 티켓요금 (파운드)\n",
        "* **Cabin**: 객실번호\n",
        "* **Embarked**: 승선한 항"
      ],
      "metadata": {
        "id": "3LNRlJeibydi"
      }
    },
    {
      "cell_type": "markdown",
      "source": [
        "승객의 나이, 성별, 승선한 항 등의 속성으로 생존여부를 예측할 것이다."
      ],
      "metadata": {
        "id": "kbZGbZRhea-r"
      }
    },
    {
      "cell_type": "code",
      "source": [
        "# PassengerId열을 인덱스로 설정\n",
        "train_data = train_data.set_index(\"PassengerId\")\n",
        "test_data = test_data.set_index(\"PassengerId\")"
      ],
      "metadata": {
        "id": "WsRGwE3jC519"
      },
      "execution_count": 72,
      "outputs": []
    },
    {
      "cell_type": "code",
      "source": [
        "train_data.info()"
      ],
      "metadata": {
        "colab": {
          "base_uri": "https://localhost:8080/"
        },
        "id": "kXY29zo5C7JH",
        "outputId": "9fd90add-cd9b-4d1b-db58-bafaaaea84e2"
      },
      "execution_count": 73,
      "outputs": [
        {
          "output_type": "stream",
          "name": "stdout",
          "text": [
            "<class 'pandas.core.frame.DataFrame'>\n",
            "Int64Index: 891 entries, 1 to 891\n",
            "Data columns (total 11 columns):\n",
            " #   Column    Non-Null Count  Dtype  \n",
            "---  ------    --------------  -----  \n",
            " 0   Survived  891 non-null    int64  \n",
            " 1   Pclass    891 non-null    int64  \n",
            " 2   Name      891 non-null    object \n",
            " 3   Sex       891 non-null    object \n",
            " 4   Age       714 non-null    float64\n",
            " 5   SibSp     891 non-null    int64  \n",
            " 6   Parch     891 non-null    int64  \n",
            " 7   Ticket    891 non-null    object \n",
            " 8   Fare      891 non-null    float64\n",
            " 9   Cabin     204 non-null    object \n",
            " 10  Embarked  889 non-null    object \n",
            "dtypes: float64(2), int64(4), object(5)\n",
            "memory usage: 83.5+ KB\n"
          ]
        }
      ]
    },
    {
      "cell_type": "markdown",
      "source": [
        "Age, Cabin, Embarked에 많은 값이 비어있다. Cabin이 null값이 가장 많지만 우선 무시하고 Age의 null값을 중간연령값으로 채운다."
      ],
      "metadata": {
        "id": "o0iLPlbOg-kE"
      }
    },
    {
      "cell_type": "code",
      "source": [
        "train_data[train_data[\"Sex\"]==\"female\"][\"Age\"].median()"
      ],
      "metadata": {
        "colab": {
          "base_uri": "https://localhost:8080/"
        },
        "id": "bEysUWJaC8cC",
        "outputId": "2a79e968-70c2-4059-ee3c-ab32216f2879"
      },
      "execution_count": 74,
      "outputs": [
        {
          "output_type": "execute_result",
          "data": {
            "text/plain": [
              "27.0"
            ]
          },
          "metadata": {},
          "execution_count": 74
        }
      ]
    },
    {
      "cell_type": "code",
      "source": [
        "train_data.describe()"
      ],
      "metadata": {
        "colab": {
          "base_uri": "https://localhost:8080/",
          "height": 0
        },
        "id": "Bm6TrJs9C9wR",
        "outputId": "c1cc47a4-81d7-4ea5-ca6c-05d5b5a01862"
      },
      "execution_count": 75,
      "outputs": [
        {
          "output_type": "execute_result",
          "data": {
            "text/plain": [
              "         Survived      Pclass         Age       SibSp       Parch        Fare\n",
              "count  891.000000  891.000000  714.000000  891.000000  891.000000  891.000000\n",
              "mean     0.383838    2.308642   29.699113    0.523008    0.381594   32.204208\n",
              "std      0.486592    0.836071   14.526507    1.102743    0.806057   49.693429\n",
              "min      0.000000    1.000000    0.416700    0.000000    0.000000    0.000000\n",
              "25%      0.000000    2.000000   20.125000    0.000000    0.000000    7.910400\n",
              "50%      0.000000    3.000000   28.000000    0.000000    0.000000   14.454200\n",
              "75%      1.000000    3.000000   38.000000    1.000000    0.000000   31.000000\n",
              "max      1.000000    3.000000   80.000000    8.000000    6.000000  512.329200"
            ],
            "text/html": [
              "\n",
              "  <div id=\"df-89eecb43-b785-4eb4-9d33-7d1838c69ea8\">\n",
              "    <div class=\"colab-df-container\">\n",
              "      <div>\n",
              "<style scoped>\n",
              "    .dataframe tbody tr th:only-of-type {\n",
              "        vertical-align: middle;\n",
              "    }\n",
              "\n",
              "    .dataframe tbody tr th {\n",
              "        vertical-align: top;\n",
              "    }\n",
              "\n",
              "    .dataframe thead th {\n",
              "        text-align: right;\n",
              "    }\n",
              "</style>\n",
              "<table border=\"1\" class=\"dataframe\">\n",
              "  <thead>\n",
              "    <tr style=\"text-align: right;\">\n",
              "      <th></th>\n",
              "      <th>Survived</th>\n",
              "      <th>Pclass</th>\n",
              "      <th>Age</th>\n",
              "      <th>SibSp</th>\n",
              "      <th>Parch</th>\n",
              "      <th>Fare</th>\n",
              "    </tr>\n",
              "  </thead>\n",
              "  <tbody>\n",
              "    <tr>\n",
              "      <th>count</th>\n",
              "      <td>891.000000</td>\n",
              "      <td>891.000000</td>\n",
              "      <td>714.000000</td>\n",
              "      <td>891.000000</td>\n",
              "      <td>891.000000</td>\n",
              "      <td>891.000000</td>\n",
              "    </tr>\n",
              "    <tr>\n",
              "      <th>mean</th>\n",
              "      <td>0.383838</td>\n",
              "      <td>2.308642</td>\n",
              "      <td>29.699113</td>\n",
              "      <td>0.523008</td>\n",
              "      <td>0.381594</td>\n",
              "      <td>32.204208</td>\n",
              "    </tr>\n",
              "    <tr>\n",
              "      <th>std</th>\n",
              "      <td>0.486592</td>\n",
              "      <td>0.836071</td>\n",
              "      <td>14.526507</td>\n",
              "      <td>1.102743</td>\n",
              "      <td>0.806057</td>\n",
              "      <td>49.693429</td>\n",
              "    </tr>\n",
              "    <tr>\n",
              "      <th>min</th>\n",
              "      <td>0.000000</td>\n",
              "      <td>1.000000</td>\n",
              "      <td>0.416700</td>\n",
              "      <td>0.000000</td>\n",
              "      <td>0.000000</td>\n",
              "      <td>0.000000</td>\n",
              "    </tr>\n",
              "    <tr>\n",
              "      <th>25%</th>\n",
              "      <td>0.000000</td>\n",
              "      <td>2.000000</td>\n",
              "      <td>20.125000</td>\n",
              "      <td>0.000000</td>\n",
              "      <td>0.000000</td>\n",
              "      <td>7.910400</td>\n",
              "    </tr>\n",
              "    <tr>\n",
              "      <th>50%</th>\n",
              "      <td>0.000000</td>\n",
              "      <td>3.000000</td>\n",
              "      <td>28.000000</td>\n",
              "      <td>0.000000</td>\n",
              "      <td>0.000000</td>\n",
              "      <td>14.454200</td>\n",
              "    </tr>\n",
              "    <tr>\n",
              "      <th>75%</th>\n",
              "      <td>1.000000</td>\n",
              "      <td>3.000000</td>\n",
              "      <td>38.000000</td>\n",
              "      <td>1.000000</td>\n",
              "      <td>0.000000</td>\n",
              "      <td>31.000000</td>\n",
              "    </tr>\n",
              "    <tr>\n",
              "      <th>max</th>\n",
              "      <td>1.000000</td>\n",
              "      <td>3.000000</td>\n",
              "      <td>80.000000</td>\n",
              "      <td>8.000000</td>\n",
              "      <td>6.000000</td>\n",
              "      <td>512.329200</td>\n",
              "    </tr>\n",
              "  </tbody>\n",
              "</table>\n",
              "</div>\n",
              "      <button class=\"colab-df-convert\" onclick=\"convertToInteractive('df-89eecb43-b785-4eb4-9d33-7d1838c69ea8')\"\n",
              "              title=\"Convert this dataframe to an interactive table.\"\n",
              "              style=\"display:none;\">\n",
              "        \n",
              "  <svg xmlns=\"http://www.w3.org/2000/svg\" height=\"24px\"viewBox=\"0 0 24 24\"\n",
              "       width=\"24px\">\n",
              "    <path d=\"M0 0h24v24H0V0z\" fill=\"none\"/>\n",
              "    <path d=\"M18.56 5.44l.94 2.06.94-2.06 2.06-.94-2.06-.94-.94-2.06-.94 2.06-2.06.94zm-11 1L8.5 8.5l.94-2.06 2.06-.94-2.06-.94L8.5 2.5l-.94 2.06-2.06.94zm10 10l.94 2.06.94-2.06 2.06-.94-2.06-.94-.94-2.06-.94 2.06-2.06.94z\"/><path d=\"M17.41 7.96l-1.37-1.37c-.4-.4-.92-.59-1.43-.59-.52 0-1.04.2-1.43.59L10.3 9.45l-7.72 7.72c-.78.78-.78 2.05 0 2.83L4 21.41c.39.39.9.59 1.41.59.51 0 1.02-.2 1.41-.59l7.78-7.78 2.81-2.81c.8-.78.8-2.07 0-2.86zM5.41 20L4 18.59l7.72-7.72 1.47 1.35L5.41 20z\"/>\n",
              "  </svg>\n",
              "      </button>\n",
              "      \n",
              "  <style>\n",
              "    .colab-df-container {\n",
              "      display:flex;\n",
              "      flex-wrap:wrap;\n",
              "      gap: 12px;\n",
              "    }\n",
              "\n",
              "    .colab-df-convert {\n",
              "      background-color: #E8F0FE;\n",
              "      border: none;\n",
              "      border-radius: 50%;\n",
              "      cursor: pointer;\n",
              "      display: none;\n",
              "      fill: #1967D2;\n",
              "      height: 32px;\n",
              "      padding: 0 0 0 0;\n",
              "      width: 32px;\n",
              "    }\n",
              "\n",
              "    .colab-df-convert:hover {\n",
              "      background-color: #E2EBFA;\n",
              "      box-shadow: 0px 1px 2px rgba(60, 64, 67, 0.3), 0px 1px 3px 1px rgba(60, 64, 67, 0.15);\n",
              "      fill: #174EA6;\n",
              "    }\n",
              "\n",
              "    [theme=dark] .colab-df-convert {\n",
              "      background-color: #3B4455;\n",
              "      fill: #D2E3FC;\n",
              "    }\n",
              "\n",
              "    [theme=dark] .colab-df-convert:hover {\n",
              "      background-color: #434B5C;\n",
              "      box-shadow: 0px 1px 3px 1px rgba(0, 0, 0, 0.15);\n",
              "      filter: drop-shadow(0px 1px 2px rgba(0, 0, 0, 0.3));\n",
              "      fill: #FFFFFF;\n",
              "    }\n",
              "  </style>\n",
              "\n",
              "      <script>\n",
              "        const buttonEl =\n",
              "          document.querySelector('#df-89eecb43-b785-4eb4-9d33-7d1838c69ea8 button.colab-df-convert');\n",
              "        buttonEl.style.display =\n",
              "          google.colab.kernel.accessAllowed ? 'block' : 'none';\n",
              "\n",
              "        async function convertToInteractive(key) {\n",
              "          const element = document.querySelector('#df-89eecb43-b785-4eb4-9d33-7d1838c69ea8');\n",
              "          const dataTable =\n",
              "            await google.colab.kernel.invokeFunction('convertToInteractive',\n",
              "                                                     [key], {});\n",
              "          if (!dataTable) return;\n",
              "\n",
              "          const docLinkHtml = 'Like what you see? Visit the ' +\n",
              "            '<a target=\"_blank\" href=https://colab.research.google.com/notebooks/data_table.ipynb>data table notebook</a>'\n",
              "            + ' to learn more about interactive tables.';\n",
              "          element.innerHTML = '';\n",
              "          dataTable['output_type'] = 'display_data';\n",
              "          await google.colab.output.renderOutput(dataTable, element);\n",
              "          const docLink = document.createElement('div');\n",
              "          docLink.innerHTML = docLinkHtml;\n",
              "          element.appendChild(docLink);\n",
              "        }\n",
              "      </script>\n",
              "    </div>\n",
              "  </div>\n",
              "  "
            ]
          },
          "metadata": {},
          "execution_count": 75
        }
      ]
    },
    {
      "cell_type": "markdown",
      "source": [
        "38%만 살아남았고 평균나이는 30세 이다.\n",
        "\n",
        "실제로 생존비율이 맞는지 확인해보자"
      ],
      "metadata": {
        "id": "H9i7aq1qjImH"
      }
    },
    {
      "cell_type": "code",
      "source": [
        "train_data[\"Survived\"].value_counts()"
      ],
      "metadata": {
        "colab": {
          "base_uri": "https://localhost:8080/"
        },
        "id": "JhqrUAgfC-2d",
        "outputId": "f785ed58-5266-4759-92c6-446f247487e1"
      },
      "execution_count": 76,
      "outputs": [
        {
          "output_type": "execute_result",
          "data": {
            "text/plain": [
              "0    549\n",
              "1    342\n",
              "Name: Survived, dtype: int64"
            ]
          },
          "metadata": {},
          "execution_count": 76
        }
      ]
    },
    {
      "cell_type": "markdown",
      "source": [
        "이제 각각의 속성을 확인해보자"
      ],
      "metadata": {
        "id": "75v_rTsMkAJE"
      }
    },
    {
      "cell_type": "code",
      "source": [
        "train_data[\"Pclass\"].value_counts()"
      ],
      "metadata": {
        "colab": {
          "base_uri": "https://localhost:8080/"
        },
        "id": "dTpiOalDDIMn",
        "outputId": "3249e8c0-be08-468b-cd49-2d26c030cbd7"
      },
      "execution_count": 77,
      "outputs": [
        {
          "output_type": "execute_result",
          "data": {
            "text/plain": [
              "3    491\n",
              "1    216\n",
              "2    184\n",
              "Name: Pclass, dtype: int64"
            ]
          },
          "metadata": {},
          "execution_count": 77
        }
      ]
    },
    {
      "cell_type": "code",
      "source": [
        "train_data[\"Sex\"].value_counts()"
      ],
      "metadata": {
        "colab": {
          "base_uri": "https://localhost:8080/"
        },
        "id": "MmowFN0ODJeD",
        "outputId": "e9d4a001-037c-41f7-f1dc-9055e4ceadfa"
      },
      "execution_count": 78,
      "outputs": [
        {
          "output_type": "execute_result",
          "data": {
            "text/plain": [
              "male      577\n",
              "female    314\n",
              "Name: Sex, dtype: int64"
            ]
          },
          "metadata": {},
          "execution_count": 78
        }
      ]
    },
    {
      "cell_type": "code",
      "source": [
        "train_data[\"Embarked\"].value_counts()"
      ],
      "metadata": {
        "colab": {
          "base_uri": "https://localhost:8080/"
        },
        "id": "WrZJPbAJDKxT",
        "outputId": "0fdde308-1002-4097-8d76-ebfa1148fefe"
      },
      "execution_count": 79,
      "outputs": [
        {
          "output_type": "execute_result",
          "data": {
            "text/plain": [
              "S    644\n",
              "C    168\n",
              "Q     77\n",
              "Name: Embarked, dtype: int64"
            ]
          },
          "metadata": {},
          "execution_count": 79
        }
      ]
    },
    {
      "cell_type": "markdown",
      "source": [
        "Embarked의 속성의 S, C, Q는 승객이 승선한 위치이다.\n",
        "S=Southampton. C=Cherbourg, Q=Queenstown,"
      ],
      "metadata": {
        "id": "6xdbxrKokYSY"
      }
    },
    {
      "cell_type": "markdown",
      "source": [
        "이제 전처리 파이프라인을 구축해보자"
      ],
      "metadata": {
        "id": "4rabnmWDlJtF"
      }
    },
    {
      "cell_type": "code",
      "source": [
        "from sklearn.pipeline import Pipeline\n",
        "from sklearn.impute import SimpleImputer\n",
        "\n",
        "num_pipeline = Pipeline([\n",
        "        (\"imputer\", SimpleImputer(strategy=\"median\")),\n",
        "        (\"scaler\", StandardScaler())\n",
        "    ])"
      ],
      "metadata": {
        "id": "TEgC0ThHDL8B"
      },
      "execution_count": 80,
      "outputs": []
    },
    {
      "cell_type": "code",
      "source": [
        "from sklearn.preprocessing import OrdinalEncoder, OneHotEncoder"
      ],
      "metadata": {
        "id": "8IxjBt_vDNQq"
      },
      "execution_count": 81,
      "outputs": []
    },
    {
      "cell_type": "code",
      "source": [
        "cat_pipeline = Pipeline([\n",
        "        (\"ordinal_encoder\", OrdinalEncoder()),    \n",
        "        (\"imputer\", SimpleImputer(strategy=\"most_frequent\")),\n",
        "        (\"cat_encoder\", OneHotEncoder(sparse=False)),\n",
        "    ])"
      ],
      "metadata": {
        "id": "RcoYhlTdDQOn"
      },
      "execution_count": 82,
      "outputs": []
    },
    {
      "cell_type": "markdown",
      "source": [
        "수치형과 범주형 파이프라인 결합"
      ],
      "metadata": {
        "id": "e_eIeOX3l-f7"
      }
    },
    {
      "cell_type": "code",
      "source": [
        "from sklearn.compose import ColumnTransformer\n",
        "\n",
        "num_attribs = [\"Age\", \"SibSp\", \"Parch\", \"Fare\"]\n",
        "cat_attribs = [\"Pclass\", \"Sex\", \"Embarked\"]\n",
        "\n",
        "preprocess_pipeline = ColumnTransformer([\n",
        "        (\"num\", num_pipeline, num_attribs),\n",
        "        (\"cat\", cat_pipeline, cat_attribs),\n",
        "    ])"
      ],
      "metadata": {
        "id": "BgJiDiQwDRkR"
      },
      "execution_count": 83,
      "outputs": []
    },
    {
      "cell_type": "markdown",
      "source": [
        "전처리 파이프라인 생성"
      ],
      "metadata": {
        "id": "Oh7IYq-NoACF"
      }
    },
    {
      "cell_type": "code",
      "source": [
        "X_train = preprocess_pipeline.fit_transform(train_data)\n",
        "X_train"
      ],
      "metadata": {
        "colab": {
          "base_uri": "https://localhost:8080/"
        },
        "id": "v6lS5IdkDS1d",
        "outputId": "e56f56fe-b1b7-4b18-ceaf-3290926583cd"
      },
      "execution_count": 84,
      "outputs": [
        {
          "output_type": "execute_result",
          "data": {
            "text/plain": [
              "array([[-0.56573582,  0.43279337, -0.47367361, ...,  0.        ,\n",
              "         0.        ,  1.        ],\n",
              "       [ 0.6638609 ,  0.43279337, -0.47367361, ...,  1.        ,\n",
              "         0.        ,  0.        ],\n",
              "       [-0.25833664, -0.4745452 , -0.47367361, ...,  0.        ,\n",
              "         0.        ,  1.        ],\n",
              "       ...,\n",
              "       [-0.10463705,  0.43279337,  2.00893337, ...,  0.        ,\n",
              "         0.        ,  1.        ],\n",
              "       [-0.25833664, -0.4745452 , -0.47367361, ...,  1.        ,\n",
              "         0.        ,  0.        ],\n",
              "       [ 0.20276213, -0.4745452 , -0.47367361, ...,  0.        ,\n",
              "         1.        ,  0.        ]])"
            ]
          },
          "metadata": {},
          "execution_count": 84
        }
      ]
    },
    {
      "cell_type": "code",
      "source": [
        "y_train = train_data[\"Survived\"]"
      ],
      "metadata": {
        "id": "Fc_vItG6DUIP"
      },
      "execution_count": 85,
      "outputs": []
    },
    {
      "cell_type": "markdown",
      "source": [
        "랜덤포레스트 분류기 훈련"
      ],
      "metadata": {
        "id": "5LWFzYihoCe2"
      }
    },
    {
      "cell_type": "code",
      "source": [
        "from sklearn.ensemble import RandomForestClassifier\n",
        "forest_clf = RandomForestClassifier(n_estimators=100, random_state=42)\n",
        "forest_clf.fit(X_train, y_train)"
      ],
      "metadata": {
        "colab": {
          "base_uri": "https://localhost:8080/"
        },
        "id": "lGzkx-rxDV5s",
        "outputId": "ea36e9e1-6f13-4ff0-86cd-a8dceda35572"
      },
      "execution_count": 86,
      "outputs": [
        {
          "output_type": "execute_result",
          "data": {
            "text/plain": [
              "RandomForestClassifier(random_state=42)"
            ]
          },
          "metadata": {},
          "execution_count": 86
        }
      ]
    },
    {
      "cell_type": "markdown",
      "source": [
        "테스트셋 예측"
      ],
      "metadata": {
        "id": "FUZL9nMVo3kD"
      }
    },
    {
      "cell_type": "code",
      "source": [
        "X_test = preprocess_pipeline.transform(test_data)\n",
        "y_pred = forest_clf.predict(X_test)"
      ],
      "metadata": {
        "id": "nUktM0_ODW--"
      },
      "execution_count": 87,
      "outputs": []
    },
    {
      "cell_type": "markdown",
      "source": [
        "교차검증을 통한 모델 성능 확인"
      ],
      "metadata": {
        "id": "8CkeC0Cxo6RX"
      }
    },
    {
      "cell_type": "code",
      "source": [
        "forest_scores = cross_val_score(forest_clf, X_train, y_train, cv=10)\n",
        "forest_scores.mean()"
      ],
      "metadata": {
        "colab": {
          "base_uri": "https://localhost:8080/"
        },
        "id": "fSznVvFmDYKL",
        "outputId": "96589fe7-438d-49bc-b8ce-a6fe8da3deae"
      },
      "execution_count": 88,
      "outputs": [
        {
          "output_type": "execute_result",
          "data": {
            "text/plain": [
              "0.8137578027465668"
            ]
          },
          "metadata": {},
          "execution_count": 88
        }
      ]
    },
    {
      "cell_type": "markdown",
      "source": [
        "SVC 모델 확인"
      ],
      "metadata": {
        "id": "49qzWxL7peiR"
      }
    },
    {
      "cell_type": "code",
      "source": [
        "from sklearn.svm import SVC\n",
        "\n",
        "svm_clf = SVC(gamma=\"auto\")\n",
        "svm_scores = cross_val_score(svm_clf, X_train, y_train, cv=10)\n",
        "svm_scores.mean()"
      ],
      "metadata": {
        "colab": {
          "base_uri": "https://localhost:8080/"
        },
        "id": "8Ybwkxq6DZjz",
        "outputId": "d73427b7-8c76-4a0d-8b99-d936971c2ff1"
      },
      "execution_count": 89,
      "outputs": [
        {
          "output_type": "execute_result",
          "data": {
            "text/plain": [
              "0.8249313358302123"
            ]
          },
          "metadata": {},
          "execution_count": 89
        }
      ]
    },
    {
      "cell_type": "markdown",
      "source": [
        "성능이 약간 향상 되었다."
      ],
      "metadata": {
        "id": "6BP2SQ07qtxX"
      }
    },
    {
      "cell_type": "markdown",
      "source": [
        "교차 검증으로 나온 평균 정확도만 보는 대신 각 모델에 대한 10개의 점수를 모두 표시하고 아래 사분위와 위 사분위를 강조해서 보여주는 박스 플롯(상자 수염 그림)으로 나타내보자"
      ],
      "metadata": {
        "id": "hSch4al9qxgw"
      }
    },
    {
      "cell_type": "code",
      "source": [
        "plt.figure(figsize=(8, 4))\n",
        "plt.plot([1]*10, svm_scores, \".\")\n",
        "plt.plot([2]*10, forest_scores, \".\")\n",
        "plt.boxplot([svm_scores, forest_scores], labels=(\"SVM\", \"Random Forest\"))\n",
        "plt.ylabel(\"Accuracy\")\n",
        "plt.show()"
      ],
      "metadata": {
        "colab": {
          "base_uri": "https://localhost:8080/",
          "height": 0
        },
        "id": "PTUQIRb3DbLa",
        "outputId": "8d6a6abb-346a-420c-c728-f29a5206840c"
      },
      "execution_count": 90,
      "outputs": [
        {
          "output_type": "display_data",
          "data": {
            "text/plain": [
              "<Figure size 576x288 with 1 Axes>"
            ],
            "image/png": "[encoded data removed]"
          },
          "metadata": {
            "needs_background": "light"
          }
        }
      ]
    },
    {
      "cell_type": "markdown",
      "source": [
        "이 결과를 더 개선할 방법은 다음과 같다.\n",
        "* 교차 검증 및 그리드 검색을 사용하여 더 많은 모델을 비교하고 하이퍼 파라미터를 조정\n",
        "\n"
      ],
      "metadata": {
        "id": "gjGGd_dKvtdD"
      }
    },
    {
      "cell_type": "markdown",
      "source": [
        "* 수치형 속성을 범주형 속성으로 변환\n",
        " * 연령 그룹마다 생존율이 다르므로 AgeBucket 범주를 만들고 Age 대신 사용\n",
        " * 혼자 여행하는 사람들은 30%만 살아남았기 때문에 특별한 범주에 두기"
      ],
      "metadata": {
        "id": "2Pv3lbPrwaTR"
      }
    },
    {
      "cell_type": "code",
      "source": [
        "train_data[\"AgeBucket\"] = train_data[\"Age\"] // 15 * 15\n",
        "train_data[[\"AgeBucket\", \"Survived\"]].groupby(['AgeBucket']).mean()"
      ],
      "metadata": {
        "colab": {
          "base_uri": "https://localhost:8080/",
          "height": 0
        },
        "id": "idDLJfxNDchl",
        "outputId": "5788426d-0609-4214-c1be-fbe2989431d9"
      },
      "execution_count": 91,
      "outputs": [
        {
          "output_type": "execute_result",
          "data": {
            "text/plain": [
              "           Survived\n",
              "AgeBucket          \n",
              "0.0        0.576923\n",
              "15.0       0.362745\n",
              "30.0       0.423256\n",
              "45.0       0.404494\n",
              "60.0       0.240000\n",
              "75.0       1.000000"
            ],
            "text/html": [
              "\n",
              "  <div id=\"df-95599e46-251a-4312-bae8-936fa5565ac5\">\n",
              "    <div class=\"colab-df-container\">\n",
              "      <div>\n",
              "<style scoped>\n",
              "    .dataframe tbody tr th:only-of-type {\n",
              "        vertical-align: middle;\n",
              "    }\n",
              "\n",
              "    .dataframe tbody tr th {\n",
              "        vertical-align: top;\n",
              "    }\n",
              "\n",
              "    .dataframe thead th {\n",
              "        text-align: right;\n",
              "    }\n",
              "</style>\n",
              "<table border=\"1\" class=\"dataframe\">\n",
              "  <thead>\n",
              "    <tr style=\"text-align: right;\">\n",
              "      <th></th>\n",
              "      <th>Survived</th>\n",
              "    </tr>\n",
              "    <tr>\n",
              "      <th>AgeBucket</th>\n",
              "      <th></th>\n",
              "    </tr>\n",
              "  </thead>\n",
              "  <tbody>\n",
              "    <tr>\n",
              "      <th>0.0</th>\n",
              "      <td>0.576923</td>\n",
              "    </tr>\n",
              "    <tr>\n",
              "      <th>15.0</th>\n",
              "      <td>0.362745</td>\n",
              "    </tr>\n",
              "    <tr>\n",
              "      <th>30.0</th>\n",
              "      <td>0.423256</td>\n",
              "    </tr>\n",
              "    <tr>\n",
              "      <th>45.0</th>\n",
              "      <td>0.404494</td>\n",
              "    </tr>\n",
              "    <tr>\n",
              "      <th>60.0</th>\n",
              "      <td>0.240000</td>\n",
              "    </tr>\n",
              "    <tr>\n",
              "      <th>75.0</th>\n",
              "      <td>1.000000</td>\n",
              "    </tr>\n",
              "  </tbody>\n",
              "</table>\n",
              "</div>\n",
              "      <button class=\"colab-df-convert\" onclick=\"convertToInteractive('df-95599e46-251a-4312-bae8-936fa5565ac5')\"\n",
              "              title=\"Convert this dataframe to an interactive table.\"\n",
              "              style=\"display:none;\">\n",
              "        \n",
              "  <svg xmlns=\"http://www.w3.org/2000/svg\" height=\"24px\"viewBox=\"0 0 24 24\"\n",
              "       width=\"24px\">\n",
              "    <path d=\"M0 0h24v24H0V0z\" fill=\"none\"/>\n",
              "    <path d=\"M18.56 5.44l.94 2.06.94-2.06 2.06-.94-2.06-.94-.94-2.06-.94 2.06-2.06.94zm-11 1L8.5 8.5l.94-2.06 2.06-.94-2.06-.94L8.5 2.5l-.94 2.06-2.06.94zm10 10l.94 2.06.94-2.06 2.06-.94-2.06-.94-.94-2.06-.94 2.06-2.06.94z\"/><path d=\"M17.41 7.96l-1.37-1.37c-.4-.4-.92-.59-1.43-.59-.52 0-1.04.2-1.43.59L10.3 9.45l-7.72 7.72c-.78.78-.78 2.05 0 2.83L4 21.41c.39.39.9.59 1.41.59.51 0 1.02-.2 1.41-.59l7.78-7.78 2.81-2.81c.8-.78.8-2.07 0-2.86zM5.41 20L4 18.59l7.72-7.72 1.47 1.35L5.41 20z\"/>\n",
              "  </svg>\n",
              "      </button>\n",
              "      \n",
              "  <style>\n",
              "    .colab-df-container {\n",
              "      display:flex;\n",
              "      flex-wrap:wrap;\n",
              "      gap: 12px;\n",
              "    }\n",
              "\n",
              "    .colab-df-convert {\n",
              "      background-color: #E8F0FE;\n",
              "      border: none;\n",
              "      border-radius: 50%;\n",
              "      cursor: pointer;\n",
              "      display: none;\n",
              "      fill: #1967D2;\n",
              "      height: 32px;\n",
              "      padding: 0 0 0 0;\n",
              "      width: 32px;\n",
              "    }\n",
              "\n",
              "    .colab-df-convert:hover {\n",
              "      background-color: #E2EBFA;\n",
              "      box-shadow: 0px 1px 2px rgba(60, 64, 67, 0.3), 0px 1px 3px 1px rgba(60, 64, 67, 0.15);\n",
              "      fill: #174EA6;\n",
              "    }\n",
              "\n",
              "    [theme=dark] .colab-df-convert {\n",
              "      background-color: #3B4455;\n",
              "      fill: #D2E3FC;\n",
              "    }\n",
              "\n",
              "    [theme=dark] .colab-df-convert:hover {\n",
              "      background-color: #434B5C;\n",
              "      box-shadow: 0px 1px 3px 1px rgba(0, 0, 0, 0.15);\n",
              "      filter: drop-shadow(0px 1px 2px rgba(0, 0, 0, 0.3));\n",
              "      fill: #FFFFFF;\n",
              "    }\n",
              "  </style>\n",
              "\n",
              "      <script>\n",
              "        const buttonEl =\n",
              "          document.querySelector('#df-95599e46-251a-4312-bae8-936fa5565ac5 button.colab-df-convert');\n",
              "        buttonEl.style.display =\n",
              "          google.colab.kernel.accessAllowed ? 'block' : 'none';\n",
              "\n",
              "        async function convertToInteractive(key) {\n",
              "          const element = document.querySelector('#df-95599e46-251a-4312-bae8-936fa5565ac5');\n",
              "          const dataTable =\n",
              "            await google.colab.kernel.invokeFunction('convertToInteractive',\n",
              "                                                     [key], {});\n",
              "          if (!dataTable) return;\n",
              "\n",
              "          const docLinkHtml = 'Like what you see? Visit the ' +\n",
              "            '<a target=\"_blank\" href=https://colab.research.google.com/notebooks/data_table.ipynb>data table notebook</a>'\n",
              "            + ' to learn more about interactive tables.';\n",
              "          element.innerHTML = '';\n",
              "          dataTable['output_type'] = 'display_data';\n",
              "          await google.colab.output.renderOutput(dataTable, element);\n",
              "          const docLink = document.createElement('div');\n",
              "          docLink.innerHTML = docLinkHtml;\n",
              "          element.appendChild(docLink);\n",
              "        }\n",
              "      </script>\n",
              "    </div>\n",
              "  </div>\n",
              "  "
            ]
          },
          "metadata": {},
          "execution_count": 91
        }
      ]
    },
    {
      "cell_type": "code",
      "source": [
        "train_data[\"RelativesOnboard\"] = train_data[\"SibSp\"] + train_data[\"Parch\"]\n",
        "train_data[[\"RelativesOnboard\", \"Survived\"]].groupby(\n",
        "    ['RelativesOnboard']).mean()"
      ],
      "metadata": {
        "colab": {
          "base_uri": "https://localhost:8080/",
          "height": 0
        },
        "id": "r5B96W3UDd0_",
        "outputId": "dd784a83-d515-48c7-e8c7-10e80475a9ea"
      },
      "execution_count": 92,
      "outputs": [
        {
          "output_type": "execute_result",
          "data": {
            "text/plain": [
              "                  Survived\n",
              "RelativesOnboard          \n",
              "0                 0.303538\n",
              "1                 0.552795\n",
              "2                 0.578431\n",
              "3                 0.724138\n",
              "4                 0.200000\n",
              "5                 0.136364\n",
              "6                 0.333333\n",
              "7                 0.000000\n",
              "10                0.000000"
            ],
            "text/html": [
              "\n",
              "  <div id=\"df-e598ee88-2d27-4fdb-9e57-18a76fdba646\">\n",
              "    <div class=\"colab-df-container\">\n",
              "      <div>\n",
              "<style scoped>\n",
              "    .dataframe tbody tr th:only-of-type {\n",
              "        vertical-align: middle;\n",
              "    }\n",
              "\n",
              "    .dataframe tbody tr th {\n",
              "        vertical-align: top;\n",
              "    }\n",
              "\n",
              "    .dataframe thead th {\n",
              "        text-align: right;\n",
              "    }\n",
              "</style>\n",
              "<table border=\"1\" class=\"dataframe\">\n",
              "  <thead>\n",
              "    <tr style=\"text-align: right;\">\n",
              "      <th></th>\n",
              "      <th>Survived</th>\n",
              "    </tr>\n",
              "    <tr>\n",
              "      <th>RelativesOnboard</th>\n",
              "      <th></th>\n",
              "    </tr>\n",
              "  </thead>\n",
              "  <tbody>\n",
              "    <tr>\n",
              "      <th>0</th>\n",
              "      <td>0.303538</td>\n",
              "    </tr>\n",
              "    <tr>\n",
              "      <th>1</th>\n",
              "      <td>0.552795</td>\n",
              "    </tr>\n",
              "    <tr>\n",
              "      <th>2</th>\n",
              "      <td>0.578431</td>\n",
              "    </tr>\n",
              "    <tr>\n",
              "      <th>3</th>\n",
              "      <td>0.724138</td>\n",
              "    </tr>\n",
              "    <tr>\n",
              "      <th>4</th>\n",
              "      <td>0.200000</td>\n",
              "    </tr>\n",
              "    <tr>\n",
              "      <th>5</th>\n",
              "      <td>0.136364</td>\n",
              "    </tr>\n",
              "    <tr>\n",
              "      <th>6</th>\n",
              "      <td>0.333333</td>\n",
              "    </tr>\n",
              "    <tr>\n",
              "      <th>7</th>\n",
              "      <td>0.000000</td>\n",
              "    </tr>\n",
              "    <tr>\n",
              "      <th>10</th>\n",
              "      <td>0.000000</td>\n",
              "    </tr>\n",
              "  </tbody>\n",
              "</table>\n",
              "</div>\n",
              "      <button class=\"colab-df-convert\" onclick=\"convertToInteractive('df-e598ee88-2d27-4fdb-9e57-18a76fdba646')\"\n",
              "              title=\"Convert this dataframe to an interactive table.\"\n",
              "              style=\"display:none;\">\n",
              "        \n",
              "  <svg xmlns=\"http://www.w3.org/2000/svg\" height=\"24px\"viewBox=\"0 0 24 24\"\n",
              "       width=\"24px\">\n",
              "    <path d=\"M0 0h24v24H0V0z\" fill=\"none\"/>\n",
              "    <path d=\"M18.56 5.44l.94 2.06.94-2.06 2.06-.94-2.06-.94-.94-2.06-.94 2.06-2.06.94zm-11 1L8.5 8.5l.94-2.06 2.06-.94-2.06-.94L8.5 2.5l-.94 2.06-2.06.94zm10 10l.94 2.06.94-2.06 2.06-.94-2.06-.94-.94-2.06-.94 2.06-2.06.94z\"/><path d=\"M17.41 7.96l-1.37-1.37c-.4-.4-.92-.59-1.43-.59-.52 0-1.04.2-1.43.59L10.3 9.45l-7.72 7.72c-.78.78-.78 2.05 0 2.83L4 21.41c.39.39.9.59 1.41.59.51 0 1.02-.2 1.41-.59l7.78-7.78 2.81-2.81c.8-.78.8-2.07 0-2.86zM5.41 20L4 18.59l7.72-7.72 1.47 1.35L5.41 20z\"/>\n",
              "  </svg>\n",
              "      </button>\n",
              "      \n",
              "  <style>\n",
              "    .colab-df-container {\n",
              "      display:flex;\n",
              "      flex-wrap:wrap;\n",
              "      gap: 12px;\n",
              "    }\n",
              "\n",
              "    .colab-df-convert {\n",
              "      background-color: #E8F0FE;\n",
              "      border: none;\n",
              "      border-radius: 50%;\n",
              "      cursor: pointer;\n",
              "      display: none;\n",
              "      fill: #1967D2;\n",
              "      height: 32px;\n",
              "      padding: 0 0 0 0;\n",
              "      width: 32px;\n",
              "    }\n",
              "\n",
              "    .colab-df-convert:hover {\n",
              "      background-color: #E2EBFA;\n",
              "      box-shadow: 0px 1px 2px rgba(60, 64, 67, 0.3), 0px 1px 3px 1px rgba(60, 64, 67, 0.15);\n",
              "      fill: #174EA6;\n",
              "    }\n",
              "\n",
              "    [theme=dark] .colab-df-convert {\n",
              "      background-color: #3B4455;\n",
              "      fill: #D2E3FC;\n",
              "    }\n",
              "\n",
              "    [theme=dark] .colab-df-convert:hover {\n",
              "      background-color: #434B5C;\n",
              "      box-shadow: 0px 1px 3px 1px rgba(0, 0, 0, 0.15);\n",
              "      filter: drop-shadow(0px 1px 2px rgba(0, 0, 0, 0.3));\n",
              "      fill: #FFFFFF;\n",
              "    }\n",
              "  </style>\n",
              "\n",
              "      <script>\n",
              "        const buttonEl =\n",
              "          document.querySelector('#df-e598ee88-2d27-4fdb-9e57-18a76fdba646 button.colab-df-convert');\n",
              "        buttonEl.style.display =\n",
              "          google.colab.kernel.accessAllowed ? 'block' : 'none';\n",
              "\n",
              "        async function convertToInteractive(key) {\n",
              "          const element = document.querySelector('#df-e598ee88-2d27-4fdb-9e57-18a76fdba646');\n",
              "          const dataTable =\n",
              "            await google.colab.kernel.invokeFunction('convertToInteractive',\n",
              "                                                     [key], {});\n",
              "          if (!dataTable) return;\n",
              "\n",
              "          const docLinkHtml = 'Like what you see? Visit the ' +\n",
              "            '<a target=\"_blank\" href=https://colab.research.google.com/notebooks/data_table.ipynb>data table notebook</a>'\n",
              "            + ' to learn more about interactive tables.';\n",
              "          element.innerHTML = '';\n",
              "          dataTable['output_type'] = 'display_data';\n",
              "          await google.colab.output.renderOutput(dataTable, element);\n",
              "          const docLink = document.createElement('div');\n",
              "          docLink.innerHTML = docLinkHtml;\n",
              "          element.appendChild(docLink);\n",
              "        }\n",
              "      </script>\n",
              "    </div>\n",
              "  </div>\n",
              "  "
            ]
          },
          "metadata": {},
          "execution_count": 92
        }
      ]
    },
    {
      "cell_type": "markdown",
      "source": [
        "### 4. Spam classifier"
      ],
      "metadata": {
        "id": "m6bXvKitDg9k"
      }
    },
    {
      "cell_type": "code",
      "source": [
        "import tarfile\n",
        "\n",
        "def fetch_spam_data():\n",
        "    spam_root = \"http://spamassassin.apache.org/old/publiccorpus/\"\n",
        "    ham_url = spam_root + \"20030228_easy_ham.tar.bz2\"\n",
        "    spam_url = spam_root + \"20030228_spam.tar.bz2\"\n",
        "\n",
        "    spam_path = Path() / \"datasets\" / \"spam\"\n",
        "    spam_path.mkdir(parents=True, exist_ok=True)\n",
        "    for dir_name, tar_name, url in ((\"easy_ham\", \"ham\", ham_url),\n",
        "                                    (\"spam\", \"spam\", spam_url)):\n",
        "        if not (spam_path / dir_name).is_dir():\n",
        "            path = (spam_path / tar_name).with_suffix(\".tar.bz2\")\n",
        "            print(\"Downloading\", path)\n",
        "            urllib.request.urlretrieve(url, path)\n",
        "            tar_bz2_file = tarfile.open(path)\n",
        "            tar_bz2_file.extractall(path=spam_path)\n",
        "            tar_bz2_file.close()\n",
        "    return [spam_path / dir_name for dir_name in (\"easy_ham\", \"spam\")]"
      ],
      "metadata": {
        "id": "Ci0rjyVGDqV3"
      },
      "execution_count": 93,
      "outputs": []
    },
    {
      "cell_type": "code",
      "source": [
        "ham_dir, spam_dir = fetch_spam_data()"
      ],
      "metadata": {
        "id": "w3qpYL7CDsDE",
        "colab": {
          "base_uri": "https://localhost:8080/"
        },
        "outputId": "ca8af06d-94c3-4b6f-db3a-3ccb40d11deb"
      },
      "execution_count": 94,
      "outputs": [
        {
          "output_type": "stream",
          "name": "stdout",
          "text": [
            "Downloading datasets/spam/ham.tar.bz2\n",
            "Downloading datasets/spam/spam.tar.bz2\n"
          ]
        }
      ]
    },
    {
      "cell_type": "code",
      "source": [
        "ham_filenames = [f for f in sorted(ham_dir.iterdir()) if len(f.name) > 20]\n",
        "spam_filenames = [f for f in sorted(spam_dir.iterdir()) if len(f.name) > 20]"
      ],
      "metadata": {
        "id": "mO7oyjZ6Dtfr"
      },
      "execution_count": 95,
      "outputs": []
    },
    {
      "cell_type": "code",
      "source": [
        "len(ham_filenames)"
      ],
      "metadata": {
        "colab": {
          "base_uri": "https://localhost:8080/"
        },
        "id": "M7kFEbOmDutX",
        "outputId": "430c9648-5a2e-4a9c-e174-9391dcc2b2aa"
      },
      "execution_count": 96,
      "outputs": [
        {
          "output_type": "execute_result",
          "data": {
            "text/plain": [
              "2500"
            ]
          },
          "metadata": {},
          "execution_count": 96
        }
      ]
    },
    {
      "cell_type": "code",
      "source": [
        "len(spam_filenames)"
      ],
      "metadata": {
        "colab": {
          "base_uri": "https://localhost:8080/"
        },
        "id": "dK8Z5flKDxXT",
        "outputId": "4781eb03-8bfa-4d37-e297-246b7e046006"
      },
      "execution_count": 97,
      "outputs": [
        {
          "output_type": "execute_result",
          "data": {
            "text/plain": [
              "500"
            ]
          },
          "metadata": {},
          "execution_count": 97
        }
      ]
    },
    {
      "cell_type": "code",
      "source": [
        "import email\n",
        "import email.policy\n",
        "\n",
        "def load_email(filepath):\n",
        "    with open(filepath, \"rb\") as f:\n",
        "        return email.parser.BytesParser(policy=email.policy.default).parse(f)"
      ],
      "metadata": {
        "id": "m_oYC-qUDzDP"
      },
      "execution_count": 98,
      "outputs": []
    },
    {
      "cell_type": "code",
      "source": [
        "ham_emails = [load_email(filepath) for filepath in ham_filenames]\n",
        "spam_emails = [load_email(filepath) for filepath in spam_filenames]"
      ],
      "metadata": {
        "id": "hFEKNi-oD1CW"
      },
      "execution_count": 99,
      "outputs": []
    },
    {
      "cell_type": "code",
      "source": [
        "print(ham_emails[1].get_content().strip())"
      ],
      "metadata": {
        "colab": {
          "base_uri": "https://localhost:8080/"
        },
        "id": "7t_Mrk9pD2jQ",
        "outputId": "ef04e4bb-8f60-4b6d-84c5-94c7fa90140b"
      },
      "execution_count": 100,
      "outputs": [
        {
          "output_type": "stream",
          "name": "stdout",
          "text": [
            "Martin A posted:\n",
            "Tassos Papadopoulos, the Greek sculptor behind the plan, judged that the\n",
            " limestone of Mount Kerdylio, 70 miles east of Salonika and not far from the\n",
            " Mount Athos monastic community, was ideal for the patriotic sculpture. \n",
            " \n",
            " As well as Alexander's granite features, 240 ft high and 170 ft wide, a\n",
            " museum, a restored amphitheatre and car park for admiring crowds are\n",
            "planned\n",
            "---------------------\n",
            "So is this mountain limestone or granite?\n",
            "If it's limestone, it'll weather pretty fast.\n",
            "\n",
            "------------------------ Yahoo! Groups Sponsor ---------------------~-->\n",
            "4 DVDs Free +s&p Join Now\n",
            "http://us.click.yahoo.com/pt6YBB/NXiEAA/mG3HAA/7gSolB/TM\n",
            "---------------------------------------------------------------------~->\n",
            "\n",
            "To unsubscribe from this group, send an email to:\n",
            "forteana-unsubscribe@egroups.com\n",
            "\n",
            " \n",
            "\n",
            "Your use of Yahoo! Groups is subject to http://docs.yahoo.com/info/terms/\n"
          ]
        }
      ]
    },
    {
      "cell_type": "code",
      "source": [
        "print(spam_emails[6].get_content().strip())"
      ],
      "metadata": {
        "colab": {
          "base_uri": "https://localhost:8080/"
        },
        "id": "0VUdWfQAD3Aq",
        "outputId": "ff9ad508-c709-4de5-c915-4c97f50cc0ae"
      },
      "execution_count": 101,
      "outputs": [
        {
          "output_type": "stream",
          "name": "stdout",
          "text": [
            "Help wanted.  We are a 14 year old fortune 500 company, that is\n",
            "growing at a tremendous rate.  We are looking for individuals who\n",
            "want to work from home.\n",
            "\n",
            "This is an opportunity to make an excellent income.  No experience\n",
            "is required.  We will train you.\n",
            "\n",
            "So if you are looking to be employed from home with a career that has\n",
            "vast opportunities, then go:\n",
            "\n",
            "http://www.basetel.com/wealthnow\n",
            "\n",
            "We are looking for energetic and self motivated people.  If that is you\n",
            "than click on the link and fill out the form, and one of our\n",
            "employement specialist will contact you.\n",
            "\n",
            "To be removed from our link simple go to:\n",
            "\n",
            "http://www.basetel.com/remove.html\n",
            "\n",
            "\n",
            "4139vOLW7-758DoDY1425FRhM1-764SMFc8513fCsLl40\n"
          ]
        }
      ]
    },
    {
      "cell_type": "code",
      "source": [
        "def get_email_structure(email):\n",
        "    if isinstance(email, str):\n",
        "        return email\n",
        "    payload = email.get_payload()\n",
        "    if isinstance(payload, list):\n",
        "        multipart = \", \".join([get_email_structure(sub_email)\n",
        "                               for sub_email in payload])\n",
        "        return f\"multipart({multipart})\"\n",
        "    else:\n",
        "        return email.get_content_type()"
      ],
      "metadata": {
        "id": "C4aR-BIGD4V5"
      },
      "execution_count": 102,
      "outputs": []
    },
    {
      "cell_type": "code",
      "source": [
        "from collections import Counter\n",
        "\n",
        "def structures_counter(emails):\n",
        "    structures = Counter()\n",
        "    for email in emails:\n",
        "        structure = get_email_structure(email)\n",
        "        structures[structure] += 1\n",
        "    return structures"
      ],
      "metadata": {
        "id": "V4OHc0_KD59K"
      },
      "execution_count": 103,
      "outputs": []
    },
    {
      "cell_type": "code",
      "source": [
        "structures_counter(ham_emails).most_common()"
      ],
      "metadata": {
        "colab": {
          "base_uri": "https://localhost:8080/"
        },
        "id": "1mrC9_RxD7T1",
        "outputId": "865fa279-dd02-4a2e-e019-02619a5ab72f"
      },
      "execution_count": 104,
      "outputs": [
        {
          "output_type": "execute_result",
          "data": {
            "text/plain": [
              "[('text/plain', 2408),\n",
              " ('multipart(text/plain, application/pgp-signature)', 66),\n",
              " ('multipart(text/plain, text/html)', 8),\n",
              " ('multipart(text/plain, text/plain)', 4),\n",
              " ('multipart(text/plain)', 3),\n",
              " ('multipart(text/plain, application/octet-stream)', 2),\n",
              " ('multipart(text/plain, text/enriched)', 1),\n",
              " ('multipart(text/plain, application/ms-tnef, text/plain)', 1),\n",
              " ('multipart(multipart(text/plain, text/plain, text/plain), application/pgp-signature)',\n",
              "  1),\n",
              " ('multipart(text/plain, video/mng)', 1),\n",
              " ('multipart(text/plain, multipart(text/plain))', 1),\n",
              " ('multipart(text/plain, application/x-pkcs7-signature)', 1),\n",
              " ('multipart(text/plain, multipart(text/plain, text/plain), text/rfc822-headers)',\n",
              "  1),\n",
              " ('multipart(text/plain, multipart(text/plain, text/plain), multipart(multipart(text/plain, application/x-pkcs7-signature)))',\n",
              "  1),\n",
              " ('multipart(text/plain, application/x-java-applet)', 1)]"
            ]
          },
          "metadata": {},
          "execution_count": 104
        }
      ]
    },
    {
      "cell_type": "code",
      "source": [
        "structures_counter(spam_emails).most_common()"
      ],
      "metadata": {
        "colab": {
          "base_uri": "https://localhost:8080/"
        },
        "id": "HFZnEhVZD9MW",
        "outputId": "a49b3adf-e9c7-46d0-e270-245a09d715a4"
      },
      "execution_count": 105,
      "outputs": [
        {
          "output_type": "execute_result",
          "data": {
            "text/plain": [
              "[('text/plain', 218),\n",
              " ('text/html', 183),\n",
              " ('multipart(text/plain, text/html)', 45),\n",
              " ('multipart(text/html)', 20),\n",
              " ('multipart(text/plain)', 19),\n",
              " ('multipart(multipart(text/html))', 5),\n",
              " ('multipart(text/plain, image/jpeg)', 3),\n",
              " ('multipart(text/html, application/octet-stream)', 2),\n",
              " ('multipart(text/plain, application/octet-stream)', 1),\n",
              " ('multipart(text/html, text/plain)', 1),\n",
              " ('multipart(multipart(text/html), application/octet-stream, image/jpeg)', 1),\n",
              " ('multipart(multipart(text/plain, text/html), image/gif)', 1),\n",
              " ('multipart/alternative', 1)]"
            ]
          },
          "metadata": {},
          "execution_count": 105
        }
      ]
    },
    {
      "cell_type": "code",
      "source": [
        "for header, value in spam_emails[0].items():\n",
        "    print(header, \":\", value)"
      ],
      "metadata": {
        "colab": {
          "base_uri": "https://localhost:8080/"
        },
        "id": "DUj9S_zJD_Nt",
        "outputId": "6efc3052-c612-440d-8251-bfb2bf132266"
      },
      "execution_count": 106,
      "outputs": [
        {
          "output_type": "stream",
          "name": "stdout",
          "text": [
            "Return-Path : <12a1mailbot1@web.de>\n",
            "Delivered-To : zzzz@localhost.spamassassin.taint.org\n",
            "Received : from localhost (localhost [127.0.0.1])\tby phobos.labs.spamassassin.taint.org (Postfix) with ESMTP id 136B943C32\tfor <zzzz@localhost>; Thu, 22 Aug 2002 08:17:21 -0400 (EDT)\n",
            "Received : from mail.webnote.net [193.120.211.219]\tby localhost with POP3 (fetchmail-5.9.0)\tfor zzzz@localhost (single-drop); Thu, 22 Aug 2002 13:17:21 +0100 (IST)\n",
            "Received : from dd_it7 ([210.97.77.167])\tby webnote.net (8.9.3/8.9.3) with ESMTP id NAA04623\tfor <zzzz@spamassassin.taint.org>; Thu, 22 Aug 2002 13:09:41 +0100\n",
            "From : 12a1mailbot1@web.de\n",
            "Received : from r-smtp.korea.com - 203.122.2.197 by dd_it7  with Microsoft SMTPSVC(5.5.1775.675.6);\t Sat, 24 Aug 2002 09:42:10 +0900\n",
            "To : dcek1a1@netsgo.com\n",
            "Subject : Life Insurance - Why Pay More?\n",
            "Date : Wed, 21 Aug 2002 20:31:57 -1600\n",
            "MIME-Version : 1.0\n",
            "Message-ID : <0103c1042001882DD_IT7@dd_it7>\n",
            "Content-Type : text/html; charset=\"iso-8859-1\"\n",
            "Content-Transfer-Encoding : quoted-printable\n"
          ]
        }
      ]
    },
    {
      "cell_type": "code",
      "source": [
        "spam_emails[0][\"Subject\"]"
      ],
      "metadata": {
        "colab": {
          "base_uri": "https://localhost:8080/",
          "height": 0
        },
        "id": "voR1c-fsEAzP",
        "outputId": "246920d7-a9f1-4ae4-9cda-fc51f6f6872b"
      },
      "execution_count": 107,
      "outputs": [
        {
          "output_type": "execute_result",
          "data": {
            "text/plain": [
              "'Life Insurance - Why Pay More?'"
            ],
            "application/vnd.google.colaboratory.intrinsic+json": {
              "type": "string"
            }
          },
          "metadata": {},
          "execution_count": 107
        }
      ]
    },
    {
      "cell_type": "code",
      "source": [
        "import numpy as np\n",
        "from sklearn.model_selection import train_test_split\n",
        "\n",
        "X = np.array(ham_emails + spam_emails, dtype=object)\n",
        "y = np.array([0] * len(ham_emails) + [1] * len(spam_emails))\n",
        "\n",
        "X_train, X_test, y_train, y_test = train_test_split(X, y, test_size=0.2,\n",
        "                                                    random_state=42)"
      ],
      "metadata": {
        "id": "psbzK0YLECG7"
      },
      "execution_count": 108,
      "outputs": []
    },
    {
      "cell_type": "code",
      "source": [
        "import re\n",
        "from html import unescape\n",
        "\n",
        "def html_to_plain_text(html):\n",
        "    text = re.sub('<head.*?>.*?</head>', '', html, flags=re.M | re.S | re.I)\n",
        "    text = re.sub('<a\\s.*?>', ' HYPERLINK ', text, flags=re.M | re.S | re.I)\n",
        "    text = re.sub('<.*?>', '', text, flags=re.M | re.S)\n",
        "    text = re.sub(r'(\\s*\\n)+', '\\n', text, flags=re.M | re.S)\n",
        "    return unescape(text)"
      ],
      "metadata": {
        "id": "z-y0kIC2EDgc"
      },
      "execution_count": 109,
      "outputs": []
    },
    {
      "cell_type": "code",
      "source": [
        "html_spam_emails = [email for email in X_train[y_train==1]\n",
        "                    if get_email_structure(email) == \"text/html\"]\n",
        "sample_html_spam = html_spam_emails[7]\n",
        "print(sample_html_spam.get_content().strip()[:1000], \"...\")"
      ],
      "metadata": {
        "colab": {
          "base_uri": "https://localhost:8080/"
        },
        "id": "hCoyOLwSEFDw",
        "outputId": "c0989e44-5947-4fee-ee2e-7ed99ed5602c"
      },
      "execution_count": 110,
      "outputs": [
        {
          "output_type": "stream",
          "name": "stdout",
          "text": [
            "<HTML><HEAD><TITLE></TITLE><META http-equiv=\"Content-Type\" content=\"text/html; charset=windows-1252\"><STYLE>A:link {TEX-DECORATION: none}A:active {TEXT-DECORATION: none}A:visited {TEXT-DECORATION: none}A:hover {COLOR: #0033ff; TEXT-DECORATION: underline}</STYLE><META content=\"MSHTML 6.00.2713.1100\" name=\"GENERATOR\"></HEAD>\n",
            "<BODY text=\"#000000\" vLink=\"#0033ff\" link=\"#0033ff\" bgColor=\"#CCCC99\"><TABLE borderColor=\"#660000\" cellSpacing=\"0\" cellPadding=\"0\" border=\"0\" width=\"100%\"><TR><TD bgColor=\"#CCCC99\" valign=\"top\" colspan=\"2\" height=\"27\">\n",
            "<font size=\"6\" face=\"Arial, Helvetica, sans-serif\" color=\"#660000\">\n",
            "<b>OTC</b></font></TD></TR><TR><TD height=\"2\" bgcolor=\"#6a694f\">\n",
            "<font size=\"5\" face=\"Times New Roman, Times, serif\" color=\"#FFFFFF\">\n",
            "<b>&nbsp;Newsletter</b></font></TD><TD height=\"2\" bgcolor=\"#6a694f\"><div align=\"right\"><font color=\"#FFFFFF\">\n",
            "<b>Discover Tomorrow's Winners&nbsp;</b></font></div></TD></TR><TR><TD height=\"25\" colspan=\"2\" bgcolor=\"#CCCC99\"><table width=\"100%\" border=\"0\"  ...\n"
          ]
        }
      ]
    },
    {
      "cell_type": "code",
      "source": [
        "print(html_to_plain_text(sample_html_spam.get_content())[:1000], \"...\")"
      ],
      "metadata": {
        "colab": {
          "base_uri": "https://localhost:8080/"
        },
        "id": "JKslQmw-EGaR",
        "outputId": "2b325d4d-6201-4e41-c294-70394a07313e"
      },
      "execution_count": 111,
      "outputs": [
        {
          "output_type": "stream",
          "name": "stdout",
          "text": [
            "\n",
            "OTC\n",
            " Newsletter\n",
            "Discover Tomorrow's Winners \n",
            "For Immediate Release\n",
            "Cal-Bay (Stock Symbol: CBYI)\n",
            "Watch for analyst \"Strong Buy Recommendations\" and several advisory newsletters picking CBYI.  CBYI has filed to be traded on the OTCBB, share prices historically INCREASE when companies get listed on this larger trading exchange. CBYI is trading around 25 cents and should skyrocket to $2.66 - $3.25 a share in the near future.\n",
            "Put CBYI on your watch list, acquire a position TODAY.\n",
            "REASONS TO INVEST IN CBYI\n",
            "A profitable company and is on track to beat ALL earnings estimates!\n",
            "One of the FASTEST growing distributors in environmental & safety equipment instruments.\n",
            "Excellent management team, several EXCLUSIVE contracts.  IMPRESSIVE client list including the U.S. Air Force, Anheuser-Busch, Chevron Refining and Mitsubishi Heavy Industries, GE-Energy & Environmental Research.\n",
            "RAPIDLY GROWING INDUSTRY\n",
            "Industry revenues exceed $900 million, estimates indicate that there could be as much as $25 billi ...\n"
          ]
        }
      ]
    },
    {
      "cell_type": "code",
      "source": [
        "def email_to_text(email):\n",
        "    html = None\n",
        "    for part in email.walk():\n",
        "        ctype = part.get_content_type()\n",
        "        if not ctype in (\"text/plain\", \"text/html\"):\n",
        "            continue\n",
        "        try:\n",
        "            content = part.get_content()\n",
        "        except: # in case of encoding issues\n",
        "            content = str(part.get_payload())\n",
        "        if ctype == \"text/plain\":\n",
        "            return content\n",
        "        else:\n",
        "            html = content\n",
        "    if html:\n",
        "        return html_to_plain_text(html)"
      ],
      "metadata": {
        "id": "ImKHMCzxEID4"
      },
      "execution_count": 112,
      "outputs": []
    },
    {
      "cell_type": "code",
      "source": [
        "print(email_to_text(sample_html_spam)[:100], \"...\")"
      ],
      "metadata": {
        "colab": {
          "base_uri": "https://localhost:8080/"
        },
        "id": "fP9pOnjwEJpC",
        "outputId": "4e7ee18d-19f9-431e-f9f7-e47f54a20884"
      },
      "execution_count": 113,
      "outputs": [
        {
          "output_type": "stream",
          "name": "stdout",
          "text": [
            "\n",
            "OTC\n",
            " Newsletter\n",
            "Discover Tomorrow's Winners \n",
            "For Immediate Release\n",
            "Cal-Bay (Stock Symbol: CBYI)\n",
            "Wat ...\n"
          ]
        }
      ]
    },
    {
      "cell_type": "code",
      "source": [
        "import nltk\n",
        "\n",
        "stemmer = nltk.PorterStemmer()\n",
        "for word in (\"Computations\", \"Computation\", \"Computing\", \"Computed\", \"Compute\",\n",
        "             \"Compulsive\"):\n",
        "    print(word, \"=>\", stemmer.stem(word))"
      ],
      "metadata": {
        "colab": {
          "base_uri": "https://localhost:8080/"
        },
        "id": "r3Y2KS8GEK8_",
        "outputId": "2a2f5323-9f87-4f66-eb01-72aa68692754"
      },
      "execution_count": 114,
      "outputs": [
        {
          "output_type": "stream",
          "name": "stdout",
          "text": [
            "Computations => comput\n",
            "Computation => comput\n",
            "Computing => comput\n",
            "Computed => comput\n",
            "Compute => comput\n",
            "Compulsive => compuls\n"
          ]
        }
      ]
    },
    {
      "cell_type": "code",
      "source": [
        "# Is this notebook running on Colab or Kaggle?\n",
        "IS_COLAB = \"google.colab\" in sys.modules\n",
        "IS_KAGGLE = \"kaggle_secrets\" in sys.modules\n",
        "\n",
        "# if running this notebook on Colab or Kaggle, we just pip install urlextract\n",
        "if IS_COLAB or IS_KAGGLE:\n",
        "    %pip install -q -U urlextract"
      ],
      "metadata": {
        "id": "7rZRdGYdEM14"
      },
      "execution_count": 115,
      "outputs": []
    },
    {
      "cell_type": "code",
      "source": [
        "import urlextract # may require an Internet connection to download root domain\n",
        "                  # names\n",
        "\n",
        "url_extractor = urlextract.URLExtract()\n",
        "some_text = \"Will it detect github.com and https://youtu.be/7Pq-S557XQU?t=3m32s\"\n",
        "print(url_extractor.find_urls(some_text))"
      ],
      "metadata": {
        "colab": {
          "base_uri": "https://localhost:8080/"
        },
        "id": "pkZKpCHFEOQm",
        "outputId": "c74dc90f-aca0-48ee-e8ce-a0a8da2e075f"
      },
      "execution_count": 116,
      "outputs": [
        {
          "output_type": "stream",
          "name": "stdout",
          "text": [
            "['github.com', 'https://youtu.be/7Pq-S557XQU?t=3m32s']\n"
          ]
        }
      ]
    },
    {
      "cell_type": "code",
      "source": [
        "from sklearn.base import BaseEstimator, TransformerMixin\n",
        "\n",
        "class EmailToWordCounterTransformer(BaseEstimator, TransformerMixin):\n",
        "    def __init__(self, strip_headers=True, lower_case=True,\n",
        "                 remove_punctuation=True, replace_urls=True,\n",
        "                 replace_numbers=True, stemming=True):\n",
        "        self.strip_headers = strip_headers\n",
        "        self.lower_case = lower_case\n",
        "        self.remove_punctuation = remove_punctuation\n",
        "        self.replace_urls = replace_urls\n",
        "        self.replace_numbers = replace_numbers\n",
        "        self.stemming = stemming\n",
        "    def fit(self, X, y=None):\n",
        "        return self\n",
        "    def transform(self, X, y=None):\n",
        "        X_transformed = []\n",
        "        for email in X:\n",
        "            text = email_to_text(email) or \"\"\n",
        "            if self.lower_case:\n",
        "                text = text.lower()\n",
        "            if self.replace_urls and url_extractor is not None:\n",
        "                urls = list(set(url_extractor.find_urls(text)))\n",
        "                urls.sort(key=lambda url: len(url), reverse=True)\n",
        "                for url in urls:\n",
        "                    text = text.replace(url, \" URL \")\n",
        "            if self.replace_numbers:\n",
        "                text = re.sub(r'\\d+(?:\\.\\d*)?(?:[eE][+-]?\\d+)?', 'NUMBER', text)\n",
        "            if self.remove_punctuation:\n",
        "                text = re.sub(r'\\W+', ' ', text, flags=re.M)\n",
        "            word_counts = Counter(text.split())\n",
        "            if self.stemming and stemmer is not None:\n",
        "                stemmed_word_counts = Counter()\n",
        "                for word, count in word_counts.items():\n",
        "                    stemmed_word = stemmer.stem(word)\n",
        "                    stemmed_word_counts[stemmed_word] += count\n",
        "                word_counts = stemmed_word_counts\n",
        "            X_transformed.append(word_counts)\n",
        "        return np.array(X_transformed)"
      ],
      "metadata": {
        "id": "kxj91jtiEPfs"
      },
      "execution_count": 117,
      "outputs": []
    },
    {
      "cell_type": "code",
      "source": [
        "X_few = X_train[:3]\n",
        "X_few_wordcounts = EmailToWordCounterTransformer().fit_transform(X_few)\n",
        "X_few_wordcounts"
      ],
      "metadata": {
        "colab": {
          "base_uri": "https://localhost:8080/"
        },
        "id": "VDKZTeBMETJ4",
        "outputId": "5bfa4566-754b-4d88-e6a4-11b92b84ef5a"
      },
      "execution_count": 118,
      "outputs": [
        {
          "output_type": "execute_result",
          "data": {
            "text/plain": [
              "array([Counter({'chuck': 1, 'murcko': 1, 'wrote': 1, 'stuff': 1, 'yawn': 1, 'r': 1}),\n",
              "       Counter({'the': 11, 'of': 9, 'and': 8, 'all': 3, 'christian': 3, 'to': 3, 'by': 3, 'jefferson': 2, 'i': 2, 'have': 2, 'superstit': 2, 'one': 2, 'on': 2, 'been': 2, 'ha': 2, 'half': 2, 'rogueri': 2, 'teach': 2, 'jesu': 2, 'some': 1, 'interest': 1, 'quot': 1, 'url': 1, 'thoma': 1, 'examin': 1, 'known': 1, 'word': 1, 'do': 1, 'not': 1, 'find': 1, 'in': 1, 'our': 1, 'particular': 1, 'redeem': 1, 'featur': 1, 'they': 1, 'are': 1, 'alik': 1, 'found': 1, 'fabl': 1, 'mytholog': 1, 'million': 1, 'innoc': 1, 'men': 1, 'women': 1, 'children': 1, 'sinc': 1, 'introduct': 1, 'burnt': 1, 'tortur': 1, 'fine': 1, 'imprison': 1, 'what': 1, 'effect': 1, 'thi': 1, 'coercion': 1, 'make': 1, 'world': 1, 'fool': 1, 'other': 1, 'hypocrit': 1, 'support': 1, 'error': 1, 'over': 1, 'earth': 1, 'six': 1, 'histor': 1, 'american': 1, 'john': 1, 'e': 1, 'remsburg': 1, 'letter': 1, 'william': 1, 'short': 1, 'again': 1, 'becom': 1, 'most': 1, 'pervert': 1, 'system': 1, 'that': 1, 'ever': 1, 'shone': 1, 'man': 1, 'absurd': 1, 'untruth': 1, 'were': 1, 'perpetr': 1, 'upon': 1, 'a': 1, 'larg': 1, 'band': 1, 'dupe': 1, 'import': 1, 'led': 1, 'paul': 1, 'first': 1, 'great': 1, 'corrupt': 1}),\n",
              "       Counter({'url': 4, 's': 3, 'group': 3, 'to': 3, 'in': 2, 'forteana': 2, 'martin': 2, 'an': 2, 'and': 2, 'we': 2, 'is': 2, 'yahoo': 2, 'unsubscrib': 2, 'y': 1, 'adamson': 1, 'wrote': 1, 'for': 1, 'altern': 1, 'rather': 1, 'more': 1, 'factual': 1, 'base': 1, 'rundown': 1, 'on': 1, 'hamza': 1, 'career': 1, 'includ': 1, 'hi': 1, 'belief': 1, 'that': 1, 'all': 1, 'non': 1, 'muslim': 1, 'yemen': 1, 'should': 1, 'be': 1, 'murder': 1, 'outright': 1, 'know': 1, 'how': 1, 'unbias': 1, 'memri': 1, 'don': 1, 't': 1, 'html': 1, 'rob': 1, 'sponsor': 1, 'number': 1, 'dvd': 1, 'free': 1, 'p': 1, 'join': 1, 'now': 1, 'from': 1, 'thi': 1, 'send': 1, 'email': 1, 'egroup': 1, 'com': 1, 'your': 1, 'use': 1, 'of': 1, 'subject': 1})],\n",
              "      dtype=object)"
            ]
          },
          "metadata": {},
          "execution_count": 118
        }
      ]
    },
    {
      "cell_type": "code",
      "source": [
        "from scipy.sparse import csr_matrix\n",
        "\n",
        "class WordCounterToVectorTransformer(BaseEstimator, TransformerMixin):\n",
        "    def __init__(self, vocabulary_size=1000):\n",
        "        self.vocabulary_size = vocabulary_size\n",
        "    def fit(self, X, y=None):\n",
        "        total_count = Counter()\n",
        "        for word_count in X:\n",
        "            for word, count in word_count.items():\n",
        "                total_count[word] += min(count, 10)\n",
        "        most_common = total_count.most_common()[:self.vocabulary_size]\n",
        "        self.vocabulary_ = {word: index + 1\n",
        "                            for index, (word, count) in enumerate(most_common)}\n",
        "        return self\n",
        "    def transform(self, X, y=None):\n",
        "        rows = []\n",
        "        cols = []\n",
        "        data = []\n",
        "        for row, word_count in enumerate(X):\n",
        "            for word, count in word_count.items():\n",
        "                rows.append(row)\n",
        "                cols.append(self.vocabulary_.get(word, 0))\n",
        "                data.append(count)\n",
        "        return csr_matrix((data, (rows, cols)),\n",
        "                          shape=(len(X), self.vocabulary_size + 1))"
      ],
      "metadata": {
        "id": "DoREaCDrEWAI"
      },
      "execution_count": 119,
      "outputs": []
    },
    {
      "cell_type": "code",
      "source": [
        "vocab_transformer = WordCounterToVectorTransformer(vocabulary_size=10)\n",
        "X_few_vectors = vocab_transformer.fit_transform(X_few_wordcounts)\n",
        "X_few_vectors"
      ],
      "metadata": {
        "colab": {
          "base_uri": "https://localhost:8080/"
        },
        "id": "9LIN3WLsEUSI",
        "outputId": "356b71f3-a878-496b-cb52-3dcd40f37916"
      },
      "execution_count": 120,
      "outputs": [
        {
          "output_type": "execute_result",
          "data": {
            "text/plain": [
              "<3x11 sparse matrix of type '<class 'numpy.longlong'>'\n",
              "\twith 20 stored elements in Compressed Sparse Row format>"
            ]
          },
          "metadata": {},
          "execution_count": 120
        }
      ]
    },
    {
      "cell_type": "code",
      "source": [
        "X_few_vectors.toarray()"
      ],
      "metadata": {
        "colab": {
          "base_uri": "https://localhost:8080/"
        },
        "id": "qY9pMI8GEXm3",
        "outputId": "8b3d9a0b-a9d7-4be8-fa15-d18ae6b83b85"
      },
      "execution_count": 121,
      "outputs": [
        {
          "output_type": "execute_result",
          "data": {
            "text/plain": [
              "array([[ 6,  0,  0,  0,  0,  0,  0,  0,  0,  0,  0],\n",
              "       [99, 11,  9,  8,  3,  1,  3,  1,  3,  2,  3],\n",
              "       [67,  0,  1,  2,  3,  4,  1,  2,  0,  1,  0]], dtype=int64)"
            ]
          },
          "metadata": {},
          "execution_count": 121
        }
      ]
    },
    {
      "cell_type": "code",
      "source": [
        "vocab_transformer.vocabulary_"
      ],
      "metadata": {
        "colab": {
          "base_uri": "https://localhost:8080/"
        },
        "id": "00HNX0QLEZCq",
        "outputId": "99ebce08-b2d2-4d6b-fb58-a0de76c213f6"
      },
      "execution_count": 122,
      "outputs": [
        {
          "output_type": "execute_result",
          "data": {
            "text/plain": [
              "{'all': 6,\n",
              " 'and': 3,\n",
              " 'by': 10,\n",
              " 'christian': 8,\n",
              " 'in': 7,\n",
              " 'of': 2,\n",
              " 'on': 9,\n",
              " 'the': 1,\n",
              " 'to': 4,\n",
              " 'url': 5}"
            ]
          },
          "metadata": {},
          "execution_count": 122
        }
      ]
    },
    {
      "cell_type": "code",
      "source": [
        "from sklearn.pipeline import Pipeline\n",
        "\n",
        "preprocess_pipeline = Pipeline([\n",
        "    (\"email_to_wordcount\", EmailToWordCounterTransformer()),\n",
        "    (\"wordcount_to_vector\", WordCounterToVectorTransformer()),\n",
        "])\n",
        "\n",
        "X_train_transformed = preprocess_pipeline.fit_transform(X_train)"
      ],
      "metadata": {
        "id": "WIspBOpMEaSc"
      },
      "execution_count": 123,
      "outputs": []
    },
    {
      "cell_type": "code",
      "source": [
        "from sklearn.linear_model import LogisticRegression\n",
        "from sklearn.model_selection import cross_val_score\n",
        "\n",
        "log_clf = LogisticRegression(max_iter=1000, random_state=42)\n",
        "score = cross_val_score(log_clf, X_train_transformed, y_train, cv=3)\n",
        "score.mean()"
      ],
      "metadata": {
        "colab": {
          "base_uri": "https://localhost:8080/"
        },
        "id": "BMQ6mbl7Eblb",
        "outputId": "36f558e5-69be-47e6-9f36-6764552f18e4"
      },
      "execution_count": 124,
      "outputs": [
        {
          "output_type": "execute_result",
          "data": {
            "text/plain": [
              "0.985"
            ]
          },
          "metadata": {},
          "execution_count": 124
        }
      ]
    },
    {
      "cell_type": "code",
      "source": [
        "from sklearn.metrics import precision_score, recall_score\n",
        "\n",
        "X_test_transformed = preprocess_pipeline.transform(X_test)\n",
        "\n",
        "log_clf = LogisticRegression(max_iter=1000, random_state=42)\n",
        "log_clf.fit(X_train_transformed, y_train)\n",
        "\n",
        "y_pred = log_clf.predict(X_test_transformed)\n",
        "\n",
        "print(f\"Precision: {precision_score(y_test, y_pred):.2%}\")\n",
        "print(f\"Recall: {recall_score(y_test, y_pred):.2%}\")"
      ],
      "metadata": {
        "colab": {
          "base_uri": "https://localhost:8080/"
        },
        "id": "2dyRI8ixEc63",
        "outputId": "638f7f1e-295d-437d-f670-5083f7543910"
      },
      "execution_count": 125,
      "outputs": [
        {
          "output_type": "stream",
          "name": "stdout",
          "text": [
            "Precision: 96.88%\n",
            "Recall: 97.89%\n"
          ]
        }
      ]
    }
  ],
  "metadata": {
    "colab": {
      "collapsed_sections": [
        "_WWyxn0oIvqM",
        "lJ61cbtfOS_b",
        "eWXPxfYuQ16X",
        "KkZqvURQSUD-",
        "WffBMNSBWrM1",
        "mXVbMN3xYThs",
        "RAPzUUZHddaj",
        "hgBsL3CmRUi7"
      ],
      "name": "과제4",
      "provenance": [],
      "authorship_tag": "ABX9TyN8hX2cvBvDC87/88uk8D73",
      "include_colab_link": true
    },
    "kernelspec": {
      "display_name": "Python 3",
      "name": "python3"
    },
    "language_info": {
      "name": "python"
    }
  },
  "nbformat": 4,
  "nbformat_minor": 0
}
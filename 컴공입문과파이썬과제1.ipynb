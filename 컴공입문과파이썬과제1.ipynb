{
  "cells": [
    {
      "cell_type": "markdown",
      "metadata": {
        "id": "view-in-github",
        "colab_type": "text"
      },
      "source": [
        "<a href=\"https://colab.research.google.com/github/wantfree8937/Machine/blob/main/%EC%BB%B4%EA%B3%B5%EC%9E%85%EB%AC%B8%EA%B3%BC%ED%8C%8C%EC%9D%B4%EC%8D%AC%EA%B3%BC%EC%A0%9C1.ipynb\" target=\"_parent\"><img src=\"https://colab.research.google.com/assets/colab-badge.svg\" alt=\"Open In Colab\"/></a>"
      ]
    },
    {
      "cell_type": "markdown",
      "metadata": {
        "id": "8EjyAPVSRxmX"
      },
      "source": [
        "# (실습) 프로그래밍 시작하기"
      ]
    },
    {
      "cell_type": "markdown",
      "metadata": {
        "id": "MgBCG_zE0A9f"
      },
      "source": [
        "**주의 사항**\n",
        "\n",
        "* 기존에 작성된 코드셀/텍스트셀은 수정하지 않는다.\n",
        "* 필요한 경우 코드셀 또는 텍스트셀을 추가할 수 있다.\n",
        "* 실습 파일을 구글 드라이브에서 링크로 누구가 공유할 수 있도록 설정하세요."
      ]
    },
    {
      "cell_type": "markdown",
      "metadata": {
        "id": "xiyFXtS_Rxmd"
      },
      "source": [
        "**문제 1** "
      ]
    },
    {
      "cell_type": "markdown",
      "metadata": {
        "id": "X54LWBlwRxme"
      },
      "source": [
        "아래 명령문들을 실행해서 오류가 발생하는 경우 오류를 설명하고 수정하라.\n",
        "\n",
        "```python\n",
        "print(\"Hello World\"\n",
        "print(\"Hello World)\n",
        "print('Hello World\")\n",
        "print(+2)\n",
        "print(2++2)\n",
        "print(023)\n",
        "print(21 8)\n",
        "```"
      ]
    },
    {
      "cell_type": "markdown",
      "source": [
        "**문제1 답안**"
      ],
      "metadata": {
        "id": "p9SjW31TknVz"
      }
    },
    {
      "cell_type": "markdown",
      "source": [
        "```python\n",
        "print(\"Hello World\"\n",
        "# print(\"Hello World\" -> print(\"Hello World\"), 소괄호누락\n",
        "```"
      ],
      "metadata": {
        "id": "itEBfdKxk0Kz"
      }
    },
    {
      "cell_type": "markdown",
      "source": [
        "```python\n",
        "print(\"Hello World)\n",
        "# print(\"Hello World) -> print(\"Hello World\"), 큰따옴표누락\n",
        "```"
      ],
      "metadata": {
        "id": "EH_eQYrQlTEj"
      }
    },
    {
      "cell_type": "markdown",
      "source": [
        "```python\n",
        "print('Hello World\")\n",
        "# print('Hello World\") -> print(\"Hello World\"), 큰따옴표 or 작은따옴표로 통일해야함\n",
        "```"
      ],
      "metadata": {
        "id": "5V73nbavlk5-"
      }
    },
    {
      "cell_type": "markdown",
      "source": [
        "```python\n",
        "print(023)\n",
        "# print(023) -> print(23), 0이 맨 앞에 왔음\n",
        "```\n",
        "\n"
      ],
      "metadata": {
        "id": "Fth9R8n2mAja"
      }
    },
    {
      "cell_type": "code",
      "source": [
        "print(23)"
      ],
      "metadata": {
        "id": "Rl1BHK7-mPvK",
        "outputId": "13b3ce44-6a36-4564-c2e8-d3b33a958a99",
        "colab": {
          "base_uri": "https://localhost:8080/"
        }
      },
      "execution_count": null,
      "outputs": [
        {
          "output_type": "stream",
          "name": "stdout",
          "text": [
            "23\n"
          ]
        }
      ]
    },
    {
      "cell_type": "markdown",
      "source": [
        "\n",
        "```python\n",
        "print(21 8)\n",
        "# print(21 8) -> print(21,8), 쉼표 누락\n",
        "```\n",
        "\n"
      ],
      "metadata": {
        "id": "OVes-GPXmSFL"
      }
    },
    {
      "cell_type": "code",
      "source": [
        "print(21,8)"
      ],
      "metadata": {
        "id": "kVEZsK2gmZB6",
        "outputId": "942de956-38b5-4b56-c5b5-0c926d03a220",
        "colab": {
          "base_uri": "https://localhost:8080/"
        }
      },
      "execution_count": null,
      "outputs": [
        {
          "output_type": "stream",
          "name": "stdout",
          "text": [
            "21 8\n"
          ]
        }
      ]
    },
    {
      "cell_type": "markdown",
      "metadata": {
        "id": "lkW8_bkDRxmg"
      },
      "source": [
        "**문제 2** "
      ]
    },
    {
      "cell_type": "markdown",
      "metadata": {
        "id": "EyH2GBomRxmg"
      },
      "source": [
        "변수 선언과 할당 관련 주의해야할 점들을 다룬다.\n",
        "아래 명령문들을 실행해서 오류가 발생하는 경우 오류를 설명하고 수정하라.\n",
        "\n",
        "```python\n",
        "23 = n\n",
        "x = y = 1\n",
        "x = 2;\n",
        "y = x + 1.\n",
        "z = x y\n",
        "```"
      ]
    },
    {
      "cell_type": "markdown",
      "source": [
        "**문제2 답안**"
      ],
      "metadata": {
        "id": "_uEmlwuSm24K"
      }
    },
    {
      "cell_type": "markdown",
      "source": [
        "\n",
        "\n",
        "```python\n",
        "23 = n \n",
        "# 23 = n -> n = 23, 리터럴에 변수 할당x\n",
        "\n",
        "```\n",
        "\n"
      ],
      "metadata": {
        "id": "6cRfn0Rkm0vC"
      }
    },
    {
      "cell_type": "markdown",
      "source": [
        "\n",
        "\n",
        "```python\n",
        "z = x y\n",
        "# z = x y -> z = x*y, 곱셈 누락\n",
        "```\n",
        "\n"
      ],
      "metadata": {
        "id": "1dC_igP8njFq"
      }
    },
    {
      "cell_type": "markdown",
      "metadata": {
        "id": "6jxFns8v0EeE"
      },
      "source": [
        "**문제 3**"
      ]
    },
    {
      "cell_type": "markdown",
      "metadata": {
        "id": "SOat4ZOKRxmi"
      },
      "source": [
        "연산자를 이용해 수식으로 표현해보고 그 결과를 확인하여라.\n",
        "\n",
        "* 정수 25와 정수 12를 더하시오.\n",
        "* 정수 13에서 정수 19를 빼시오.\n",
        "* 정수 92과 부동소수점 8.0 을 곱하시오.\n",
        "* 부동소수점 81.5을 부동소수점 2.0으로 나누시오.\n",
        "* 정수 7를 5로 나눴을 때, 몫을 구하시오.\n",
        "* 정수 100을 정수 7로 나눈 나머지를 구하시오.\n",
        "* 정수 3의 세제곱을 구하시오."
      ]
    },
    {
      "cell_type": "markdown",
      "source": [
        "**문제3 답안**"
      ],
      "metadata": {
        "id": "M27GPKnuoUrS"
      }
    },
    {
      "cell_type": "code",
      "source": [
        "25 + 12"
      ],
      "metadata": {
        "id": "WP6IgCTfoKZ1",
        "outputId": "d67fa205-bdf1-4305-9a86-79c44116602e",
        "colab": {
          "base_uri": "https://localhost:8080/"
        }
      },
      "execution_count": null,
      "outputs": [
        {
          "output_type": "execute_result",
          "data": {
            "text/plain": [
              "37"
            ]
          },
          "metadata": {},
          "execution_count": 14
        }
      ]
    },
    {
      "cell_type": "code",
      "source": [
        "13 - 19"
      ],
      "metadata": {
        "id": "QJtCQ52xoOZq",
        "outputId": "f8290a6e-cde9-4212-a36e-e6893e5c066b",
        "colab": {
          "base_uri": "https://localhost:8080/"
        }
      },
      "execution_count": null,
      "outputs": [
        {
          "output_type": "execute_result",
          "data": {
            "text/plain": [
              "-6"
            ]
          },
          "metadata": {},
          "execution_count": 15
        }
      ]
    },
    {
      "cell_type": "code",
      "source": [
        "92 * 8.0"
      ],
      "metadata": {
        "id": "eFkFxpm_oQBK",
        "outputId": "f06d7a27-358e-47dc-f280-af80af225329",
        "colab": {
          "base_uri": "https://localhost:8080/"
        }
      },
      "execution_count": null,
      "outputs": [
        {
          "output_type": "execute_result",
          "data": {
            "text/plain": [
              "736.0"
            ]
          },
          "metadata": {},
          "execution_count": 16
        }
      ]
    },
    {
      "cell_type": "code",
      "source": [
        "81.5 / 2.0"
      ],
      "metadata": {
        "id": "v2xDDUx2oT5S",
        "outputId": "33396c35-2905-4511-88de-f43bdafc3d1f",
        "colab": {
          "base_uri": "https://localhost:8080/"
        }
      },
      "execution_count": null,
      "outputs": [
        {
          "output_type": "execute_result",
          "data": {
            "text/plain": [
              "40.75"
            ]
          },
          "metadata": {},
          "execution_count": 17
        }
      ]
    },
    {
      "cell_type": "code",
      "source": [
        "7 // 5"
      ],
      "metadata": {
        "id": "13BE7RyMor0p",
        "outputId": "0d88f517-722f-4a15-b97a-0632441fbf19",
        "colab": {
          "base_uri": "https://localhost:8080/"
        }
      },
      "execution_count": null,
      "outputs": [
        {
          "output_type": "execute_result",
          "data": {
            "text/plain": [
              "1"
            ]
          },
          "metadata": {},
          "execution_count": 18
        }
      ]
    },
    {
      "cell_type": "code",
      "source": [
        "100 % 7"
      ],
      "metadata": {
        "id": "cvv5guz9ou9y",
        "outputId": "2bc640b9-17b9-417c-ff0c-a9f3a96f0b87",
        "colab": {
          "base_uri": "https://localhost:8080/"
        }
      },
      "execution_count": null,
      "outputs": [
        {
          "output_type": "execute_result",
          "data": {
            "text/plain": [
              "2"
            ]
          },
          "metadata": {},
          "execution_count": 19
        }
      ]
    },
    {
      "cell_type": "code",
      "source": [
        "3 ** 3"
      ],
      "metadata": {
        "id": "lJUiRJv7oxTZ",
        "outputId": "b97aee3e-2c1a-4e0d-c292-7c7730536ee2",
        "colab": {
          "base_uri": "https://localhost:8080/"
        }
      },
      "execution_count": null,
      "outputs": [
        {
          "output_type": "execute_result",
          "data": {
            "text/plain": [
              "27"
            ]
          },
          "metadata": {},
          "execution_count": 20
        }
      ]
    },
    {
      "cell_type": "markdown",
      "metadata": {
        "id": "xygzJ5410LMv"
      },
      "source": [
        "**문제 4**"
      ]
    },
    {
      "cell_type": "markdown",
      "metadata": {
        "id": "dEfjosJTRxmj"
      },
      "source": [
        "다음 각각의 자료형을 확인하는 코드를 작성하라.\n",
        "\n",
        "* `3`\n",
        "* `3.0`\n",
        "* `'3'`\n",
        "* `'3.0'`\n",
        "* `\"3\"`\n",
        "* `\"3.0\"`"
      ]
    },
    {
      "cell_type": "markdown",
      "source": [
        "**문제4 답안**"
      ],
      "metadata": {
        "id": "id5cYG8Vo-aB"
      }
    },
    {
      "cell_type": "code",
      "source": [
        "type(3)"
      ],
      "metadata": {
        "id": "1EP_dwCno-J6",
        "outputId": "18ccdbc4-eb02-4542-c9a1-6cee2ff165c0",
        "colab": {
          "base_uri": "https://localhost:8080/"
        }
      },
      "execution_count": null,
      "outputs": [
        {
          "output_type": "execute_result",
          "data": {
            "text/plain": [
              "int"
            ]
          },
          "metadata": {},
          "execution_count": 9
        }
      ]
    },
    {
      "cell_type": "code",
      "source": [
        "type(3.0)"
      ],
      "metadata": {
        "id": "FaAse78dpioD",
        "outputId": "9f2e3f21-fb55-4f0b-c83b-1385288e3080",
        "colab": {
          "base_uri": "https://localhost:8080/"
        }
      },
      "execution_count": null,
      "outputs": [
        {
          "output_type": "execute_result",
          "data": {
            "text/plain": [
              "float"
            ]
          },
          "metadata": {},
          "execution_count": 26
        }
      ]
    },
    {
      "cell_type": "code",
      "source": [
        "type('3')"
      ],
      "metadata": {
        "id": "IfHDFVErpmHB",
        "outputId": "94a08661-e546-473d-b4b5-33e438395f90",
        "colab": {
          "base_uri": "https://localhost:8080/"
        }
      },
      "execution_count": null,
      "outputs": [
        {
          "output_type": "execute_result",
          "data": {
            "text/plain": [
              "str"
            ]
          },
          "metadata": {},
          "execution_count": 27
        }
      ]
    },
    {
      "cell_type": "code",
      "source": [
        "type('3.0')"
      ],
      "metadata": {
        "id": "QhiM6EynppBR",
        "outputId": "9a2477d4-8f8b-4c9d-d7cd-33eeac9faba5",
        "colab": {
          "base_uri": "https://localhost:8080/"
        }
      },
      "execution_count": null,
      "outputs": [
        {
          "output_type": "execute_result",
          "data": {
            "text/plain": [
              "str"
            ]
          },
          "metadata": {},
          "execution_count": 28
        }
      ]
    },
    {
      "cell_type": "code",
      "source": [
        "type(\"3\")"
      ],
      "metadata": {
        "id": "pepXVmZCpsj5",
        "outputId": "169d9416-bf3f-4044-f10f-25ea8a289f0b",
        "colab": {
          "base_uri": "https://localhost:8080/"
        }
      },
      "execution_count": null,
      "outputs": [
        {
          "output_type": "execute_result",
          "data": {
            "text/plain": [
              "str"
            ]
          },
          "metadata": {},
          "execution_count": 29
        }
      ]
    },
    {
      "cell_type": "code",
      "source": [
        "type(\"3.0\")"
      ],
      "metadata": {
        "id": "mcCm8FdPpwlh",
        "outputId": "b4e3b94d-2285-4c43-871e-37929cb18a15",
        "colab": {
          "base_uri": "https://localhost:8080/"
        }
      },
      "execution_count": null,
      "outputs": [
        {
          "output_type": "execute_result",
          "data": {
            "text/plain": [
              "str"
            ]
          },
          "metadata": {},
          "execution_count": 30
        }
      ]
    },
    {
      "cell_type": "markdown",
      "metadata": {
        "id": "OSxx3wxaRxmk"
      },
      "source": [
        "**문제 5** "
      ]
    },
    {
      "cell_type": "markdown",
      "metadata": {
        "id": "p7D3EbvQRxmk"
      },
      "source": [
        "아래와 같이 변수들이 선언되었다고 가정하자.\n",
        "\n",
        "```python\n",
        "width = 17\n",
        "height = 12.0\n",
        "delimiter = '.'\n",
        "```\n",
        "\n",
        "다음에 오는 각각의 표현식들에 대해, 표현식의 값과 자료형을 확인하라.\n",
        "\n",
        "```python\n",
        "width//2\n",
        "width/2\n",
        "width/2.0\n",
        "height/3\n",
        "1+2*5\n",
        "delimiter*5\n",
        "```"
      ]
    },
    {
      "cell_type": "markdown",
      "source": [
        "**문제5 답안**"
      ],
      "metadata": {
        "id": "HKNNpf9kqvg5"
      }
    },
    {
      "cell_type": "code",
      "source": [
        "width = 17\n",
        "height = 12.0\n",
        "delimiter = '.'"
      ],
      "metadata": {
        "id": "ABnB9es0rBax"
      },
      "execution_count": null,
      "outputs": []
    },
    {
      "cell_type": "code",
      "source": [
        "print(width//2)\n",
        "print(width/2)\n",
        "print(width/2.0)\n",
        "print(height/3)\n",
        "print(1+2*5)\n",
        "print(delimiter*5)"
      ],
      "metadata": {
        "colab": {
          "base_uri": "https://localhost:8080/"
        },
        "id": "UN6xvEJSrDd5",
        "outputId": "ced73269-7f01-40db-b944-bd9485364848"
      },
      "execution_count": null,
      "outputs": [
        {
          "output_type": "stream",
          "name": "stdout",
          "text": [
            "8\n",
            "8.5\n",
            "8.5\n",
            "4.0\n",
            "11\n",
            ".....\n"
          ]
        }
      ]
    },
    {
      "cell_type": "markdown",
      "metadata": {
        "id": "BR35apnL0Tf9"
      },
      "source": [
        "**문제 6**"
      ]
    },
    {
      "cell_type": "markdown",
      "metadata": {
        "id": "tSHZBlkARxmk"
      },
      "source": [
        "1$\\text{m}^2$는 0.3025평이다. \n",
        "84$\\text{m}^2$는 몇 평인가? \n",
        "반대로 30평은 몇 $\\text{m}^2$인가?"
      ]
    },
    {
      "cell_type": "markdown",
      "source": [
        "**문제6 답안**"
      ],
      "metadata": {
        "id": "1rit8jrtomsX"
      }
    },
    {
      "cell_type": "code",
      "source": [
        "a = 0.3025 # a = 1m^2\n",
        "print(a * 84)"
      ],
      "metadata": {
        "colab": {
          "base_uri": "https://localhost:8080/"
        },
        "id": "vPx0ZSsTow5Q",
        "outputId": "3a416317-eacf-4fc9-db62-d465336ba671"
      },
      "execution_count": null,
      "outputs": [
        {
          "output_type": "stream",
          "name": "stdout",
          "text": [
            "25.41\n"
          ]
        }
      ]
    },
    {
      "cell_type": "markdown",
      "source": [
        "25.41평"
      ],
      "metadata": {
        "id": "DI2ifeWetCdQ"
      }
    },
    {
      "cell_type": "code",
      "source": [
        "(10000 / 3025) * a"
      ],
      "metadata": {
        "colab": {
          "base_uri": "https://localhost:8080/"
        },
        "id": "uAwHP4GxqJui",
        "outputId": "f923ea14-26dd-49ba-8b54-eb79af783003"
      },
      "execution_count": null,
      "outputs": [
        {
          "output_type": "execute_result",
          "data": {
            "text/plain": [
              "1.0"
            ]
          },
          "metadata": {},
          "execution_count": 12
        }
      ]
    },
    {
      "cell_type": "code",
      "source": [
        "10000 / 3025 * 30"
      ],
      "metadata": {
        "colab": {
          "base_uri": "https://localhost:8080/"
        },
        "id": "ln07CEd0s71n",
        "outputId": "f27c2374-8033-42b1-c3af-1d48b0f00420"
      },
      "execution_count": null,
      "outputs": [
        {
          "output_type": "execute_result",
          "data": {
            "text/plain": [
              "99.17355371900827"
            ]
          },
          "metadata": {},
          "execution_count": 16
        }
      ]
    },
    {
      "cell_type": "markdown",
      "source": [
        "99.17$\\text{m}^2$\n"
      ],
      "metadata": {
        "id": "z4V5M2Ymt9e2"
      }
    },
    {
      "cell_type": "markdown",
      "metadata": {
        "id": "ZH4Xviwf0O_s"
      },
      "source": [
        "**문제 7**"
      ]
    },
    {
      "cell_type": "markdown",
      "metadata": {
        "id": "DsZiKsYARxml"
      },
      "source": [
        "우유 가격은 820원이고, 아이스크림 가격은 1500원이다.\n",
        "아이스크림은 3개이상 구입시 5%를 할인해준다.\n",
        "우유 2개와 아이스크림 3개를 구입할 때 지불해야 하는 가격을 변수를 활용하여 코드로 작성하여라.\n",
        "\n",
        "힌트: 변수를 이용한다."
      ]
    },
    {
      "cell_type": "markdown",
      "source": [
        "**문제7 답안**"
      ],
      "metadata": {
        "id": "zN5cY6ITulXP"
      }
    },
    {
      "cell_type": "code",
      "source": [
        "milk = 820\n",
        "ice = 1500\n",
        "(2 * milk) + (3 * ice) - (5 / 100 * 3 * ice)"
      ],
      "metadata": {
        "colab": {
          "base_uri": "https://localhost:8080/"
        },
        "id": "7oarN_l2uo05",
        "outputId": "f870d1d5-a06d-4e04-f85f-4c037214e8d6"
      },
      "execution_count": null,
      "outputs": [
        {
          "output_type": "execute_result",
          "data": {
            "text/plain": [
              "5915.0"
            ]
          },
          "metadata": {},
          "execution_count": 17
        }
      ]
    },
    {
      "cell_type": "markdown",
      "source": [
        "5915원"
      ],
      "metadata": {
        "id": "dkfjFCMVwu7V"
      }
    },
    {
      "cell_type": "markdown",
      "metadata": {
        "id": "DxP4L1g30ZpC"
      },
      "source": [
        "**문제 8**"
      ]
    },
    {
      "cell_type": "markdown",
      "metadata": {
        "id": "nY24rl1KRxmm"
      },
      "source": [
        "100만원을 월이율 3%인 예금에 1년간 복리로 은행에 맡겼다.\n",
        "1년 후에 받는 돈은 얼마인지를 확인하는 코드를 작성하여라.\n",
        "단, 다음 형식으로 출력하라.\n",
        "\n",
        "> 1년 후 받는 원금 + 이자는 OOO원입니다.\n",
        "\n",
        "힌트: 변수를 이용한다."
      ]
    },
    {
      "cell_type": "markdown",
      "source": [
        "**문제8 답안**"
      ],
      "metadata": {
        "id": "zicfTl6ew1Nr"
      }
    },
    {
      "cell_type": "code",
      "source": [
        "a = 1000000 # 원금 (단위 : 원)\n",
        "b = 0.03 # 이자율\n",
        "result = int(a * ((1 + b) ** 12))\n",
        "print('1년 후 받는 원금 + 이자는 ' + str(result) + '원입니다.')"
      ],
      "metadata": {
        "colab": {
          "base_uri": "https://localhost:8080/"
        },
        "id": "xbF6yZJew3kA",
        "outputId": "3f94e686-b49b-4f6f-f4d6-ca8da7d99e82"
      },
      "execution_count": null,
      "outputs": [
        {
          "output_type": "stream",
          "name": "stdout",
          "text": [
            "1년 후 받는 원금 + 이자는 1425760원입니다.\n"
          ]
        }
      ]
    },
    {
      "cell_type": "markdown",
      "metadata": {
        "id": "v1Z9csmB0dNW"
      },
      "source": [
        "**문제 9**"
      ]
    },
    {
      "cell_type": "markdown",
      "metadata": {
        "id": "kVe1eA7KRxmm"
      },
      "source": [
        "문자열 연산을 이용하여 다음의 실행 결과가 나오도록 코드를 \n",
        "다양한 방식으로 작성하여라\n",
        "\n",
        "- 경우 1\n",
        "\n",
        "    ```\n",
        "    안녕하세요. 안녕하세요. 안녕하세요.\n",
        "    ```\n",
        "\n",
        "- 경우 2\n",
        "\n",
        "    ```\n",
        "    안녕하세요.\n",
        "    안녕하세요.\n",
        "    안녕하세요.\n",
        "    안녕하세요.\n",
        "    안녕하세요.\n",
        "    ```"
      ]
    },
    {
      "cell_type": "markdown",
      "source": [
        "**문제9 답안**"
      ],
      "metadata": {
        "id": "2A0j1OPg3UKc"
      }
    },
    {
      "cell_type": "code",
      "source": [
        "a = '안녕하세요. '\n",
        "print(a + a + a)\n",
        "print(a * 3)\n",
        "print(\"안녕하세요. 안녕하세요. 안녕하세요.\")"
      ],
      "metadata": {
        "colab": {
          "base_uri": "https://localhost:8080/"
        },
        "id": "6xGCmd7Y3XGT",
        "outputId": "9eb61002-8e17-4b9c-e842-f88d6ff7b195"
      },
      "execution_count": null,
      "outputs": [
        {
          "output_type": "stream",
          "name": "stdout",
          "text": [
            "안녕하세요. 안녕하세요. 안녕하세요. \n",
            "안녕하세요. 안녕하세요. 안녕하세요. \n",
            "안녕하세요. 안녕하세요. 안녕하세요.\n"
          ]
        }
      ]
    },
    {
      "cell_type": "code",
      "source": [
        "b = '안녕하세요.\\n안녕하세요.\\n안녕하세요.\\n안녕하세요.\\n안녕하세요.'\n",
        "c = '''안녕하세요.\n",
        "'''\n",
        "print(b)\n",
        "print(a+'\\n'+a+'\\n'+a+'\\n'+a+'\\n'+a)\n",
        "print(c+c+c+c+c)"
      ],
      "metadata": {
        "colab": {
          "base_uri": "https://localhost:8080/"
        },
        "id": "X3ccyglU4vK3",
        "outputId": "1bd5d922-9d23-4b0b-f7cb-8a869c86ce78"
      },
      "execution_count": null,
      "outputs": [
        {
          "output_type": "stream",
          "name": "stdout",
          "text": [
            "안녕하세요.\n",
            "안녕하세요.\n",
            "안녕하세요.\n",
            "안녕하세요.\n",
            "안녕하세요.\n",
            "안녕하세요. \n",
            "안녕하세요. \n",
            "안녕하세요. \n",
            "안녕하세요. \n",
            "안녕하세요. \n",
            "안녕하세요.\n",
            "안녕하세요.\n",
            "안녕하세요.\n",
            "안녕하세요.\n",
            "안녕하세요.\n",
            "\n"
          ]
        }
      ]
    },
    {
      "cell_type": "markdown",
      "metadata": {
        "id": "PRQLSWmi0sAF"
      },
      "source": [
        "**문제 10**"
      ]
    },
    {
      "cell_type": "markdown",
      "metadata": {
        "id": "siJ6LwDLRxmn"
      },
      "source": [
        "`dogs`와 `cats` 두 개의 변수가 다음과 같이 선언되었다.\n",
        "\n",
        "```python\n",
        "dogs = '12'\n",
        "cats = '7'\n",
        "```\n",
        "\n",
        "1. `dogs`와 `cats` 변수에 할당된 값의 자료형을 확인하여라.  \n",
        "1. 강아지가 고양이보다 몇 마리 더 많은지 확인하는 코드를 작성하여라. \n",
        "    출력된 결과는 아래와 같은 형식이어야 한다.\n",
        "\n",
        "    > 강아지가 고양이보다 n 마리 더 많다.\n",
        "\n",
        "힌트: `int()` 함수 또는 `float()` 함수를 이용할 수 있다."
      ]
    },
    {
      "cell_type": "markdown",
      "source": [
        "**문제10 답안**"
      ],
      "metadata": {
        "id": "XnwFkpdx7Syb"
      }
    },
    {
      "cell_type": "code",
      "source": [
        "dogs = '12'\n",
        "cats = '7'\n",
        "type(dogs)"
      ],
      "metadata": {
        "colab": {
          "base_uri": "https://localhost:8080/"
        },
        "id": "cGFbHESL7VMw",
        "outputId": "32593541-eb6c-4077-ceea-da3f4cc3e42b"
      },
      "execution_count": null,
      "outputs": [
        {
          "output_type": "execute_result",
          "data": {
            "text/plain": [
              "str"
            ]
          },
          "metadata": {},
          "execution_count": 73
        }
      ]
    },
    {
      "cell_type": "code",
      "source": [
        "type(cats)"
      ],
      "metadata": {
        "colab": {
          "base_uri": "https://localhost:8080/"
        },
        "id": "KB0oGmyS8UNp",
        "outputId": "c80e3c4c-651c-4c6d-def0-a3ce1f7fe030"
      },
      "execution_count": null,
      "outputs": [
        {
          "output_type": "execute_result",
          "data": {
            "text/plain": [
              "str"
            ]
          },
          "metadata": {},
          "execution_count": 74
        }
      ]
    },
    {
      "cell_type": "code",
      "source": [
        "int(dogs) - int(cats)"
      ],
      "metadata": {
        "colab": {
          "base_uri": "https://localhost:8080/"
        },
        "id": "oLQbU3aaBQZ0",
        "outputId": "77876467-cd37-4e64-945b-efce73059010"
      },
      "execution_count": 87,
      "outputs": [
        {
          "output_type": "execute_result",
          "data": {
            "text/plain": [
              "5"
            ]
          },
          "metadata": {},
          "execution_count": 87
        }
      ]
    },
    {
      "cell_type": "code",
      "source": [
        "print('강아지가 고양이보다 ' + str(int(dogs) - int(cats)) + '마리 더 많다.')"
      ],
      "metadata": {
        "colab": {
          "base_uri": "https://localhost:8080/"
        },
        "id": "Mg6416yrAamd",
        "outputId": "e079c093-a84e-4ffb-8943-d92d01b206dc"
      },
      "execution_count": 88,
      "outputs": [
        {
          "output_type": "stream",
          "name": "stdout",
          "text": [
            "강아지가 고양이보다 5마리 더 많다.\n"
          ]
        }
      ]
    },
    {
      "cell_type": "markdown",
      "metadata": {
        "id": "oMsxIe_500xd"
      },
      "source": [
        "**문제 11**"
      ]
    },
    {
      "cell_type": "markdown",
      "metadata": {
        "id": "v0DRViYHRxmn"
      },
      "source": [
        "1. 변수할당과 연산기호를 이용해 아래 내용을 논리식으로 표현하라.\n",
        "\n",
        "    - `p1`: `3`과 `4`가 다른지 여부 판단<br>\n",
        "    - `p2`: `\"hello\"`와 `\"hi\"`가 같은지 여부 판단<br>\n",
        "    - `p3`: `2`가 `8`보다 작거나 같은지 여부 판단<br>\n",
        "    - `p4`: `12`가 `20`보다 큰지 여부 판단<br><br>\n",
        "\n",
        "1. 아래의 결과가 `True`인지 `False`인지 판단하는 논리식을 작성하라.\n",
        "\n",
        "    - `p1 and p3`\n",
        "    - `p2 and not p4`\n",
        "    - `p3 or p4`"
      ]
    },
    {
      "cell_type": "markdown",
      "source": [
        "**문제11 답안**"
      ],
      "metadata": {
        "id": "F5mUrNdlB-O1"
      }
    },
    {
      "cell_type": "code",
      "source": [
        "p1 = 3 != 4\n",
        "print(p1)"
      ],
      "metadata": {
        "colab": {
          "base_uri": "https://localhost:8080/"
        },
        "id": "XuKmnk_UCAHj",
        "outputId": "3a12e415-4cf2-47cb-ffaa-7548444dc691"
      },
      "execution_count": 106,
      "outputs": [
        {
          "output_type": "stream",
          "name": "stdout",
          "text": [
            "True\n"
          ]
        }
      ]
    },
    {
      "cell_type": "code",
      "source": [
        "p2 = \"hello\" == \"hi\"\n",
        "print(p2)"
      ],
      "metadata": {
        "colab": {
          "base_uri": "https://localhost:8080/"
        },
        "id": "R8jxDe2dComX",
        "outputId": "5367bbe8-a878-4f9e-8e58-48442e6a973c"
      },
      "execution_count": 101,
      "outputs": [
        {
          "output_type": "stream",
          "name": "stdout",
          "text": [
            "False\n"
          ]
        }
      ]
    },
    {
      "cell_type": "code",
      "source": [
        "p3 = 2 <= 8\n",
        "print(p3)"
      ],
      "metadata": {
        "colab": {
          "base_uri": "https://localhost:8080/"
        },
        "id": "oFcpiG-zC1vS",
        "outputId": "f5aee82c-3be6-430e-ad9c-a06167a7fe7e"
      },
      "execution_count": 102,
      "outputs": [
        {
          "output_type": "stream",
          "name": "stdout",
          "text": [
            "True\n"
          ]
        }
      ]
    },
    {
      "cell_type": "code",
      "source": [
        "p4 = 12 > 20\n",
        "print(p4)"
      ],
      "metadata": {
        "colab": {
          "base_uri": "https://localhost:8080/"
        },
        "id": "tqTjMQZtC5MH",
        "outputId": "d63c79ab-83c3-4640-bf8e-3dcfb0543d9d"
      },
      "execution_count": 103,
      "outputs": [
        {
          "output_type": "stream",
          "name": "stdout",
          "text": [
            "False\n"
          ]
        }
      ]
    },
    {
      "cell_type": "code",
      "source": [
        "p1 and p3"
      ],
      "metadata": {
        "colab": {
          "base_uri": "https://localhost:8080/"
        },
        "id": "HqkxO6TdDUsa",
        "outputId": "839e68b6-c7b5-413e-a640-1eec7598d2eb"
      },
      "execution_count": 107,
      "outputs": [
        {
          "output_type": "execute_result",
          "data": {
            "text/plain": [
              "True"
            ]
          },
          "metadata": {},
          "execution_count": 107
        }
      ]
    },
    {
      "cell_type": "code",
      "source": [
        "p2 and not p4"
      ],
      "metadata": {
        "colab": {
          "base_uri": "https://localhost:8080/"
        },
        "id": "sBQW6u6sDqwW",
        "outputId": "3dfd7760-8677-4980-d946-e343ebbbc048"
      },
      "execution_count": 110,
      "outputs": [
        {
          "output_type": "execute_result",
          "data": {
            "text/plain": [
              "False"
            ]
          },
          "metadata": {},
          "execution_count": 110
        }
      ]
    },
    {
      "cell_type": "code",
      "source": [
        "p3 or p4"
      ],
      "metadata": {
        "colab": {
          "base_uri": "https://localhost:8080/"
        },
        "id": "BkrYlPxrERGj",
        "outputId": "dc1c6c47-3341-4b1e-d781-b389d445d9c5"
      },
      "execution_count": 111,
      "outputs": [
        {
          "output_type": "execute_result",
          "data": {
            "text/plain": [
              "True"
            ]
          },
          "metadata": {},
          "execution_count": 111
        }
      ]
    },
    {
      "cell_type": "markdown",
      "metadata": {
        "id": "jLCnfgsk06WQ"
      },
      "source": [
        "**문제 12**"
      ]
    },
    {
      "cell_type": "markdown",
      "metadata": {
        "id": "8_nj4u4hRxmo"
      },
      "source": [
        "15, 28이 각각 짝수인지 홀수인지를 판별하는 코드를 작성하여라.\n",
        "출력된 결과는 아래와 같은 형식이다.\n",
        "\n",
        "> 15는 짝수인가요? False  \n",
        "> 28은 짝수인가요? True"
      ]
    },
    {
      "cell_type": "markdown",
      "source": [
        "**문제12 답안**"
      ],
      "metadata": {
        "id": "2nPIvK-7GQ-3"
      }
    },
    {
      "cell_type": "code",
      "source": [
        "if 15 % 2 == 0 : print('15는 짝수인가요?True')\n",
        "else : print('15는 짝수인가요?False')\n",
        "if 28 % 2 == 0 : print('28는 짝수인가요?True')\n",
        "else : print('28는 짝수인가요?False')"
      ],
      "metadata": {
        "colab": {
          "base_uri": "https://localhost:8080/"
        },
        "id": "2E7ySy98GTJY",
        "outputId": "facd5bee-1e30-4e37-ed2a-96e65f770c69"
      },
      "execution_count": 117,
      "outputs": [
        {
          "output_type": "stream",
          "name": "stdout",
          "text": [
            "15는 짝수인가요?False\n",
            "28는 짝수인가요?True\n"
          ]
        }
      ]
    },
    {
      "cell_type": "markdown",
      "metadata": {
        "id": "SjFpmZ5r0_zh"
      },
      "source": [
        "**문제 13**"
      ]
    },
    {
      "cell_type": "markdown",
      "metadata": {
        "id": "SgAN6dUyRxmp"
      },
      "source": [
        "아래의 표는 어느 마트의 단위당 판매 가격이다.\n",
        "\n",
        " |제목|단위|가격|\n",
        " |:----:|:----:|----|\n",
        " |사과|1개|5,400원|\n",
        " |돼지고기|100g|2,480원|\n",
        " |달걀|10개|7,980원|\n",
        " |우유|1개|2,560원|\n",
        " |오이|1개|2,250원|\n",
        "\n",
        " A는 이 마트에서 사과 3개와 돼지고기 600g, 달걀 5개를 구매하려고 한다. \n",
        " A는 총 비용을 구하는 프로그램을 작성하기 위해 아래와 같이 변수를 선언하였다.\n",
        " \n",
        "```python\n",
        "apple = '3'\n",
        "pork = '600'\n",
        "egg = '5'\n",
        "```\n",
        "\n",
        "위 변수들을 활용하여 \n",
        "아래와 같은 형식으로 총 비용을 출력하는 프로그램을 작성하라.\n",
        "\n",
        "> 사과 3개, 돼지고기 600g, 달걀 5개를 구매하는 총 비용은 OOO 원이다. "
      ]
    },
    {
      "cell_type": "markdown",
      "source": [
        "**문제13 답안**"
      ],
      "metadata": {
        "id": "iOJLx4u2IJKk"
      }
    },
    {
      "cell_type": "code",
      "source": [
        "apple = '3'\n",
        "pork = '600'\n",
        "egg = '5'\n",
        "\n",
        "result = int(3 * 5400 + 6 * 2480 + 7980 / 2)\n",
        "print('사과 ' + apple + '개, 돼지고기 ' + pork + 'g, 달걀 ' + egg + '개를 구매하는 총 비용은 ' + str(result) + '원이다.')"
      ],
      "metadata": {
        "colab": {
          "base_uri": "https://localhost:8080/"
        },
        "id": "LEl2YtvlILj7",
        "outputId": "f9041bd7-6a98-42da-d32a-fa14fa47bdd9"
      },
      "execution_count": 125,
      "outputs": [
        {
          "output_type": "stream",
          "name": "stdout",
          "text": [
            "사과 3개, 돼지고기 600g, 달걀 5개를 구매하는 총 비용은 35070원이다.\n"
          ]
        }
      ]
    },
    {
      "cell_type": "markdown",
      "metadata": {
        "id": "DUaFnDbwRxmp"
      },
      "source": [
        "**문제 14**"
      ]
    },
    {
      "cell_type": "markdown",
      "metadata": {
        "id": "yLV39k-JRxmp"
      },
      "source": [
        "반지름이 $r$인 구의 부피는 $\\frac{4}{3} \\pi r^3$ 이다. 반지름이 5인 구의 부피는 얼마인가?\n",
        "\n"
      ]
    },
    {
      "cell_type": "markdown",
      "source": [
        "**문제14 답안**"
      ],
      "metadata": {
        "id": "WfM3ZQsMLCDN"
      }
    },
    {
      "cell_type": "code",
      "source": [
        "r = 5\n",
        "vol = 4/3 * 3.14 * (r ** 3)\n",
        "print(vol)"
      ],
      "metadata": {
        "colab": {
          "base_uri": "https://localhost:8080/"
        },
        "id": "AwA_mP20LD_1",
        "outputId": "aeff95d2-7ae5-4fc8-a4fc-4fa5f34a8387"
      },
      "execution_count": 128,
      "outputs": [
        {
          "output_type": "stream",
          "name": "stdout",
          "text": [
            "523.3333333333334\n"
          ]
        }
      ]
    },
    {
      "cell_type": "markdown",
      "metadata": {
        "id": "QaRmxxjsRxmp"
      },
      "source": [
        "**문제 15**"
      ]
    },
    {
      "cell_type": "markdown",
      "metadata": {
        "id": "td9MBCNFRxmq"
      },
      "source": [
        "책의 정가는 권당 24,950원이지만, 각 권당 10% 의 할인을 받는다고 가정하자.\n",
        "책 한 권의 운송료는 2,000원 이고, 두 권째 부터는 권당 500원을 추가로 내야 한다.\n",
        "60권을 사서 배송을 받고자 하면 얼마를 지불해야 하는가?"
      ]
    },
    {
      "cell_type": "markdown",
      "source": [
        "**문제15 답안**"
      ],
      "metadata": {
        "id": "_yxEQzkgL8sI"
      }
    },
    {
      "cell_type": "code",
      "source": [
        "book = 24950\n",
        "total = 60\n",
        "result = (book * total) * 90 / 100 + (2000 + 500 * (total-1)) \n",
        "print(result)"
      ],
      "metadata": {
        "colab": {
          "base_uri": "https://localhost:8080/"
        },
        "id": "iJ_yElfiL-nG",
        "outputId": "01444c3f-2d4a-46d2-b02c-b303abacda87"
      },
      "execution_count": 129,
      "outputs": [
        {
          "output_type": "stream",
          "name": "stdout",
          "text": [
            "1378800.0\n"
          ]
        }
      ]
    },
    {
      "cell_type": "markdown",
      "metadata": {
        "id": "ztDPsF_nRxmq"
      },
      "source": [
        "**문제 16**"
      ]
    },
    {
      "cell_type": "markdown",
      "metadata": {
        "id": "VFzexZCFRxmq"
      },
      "source": [
        "오전 6시 52분에 집을 떠나서, 가볍게 (km당 8분 15초 소요) 1km를 뛰고, \n",
        "이어서 좀 빠르게 (km당 7분 12초 소요) 3km를 뛴 후, 다시 가볍게 1km를 마저 달려 집으로 돌아오면 \n",
        "집에 도착하는 시간은 언제인가?"
      ]
    },
    {
      "cell_type": "markdown",
      "source": [
        "**문제16 답안**"
      ],
      "metadata": {
        "id": "dUg3Q1HUNrRg"
      }
    },
    {
      "cell_type": "code",
      "source": [
        "s1 = 8 * 60 + 15\n",
        "s2 = 7 * 60 + 12\n",
        "\n",
        "result = s1 * 2 + s2 * 3\n",
        "print(str(result // 60) + \"분\" + str(result % 60) + \"초\")"
      ],
      "metadata": {
        "colab": {
          "base_uri": "https://localhost:8080/"
        },
        "id": "AYNlt-bvNtRl",
        "outputId": "4dc24b03-7d0f-4cf3-e71d-d4bbef9b9001"
      },
      "execution_count": 137,
      "outputs": [
        {
          "output_type": "stream",
          "name": "stdout",
          "text": [
            "38분6초\n"
          ]
        }
      ]
    },
    {
      "cell_type": "markdown",
      "source": [
        "오전 6시 52분 + 38분 6초 = 오전 7시 30분 6초"
      ],
      "metadata": {
        "id": "lvaG2BiUQiy6"
      }
    },
    {
      "cell_type": "markdown",
      "metadata": {
        "id": "Ik1bXfpfRxmq"
      },
      "source": [
        "**문제 17**"
      ]
    },
    {
      "cell_type": "markdown",
      "metadata": {
        "id": "Fwz__CTaRxmr"
      },
      "source": [
        "만약 10km를 43분 30초 만에 달렸다면, 마일(mile)당 소요 시간은 얼마인가? \n",
        "시간당 마일로 계산한 평균 속도는 얼마인가? \n",
        "단, 1마일은 1.61 킬로미터로 계산한다."
      ]
    },
    {
      "cell_type": "markdown",
      "source": [
        "**문제17 답안**"
      ],
      "metadata": {
        "id": "DXDtz9m1Q0ci"
      }
    },
    {
      "cell_type": "code",
      "source": [
        "# 거리 = 속력 * 시간\n",
        "t1 = (43 * 60 + 30) / 10 / 3600  # 1km 당 시간\n",
        "v1 = 1 / t1 # 1km 당 속력\n",
        "d1 = 1 / v1 * 1.61 # 마일 당 시간\n",
        "print(str(int((d1 * 3600) // 60)) + '분' + str(int((d1 * 3600) % 60)) + '초')"
      ],
      "metadata": {
        "colab": {
          "base_uri": "https://localhost:8080/"
        },
        "id": "IMRm4Y5AQ2eO",
        "outputId": "18b05df0-0cb4-45b6-cc1a-deb9d5500c48"
      },
      "execution_count": 150,
      "outputs": [
        {
          "output_type": "stream",
          "name": "stdout",
          "text": [
            "7분0초\n"
          ]
        }
      ]
    },
    {
      "cell_type": "code",
      "source": [
        "1 / d1"
      ],
      "metadata": {
        "colab": {
          "base_uri": "https://localhost:8080/"
        },
        "id": "J7U0OC0yWXgD",
        "outputId": "e322dd0a-5bc0-4fee-bf56-e88c16839d0f"
      },
      "execution_count": 152,
      "outputs": [
        {
          "output_type": "execute_result",
          "data": {
            "text/plain": [
              "8.567144998929107"
            ]
          },
          "metadata": {},
          "execution_count": 152
        }
      ]
    },
    {
      "cell_type": "markdown",
      "metadata": {
        "id": "yZRaXBQ2Rxmr"
      },
      "source": [
        "**문제 18**"
      ]
    },
    {
      "cell_type": "markdown",
      "metadata": {
        "id": "f8KCLrBdRxmr"
      },
      "source": [
        "1부터 10까지의 합을 계산하는 코드를 `for` 반복문을 이용하여 구현하라.\n",
        "\n",
        "힌트: 리스트를 활용한다."
      ]
    },
    {
      "cell_type": "code",
      "source": [
        "n = [1,2,3,4,5,6,7,8,9,10]\n",
        "sum = 0\n",
        "for i in n:\n",
        "  sum = sum + i\n",
        "print(sum)"
      ],
      "metadata": {
        "colab": {
          "base_uri": "https://localhost:8080/"
        },
        "id": "LembjflGXsIh",
        "outputId": "8f80fe1e-6503-48d5-d706-02f3d5135c04"
      },
      "execution_count": 168,
      "outputs": [
        {
          "output_type": "stream",
          "name": "stdout",
          "text": [
            "55\n"
          ]
        }
      ]
    }
  ],
  "metadata": {
    "colab": {
      "provenance": [],
      "include_colab_link": true
    },
    "kernelspec": {
      "display_name": "Python 3 (ipykernel)",
      "language": "python",
      "name": "python3"
    },
    "language_info": {
      "codemirror_mode": {
        "name": "ipython",
        "version": 3
      },
      "file_extension": ".py",
      "mimetype": "text/x-python",
      "name": "python",
      "nbconvert_exporter": "python",
      "pygments_lexer": "ipython3",
      "version": "3.9.7"
    }
  },
  "nbformat": 4,
  "nbformat_minor": 0
}
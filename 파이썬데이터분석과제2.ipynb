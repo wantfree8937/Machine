{
  "cells": [
    {
      "cell_type": "markdown",
      "metadata": {
        "id": "view-in-github",
        "colab_type": "text"
      },
      "source": [
        "<a href=\"https://colab.research.google.com/github/wantfree8937/Machine/blob/main/%ED%8C%8C%EC%9D%B4%EC%8D%AC%EB%8D%B0%EC%9D%B4%ED%84%B0%EB%B6%84%EC%84%9D%EA%B3%BC%EC%A0%9C2.ipynb\" target=\"_parent\"><img src=\"https://colab.research.google.com/assets/colab-badge.svg\" alt=\"Open In Colab\"/></a>"
      ]
    },
    {
      "cell_type": "markdown",
      "id": "4ba112a7",
      "metadata": {
        "id": "4ba112a7"
      },
      "source": [
        "# (실습) 통계 기초"
      ]
    },
    {
      "cell_type": "markdown",
      "id": "9bf97162",
      "metadata": {
        "id": "9bf97162"
      },
      "source": [
        "**참고**"
      ]
    },
    {
      "cell_type": "markdown",
      "id": "0889b335",
      "metadata": {
        "id": "0889b335"
      },
      "source": [
        "[통계 기초](https://codingalzi.github.io/datapy/from_scratch_2.html)에\n",
        "정의된 다음 함수들을 활용할 수 있다.\n",
        "\n",
        "- mean\n",
        "- median\n",
        "- quantile\n",
        "- mode\n",
        "- data_range\n",
        "- iqr\n",
        "- var\n",
        "- std\n",
        "- cov\n",
        "- corrcoef"
      ]
    },
    {
      "cell_type": "markdown",
      "id": "95d60690",
      "metadata": {
        "id": "95d60690"
      },
      "source": [
        "**필수 모듈**"
      ]
    },
    {
      "cell_type": "markdown",
      "id": "0a656de8",
      "metadata": {
        "id": "0a656de8"
      },
      "source": [
        "`matplotlib.pyplot`은 막대그래프, 히스토그램, 산점도 등 데이터를 그래프로 시각화할 때 필요한\n",
        "다양한 함수를 제공하는 모듈이다."
      ]
    },
    {
      "cell_type": "code",
      "execution_count": 7,
      "id": "f5458c79",
      "metadata": {
        "id": "f5458c79"
      },
      "outputs": [],
      "source": [
        "import matplotlib.pyplot as plt\n",
        "\n",
        "# 그래프 설정\n",
        "plt.rc('figure', figsize=(10, 6))  # 그래프 크기 지정"
      ]
    },
    {
      "cell_type": "code",
      "execution_count": 8,
      "id": "ff6eed7c",
      "metadata": {
        "id": "ff6eed7c",
        "colab": {
          "base_uri": "https://localhost:8080/"
        },
        "outputId": "b1d4f04f-9a37-40b9-ec2f-db703fc889f5"
      },
      "outputs": [
        {
          "output_type": "stream",
          "name": "stdout",
          "text": [
            "Reading package lists... Done\n",
            "Building dependency tree       \n",
            "Reading state information... Done\n",
            "Note, selecting 'fonts-nanum-eco' for glob 'fonts-nanum*'\n",
            "Note, selecting 'fonts-nanum' for glob 'fonts-nanum*'\n",
            "Note, selecting 'fonts-nanum-gothic-light' for glob 'fonts-nanum*'\n",
            "Note, selecting 'fonts-nanum-coding' for glob 'fonts-nanum*'\n",
            "Note, selecting 'fonts-nanum-extra' for glob 'fonts-nanum*'\n",
            "The following NEW packages will be installed:\n",
            "  fonts-nanum fonts-nanum-coding fonts-nanum-eco fonts-nanum-extra\n",
            "0 upgraded, 4 newly installed, 0 to remove and 23 not upgraded.\n",
            "Need to get 37.6 MB of archives.\n",
            "After this operation, 145 MB of additional disk space will be used.\n",
            "Get:1 http://archive.ubuntu.com/ubuntu focal/universe amd64 fonts-nanum-extra all 20180306-3 [12.2 MB]\n",
            "Get:2 http://archive.ubuntu.com/ubuntu focal/universe amd64 fonts-nanum all 20180306-3 [9,599 kB]\n",
            "Get:3 http://archive.ubuntu.com/ubuntu focal/universe amd64 fonts-nanum-coding all 2.5-2 [1,084 kB]\n",
            "Get:4 http://archive.ubuntu.com/ubuntu focal/universe amd64 fonts-nanum-eco all 1.000-7 [14.7 MB]\n",
            "Fetched 37.6 MB in 3s (12.1 MB/s)\n",
            "debconf: unable to initialize frontend: Dialog\n",
            "debconf: (No usable dialog-like program is installed, so the dialog based frontend cannot be used. at /usr/share/perl5/Debconf/FrontEnd/Dialog.pm line 76, <> line 4.)\n",
            "debconf: falling back to frontend: Readline\n",
            "debconf: unable to initialize frontend: Readline\n",
            "debconf: (This frontend requires a controlling tty.)\n",
            "debconf: falling back to frontend: Teletype\n",
            "dpkg-preconfigure: unable to re-open stdin: \n",
            "Selecting previously unselected package fonts-nanum-extra.\n",
            "(Reading database ... 128285 files and directories currently installed.)\n",
            "Preparing to unpack .../fonts-nanum-extra_20180306-3_all.deb ...\n",
            "Unpacking fonts-nanum-extra (20180306-3) ...\n",
            "Selecting previously unselected package fonts-nanum.\n",
            "Preparing to unpack .../fonts-nanum_20180306-3_all.deb ...\n",
            "Unpacking fonts-nanum (20180306-3) ...\n",
            "Selecting previously unselected package fonts-nanum-coding.\n",
            "Preparing to unpack .../fonts-nanum-coding_2.5-2_all.deb ...\n",
            "Unpacking fonts-nanum-coding (2.5-2) ...\n",
            "Selecting previously unselected package fonts-nanum-eco.\n",
            "Preparing to unpack .../fonts-nanum-eco_1.000-7_all.deb ...\n",
            "Unpacking fonts-nanum-eco (1.000-7) ...\n",
            "Setting up fonts-nanum-extra (20180306-3) ...\n",
            "Setting up fonts-nanum (20180306-3) ...\n",
            "Setting up fonts-nanum-coding (2.5-2) ...\n",
            "Setting up fonts-nanum-eco (1.000-7) ...\n",
            "Processing triggers for fontconfig (2.13.1-2ubuntu3) ...\n",
            "/usr/share/fonts: caching, new cache contents: 0 fonts, 1 dirs\n",
            "/usr/share/fonts/truetype: caching, new cache contents: 0 fonts, 3 dirs\n",
            "/usr/share/fonts/truetype/humor-sans: caching, new cache contents: 1 fonts, 0 dirs\n",
            "/usr/share/fonts/truetype/liberation: caching, new cache contents: 16 fonts, 0 dirs\n",
            "/usr/share/fonts/truetype/nanum: caching, new cache contents: 31 fonts, 0 dirs\n",
            "/usr/local/share/fonts: caching, new cache contents: 0 fonts, 0 dirs\n",
            "/root/.local/share/fonts: skipping, no such directory\n",
            "/root/.fonts: skipping, no such directory\n",
            "/usr/share/fonts/truetype: skipping, looped directory detected\n",
            "/usr/share/fonts/truetype/humor-sans: skipping, looped directory detected\n",
            "/usr/share/fonts/truetype/liberation: skipping, looped directory detected\n",
            "/usr/share/fonts/truetype/nanum: skipping, looped directory detected\n",
            "/var/cache/fontconfig: cleaning cache directory\n",
            "/root/.cache/fontconfig: not cleaning non-existent cache directory\n",
            "/root/.fontconfig: not cleaning non-existent cache directory\n",
            "fc-cache: succeeded\n"
          ]
        }
      ],
      "source": [
        "import platform\n",
        "import matplotlib as mpl\n",
        "\n",
        "# 윈도우 설정\n",
        "if platform.system() == 'Windows':\n",
        "    font_path = \"C:/Windows/Fonts/NGULIM.TTF\"\n",
        "    font = mpl.font_manager.FontProperties(fname=font_path).get_name()\n",
        "    plt.rc('font', family=font)\n",
        "# 우분투/구글 코랩 설정\n",
        "elif platform.system() == 'Linux':\n",
        "    # 우분투/구글코랩의 경우 아래 명령문이 최소 한번 실행되어야 함\n",
        "    !sudo apt-get install -y fonts-nanum*\n",
        "    !fc-cache -fv\n",
        "    \n",
        "    font = \"NanumBarunGothic\"\n",
        "    if not any(map(lambda ft: ft.name == font, mpl.font_manager.fontManager.ttflist)):\n",
        "        mpl.font_manager.fontManager.addfont(\"/usr/share/fonts/truetype/nanum/NanumBarunGothic.ttf\")\n",
        "    plt.rc(\"font\", family=font)\n",
        "    plt.rc(\"axes\", unicode_minus=False)"
      ]
    },
    {
      "cell_type": "markdown",
      "id": "451e25d5",
      "metadata": {
        "id": "451e25d5"
      },
      "source": [
        "## 데이터 준비"
      ]
    },
    {
      "cell_type": "markdown",
      "id": "5aa9f34e",
      "metadata": {
        "id": "5aa9f34e"
      },
      "source": [
        "영산강에 설치된 승천보에서 측정한 두 개의 데이터셋이다.\n",
        "\n",
        "- `chl_a`: 녹조 발생의 주요 요인인 클로로필-A의 수치 100개\n",
        "- `flow`: 보에서 방출되는 시간당 방류량 수치 100개\n",
        "\n",
        "두 데이터셋의 인덱스는 수질(water quality)을 가리키며,\n",
        "높은 숫자일 수록 수질은 나쁘다."
      ]
    },
    {
      "cell_type": "code",
      "execution_count": 9,
      "id": "b07f5968",
      "metadata": {
        "id": "b07f5968"
      },
      "outputs": [],
      "source": [
        "# 클로로필-A 수치 100개\n",
        "\n",
        "chl_a = [51, 51, 53, 53, 54, 55, 57, 57, 59, 60,\n",
        "         61, 62, 63, 64, 65, 66, 67, 67, 67, 69,\n",
        "         70, 71, 71, 72, 73, 75, 75, 76, 77, 79,\n",
        "         81, 81, 83, 83, 85, 86, 87, 88, 88, 88,\n",
        "         89, 89, 90, 91, 92, 95, 96, 96, 97, 98,\n",
        "         98, 98, 99, 101, 101, 102, 102, 103, 104, 104,\n",
        "         104, 104, 105, 106, 107, 108, 110, 111, 111, 112,\n",
        "         112, 112, 113, 114, 114, 116, 116, 116, 117, 118,\n",
        "         118, 118, 118, 119, 120, 120, 121, 122, 125, 120,\n",
        "         121, 121, 121, 122, 122, 122, 122, 124, 125, 124]"
      ]
    },
    {
      "cell_type": "code",
      "execution_count": 10,
      "id": "7d6a2b0c",
      "metadata": {
        "id": "7d6a2b0c"
      },
      "outputs": [],
      "source": [
        "# 시간당 방류량 수치 100개\n",
        "\n",
        "flow = [25, 25, 24, 24, 22, 22, 21, 21, 20, 20,\n",
        "        19, 19, 19, 18, 18, 18, 17, 17, 17, 16,\n",
        "        16, 16, 17, 16, 17, 17, 16, 16, 16, 16,\n",
        "        16, 16, 16, 16, 16, 15, 15, 15, 15, 15,\n",
        "        15, 14, 15, 14, 14, 13, 13, 13, 13, 13,\n",
        "        13, 13, 13, 13, 13, 13, 12, 12, 12, 12,\n",
        "        12, 12, 52, 11, 11, 11, 11, 11, 12, 12,\n",
        "        12, 12, 12, 11, 12, 12, 12, 11, 11, 11,\n",
        "        11, 11, 11, 11, 11, 11, 11, 11, 11, 10,\n",
        "        9, 9, 9, 9, 9, 9, 9, 49, 9, 9]"
      ]
    },
    {
      "cell_type": "markdown",
      "id": "4057b988",
      "metadata": {
        "id": "4057b988"
      },
      "source": [
        "**문제**"
      ]
    },
    {
      "cell_type": "markdown",
      "id": "dcf9d30b",
      "metadata": {
        "id": "dcf9d30b"
      },
      "source": [
        "각각의 데이터셋 크기가 100임을 확인하라.\n",
        "\n",
        "힌트: `len()` 함수"
      ]
    },
    {
      "cell_type": "code",
      "execution_count": 11,
      "id": "f4251f45",
      "metadata": {
        "id": "f4251f45",
        "colab": {
          "base_uri": "https://localhost:8080/"
        },
        "outputId": "00bb646f-d2d9-44cb-ef6f-6abc450e6149"
      },
      "outputs": [
        {
          "output_type": "stream",
          "name": "stdout",
          "text": [
            "100\n",
            "100\n"
          ]
        }
      ],
      "source": [
        "print(len(chl_a))\n",
        "print(len(flow))"
      ]
    },
    {
      "cell_type": "markdown",
      "id": "f5dc3aac",
      "metadata": {
        "id": "f5dc3aac"
      },
      "source": [
        "**문제**"
      ]
    },
    {
      "cell_type": "markdown",
      "id": "5423885b",
      "metadata": {
        "id": "5423885b"
      },
      "source": [
        "가장 높은 클로로필-A의 수치는 얼마인가?"
      ]
    },
    {
      "cell_type": "code",
      "execution_count": 12,
      "id": "b38ff228",
      "metadata": {
        "id": "b38ff228",
        "colab": {
          "base_uri": "https://localhost:8080/"
        },
        "outputId": "1d1421d4-bb88-4c6d-d84c-a25572450e1f"
      },
      "outputs": [
        {
          "output_type": "execute_result",
          "data": {
            "text/plain": [
              "125"
            ]
          },
          "metadata": {},
          "execution_count": 12
        }
      ],
      "source": [
        "max(chl_a)"
      ]
    },
    {
      "cell_type": "markdown",
      "id": "050234f0",
      "metadata": {
        "id": "050234f0"
      },
      "source": [
        "**문제**"
      ]
    },
    {
      "cell_type": "markdown",
      "id": "af256b34",
      "metadata": {
        "id": "af256b34"
      },
      "source": [
        "가장 낮은 시간당 방류량 수치는 얼마인가?"
      ]
    },
    {
      "cell_type": "code",
      "execution_count": 13,
      "id": "ebf50466",
      "metadata": {
        "id": "ebf50466",
        "colab": {
          "base_uri": "https://localhost:8080/"
        },
        "outputId": "6409fa25-85a5-4629-a990-0f28fd8a9d82"
      },
      "outputs": [
        {
          "output_type": "execute_result",
          "data": {
            "text/plain": [
              "9"
            ]
          },
          "metadata": {},
          "execution_count": 13
        }
      ],
      "source": [
        "min(flow)"
      ]
    },
    {
      "cell_type": "markdown",
      "id": "fb8a227d",
      "metadata": {
        "id": "fb8a227d"
      },
      "source": [
        "## 데이터 살펴보기"
      ]
    },
    {
      "cell_type": "markdown",
      "id": "37e7ef28",
      "metadata": {
        "id": "37e7ef28"
      },
      "source": [
        "**문제**"
      ]
    },
    {
      "cell_type": "markdown",
      "id": "00a80a4a",
      "metadata": {
        "id": "00a80a4a"
      },
      "source": [
        "클로로필-A 데이터에 포함된 값들의 빈도를 막대그래프로 그려라.\n",
        "\n",
        "힌트: `from collections import Counter`"
      ]
    },
    {
      "cell_type": "code",
      "execution_count": 14,
      "id": "ab5989fa",
      "metadata": {
        "id": "ab5989fa",
        "colab": {
          "base_uri": "https://localhost:8080/"
        },
        "outputId": "597350dd-ef62-4b74-e7dd-3d9c5463acfe"
      },
      "outputs": [
        {
          "output_type": "execute_result",
          "data": {
            "text/plain": [
              "Counter({51: 2,\n",
              "         53: 2,\n",
              "         54: 1,\n",
              "         55: 1,\n",
              "         57: 2,\n",
              "         59: 1,\n",
              "         60: 1,\n",
              "         61: 1,\n",
              "         62: 1,\n",
              "         63: 1,\n",
              "         64: 1,\n",
              "         65: 1,\n",
              "         66: 1,\n",
              "         67: 3,\n",
              "         69: 1,\n",
              "         70: 1,\n",
              "         71: 2,\n",
              "         72: 1,\n",
              "         73: 1,\n",
              "         75: 2,\n",
              "         76: 1,\n",
              "         77: 1,\n",
              "         79: 1,\n",
              "         81: 2,\n",
              "         83: 2,\n",
              "         85: 1,\n",
              "         86: 1,\n",
              "         87: 1,\n",
              "         88: 3,\n",
              "         89: 2,\n",
              "         90: 1,\n",
              "         91: 1,\n",
              "         92: 1,\n",
              "         95: 1,\n",
              "         96: 2,\n",
              "         97: 1,\n",
              "         98: 3,\n",
              "         99: 1,\n",
              "         101: 2,\n",
              "         102: 2,\n",
              "         103: 1,\n",
              "         104: 4,\n",
              "         105: 1,\n",
              "         106: 1,\n",
              "         107: 1,\n",
              "         108: 1,\n",
              "         110: 1,\n",
              "         111: 2,\n",
              "         112: 3,\n",
              "         113: 1,\n",
              "         114: 2,\n",
              "         116: 3,\n",
              "         117: 1,\n",
              "         118: 4,\n",
              "         119: 1,\n",
              "         120: 3,\n",
              "         121: 4,\n",
              "         122: 5,\n",
              "         125: 2,\n",
              "         124: 2})"
            ]
          },
          "metadata": {},
          "execution_count": 14
        }
      ],
      "source": [
        "from collections import Counter\n",
        "\n",
        "chl_counts = Counter(chl_a)\n",
        "chl_counts"
      ]
    },
    {
      "cell_type": "code",
      "source": [
        "xs = range(51, 126)\n",
        "ys = [chl_counts[x] for x in xs]\n",
        "\n",
        "plt.bar(xs, ys)\n",
        "\n",
        "plt.axis([50, 126, 0, 6])\n",
        "plt.xlabel(\"클로로필_A\")\n",
        "plt.ylabel(\"데이터 수\")\n",
        "plt.show()"
      ],
      "metadata": {
        "colab": {
          "base_uri": "https://localhost:8080/",
          "height": 392
        },
        "id": "gCpskCePLK67",
        "outputId": "891d2a81-269f-48a8-d626-d0b3b2c73330"
      },
      "id": "gCpskCePLK67",
      "execution_count": 15,
      "outputs": [
        {
          "output_type": "display_data",
          "data": {
            "text/plain": [
              "<Figure size 720x432 with 1 Axes>"
            ],
            "image/png": "[encoded data removed]"
          },
          "metadata": {
            "needs_background": "light"
          }
        }
      ]
    },
    {
      "cell_type": "markdown",
      "id": "1f41759e",
      "metadata": {
        "id": "1f41759e"
      },
      "source": [
        "## 중심 경향성과 평균"
      ]
    },
    {
      "cell_type": "markdown",
      "id": "18f4effa",
      "metadata": {
        "id": "18f4effa"
      },
      "source": [
        "**문제**"
      ]
    },
    {
      "cell_type": "markdown",
      "id": "b354d2bf",
      "metadata": {
        "id": "b354d2bf"
      },
      "source": [
        "방류량의 평균값을 계산하라."
      ]
    },
    {
      "cell_type": "code",
      "execution_count": 16,
      "id": "1ddbe386",
      "metadata": {
        "id": "1ddbe386"
      },
      "outputs": [],
      "source": [
        "def mean(xs):\n",
        "    \"\"\"\n",
        "    xs: 리스트로 구현된 데이터셋\n",
        "    \"\"\"\n",
        "\n",
        "    return sum(xs) / len(xs)"
      ]
    },
    {
      "cell_type": "code",
      "source": [
        "mean(flow)"
      ],
      "metadata": {
        "colab": {
          "base_uri": "https://localhost:8080/"
        },
        "id": "jAxcY1LQSHfy",
        "outputId": "f6d3ea2c-0acc-4d15-8bd2-b56cddb5ce8c"
      },
      "id": "jAxcY1LQSHfy",
      "execution_count": 17,
      "outputs": [
        {
          "output_type": "execute_result",
          "data": {
            "text/plain": [
              "14.93"
            ]
          },
          "metadata": {},
          "execution_count": 17
        }
      ]
    },
    {
      "cell_type": "markdown",
      "id": "86a72482",
      "metadata": {
        "id": "86a72482"
      },
      "source": [
        "**문제**"
      ]
    },
    {
      "cell_type": "markdown",
      "id": "16dc162e",
      "metadata": {
        "id": "16dc162e"
      },
      "source": [
        "방류량의 중앙값을 계산하라."
      ]
    },
    {
      "cell_type": "code",
      "execution_count": 18,
      "id": "93814d67",
      "metadata": {
        "id": "93814d67"
      },
      "outputs": [],
      "source": [
        "# 리스트의 길이가 짝수일 때\n",
        "def _median_even(xs):\n",
        "    sorted_xs = sorted(xs)\n",
        "    high_midpoint = len(xs) // 2\n",
        "    mean_value = (sorted_xs[high_midpoint - 1] + sorted_xs[high_midpoint]) / 2\n",
        "    return mean_value\n",
        "\n",
        "# 리스트의 길이가 홀수일 때\n",
        "def _median_odd(xs):\n",
        "    sorted_xs = sorted(xs)\n",
        "    midpoint = len(xs) // 2\n",
        "    mean_value = sorted_xs[midpoint]\n",
        "    return mean_value\n",
        "\n",
        "# 짝수/홀수 구분\n",
        "def median(xs):\n",
        "    if len(xs) % 2 == 0:\n",
        "        return _median_even(xs)\n",
        "    else:\n",
        "        return _median_odd(xs)"
      ]
    },
    {
      "cell_type": "code",
      "source": [
        "median(flow)"
      ],
      "metadata": {
        "colab": {
          "base_uri": "https://localhost:8080/"
        },
        "id": "CH2qotGGSQ1S",
        "outputId": "6cedfcf9-262a-4266-a3d0-0e5645691ae3"
      },
      "id": "CH2qotGGSQ1S",
      "execution_count": 19,
      "outputs": [
        {
          "output_type": "execute_result",
          "data": {
            "text/plain": [
              "13.0"
            ]
          },
          "metadata": {},
          "execution_count": 19
        }
      ]
    },
    {
      "cell_type": "markdown",
      "id": "2a9785dc",
      "metadata": {
        "id": "2a9785dc"
      },
      "source": [
        "**문제**"
      ]
    },
    {
      "cell_type": "markdown",
      "id": "b72a49d8",
      "metadata": {
        "id": "b72a49d8"
      },
      "source": [
        "방류량의 최빈값을 계산하라."
      ]
    },
    {
      "cell_type": "code",
      "execution_count": 20,
      "id": "57bbd378",
      "metadata": {
        "id": "57bbd378"
      },
      "outputs": [],
      "source": [
        "def mode(xs):\n",
        "    \"\"\"\n",
        "    최빈값\n",
        "    \"\"\"\n",
        "    # Counter 객체 생성\n",
        "    counts = Counter(xs)\n",
        "    # 키값의 최댓값 확인\n",
        "    max_count = max(counts.values())\n",
        "    # 최대 키값을 갖는 키들의 집합\n",
        "    modes = {x_i for x_i, count in counts.items() if count == max_count}\n",
        "    return modes"
      ]
    },
    {
      "cell_type": "code",
      "source": [
        "mode(flow)"
      ],
      "metadata": {
        "colab": {
          "base_uri": "https://localhost:8080/"
        },
        "id": "cJWV_b2iSfyB",
        "outputId": "cdc10c04-cd2b-40f6-afe3-1dd5c0a3dfde"
      },
      "id": "cJWV_b2iSfyB",
      "execution_count": 21,
      "outputs": [
        {
          "output_type": "execute_result",
          "data": {
            "text/plain": [
              "{11}"
            ]
          },
          "metadata": {},
          "execution_count": 21
        }
      ]
    },
    {
      "cell_type": "markdown",
      "id": "8b501a41",
      "metadata": {
        "id": "8b501a41"
      },
      "source": [
        "**문제**"
      ]
    },
    {
      "cell_type": "markdown",
      "id": "30081d43",
      "metadata": {
        "id": "30081d43"
      },
      "source": [
        "방류량의 제1, 제3 사분위수를 계산하라."
      ]
    },
    {
      "cell_type": "code",
      "source": [
        "def quantile(xs, p):\n",
        "    \"\"\"\n",
        "    xs: 데이터셋\n",
        "    p: 상위 p% 위치\n",
        "    \"\"\"\n",
        "    \n",
        "    xs_sorted = sorted(xs) # 정렬\n",
        "    p_index = int(p * len(xs)) # p%에 해당하는 인덱스\n",
        "\n",
        "    return xs_sorted[p_index]"
      ],
      "metadata": {
        "id": "aSDEHEU8VI9W"
      },
      "id": "aSDEHEU8VI9W",
      "execution_count": 22,
      "outputs": []
    },
    {
      "cell_type": "code",
      "execution_count": 23,
      "id": "7ce74e81",
      "metadata": {
        "id": "7ce74e81",
        "colab": {
          "base_uri": "https://localhost:8080/"
        },
        "outputId": "88b601b5-611c-45ec-9c47-97f6f91ea7e1"
      },
      "outputs": [
        {
          "output_type": "stream",
          "name": "stdout",
          "text": [
            "11\n",
            "16\n"
          ]
        }
      ],
      "source": [
        "print(quantile(flow, 0.25)) # 제1 사분위수\n",
        "print(quantile(flow, 0.75)) # 제3 사분위수"
      ]
    },
    {
      "cell_type": "markdown",
      "id": "3d9a6797",
      "metadata": {
        "id": "3d9a6797"
      },
      "source": [
        "## 산포도와 분산"
      ]
    },
    {
      "cell_type": "markdown",
      "id": "453df3b1",
      "metadata": {
        "id": "453df3b1"
      },
      "source": [
        "**문제**"
      ]
    },
    {
      "cell_type": "markdown",
      "id": "2dc793d1",
      "metadata": {
        "id": "2dc793d1"
      },
      "source": [
        "클로로필-A 데이터의 범위를 계산하라."
      ]
    },
    {
      "cell_type": "code",
      "execution_count": 24,
      "id": "23bd71d0",
      "metadata": {
        "id": "23bd71d0"
      },
      "outputs": [],
      "source": [
        "def data_range(xs):\n",
        "    return max(xs) - min(xs)"
      ]
    },
    {
      "cell_type": "code",
      "source": [
        "data_range(chl_a)"
      ],
      "metadata": {
        "colab": {
          "base_uri": "https://localhost:8080/"
        },
        "id": "NDwSXoPjVenj",
        "outputId": "125787b3-e763-425f-85ee-7d5b6a089ac6"
      },
      "id": "NDwSXoPjVenj",
      "execution_count": 25,
      "outputs": [
        {
          "output_type": "execute_result",
          "data": {
            "text/plain": [
              "74"
            ]
          },
          "metadata": {},
          "execution_count": 25
        }
      ]
    },
    {
      "cell_type": "markdown",
      "id": "1deb85f8",
      "metadata": {
        "id": "1deb85f8"
      },
      "source": [
        "**문제**"
      ]
    },
    {
      "cell_type": "markdown",
      "id": "f30911df",
      "metadata": {
        "id": "f30911df"
      },
      "source": [
        "클로로필-A 데이터의 분산을 계산하라."
      ]
    },
    {
      "cell_type": "code",
      "execution_count": 26,
      "id": "bd2353aa",
      "metadata": {
        "id": "bd2353aa"
      },
      "outputs": [],
      "source": [
        "# 벡터 내적 함수\n",
        "def dotV(v, w):\n",
        "    assert len(v) == len(w), \"벡터들의 길이가 동일해야 함\"\"\"\n",
        "\n",
        "    return sum(v_i * w_i for v_i, w_i in zip(v, w))\n",
        "\n",
        "def dev_mean(xs):\n",
        "    \"\"\"평균값과의 차이 계산\"\"\"\n",
        "    mu = mean(xs)\n",
        "    return [x - mu for x in xs]\n",
        "\n",
        "def sum_of_squares(v):\n",
        "    \"\"\"반환값: v_1 * v_1 + ... + v_n * v_n\"\"\"\n",
        "    return dotV(v, v)"
      ]
    },
    {
      "cell_type": "code",
      "source": [
        "def var(xs):\n",
        "    \"\"\"\n",
        "    분산값 계산. 단, 2개 이상의 데이터가 있어야 함.\n",
        "    \"\"\"\n",
        "    \n",
        "    assert len(xs) >= 2, \"두 개 이상의 데이터 필요\"\n",
        "\n",
        "    n = len(xs)\n",
        "    deviations = dev_mean(xs)\n",
        "    deviation_sum = sum_of_squares(deviations)\n",
        "    return deviation_sum / (n - 1)"
      ],
      "metadata": {
        "id": "xrHYX156V6l3"
      },
      "id": "xrHYX156V6l3",
      "execution_count": 27,
      "outputs": []
    },
    {
      "cell_type": "code",
      "source": [
        "var(chl_a)"
      ],
      "metadata": {
        "colab": {
          "base_uri": "https://localhost:8080/"
        },
        "id": "_ygiT-xZV8F8",
        "outputId": "198e9f96-0b05-4524-b11d-bdb91ead5ed0"
      },
      "id": "_ygiT-xZV8F8",
      "execution_count": 28,
      "outputs": [
        {
          "output_type": "execute_result",
          "data": {
            "text/plain": [
              "511.9195959595961"
            ]
          },
          "metadata": {},
          "execution_count": 28
        }
      ]
    },
    {
      "cell_type": "markdown",
      "id": "f6b300c9",
      "metadata": {
        "id": "f6b300c9"
      },
      "source": [
        "**문제**"
      ]
    },
    {
      "cell_type": "markdown",
      "id": "9a156e8b",
      "metadata": {
        "id": "9a156e8b"
      },
      "source": [
        "클로로필-A 데이터의 표준편차를 계산하라."
      ]
    },
    {
      "cell_type": "code",
      "execution_count": 29,
      "id": "7a2e8f19",
      "metadata": {
        "id": "7a2e8f19"
      },
      "outputs": [],
      "source": [
        "import math\n",
        "\n",
        "def std(xs):\n",
        "    return math.sqrt(var(xs))"
      ]
    },
    {
      "cell_type": "code",
      "source": [
        "std(chl_a)"
      ],
      "metadata": {
        "colab": {
          "base_uri": "https://localhost:8080/"
        },
        "id": "JietKkQ8WVhx",
        "outputId": "10e9f10d-3701-44eb-fef8-2b6e7f562d57"
      },
      "id": "JietKkQ8WVhx",
      "execution_count": 30,
      "outputs": [
        {
          "output_type": "execute_result",
          "data": {
            "text/plain": [
              "22.62564023314249"
            ]
          },
          "metadata": {},
          "execution_count": 30
        }
      ]
    },
    {
      "cell_type": "markdown",
      "id": "d73b2b11",
      "metadata": {
        "id": "d73b2b11"
      },
      "source": [
        "## 선형 상관관계"
      ]
    },
    {
      "cell_type": "markdown",
      "id": "da835ea6",
      "metadata": {
        "id": "da835ea6"
      },
      "source": [
        "**문제**"
      ]
    },
    {
      "cell_type": "markdown",
      "id": "2190b90e",
      "metadata": {
        "id": "2190b90e"
      },
      "source": [
        "클로로필-A와 시간당 방류량 사이의 공분산을 계산하고\n",
        "두 데이터 사이의 상관관계를 설명하라."
      ]
    },
    {
      "cell_type": "code",
      "execution_count": 31,
      "id": "0dc70d6b",
      "metadata": {
        "id": "0dc70d6b"
      },
      "outputs": [],
      "source": [
        "def cov(xs, ys):\n",
        "    assert len(xs) == len(ys), \"xs와 ys의 길이가 같아야 함.\"\n",
        "\n",
        "    return dotV(dev_mean(xs), dev_mean(ys)) / (len(xs) - 1)"
      ]
    },
    {
      "cell_type": "code",
      "source": [
        "cov(chl_a, flow)"
      ],
      "metadata": {
        "colab": {
          "base_uri": "https://localhost:8080/"
        },
        "id": "cX-3YTXEXNst",
        "outputId": "2f030edd-9601-48af-de0f-dbc9ce81a474"
      },
      "id": "cX-3YTXEXNst",
      "execution_count": 32,
      "outputs": [
        {
          "output_type": "execute_result",
          "data": {
            "text/plain": [
              "-66.88868686868692"
            ]
          },
          "metadata": {},
          "execution_count": 32
        }
      ]
    },
    {
      "cell_type": "markdown",
      "source": [
        "공분산이 음수이기 때문에 클로로필_A가 증가 할수록 시간당 방류량이 감소하는 경향이 있다."
      ],
      "metadata": {
        "id": "s6MhViUaa30t"
      },
      "id": "s6MhViUaa30t"
    },
    {
      "cell_type": "markdown",
      "id": "719162e0",
      "metadata": {
        "id": "719162e0"
      },
      "source": [
        "**문제**"
      ]
    },
    {
      "cell_type": "markdown",
      "id": "38a364fc",
      "metadata": {
        "id": "38a364fc"
      },
      "source": [
        "클로로필-A와 시간당 방류량 사이의 피어슨 상관계수를 계산하고\n",
        "두 데이터 사이의 선형 상관관계를 설명하라."
      ]
    },
    {
      "cell_type": "code",
      "execution_count": 33,
      "id": "1aef423c",
      "metadata": {
        "id": "1aef423c"
      },
      "outputs": [],
      "source": [
        "def corrcoef(xs, ys):\n",
        "    assert len(xs) == len(ys), \"xs와 ys의 길이가 같아야 함.\"\n",
        "\n",
        "    stdev_x = std(xs) # xs의 표준편차\n",
        "    stdev_y = std(ys) # ys의 표준편차\n",
        "\n",
        "    if stdev_x > 0 and stdev_y > 0:\n",
        "        return cov(xs, ys) / (stdev_x * stdev_y)\n",
        "    else:\n",
        "        return 0    # 표준편차가 0인 데이터셋과의 선형 상관관계는 없음."
      ]
    },
    {
      "cell_type": "code",
      "source": [
        "corrcoef(chl_a, flow)"
      ],
      "metadata": {
        "colab": {
          "base_uri": "https://localhost:8080/"
        },
        "id": "wjEuz_bgbdym",
        "outputId": "b23cb121-a796-4bdc-86fb-a9c0a6de4c89"
      },
      "id": "wjEuz_bgbdym",
      "execution_count": 34,
      "outputs": [
        {
          "output_type": "execute_result",
          "data": {
            "text/plain": [
              "-0.46344389682687775"
            ]
          },
          "metadata": {},
          "execution_count": 34
        }
      ]
    },
    {
      "cell_type": "markdown",
      "source": [
        "피어슨 상관계수가 -0.46으로 약한 선형 상관관계를 갖는다."
      ],
      "metadata": {
        "id": "ciqtoQLJcQHp"
      },
      "id": "ciqtoQLJcQHp"
    },
    {
      "cell_type": "markdown",
      "id": "e3df3dc0",
      "metadata": {
        "id": "e3df3dc0"
      },
      "source": [
        "## 이상치"
      ]
    },
    {
      "cell_type": "markdown",
      "id": "0396b3f7",
      "metadata": {
        "id": "0396b3f7"
      },
      "source": [
        "**산점도**"
      ]
    },
    {
      "cell_type": "markdown",
      "id": "ce0db165",
      "metadata": {
        "id": "ce0db165"
      },
      "source": [
        "x축을 방류량, y축을 클로로필-A 수치로 지정한 다음 산점도를 그려보자."
      ]
    },
    {
      "cell_type": "code",
      "execution_count": 35,
      "id": "e1082a1a",
      "metadata": {
        "id": "e1082a1a",
        "outputId": "39ee0c40-ce35-4fb8-e332-16bbdb0827cd",
        "colab": {
          "base_uri": "https://localhost:8080/",
          "height": 388
        }
      },
      "outputs": [
        {
          "output_type": "display_data",
          "data": {
            "text/plain": [
              "<Figure size 720x432 with 1 Axes>"
            ],
            "image/png": "[encoded data removed]"
          },
          "metadata": {
            "needs_background": "light"
          }
        }
      ],
      "source": [
        "plt.scatter(flow, chl_a)\n",
        "\n",
        "# 그래프 설정\n",
        "plt.xlabel(\"방류량\")           # x축 눈금 설명\n",
        "plt.ylabel(\"클로로필-A\")       # y축 눈금 설명\n",
        "plt.show()"
      ]
    },
    {
      "cell_type": "markdown",
      "id": "81fdd2f3",
      "metadata": {
        "id": "81fdd2f3"
      },
      "source": [
        "**문제**"
      ]
    },
    {
      "cell_type": "markdown",
      "id": "fe1b7c70",
      "metadata": {
        "id": "fe1b7c70"
      },
      "source": [
        "위 산점도에 따르면 두 개의 이상치가 존재한다.\n",
        "어떤 데이터가 이상치인지 설명하라."
      ]
    },
    {
      "cell_type": "markdown",
      "id": "161908a9",
      "metadata": {
        "id": "161908a9"
      },
      "source": [
        "맨 오른쪽 위에 있는 방류량이 49, 52인 두 점이 방류량에 비해 클로로필-A가 높게 나와서 이상치이다."
      ]
    },
    {
      "cell_type": "markdown",
      "id": "5a45e5c2",
      "metadata": {
        "id": "5a45e5c2"
      },
      "source": [
        "**문제**"
      ]
    },
    {
      "cell_type": "markdown",
      "id": "34b67544",
      "metadata": {
        "id": "34b67544"
      },
      "source": [
        "클로로필-A 데이터와 방수량 두 데이터셋 모두에서\n",
        "이상치에 해당하는 두 개의 값을 제거한다."
      ]
    },
    {
      "cell_type": "code",
      "source": [
        "outlier1 = flow.index(49)\n",
        "outlier2 = flow.index(52)"
      ],
      "metadata": {
        "id": "rreaRwF30bjK"
      },
      "id": "rreaRwF30bjK",
      "execution_count": 36,
      "outputs": []
    },
    {
      "cell_type": "code",
      "execution_count": 37,
      "id": "3e97166c",
      "metadata": {
        "id": "3e97166c"
      },
      "outputs": [],
      "source": [
        "# None을 적절한 표현식으로 대체할 것.\n",
        "\n",
        "new_chl_a = [x for i, x in enumerate(chl_a) if i != outlier1 and i != outlier2]"
      ]
    },
    {
      "cell_type": "code",
      "execution_count": 38,
      "id": "36cc9fbd",
      "metadata": {
        "id": "36cc9fbd"
      },
      "outputs": [],
      "source": [
        "# None을 적절한 표현식으로 대체할 것.\n",
        "\n",
        "new_flow = [x for i, x in enumerate(flow) if i != outlier1 and i != outlier2]"
      ]
    },
    {
      "cell_type": "code",
      "source": [
        "corrcoef(new_chl_a, new_flow)"
      ],
      "metadata": {
        "colab": {
          "base_uri": "https://localhost:8080/"
        },
        "id": "GsWflwRX1Mj5",
        "outputId": "00bf051c-d746-4daa-9208-939dd672fc96"
      },
      "id": "GsWflwRX1Mj5",
      "execution_count": 39,
      "outputs": [
        {
          "output_type": "execute_result",
          "data": {
            "text/plain": [
              "-0.9565347907790098"
            ]
          },
          "metadata": {},
          "execution_count": 39
        }
      ]
    },
    {
      "cell_type": "markdown",
      "id": "72704922",
      "metadata": {
        "id": "72704922"
      },
      "source": [
        "이상치를 제거한 두 데이터셋을 이용하여 산점도를 다시 그려라."
      ]
    },
    {
      "cell_type": "code",
      "execution_count": 40,
      "id": "726c25fa",
      "metadata": {
        "id": "726c25fa",
        "outputId": "c8fda64f-a5d3-4483-ea99-8b1dac45acb2",
        "colab": {
          "base_uri": "https://localhost:8080/",
          "height": 388
        }
      },
      "outputs": [
        {
          "output_type": "display_data",
          "data": {
            "text/plain": [
              "<Figure size 720x432 with 1 Axes>"
            ],
            "image/png": "[encoded data removed]"
          },
          "metadata": {
            "needs_background": "light"
          }
        }
      ],
      "source": [
        "plt.scatter(new_flow, new_chl_a)\n",
        "\n",
        "# 그래프 설정\n",
        "plt.xlabel(\"방류량\")           # x축 눈금 설명\n",
        "plt.ylabel(\"클로로필-A\")       # y축 눈금 설명\n",
        "plt.show()"
      ]
    },
    {
      "cell_type": "markdown",
      "id": "60027bf2",
      "metadata": {
        "id": "60027bf2"
      },
      "source": [
        "**문제**"
      ]
    },
    {
      "cell_type": "markdown",
      "id": "8002b022",
      "metadata": {
        "id": "8002b022"
      },
      "source": [
        "이상치를 제거하기 이전과 이후의 데이터셋을 이용하여 아래 값들이 어떻게 달라졌는지 설명하라.\n",
        "\n",
        "- 평균값, 중앙값, 최빈값\n",
        "- 범위, 사분범위, 분산, 표준편차\n",
        "- 공분산, 피어슨 상관계수"
      ]
    },
    {
      "cell_type": "markdown",
      "source": [
        "**평균값**"
      ],
      "metadata": {
        "id": "8889PiS246ND"
      },
      "id": "8889PiS246ND"
    },
    {
      "cell_type": "code",
      "source": [
        "print(mean(chl_a))\n",
        "print(mean(new_chl_a))"
      ],
      "metadata": {
        "colab": {
          "base_uri": "https://localhost:8080/"
        },
        "id": "nQ7nmKwv4NGY",
        "outputId": "6b8cad0f-3e5d-4bdd-8a29-b34eabb0c054"
      },
      "id": "nQ7nmKwv4NGY",
      "execution_count": 41,
      "outputs": [
        {
          "output_type": "stream",
          "name": "stdout",
          "text": [
            "93.86\n",
            "93.43877551020408\n"
          ]
        }
      ]
    },
    {
      "cell_type": "markdown",
      "source": [
        "기존 평균값 93.86에서 이상치 105, 124를 제거해서 평균값이 93.43으로 내려갔다."
      ],
      "metadata": {
        "id": "lYGfUGDe7A3x"
      },
      "id": "lYGfUGDe7A3x"
    },
    {
      "cell_type": "code",
      "source": [
        "print(mean(flow))\n",
        "print(mean(new_flow))"
      ],
      "metadata": {
        "colab": {
          "base_uri": "https://localhost:8080/"
        },
        "id": "a1KMeVvg4x2P",
        "outputId": "8fb1b2ec-5e45-4436-ea8d-8a4b6766205c"
      },
      "id": "a1KMeVvg4x2P",
      "execution_count": 42,
      "outputs": [
        {
          "output_type": "stream",
          "name": "stdout",
          "text": [
            "14.93\n",
            "14.204081632653061\n"
          ]
        }
      ]
    },
    {
      "cell_type": "markdown",
      "source": [
        "기존 평균값 14.93에서 이상치 49, 52를 제거해서 평균값이 14.20으로 내려갔다."
      ],
      "metadata": {
        "id": "yPZtekuL7ZXf"
      },
      "id": "yPZtekuL7ZXf"
    },
    {
      "cell_type": "markdown",
      "source": [
        "**중앙값**"
      ],
      "metadata": {
        "id": "zL0YJzeW5AUm"
      },
      "id": "zL0YJzeW5AUm"
    },
    {
      "cell_type": "code",
      "source": [
        "print(median(chl_a))\n",
        "print(median(new_chl_a))"
      ],
      "metadata": {
        "colab": {
          "base_uri": "https://localhost:8080/"
        },
        "id": "FEYI3v77486w",
        "outputId": "13432520-fe42-43c9-dd76-cf641af0eb2b"
      },
      "id": "FEYI3v77486w",
      "execution_count": 43,
      "outputs": [
        {
          "output_type": "stream",
          "name": "stdout",
          "text": [
            "98.0\n",
            "97.5\n"
          ]
        }
      ]
    },
    {
      "cell_type": "markdown",
      "source": [
        "데이터 셋의 크기가 짝수이고 기존 중앙값 98.0에서 이상치 105, 124를 제거해서 98과 97의 평균값인 97.5가 중앙값이다."
      ],
      "metadata": {
        "id": "cAgMzY1e77MQ"
      },
      "id": "cAgMzY1e77MQ"
    },
    {
      "cell_type": "code",
      "source": [
        "print(median(flow))\n",
        "print(median(new_flow))"
      ],
      "metadata": {
        "colab": {
          "base_uri": "https://localhost:8080/"
        },
        "id": "XuPhMhsw485o",
        "outputId": "25141277-1acc-456c-cd26-77425ce2b5e1"
      },
      "id": "XuPhMhsw485o",
      "execution_count": 44,
      "outputs": [
        {
          "output_type": "stream",
          "name": "stdout",
          "text": [
            "13.0\n",
            "13.0\n"
          ]
        }
      ]
    },
    {
      "cell_type": "markdown",
      "source": [
        "데이터 셋의 크기가 짝수이고 기존 중앙값이 13.0에서 이상치 49, 52를 제거했지만 기존과 같이 중앙값이 13이다."
      ],
      "metadata": {
        "id": "SLEq6iyp8tTf"
      },
      "id": "SLEq6iyp8tTf"
    },
    {
      "cell_type": "markdown",
      "source": [
        "**최빈값**"
      ],
      "metadata": {
        "id": "x_L2yPqJ5cOi"
      },
      "id": "x_L2yPqJ5cOi"
    },
    {
      "cell_type": "code",
      "source": [
        "print(mode(chl_a))\n",
        "print(mode(new_chl_a))"
      ],
      "metadata": {
        "colab": {
          "base_uri": "https://localhost:8080/"
        },
        "id": "SqTZ9-yQ5fF9",
        "outputId": "2213b5b2-155f-4c71-b5c1-1462f2d31b01"
      },
      "id": "SqTZ9-yQ5fF9",
      "execution_count": 45,
      "outputs": [
        {
          "output_type": "stream",
          "name": "stdout",
          "text": [
            "{122}\n",
            "{122}\n"
          ]
        }
      ]
    },
    {
      "cell_type": "markdown",
      "source": [
        "기존 최빈값이 122이기 때문에 이상치 105와 124를 제거해도 변화가 없다."
      ],
      "metadata": {
        "id": "g6R3CCKh9Ku8"
      },
      "id": "g6R3CCKh9Ku8"
    },
    {
      "cell_type": "code",
      "source": [
        "print(mode(flow))\n",
        "print(mode(new_flow))"
      ],
      "metadata": {
        "colab": {
          "base_uri": "https://localhost:8080/"
        },
        "id": "uJQFb-Nd5p7G",
        "outputId": "6198ec2b-8f7e-424a-a8a2-a3dae07e9cd4"
      },
      "id": "uJQFb-Nd5p7G",
      "execution_count": 46,
      "outputs": [
        {
          "output_type": "stream",
          "name": "stdout",
          "text": [
            "{11}\n",
            "{11}\n"
          ]
        }
      ]
    },
    {
      "cell_type": "markdown",
      "source": [
        "기존 최빈값이 11이기 때문에 이상치 49와 52를 제거해도 변화가 없다."
      ],
      "metadata": {
        "id": "zNSLJXcl9bql"
      },
      "id": "zNSLJXcl9bql"
    },
    {
      "cell_type": "markdown",
      "source": [
        "**범위**"
      ],
      "metadata": {
        "id": "CVTTpj4x9lbV"
      },
      "id": "CVTTpj4x9lbV"
    },
    {
      "cell_type": "code",
      "source": [
        "print(data_range(chl_a))\n",
        "print(data_range(new_chl_a))"
      ],
      "metadata": {
        "colab": {
          "base_uri": "https://localhost:8080/"
        },
        "id": "VpX1xozW9ouE",
        "outputId": "3fcb3554-b1e9-41e4-b10c-fb7f0d915861"
      },
      "id": "VpX1xozW9ouE",
      "execution_count": 47,
      "outputs": [
        {
          "output_type": "stream",
          "name": "stdout",
          "text": [
            "74\n",
            "74\n"
          ]
        }
      ]
    },
    {
      "cell_type": "markdown",
      "source": [
        "범위는 최대값과 최소값만 영향을 받는다. 최대값이 125, 최소값이 51이기 때문에 이상치 105와 124를 제거해도 변화가 없다."
      ],
      "metadata": {
        "id": "fHzroC6P_pFd"
      },
      "id": "fHzroC6P_pFd"
    },
    {
      "cell_type": "code",
      "source": [
        "print(data_range(flow))\n",
        "print(data_range(new_flow))"
      ],
      "metadata": {
        "colab": {
          "base_uri": "https://localhost:8080/"
        },
        "id": "fXTQHnCj94LY",
        "outputId": "d0b90b68-87e1-43b6-9cfb-8380ac82744b"
      },
      "id": "fXTQHnCj94LY",
      "execution_count": 48,
      "outputs": [
        {
          "output_type": "stream",
          "name": "stdout",
          "text": [
            "43\n",
            "16\n"
          ]
        }
      ]
    },
    {
      "cell_type": "markdown",
      "source": [
        "기존 최대값이 52, 최소값이 9에서 이상치 49와 52를 제거해서 최대값이 25로 내려가서 범위도 16으로 내려갔다."
      ],
      "metadata": {
        "id": "rsaz1nhtAEP3"
      },
      "id": "rsaz1nhtAEP3"
    },
    {
      "cell_type": "markdown",
      "source": [
        "**사분범위**"
      ],
      "metadata": {
        "id": "TKkc8r5ZArWx"
      },
      "id": "TKkc8r5ZArWx"
    },
    {
      "cell_type": "code",
      "source": [
        "def iqr(xs):\n",
        "    \"\"\"제3사분위수 - 제1사분위수\"\"\"\n",
        "    return quantile(xs, 0.75) - quantile(xs, 0.25)"
      ],
      "metadata": {
        "id": "UtwgakHdAtxQ"
      },
      "id": "UtwgakHdAtxQ",
      "execution_count": 49,
      "outputs": []
    },
    {
      "cell_type": "code",
      "source": [
        "print(quantile(chl_a, 0.25))\n",
        "print(quantile(chl_a, 0.75))\n",
        "print(quantile(new_chl_a, 0.25))\n",
        "print(quantile(new_chl_a, 0.75))"
      ],
      "metadata": {
        "colab": {
          "base_uri": "https://localhost:8080/"
        },
        "id": "iXB_Tgn7CQsZ",
        "outputId": "91ccfaee-239e-495d-f412-5df1ea8c1c6b"
      },
      "id": "iXB_Tgn7CQsZ",
      "execution_count": 50,
      "outputs": [
        {
          "output_type": "stream",
          "name": "stdout",
          "text": [
            "75\n",
            "116\n",
            "73\n",
            "114\n"
          ]
        }
      ]
    },
    {
      "cell_type": "code",
      "source": [
        "print(iqr(chl_a))\n",
        "print(iqr(new_chl_a))"
      ],
      "metadata": {
        "colab": {
          "base_uri": "https://localhost:8080/"
        },
        "id": "U2l1Awb7A5KH",
        "outputId": "dff0531d-ed00-49de-8621-2748e88e0c5c"
      },
      "id": "U2l1Awb7A5KH",
      "execution_count": 51,
      "outputs": [
        {
          "output_type": "stream",
          "name": "stdout",
          "text": [
            "41\n",
            "41\n"
          ]
        }
      ]
    },
    {
      "cell_type": "markdown",
      "source": [
        "사분범위는 제1사분위수와 제3사분위수사이의 범위를 의미한다. 기존 제1사분위수가 75, 제3사분위수가 116으로 사분범위는 41이고 이상치 제거 후 제1사분위수는 73, 제 3사분위수는 114로 사분범위는 같다."
      ],
      "metadata": {
        "id": "eQmq0IDVeb5g"
      },
      "id": "eQmq0IDVeb5g"
    },
    {
      "cell_type": "code",
      "source": [
        "print(quantile(flow, 0.25))\n",
        "print(quantile(flow, 0.75))\n",
        "print(quantile(new_flow, 0.25))\n",
        "print(quantile(new_flow, 0.75))"
      ],
      "metadata": {
        "colab": {
          "base_uri": "https://localhost:8080/"
        },
        "id": "61irpUPgCiOe",
        "outputId": "b23b08d9-ed0a-4908-8a84-5b27792e4486"
      },
      "id": "61irpUPgCiOe",
      "execution_count": 52,
      "outputs": [
        {
          "output_type": "stream",
          "name": "stdout",
          "text": [
            "11\n",
            "16\n",
            "11\n",
            "16\n"
          ]
        }
      ]
    },
    {
      "cell_type": "code",
      "source": [
        "print(iqr(flow))\n",
        "print(iqr(new_flow))"
      ],
      "metadata": {
        "colab": {
          "base_uri": "https://localhost:8080/"
        },
        "id": "229bi_osBE2d",
        "outputId": "4c6706aa-cd7b-46c8-8401-475456512d56"
      },
      "id": "229bi_osBE2d",
      "execution_count": 53,
      "outputs": [
        {
          "output_type": "stream",
          "name": "stdout",
          "text": [
            "5\n",
            "5\n"
          ]
        }
      ]
    },
    {
      "cell_type": "markdown",
      "source": [
        "이상치 49, 52가 너무 커서 사분범위에 영향을 주지 않았다."
      ],
      "metadata": {
        "id": "j0SlQ38VfkSv"
      },
      "id": "j0SlQ38VfkSv"
    },
    {
      "cell_type": "markdown",
      "source": [
        "**분산**"
      ],
      "metadata": {
        "id": "ezX1zxPbfxi0"
      },
      "id": "ezX1zxPbfxi0"
    },
    {
      "cell_type": "code",
      "source": [
        "print(var(chl_a))\n",
        "print(var(new_chl_a))"
      ],
      "metadata": {
        "colab": {
          "base_uri": "https://localhost:8080/"
        },
        "id": "CuEehk63fytm",
        "outputId": "b74282e6-7330-4d6c-ec06-3431b2bbf256"
      },
      "id": "CuEehk63fytm",
      "execution_count": 54,
      "outputs": [
        {
          "output_type": "stream",
          "name": "stdout",
          "text": [
            "511.9195959595961\n",
            "511.6508520934147\n"
          ]
        }
      ]
    },
    {
      "cell_type": "markdown",
      "source": [
        "분산은 평균값을 기준으로 얼마나 퍼져있나를 의미한다. 이상치 105, 124가 평균값 보다 크므로 제거하면 분산이 작아진다."
      ],
      "metadata": {
        "id": "unMs8SxLgNMn"
      },
      "id": "unMs8SxLgNMn"
    },
    {
      "cell_type": "code",
      "source": [
        "print(var(flow))\n",
        "print(var(new_flow))"
      ],
      "metadata": {
        "colab": {
          "base_uri": "https://localhost:8080/"
        },
        "id": "rHRYeO6EgDbY",
        "outputId": "64cc9b7e-3ac5-4de5-d250-ebff6942ac1d"
      },
      "id": "rHRYeO6EgDbY",
      "execution_count": 55,
      "outputs": [
        {
          "output_type": "stream",
          "name": "stdout",
          "text": [
            "40.6920202020202\n",
            "14.865137807700393\n"
          ]
        }
      ]
    },
    {
      "cell_type": "markdown",
      "source": [
        "이상치 49, 52가 평균값에 비해 많이 크므로 제거하면 분산이 많이 작아진다."
      ],
      "metadata": {
        "id": "OJEUyZyThime"
      },
      "id": "OJEUyZyThime"
    },
    {
      "cell_type": "markdown",
      "source": [
        "**표준편차**"
      ],
      "metadata": {
        "id": "4RHsfi-ziA8N"
      },
      "id": "4RHsfi-ziA8N"
    },
    {
      "cell_type": "code",
      "source": [
        "print(std(chl_a))\n",
        "print(std(new_chl_a))"
      ],
      "metadata": {
        "colab": {
          "base_uri": "https://localhost:8080/"
        },
        "id": "DLP48UAOiDjk",
        "outputId": "59ee791c-4c81-432c-ed42-69ca1e08d6af"
      },
      "id": "DLP48UAOiDjk",
      "execution_count": 56,
      "outputs": [
        {
          "output_type": "stream",
          "name": "stdout",
          "text": [
            "22.62564023314249\n",
            "22.61970053058649\n"
          ]
        }
      ]
    },
    {
      "cell_type": "code",
      "source": [
        "print(std(flow))\n",
        "print(std(new_flow))"
      ],
      "metadata": {
        "colab": {
          "base_uri": "https://localhost:8080/"
        },
        "id": "Wiu1qt3Xle38",
        "outputId": "5319ff08-2ee7-424c-b231-8e928a0d60ff"
      },
      "id": "Wiu1qt3Xle38",
      "execution_count": 57,
      "outputs": [
        {
          "output_type": "stream",
          "name": "stdout",
          "text": [
            "6.379029722616144\n",
            "3.8555334011911233\n"
          ]
        }
      ]
    },
    {
      "cell_type": "markdown",
      "source": [
        "표준편차는 분산의 제곱근이다."
      ],
      "metadata": {
        "id": "bB44saMZmDbf"
      },
      "id": "bB44saMZmDbf"
    },
    {
      "cell_type": "markdown",
      "source": [
        "**공분산**"
      ],
      "metadata": {
        "id": "joojQj6imF89"
      },
      "id": "joojQj6imF89"
    },
    {
      "cell_type": "code",
      "source": [
        "print(cov(chl_a, flow))\n",
        "print(cov(new_chl_a, new_flow))"
      ],
      "metadata": {
        "colab": {
          "base_uri": "https://localhost:8080/"
        },
        "id": "_Nt93kLVmFkM",
        "outputId": "61f26067-f577-4813-83de-2222eddfa5fd"
      },
      "id": "_Nt93kLVmFkM",
      "execution_count": 59,
      "outputs": [
        {
          "output_type": "stream",
          "name": "stdout",
          "text": [
            "-66.88868686868692\n",
            "-83.42036608457812\n"
          ]
        }
      ]
    },
    {
      "cell_type": "markdown",
      "source": [
        "이상치를 제거함으로써 뚜렷한 선형관계를 갖는다."
      ],
      "metadata": {
        "id": "hgIPd7NTmsVY"
      },
      "id": "hgIPd7NTmsVY"
    },
    {
      "cell_type": "markdown",
      "source": [
        "**피어슨 상관계수**"
      ],
      "metadata": {
        "id": "gYMrYST0qeGW"
      },
      "id": "gYMrYST0qeGW"
    },
    {
      "cell_type": "code",
      "source": [
        "print(corrcoef(chl_a, flow))\n",
        "print(corrcoef(new_chl_a, new_flow))"
      ],
      "metadata": {
        "colab": {
          "base_uri": "https://localhost:8080/"
        },
        "id": "zTgzDIvUqquw",
        "outputId": "f4d6b711-f819-49eb-d636-1358353ef090"
      },
      "id": "zTgzDIvUqquw",
      "execution_count": 60,
      "outputs": [
        {
          "output_type": "stream",
          "name": "stdout",
          "text": [
            "-0.46344389682687775\n",
            "-0.9565347907790098\n"
          ]
        }
      ]
    },
    {
      "cell_type": "markdown",
      "source": [
        "이상치를 제거해서 강한 음의 선형관계를 갖는다."
      ],
      "metadata": {
        "id": "3E8v1_1SrejK"
      },
      "id": "3E8v1_1SrejK"
    }
  ],
  "metadata": {
    "kernelspec": {
      "display_name": "Python 3 (ipykernel)",
      "language": "python",
      "name": "python3"
    },
    "language_info": {
      "codemirror_mode": {
        "name": "ipython",
        "version": 3
      },
      "file_extension": ".py",
      "mimetype": "text/x-python",
      "name": "python",
      "nbconvert_exporter": "python",
      "pygments_lexer": "ipython3",
      "version": "3.9.13"
    },
    "vscode": {
      "interpreter": {
        "hash": "ad0f3c8a064f687cbf898a0868fd45ba1c7e928ac8a0404f7c241d812ddc1e76"
      }
    },
    "colab": {
      "provenance": [],
      "include_colab_link": true
    }
  },
  "nbformat": 4,
  "nbformat_minor": 5
}
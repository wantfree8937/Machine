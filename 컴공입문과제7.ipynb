{
  "cells": [
    {
      "cell_type": "markdown",
      "metadata": {
        "id": "view-in-github",
        "colab_type": "text"
      },
      "source": [
        "<a href=\"https://colab.research.google.com/github/wantfree8937/Machine/blob/main/%EC%BB%B4%EA%B3%B5%EC%9E%85%EB%AC%B8%EA%B3%BC%EC%A0%9C7.ipynb\" target=\"_parent\"><img src=\"https://colab.research.google.com/assets/colab-badge.svg\" alt=\"Open In Colab\"/></a>"
      ]
    },
    {
      "cell_type": "markdown",
      "id": "2d03d247-e2d3-4afe-ab5e-83dc989ed62d",
      "metadata": {
        "id": "2d03d247-e2d3-4afe-ab5e-83dc989ed62d"
      },
      "source": [
        "# (실습) 반복문"
      ]
    },
    {
      "cell_type": "markdown",
      "id": "9909a5d0",
      "metadata": {
        "id": "9909a5d0"
      },
      "source": [
        "**문제 1**"
      ]
    },
    {
      "cell_type": "markdown",
      "id": "df1ed4a2",
      "metadata": {
        "id": "df1ed4a2"
      },
      "source": [
        "양의 정수가 입력되면 1 부터 n 까지의 정수의 합을 구하는 `sum_n()` 함수를 구현하라."
      ]
    },
    {
      "cell_type": "code",
      "execution_count": null,
      "id": "adc83a94",
      "metadata": {
        "id": "adc83a94"
      },
      "outputs": [],
      "source": [
        "# pass 와 None 을 각각 적절한 명령문과 반환값으로 대체하라.\n",
        "\n",
        "def sum_n(n):\n",
        "\n",
        "    sum_i = 0\n",
        "    for i in range(1, n+1):\n",
        "      sum_i += i\n",
        "\n",
        "    return sum_i"
      ]
    },
    {
      "cell_type": "code",
      "execution_count": null,
      "id": "07d8fadc",
      "metadata": {
        "id": "07d8fadc"
      },
      "outputs": [],
      "source": [
        "# 주석기호를 제거하고 실행할 때 오류가 발생하지 않아야 한다.\n",
        "\n",
        "assert sum_n(3) == 6\n",
        "assert sum_n(5) == 15\n",
        "assert sum_n(10) == 55"
      ]
    },
    {
      "cell_type": "markdown",
      "id": "7e7c231a",
      "metadata": {
        "id": "7e7c231a"
      },
      "source": [
        "**문제 2**"
      ]
    },
    {
      "cell_type": "markdown",
      "id": "61c09282",
      "metadata": {
        "id": "61c09282"
      },
      "source": [
        "양의 정수가 입력되면 1 부터 n 까지의 정수의 제곱의 합을 구하는 `square_sum()` 함수를 구현하라."
      ]
    },
    {
      "cell_type": "code",
      "execution_count": null,
      "id": "97b66fb7",
      "metadata": {
        "id": "97b66fb7"
      },
      "outputs": [],
      "source": [
        "# pass 와 None 을 각각 적절한 명령문과 반환값으로 대체하라.\n",
        "\n",
        "def square_sum(n):\n",
        "    \n",
        "    sum_squ = 0\n",
        "    for i in range(1, n+1):\n",
        "      sum_squ += (i**2)\n",
        "\n",
        "    return sum_squ"
      ]
    },
    {
      "cell_type": "code",
      "execution_count": null,
      "id": "f8d8994e",
      "metadata": {
        "id": "f8d8994e"
      },
      "outputs": [],
      "source": [
        "# 주석기호를 제거하고 실행할 때 오류가 발생하지 않아야 한다.\n",
        "\n",
        "assert square_sum(1) == 1\n",
        "assert square_sum(3) == 14\n",
        "assert square_sum(5) == 55"
      ]
    },
    {
      "cell_type": "markdown",
      "id": "c8f0287d",
      "metadata": {
        "id": "c8f0287d"
      },
      "source": [
        "**문제 3**"
      ]
    },
    {
      "cell_type": "markdown",
      "id": "816111e8",
      "metadata": {
        "id": "816111e8"
      },
      "source": [
        "양의 정수가 입력되면 1 부터 n 까지의 정수의 제곱의 합을 \n",
        "음의 정수가 입력되면 n 부터 -n 까지의 정수의 제곱의 합을 구하는 `square_sum_abs()` 함수를 구현하라."
      ]
    },
    {
      "cell_type": "code",
      "execution_count": null,
      "id": "dfb05d2c",
      "metadata": {
        "id": "dfb05d2c"
      },
      "outputs": [],
      "source": [
        "# pass 와 None 을 각각 적절한 명령문과 반환값으로 대체하라.\n",
        "\n",
        "def square_sum_abs(n):\n",
        "\n",
        "    sum_squ = 0\n",
        "\n",
        "    if n > 0:\n",
        "      for i in range(1, n+1):\n",
        "        sum_squ += (i**2)\n",
        "    \n",
        "    else:\n",
        "      for i in range(n, 1 - n):\n",
        "        sum_squ += (i**2)\n",
        "\n",
        "    return sum_squ"
      ]
    },
    {
      "cell_type": "code",
      "execution_count": null,
      "id": "804a87b1",
      "metadata": {
        "id": "804a87b1"
      },
      "outputs": [],
      "source": [
        "# 주석기호를 제거하고 실행할 때 오류가 발생하지 않아야 한다.\n",
        "\n",
        "assert square_sum_abs(-1) == 2\n",
        "assert square_sum_abs(-3) == 28\n",
        "assert square_sum_abs(5) == 55\n",
        "assert square_sum_abs(-5) == 110"
      ]
    },
    {
      "cell_type": "markdown",
      "id": "9287aea1",
      "metadata": {
        "id": "9287aea1"
      },
      "source": [
        "**문제 4**"
      ]
    },
    {
      "cell_type": "markdown",
      "id": "4bbf0706",
      "metadata": {
        "id": "4bbf0706"
      },
      "source": [
        "얌체공을 높은 곳에서 놓아 자연낙하 시키면 바닥에 닿을 때마다 원래 높이의 2/3 만큼 튀어 오른다.\n",
        "하지만 바닥으로부터 1 cm 이하 높이가 되면 더 이상 튀어오르지 않는다.\n",
        "\n",
        "얌체공을 n cm 높이에서 자유낙하 시키면 더 이상 튀어오르지 않을 때까지 튀어오른 공의 높이를 모두 \n",
        "합한 결과를 반환하는 `bouncy()` 함수를 구현하라.\n",
        "단, 반환값은 소숫점 이하 셋째자리에서 반올림한다.\n",
        "\n",
        "힌트: [`round()` 함수](https://www.w3schools.com/python/ref_func_round.asp) 참고"
      ]
    },
    {
      "cell_type": "code",
      "execution_count": null,
      "id": "0a2d3a78",
      "metadata": {
        "id": "0a2d3a78"
      },
      "outputs": [],
      "source": [
        "# pass 와 None 을 각각 적절한 명령문과 반환값으로 대체하라.\n",
        "\n",
        "def bouncy(n):\n",
        "\n",
        "    n_sum = 0\n",
        "\n",
        "    while n > 1:\n",
        "      n_sum += (n * (2 / 3))\n",
        "      n = n * (2 / 3)\n",
        "\n",
        "    return round(n_sum, 2)"
      ]
    },
    {
      "cell_type": "code",
      "execution_count": null,
      "id": "10434f20",
      "metadata": {
        "id": "10434f20"
      },
      "outputs": [],
      "source": [
        "# 주석기호를 제거하고 실행할 때 오류가 발생하지 않아야 한다.\n",
        "\n",
        "assert bouncy(1) == 0\n",
        "assert bouncy(2) == 2.22\n",
        "assert bouncy(10) == 18.24"
      ]
    },
    {
      "cell_type": "markdown",
      "id": "f4e7fd14",
      "metadata": {
        "id": "f4e7fd14"
      },
      "source": [
        "**문제 5**"
      ]
    },
    {
      "cell_type": "markdown",
      "id": "a75a4330",
      "metadata": {
        "id": "a75a4330"
      },
      "source": [
        "[반복문](https://codingalzi.github.io/pybook/iterations.html)에서 소개한 \n",
        "`collatz()` 함수는 다음과 같다.\n",
        "\n",
        "```python\n",
        "def collatz(n):\n",
        "    while n != 1:\n",
        "        print(n, end=\" -> \")\n",
        "        if n%2 == 0:\n",
        "            n = n//2\n",
        "        else:\n",
        "            n = n*3 + 1\n",
        "            \n",
        "    print(1)\n",
        "```\n",
        "\n",
        "`while` 반복문이 실행된 횟수를 반환하도록 위 함수를 수정하라.\n",
        "단, 100번 이상 반복하면 실행을 멈추고 -1을 반환하도록 한다."
      ]
    },
    {
      "cell_type": "code",
      "execution_count": null,
      "id": "966ba37e",
      "metadata": {
        "id": "966ba37e"
      },
      "outputs": [],
      "source": [
        "# pass 와 None 을 각각 적절한 명령문과 반환값으로 대체하라.\n",
        "\n",
        "def collatz(n):\n",
        "    \n",
        "    count = 0\n",
        "\n",
        "    while n != 1:\n",
        "      count += 1\n",
        "      if count < 100:\n",
        "        print(n, end=\" -> \")\n",
        "        if n%2 == 0:\n",
        "          n = n//2\n",
        "        else:\n",
        "          n = n*3 + 1\n",
        "      else:\n",
        "        return -1\n",
        "        break\n",
        " \n",
        "    print(1)\n",
        "    return count"
      ]
    },
    {
      "cell_type": "code",
      "execution_count": null,
      "id": "0761ee90",
      "metadata": {
        "id": "0761ee90",
        "colab": {
          "base_uri": "https://localhost:8080/"
        },
        "outputId": "167c84ce-3d41-4e18-9933-b6199e57a573"
      },
      "outputs": [
        {
          "output_type": "stream",
          "name": "stdout",
          "text": [
            "17 -> 52 -> 26 -> 13 -> 40 -> 20 -> 10 -> 5 -> 16 -> 8 -> 4 -> 2 -> 1\n",
            "117 -> 352 -> 176 -> 88 -> 44 -> 22 -> 11 -> 34 -> 17 -> 52 -> 26 -> 13 -> 40 -> 20 -> 10 -> 5 -> 16 -> 8 -> 4 -> 2 -> 1\n",
            "1117 -> 3352 -> 1676 -> 838 -> 419 -> 1258 -> 629 -> 1888 -> 944 -> 472 -> 236 -> 118 -> 59 -> 178 -> 89 -> 268 -> 134 -> 67 -> 202 -> 101 -> 304 -> 152 -> 76 -> 38 -> 19 -> 58 -> 29 -> 88 -> 44 -> 22 -> 11 -> 34 -> 17 -> 52 -> 26 -> 13 -> 40 -> 20 -> 10 -> 5 -> 16 -> 8 -> 4 -> 2 -> 1\n",
            "11117 -> 33352 -> 16676 -> 8338 -> 4169 -> 12508 -> 6254 -> 3127 -> 9382 -> 4691 -> 14074 -> 7037 -> 21112 -> 10556 -> 5278 -> 2639 -> 7918 -> 3959 -> 11878 -> 5939 -> 17818 -> 8909 -> 26728 -> 13364 -> 6682 -> 3341 -> 10024 -> 5012 -> 2506 -> 1253 -> 3760 -> 1880 -> 940 -> 470 -> 235 -> 706 -> 353 -> 1060 -> 530 -> 265 -> 796 -> 398 -> 199 -> 598 -> 299 -> 898 -> 449 -> 1348 -> 674 -> 337 -> 1012 -> 506 -> 253 -> 760 -> 380 -> 190 -> 95 -> 286 -> 143 -> 430 -> 215 -> 646 -> 323 -> 970 -> 485 -> 1456 -> 728 -> 364 -> 182 -> 91 -> 274 -> 137 -> 412 -> 206 -> 103 -> 310 -> 155 -> 466 -> 233 -> 700 -> 350 -> 175 -> 526 -> 263 -> 790 -> 395 -> 1186 -> 593 -> 1780 -> 890 -> 445 -> 1336 -> 668 -> 334 -> 167 -> 502 -> 251 -> 754 -> 377 -> "
          ]
        }
      ],
      "source": [
        "# 주석기호를 제거하고 실행할 때 오류가 발생하지 않아야 한다.\n",
        "\n",
        "assert collatz(17) == 12\n",
        "assert collatz(117) == 20\n",
        "assert collatz(1117) == 44\n",
        "assert collatz(11117) == -1"
      ]
    },
    {
      "cell_type": "markdown",
      "id": "4c18eb28",
      "metadata": {
        "id": "4c18eb28"
      },
      "source": [
        "**문제 6**"
      ]
    },
    {
      "cell_type": "markdown",
      "id": "06ea6e08",
      "metadata": {
        "id": "06ea6e08"
      },
      "source": [
        "철로 양끝에 서로 마주보고 있는 두 대의 기차 A 와 B 가 있고,\n",
        "기차 A 의 기관차 앞에는 파리 한 마리가 붙어 있다.\n",
        "두 기차 사이의 거리는 d 미터이다.\n",
        "\n",
        "두 기차 A 와 B 가 서로를 향해 달릴 때, \n",
        "파리는 기차 A 에서 기차 B 까지 날아가다가 기차 B 와 부딪히기 직전\n",
        "방향을 바꿔 기차 A 에게 날아가고 다시 기차 A 와 부딪히기 직전 \n",
        "기차 B를 향해 날아가기를 기차 A 와 B 가 부딪힐 때까지 반복한다.\n",
        "기차 A 의 속력은 a m/s, 기차 B의 속력은 b m/s, 파리의 속력은 c m/s 이다.\n",
        "단, c 가 a, b 보다 커서 파리가 기차보다 빨리 달리며,\n",
        "두 기차 사이의 거리 d 가 c 보다 크다.\n",
        "즉, 다음이 성립한다. \n",
        "\n",
        "```\n",
        "a, b < c < d\n",
        "```\n",
        "\n",
        "네 개의 자연수 a, b, c, d 가 주어졌을 때, 두 기차가 충돌하기 직전까지 파리가 날아다닌 거리(m)를 \n",
        "계산하여 반환하는 `fly()`  함수를 구현하라.\n",
        "단, `while` 반복문을 사용해야 한다."
      ]
    },
    {
      "cell_type": "code",
      "execution_count": null,
      "id": "72af3c7e",
      "metadata": {
        "id": "72af3c7e"
      },
      "outputs": [],
      "source": [
        "# pass 와 None 을 각각 적절한 명령문과 반환값으로 대체하라.\n",
        "def fly(a, b, c, d):\n",
        "    assert a < c < d\n",
        "    assert b < c\n",
        "    \n",
        "    t = 0\n",
        "    count = 0\n",
        "    fly_d = 0\n",
        "\n",
        "    while d != 0:\n",
        "      count += 1\n",
        "      if count % 2 == 1:\n",
        "        t = (d - b * t) / (c + b)\n",
        "        d = c * t\n",
        "        fly_d += d\n",
        "      else:\n",
        "        t = (d - a * t) / (c + a)\n",
        "        d = c * t\n",
        "        fly_d += d\n",
        "\n",
        "    return round(fly_d)"
      ]
    },
    {
      "cell_type": "code",
      "execution_count": null,
      "id": "e2c14755",
      "metadata": {
        "id": "e2c14755"
      },
      "outputs": [],
      "source": [
        "# 주석기호를 제거하고 실행할 때 오류가 발생하지 않아야 한다.\n",
        "\n",
        "assert fly(3, 5, 8, 16) == 16\n",
        "assert fly( 5, 8, 11, 39) == 33"
      ]
    },
    {
      "cell_type": "markdown",
      "id": "c7fa01d2",
      "metadata": {
        "id": "c7fa01d2"
      },
      "source": [
        "**문제 7**"
      ]
    },
    {
      "cell_type": "markdown",
      "id": "d0abbd52",
      "metadata": {
        "id": "d0abbd52"
      },
      "source": [
        "500원, 100원, 50원, 10원 짜리 동전으로 거스름돈을 지급할 때\n",
        "동전의 개수를 최소화하고자 한다.\n",
        "거슬러 줘야 하는 금액이 n 원일 때, 필요한 동전의 최소 개수를 반환하는\n",
        "`change()` 함수를 구현하라.\n",
        "단, n 은 10의 배수이며 5000보다 작은 정수고, 모든 동전은 무한히 많이 있다고 가정한다. \n",
        "\n",
        "힌트: [탐욕 알고리즘](https://code-lab1.tistory.com/11) 참고. `while` 반복문 활용."
      ]
    },
    {
      "cell_type": "code",
      "execution_count": null,
      "id": "d51bb9a3",
      "metadata": {
        "id": "d51bb9a3"
      },
      "outputs": [],
      "source": [
        "# pass 와 None 을 각각 적절한 명령문과 반환값으로 대체하라.\n",
        "def change(n):\n",
        "    assert (n%10 == 0 and n < 5000)\n",
        "    \n",
        "    count = 0\n",
        "\n",
        "    while n > 0:\n",
        "      if n >= 500:\n",
        "        n -= 500\n",
        "      elif 100 <= n < 500:\n",
        "        n -= 100\n",
        "      elif 50 <= n < 100:\n",
        "        n -= 50\n",
        "      elif n < 50:\n",
        "        n -= 10\n",
        "      count += 1\n",
        "\n",
        "    return count"
      ]
    },
    {
      "cell_type": "code",
      "execution_count": null,
      "id": "6ae649ba",
      "metadata": {
        "id": "6ae649ba"
      },
      "outputs": [],
      "source": [
        "# 아래 주석을 제거하고 실행할 때 오류가 발생하지 않아야 한다.\n",
        "\n",
        "assert change(1730) == 8"
      ]
    },
    {
      "cell_type": "markdown",
      "id": "024460ab",
      "metadata": {
        "id": "024460ab"
      },
      "source": [
        "**문제 8**"
      ]
    },
    {
      "cell_type": "markdown",
      "id": "93f005ad",
      "metadata": {
        "id": "93f005ad"
      },
      "source": [
        "아래 `findChar()` 함수는 문자열(`word`)에 특정 문자(`char`)가 포함되어 있으면\n",
        "위치한 곳의 인덱스를, 그렇지 않으면 -1을 반환한다.\n",
        "코드에 사용된 `len()` 함수는 주어진 문자열의 길이, 즉 문자열에\n",
        "포함된 문자의 개수를 반환한다."
      ]
    },
    {
      "cell_type": "code",
      "execution_count": null,
      "id": "d587d3e6",
      "metadata": {
        "id": "d587d3e6"
      },
      "outputs": [],
      "source": [
        "def findChar(word, char):\n",
        "    idx = 0\n",
        "\n",
        "    while idx < len(word):\n",
        "        if word[idx] == char:\n",
        "            return idx\n",
        "    \n",
        "        idx = idx + 1\n",
        "    \n",
        "    return -1"
      ]
    },
    {
      "cell_type": "markdown",
      "id": "61d4cdf0",
      "metadata": {
        "id": "61d4cdf0"
      },
      "source": [
        "`findChar()` 함수를 `for` 반복문을 이용하여 구현하라."
      ]
    },
    {
      "cell_type": "code",
      "execution_count": null,
      "id": "b4f746f7",
      "metadata": {
        "id": "b4f746f7"
      },
      "outputs": [],
      "source": [
        "# pass 와 None 을 각각 적절한 명령문과 반환값으로 대체하라.\n",
        "\n",
        "def findChar_for(word, char):\n",
        "    for letter in word:\n",
        "      if letter == char:\n",
        "        return word.find(letter)\n",
        "\n",
        "    return -1"
      ]
    },
    {
      "cell_type": "code",
      "execution_count": null,
      "id": "4c2c4c76",
      "metadata": {
        "id": "4c2c4c76"
      },
      "outputs": [],
      "source": [
        "# 아래 주석을 제거하고 실행할 때 오류가 발생하지 않아야 한다.\n",
        "\n",
        "assert findChar_for(\"python\", \"o\") == 4\n",
        "assert findChar_for(\"파이썬이 좋아요\", \"아\") == 6"
      ]
    },
    {
      "cell_type": "markdown",
      "id": "9d60ccc4",
      "metadata": {
        "id": "9d60ccc4"
      },
      "source": [
        "**문제 9**"
      ]
    },
    {
      "cell_type": "markdown",
      "id": "29399e6a",
      "metadata": {
        "id": "29399e6a"
      },
      "source": [
        "아래 조건을 만족시키도록 `findChar()` 함수를 수정하여\n",
        "`findChar_pos()` 함수를 구현하라.\n",
        "\n",
        "* 정수를 입력받는 `position` 매개변수를 추가한다.\n",
        "* `position`을 통해 전달된 정수는 탐색을 시작할 위치를 나타낸다.\n",
        "    즉, 앞서 정의된 `findChar()` 함수는 `position`이 0인 특수한 경우가 되도록 한다."
      ]
    },
    {
      "cell_type": "code",
      "execution_count": null,
      "id": "01e7642b",
      "metadata": {
        "id": "01e7642b"
      },
      "outputs": [],
      "source": [
        "# pass 와 None 을 각각 적절한 명령문과 반환값으로 대체하라.\n",
        "\n",
        "def findChar_pos(word, char, pos):\n",
        "    idx = -1\n",
        "    while idx < len(word):\n",
        "      idx += 1\n",
        "      if idx < pos:\n",
        "        continue\n",
        "      if word[idx] == char:\n",
        "        return idx\n",
        "      \n",
        "\n",
        "    return -1"
      ]
    },
    {
      "cell_type": "code",
      "execution_count": null,
      "id": "bf77b148",
      "metadata": {
        "id": "bf77b148"
      },
      "outputs": [],
      "source": [
        "# 아래 주석을 제거하고 실행할 때 오류가 발생하지 않아야 한다.\n",
        "\n",
        "assert findChar_pos(\"hello world\", \"o\", 0) == 4\n",
        "assert findChar_pos(\"hello world\", \"o\", 5) == 7"
      ]
    },
    {
      "cell_type": "markdown",
      "id": "0c4249f0",
      "metadata": {
        "id": "0c4249f0"
      },
      "source": [
        "**문제 10**"
      ]
    },
    {
      "cell_type": "markdown",
      "id": "bb90a39c",
      "metadata": {
        "id": "bb90a39c"
      },
      "source": [
        "`findChar_pos()` 함수를 `for` 반복문을 이용하여 구현하라."
      ]
    },
    {
      "cell_type": "code",
      "execution_count": null,
      "id": "3e46c579",
      "metadata": {
        "id": "3e46c579"
      },
      "outputs": [],
      "source": [
        "# pass 와 None 을 각각 적절한 명령문과 반환값으로 대체하라.\n",
        "\n",
        "def findChar_pos_for(word, char, pos):\n",
        "    idx = 0\n",
        "    for letter in word:\n",
        "      if letter == char and idx >= pos:\n",
        "        return idx \n",
        "      idx += 1\n",
        "      \n",
        "\n",
        "    return   "
      ]
    },
    {
      "cell_type": "code",
      "execution_count": null,
      "id": "82ed8277",
      "metadata": {
        "id": "82ed8277"
      },
      "outputs": [],
      "source": [
        "# 아래 주석을 제거하고 실행할 때 오류가 발생하지 않아야 한다.\n",
        "\n",
        "assert findChar_pos_for(\"hello world\", \"o\", 0) == 4\n",
        "assert findChar_pos_for(\"hello world\", \"o\", 5) == 7"
      ]
    },
    {
      "cell_type": "markdown",
      "id": "b06334af",
      "metadata": {
        "id": "b06334af"
      },
      "source": [
        "**문제 11**"
      ]
    },
    {
      "cell_type": "markdown",
      "id": "2f97c92d",
      "metadata": {
        "id": "2f97c92d"
      },
      "source": [
        "ROT13 은 단어의 각 문자를 13 자리만큼 회전시키는 방식의 간단한 암호 법이다. \n",
        "\n",
        "문자를 회전한다는 것은 알파벳 상의 위치를 이동한다는 뜻이다. \n",
        "예를 들어, `'a'` 를 3 만큼 이동하면 `'d'` 가, \n",
        "`'z'` 를 1 만큼 이동하면 `'a'` 가 된다.\n",
        "음수에 대해서는 역으로 회전한다.\n",
        "예를 들어, `'d'` 를 -3 만큼 이동하면 `'a'` 가 되고, `'a'` 를 -2 만큼 회전시키면 \n",
        "`'y'` 가 된다.\n",
        "\n",
        "다음 조건을 만족하는 `rotateWord()` 함수를 구현하라.\n",
        "\n",
        "- 문자열과 정수를 인자로 사용한다.\n",
        "- 지정된 정수만큼 문자열을 회전시킨다.\n",
        "\n",
        "힌트: 알파벳과 아스키 코드 사이의 관계를 이어주는\n",
        "[`ord()` 함수와 `chr()` 함수](https://ghdwn0217.tistory.com/60)를 이용한다."
      ]
    },
    {
      "cell_type": "code",
      "execution_count": null,
      "id": "e1efd7f0",
      "metadata": {
        "id": "e1efd7f0"
      },
      "outputs": [],
      "source": [
        "# pass 와 None 을 각각 적절한 명령문과 반환값으로 대체하라.\n",
        "\n",
        "def rotateWord(word, num):\n",
        "    ord1 = 0\n",
        "    chr1 = \"\"\n",
        "    for i in word:\n",
        "      if ord(i) + num < ord(\"a\"):\n",
        "        ord1 = ord(\"z\") + (ord(i) + num - ord(\"a\") + 1)\n",
        "      elif ord(i) + num > ord(\"z\"):\n",
        "        ord1 = ord(\"a\") + (ord(i) + num - ord(\"z\") - 1)\n",
        "      else:\n",
        "        ord1 = ord(i) + num\n",
        "      chr1 += chr(ord1) \n",
        "    return chr1"
      ]
    },
    {
      "cell_type": "code",
      "execution_count": null,
      "id": "160f48fa",
      "metadata": {
        "id": "160f48fa"
      },
      "outputs": [],
      "source": [
        "# 아래 주석을 제거하고 실행할 때 오류가 발생하지 않아야 한다.\n",
        "\n",
        "assert rotateWord(\"cheer\", 7) == \"jolly\"\n",
        "assert rotateWord(\"melon\", -10) == \"cubed\""
      ]
    },
    {
      "cell_type": "markdown",
      "id": "48251666",
      "metadata": {
        "id": "48251666"
      },
      "source": [
        "**문제 12**"
      ]
    },
    {
      "cell_type": "markdown",
      "id": "6324ad42",
      "metadata": {
        "id": "6324ad42"
      },
      "source": [
        "다음과 같은 방법으로 (세 자리 수) $\\times$ (세 자리 수) 를 계산할 수 있다.<br><br>\n",
        "\n",
        "<div align=\"center\">\n",
        "<img src=\"https://raw.githubusercontent.com/hj617kim/core_pybook/master/images/ch04/pro01.png\" style=\"width:150px;\">\n",
        "</div>  \n",
        "\n",
        "두 개의 세 자리 수 a 와 b 가 주어질 때, &#9312;, &#9313;, &#9314;, &#9315;에 들어갈 값을 \n",
        "각각 줄변경하여 출력하는 `mult()` 함수를 구현하라.\n",
        "반환값은 두 수의 곱이다.\n",
        "\n",
        "힌트: 문자열 인덱싱과 `for` 반복문 활용"
      ]
    },
    {
      "cell_type": "code",
      "execution_count": null,
      "id": "d5f99b2f",
      "metadata": {
        "id": "d5f99b2f"
      },
      "outputs": [],
      "source": [
        "# pass 와 None 을 각각 적절한 명령문과 반환값으로 대체하라.\n",
        "def mult(a, b):\n",
        "    assert 100 <= a <= 999 \n",
        "    assert 100 <= b <= 999     \n",
        "\n",
        "    for i in reversed(str(b)): # 문자열 뒤집기\n",
        "      print(a * int(i))\n",
        "\n",
        "    return a * b"
      ]
    },
    {
      "cell_type": "code",
      "execution_count": null,
      "id": "aea9c2f0",
      "metadata": {
        "id": "aea9c2f0",
        "colab": {
          "base_uri": "https://localhost:8080/"
        },
        "outputId": "bfed04a7-558e-4df9-ef8d-20cea61a418e"
      },
      "outputs": [
        {
          "output_type": "stream",
          "name": "stdout",
          "text": [
            "530\n",
            "265\n",
            "265\n"
          ]
        },
        {
          "output_type": "execute_result",
          "data": {
            "text/plain": [
              "29680"
            ]
          },
          "metadata": {},
          "execution_count": 81
        }
      ],
      "source": [
        "# 주석기호를 삭제하고 실행하라.\n",
        "\n",
        "mult(265, 112)"
      ]
    },
    {
      "cell_type": "markdown",
      "id": "7d591fa8",
      "metadata": {
        "id": "7d591fa8"
      },
      "source": [
        "출력 결과는 다음과 같아야 한다.\n",
        "\n",
        "```python\n",
        "(1) 530   \n",
        "(2) 265  \n",
        "(3) 265 \n",
        "(4) 29680\n",
        "```"
      ]
    },
    {
      "cell_type": "markdown",
      "id": "33b1a81c",
      "metadata": {
        "id": "33b1a81c"
      },
      "source": [
        "**문제 13**"
      ]
    },
    {
      "cell_type": "markdown",
      "id": "86e5c326",
      "metadata": {
        "id": "86e5c326"
      },
      "source": [
        "피보나찌 수열은 다음과 같이 정의 된다.\n",
        "\n",
        "$$\n",
        "\\begin{align*}\n",
        "F_0 &= 0 \\\\\n",
        "F_1 &= 1 \\\\\n",
        "F_{n+2} &= F_{n+1} + F_{n}\n",
        "\\end{align*}\n",
        "$$\n",
        "\n",
        "for 반복문을 이용하여 피보나찌 수열의 n 번째 값을 반환하는 함수 `fib()` 를 구현하라."
      ]
    },
    {
      "cell_type": "code",
      "execution_count": null,
      "id": "0aba5c87",
      "metadata": {
        "id": "0aba5c87"
      },
      "outputs": [],
      "source": [
        "# pass 와 None 을 적절한 명령문과 표현식으로 대체하라.\n",
        "# 재귀를 사용할 수 없으며 for 반복문만을 이용해야 한다.\n",
        "\n",
        "def fib(n):\n",
        "    assert isinstance(n, int)\n",
        "    assert n >= 0\n",
        "\n",
        "    fib_list = []\n",
        "\n",
        "    for i in range(n+1):\n",
        "      if i < 2:\n",
        "        fib_list.append(i)\n",
        "      else:\n",
        "        fib_list.append(fib_list[i-1]+fib_list[i-2])\n",
        "\n",
        "    return fib_list[i]"
      ]
    },
    {
      "cell_type": "code",
      "execution_count": null,
      "id": "28bab1e8",
      "metadata": {
        "id": "28bab1e8"
      },
      "outputs": [],
      "source": [
        "# 아래 코드의 주석해제하고 실행하라.\n",
        "\n",
        "assert fib(5) == 5\n",
        "assert fib(8) == 21"
      ]
    }
  ],
  "metadata": {
    "kernelspec": {
      "display_name": "Python 3 (ipykernel)",
      "language": "python",
      "name": "python3"
    },
    "language_info": {
      "codemirror_mode": {
        "name": "ipython",
        "version": 3
      },
      "file_extension": ".py",
      "mimetype": "text/x-python",
      "name": "python",
      "nbconvert_exporter": "python",
      "pygments_lexer": "ipython3",
      "version": "3.9.7"
    },
    "toc-autonumbering": true,
    "toc-showcode": false,
    "toc-showmarkdowntxt": false,
    "colab": {
      "provenance": [],
      "include_colab_link": true
    }
  },
  "nbformat": 4,
  "nbformat_minor": 5
}
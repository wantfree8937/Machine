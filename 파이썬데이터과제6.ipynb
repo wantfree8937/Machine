{
  "cells": [
    {
      "cell_type": "markdown",
      "metadata": {
        "id": "view-in-github",
        "colab_type": "text"
      },
      "source": [
        "<a href=\"https://colab.research.google.com/github/wantfree8937/Machine/blob/main/%ED%8C%8C%EC%9D%B4%EC%8D%AC%EB%8D%B0%EC%9D%B4%ED%84%B0%EA%B3%BC%EC%A0%9C6.ipynb\" target=\"_parent\"><img src=\"https://colab.research.google.com/assets/colab-badge.svg\" alt=\"Open In Colab\"/></a>"
      ]
    },
    {
      "cell_type": "markdown",
      "id": "97ecff92",
      "metadata": {
        "id": "97ecff92"
      },
      "source": [
        "# (실습) 고급 넘파이"
      ]
    },
    {
      "cell_type": "code",
      "execution_count": null,
      "id": "83c36ad1",
      "metadata": {
        "id": "83c36ad1"
      },
      "outputs": [],
      "source": [
        "import numpy as np"
      ]
    },
    {
      "cell_type": "markdown",
      "id": "6eccf313",
      "metadata": {
        "id": "6eccf313"
      },
      "source": [
        "**문제 1**"
      ]
    },
    {
      "cell_type": "markdown",
      "id": "69c159d5",
      "metadata": {
        "id": "69c159d5"
      },
      "source": [
        "아래 모양의 어레이를 생성하라.\n",
        "단, `np.arange()` 함수와 `reshape()` 어레이 메서드를 이용한다.\n",
        "\n",
        "```python\n",
        "array([[ 1,  3,  5,  7,  9],\n",
        "       [11, 13, 15, 17, 19],\n",
        "       [21, 23, 25, 27, 29],\n",
        "       [31, 33, 35, 37, 39]])\n",
        "```"
      ]
    },
    {
      "cell_type": "code",
      "execution_count": null,
      "id": "655984ca",
      "metadata": {
        "id": "655984ca"
      },
      "outputs": [],
      "source": [
        "Z = np.arange(1, 40, 2).reshape(4, 5)"
      ]
    },
    {
      "cell_type": "markdown",
      "id": "93a2cdf7",
      "metadata": {
        "id": "93a2cdf7"
      },
      "source": [
        "아래 코드는 수정하지 마세요!!!"
      ]
    },
    {
      "cell_type": "code",
      "execution_count": null,
      "id": "71dc3423",
      "metadata": {
        "id": "71dc3423"
      },
      "outputs": [],
      "source": [
        "assert (Z == np.array([[ 1,  3,  5,  7,  9],\n",
        "                        [11, 13, 15, 17, 19],\n",
        "                        [21, 23, 25, 27, 29],\n",
        "                        [31, 33, 35, 37, 39]])).all()"
      ]
    },
    {
      "cell_type": "markdown",
      "id": "59e92974",
      "metadata": {
        "id": "59e92974"
      },
      "source": [
        "**문제 2**"
      ]
    },
    {
      "cell_type": "markdown",
      "id": "de943983",
      "metadata": {
        "id": "de943983"
      },
      "source": [
        "아래 그림 내용을 코드로 구현하라."
      ]
    },
    {
      "cell_type": "markdown",
      "id": "4cf91e91",
      "metadata": {
        "id": "4cf91e91"
      },
      "source": [
        "<div align=\"center\"><img src=\"https://raw.githubusercontent.com/codingalzi/datapy/master/jupyter-book/images/concatenate01.png?raw=true\" style=\"width:500px;\"></div>\n",
        "\n",
        "<p><div style=\"text-align: center\">&lt;그림 출처: <a href=\"https://stackoverflow.com/questions/33356442/when-should-i-use-hstack-vstack-vs-append-vs-concatenate-vs-column-stack\">stackoverflow</a>&gt;</div></p>"
      ]
    },
    {
      "cell_type": "code",
      "execution_count": null,
      "id": "f39d7764",
      "metadata": {
        "id": "f39d7764"
      },
      "outputs": [],
      "source": [
        "a = np.arange(1, 13).reshape(3, 4)\n",
        "b = np.arange(1, 9).reshape(2, 4)\n",
        "c = np.arange(1, 7).reshape(3, 2)"
      ]
    },
    {
      "cell_type": "code",
      "execution_count": null,
      "id": "56883212",
      "metadata": {
        "id": "56883212"
      },
      "outputs": [],
      "source": [
        "V = np.vstack((a, b))  # vstack 활용"
      ]
    },
    {
      "cell_type": "code",
      "execution_count": null,
      "id": "def0f14d",
      "metadata": {
        "id": "def0f14d"
      },
      "outputs": [],
      "source": [
        "H = np.hstack((a, c))  # hstack 활용"
      ]
    },
    {
      "cell_type": "markdown",
      "id": "cec9aec2",
      "metadata": {
        "id": "cec9aec2"
      },
      "source": [
        "아래 코드는 수정하지 마세요!!!"
      ]
    },
    {
      "cell_type": "code",
      "execution_count": null,
      "id": "fdc3a9bd",
      "metadata": {
        "id": "fdc3a9bd"
      },
      "outputs": [],
      "source": [
        "assert (V == np.array([[ 1,  2,  3,  4],\n",
        "                        [ 5,  6,  7,  8],\n",
        "                        [ 9, 10, 11, 12],\n",
        "                        [ 1,  2,  3,  4],\n",
        "                        [ 5,  6,  7,  8]])).all()\n",
        "\n",
        "assert (H == np.array([[ 1,  2,  3,  4,  1,  2],\n",
        "                        [ 5,  6,  7,  8,  3,  4],\n",
        "                        [ 9, 10, 11, 12,  5,  6]])).all()"
      ]
    },
    {
      "cell_type": "markdown",
      "id": "ce2de049",
      "metadata": {
        "id": "ce2de049"
      },
      "source": [
        "**문제 3**"
      ]
    },
    {
      "cell_type": "markdown",
      "id": "88ef422f",
      "metadata": {
        "id": "88ef422f"
      },
      "source": [
        "이전 문제에서 정의된 `V`, `H`를 `contenate()` 함수를 이용하여 정의하라."
      ]
    },
    {
      "cell_type": "code",
      "execution_count": null,
      "id": "ad209c7f",
      "metadata": {
        "id": "ad209c7f"
      },
      "outputs": [],
      "source": [
        "V = np.concatenate((a, b), axis = 0)"
      ]
    },
    {
      "cell_type": "code",
      "execution_count": null,
      "id": "ff315222",
      "metadata": {
        "id": "ff315222"
      },
      "outputs": [],
      "source": [
        "H = np.concatenate((a, c), axis = 1)"
      ]
    },
    {
      "cell_type": "markdown",
      "id": "1c7f224a",
      "metadata": {
        "id": "1c7f224a"
      },
      "source": [
        "아래 코드는 수정하지 마세요!!!"
      ]
    },
    {
      "cell_type": "code",
      "execution_count": null,
      "id": "9b7d7438",
      "metadata": {
        "id": "9b7d7438"
      },
      "outputs": [],
      "source": [
        "assert (V == np.array([[ 1,  2,  3,  4],\n",
        "                        [ 5,  6,  7,  8],\n",
        "                        [ 9, 10, 11, 12],\n",
        "                        [ 1,  2,  3,  4],\n",
        "                        [ 5,  6,  7,  8]])).all()\n",
        "\n",
        "assert (H == np.array([[ 1,  2,  3,  4,  1,  2],\n",
        "                        [ 5,  6,  7,  8,  3,  4],\n",
        "                        [ 9, 10, 11, 12,  5,  6]])).all()"
      ]
    },
    {
      "cell_type": "markdown",
      "id": "144dc9f6",
      "metadata": {
        "id": "144dc9f6"
      },
      "source": [
        "**문제 4**"
      ]
    },
    {
      "cell_type": "markdown",
      "id": "063bdce6",
      "metadata": {
        "id": "063bdce6"
      },
      "source": [
        "아래 모양의 어레이를 생성하는 코드를 완성하라.\n",
        "단, `np.newaxis` 키워드를 이용한다.\n",
        "\n",
        "```python\n",
        "array([[ 0,  0,  0],\n",
        "       [10, 10, 10],\n",
        "       [20, 20, 20],\n",
        "       [30, 30, 30]])\n",
        "```"
      ]
    },
    {
      "cell_type": "code",
      "execution_count": null,
      "id": "5bafbda7",
      "metadata": {
        "id": "5bafbda7"
      },
      "outputs": [],
      "source": [
        "a = np.arange(0, 31, 10)\n",
        "b = np.array([0]*3)\n",
        "\n",
        "Z = a[:, np.newaxis] + b"
      ]
    },
    {
      "cell_type": "markdown",
      "id": "23f3c272",
      "metadata": {
        "id": "23f3c272"
      },
      "source": [
        "아래 코드는 수정하지 마세요!!!"
      ]
    },
    {
      "cell_type": "code",
      "execution_count": null,
      "id": "1fe4c0b9",
      "metadata": {
        "id": "1fe4c0b9"
      },
      "outputs": [],
      "source": [
        "assert (Z == np.array([[ 0,  0,  0],\n",
        "                        [10, 10, 10],\n",
        "                        [20, 20, 20],\n",
        "                        [30, 30, 30]])).all()"
      ]
    },
    {
      "cell_type": "markdown",
      "id": "80a66f39",
      "metadata": {
        "id": "80a66f39"
      },
      "source": [
        "**문제 5**"
      ]
    },
    {
      "cell_type": "markdown",
      "id": "7a5c2c2f",
      "metadata": {
        "id": "7a5c2c2f"
      },
      "source": [
        "아래 모양의 어레이를 생성하는 코드를 완성하라.\n",
        "단, `np.newaxis` 키워드를 이용한다.\n",
        "\n",
        "```python\n",
        "array([[ 1,  2,  3],\n",
        "       [11, 12, 13],\n",
        "       [21, 22, 23],\n",
        "       [31, 32, 33]])\n",
        "```"
      ]
    },
    {
      "cell_type": "code",
      "execution_count": null,
      "id": "839866f3",
      "metadata": {
        "id": "839866f3"
      },
      "outputs": [],
      "source": [
        "a = np.arange(0, 31, 10)\n",
        "b = np.arange(1, 4)\n",
        "\n",
        "Z = a[:, np.newaxis] + b"
      ]
    },
    {
      "cell_type": "markdown",
      "id": "46d4797e",
      "metadata": {
        "id": "46d4797e"
      },
      "source": [
        "아래 코드는 수정하지 마세요!!!"
      ]
    },
    {
      "cell_type": "code",
      "execution_count": null,
      "id": "42585269",
      "metadata": {
        "id": "42585269"
      },
      "outputs": [],
      "source": [
        "assert (Z == np.array([[ 1,  2,  3],\n",
        "                        [11, 12, 13],\n",
        "                        [21, 22, 23],\n",
        "                        [31, 32, 33]])).all()"
      ]
    },
    {
      "cell_type": "markdown",
      "id": "0dc00b7a",
      "metadata": {
        "id": "0dc00b7a"
      },
      "source": [
        "**문제 6**"
      ]
    },
    {
      "cell_type": "markdown",
      "id": "12a8395d",
      "metadata": {
        "id": "12a8395d"
      },
      "source": [
        "어레이가 다음과 같이 주어졌다."
      ]
    },
    {
      "cell_type": "code",
      "execution_count": null,
      "id": "6cee0104",
      "metadata": {
        "id": "6cee0104"
      },
      "outputs": [],
      "source": [
        "a = np.array([[0.8, 2.9, 3.9],\n",
        "              [52.4, 23.6, 36.5],\n",
        "              [55.2, 31.7, 23.9],\n",
        "              [14.4, 11, 4.9]])"
      ]
    },
    {
      "cell_type": "markdown",
      "id": "7eddce3a",
      "metadata": {
        "id": "7eddce3a"
      },
      "source": [
        "0번 열은 2배, 1번 열은 3배, 2번 열은 8배를 적용하는 코드를 완성하라."
      ]
    },
    {
      "cell_type": "code",
      "execution_count": null,
      "id": "4bda114b",
      "metadata": {
        "id": "4bda114b"
      },
      "outputs": [],
      "source": [
        "b = np.array([2, 3, 8])\n",
        "\n",
        "Z = a * b"
      ]
    },
    {
      "cell_type": "markdown",
      "id": "db552a39",
      "metadata": {
        "id": "db552a39"
      },
      "source": [
        "아래 코드는 수정하지 마세요!!!"
      ]
    },
    {
      "cell_type": "code",
      "execution_count": null,
      "id": "af6a6fc6",
      "metadata": {
        "id": "af6a6fc6"
      },
      "outputs": [],
      "source": [
        "assert np.allclose(Z, np.array([[  1.6,   8.7,  31.2],\n",
        "                                 [104.8,  70.8, 292. ],\n",
        "                                 [110.4,  95.1, 191.2],\n",
        "                                 [ 28.8,  33. ,  39.2]]))"
      ]
    },
    {
      "cell_type": "markdown",
      "id": "c3a6ee8b",
      "metadata": {
        "id": "c3a6ee8b"
      },
      "source": [
        "**문제 7**"
      ]
    },
    {
      "cell_type": "markdown",
      "id": "2f70e989",
      "metadata": {
        "id": "2f70e989"
      },
      "source": [
        "2차원 어레이 `X`가 다음과 같이 주어졌다."
      ]
    },
    {
      "cell_type": "code",
      "execution_count": null,
      "id": "1feec4a1",
      "metadata": {
        "id": "1feec4a1"
      },
      "outputs": [],
      "source": [
        "X = np.array([[58, 68, 54, 21, 13, 97, 33],\n",
        "              [60, 49, 12, 88, 50, 43, 99],\n",
        "              [80, 46, 51,  7, 32, 85,  4],\n",
        "              [93, 18, 86, 79, 17, 16, 59],\n",
        "              [88, 88, 62, 98, 86, 45, 33]])"
      ]
    },
    {
      "cell_type": "markdown",
      "id": "5d0f6759",
      "metadata": {
        "id": "5d0f6759"
      },
      "source": [
        "(1) 행렬의 각 행의 평균값으로 이루어진 (5, 1) 모양의 2차원 어레이 `X_mean_1`을 생성하라.\n",
        "단, 소수점 이하는 버리는 `np.int32` dtype을 사용한다.\n",
        "또한 `mean()` 메서드, `axis`와 `keepdims` 키워드 인자, `astype()` 메서드를 이용한다."
      ]
    },
    {
      "cell_type": "code",
      "execution_count": null,
      "id": "47f0862b",
      "metadata": {
        "id": "47f0862b",
        "colab": {
          "base_uri": "https://localhost:8080/"
        },
        "outputId": "327f5b20-a235-4ba2-9bbd-12cecb81ac60"
      },
      "outputs": [
        {
          "output_type": "execute_result",
          "data": {
            "text/plain": [
              "array([[49],\n",
              "       [57],\n",
              "       [43],\n",
              "       [52],\n",
              "       [71]], dtype=int32)"
            ]
          },
          "metadata": {},
          "execution_count": 108
        }
      ],
      "source": [
        "X_mean_1 = X.mean(axis = 1, keepdims = True).astype(np.int32)"
      ]
    },
    {
      "cell_type": "markdown",
      "id": "027fd88f",
      "metadata": {
        "id": "027fd88f"
      },
      "source": [
        "아래 코드는 수정하지 마세요!!!"
      ]
    },
    {
      "cell_type": "code",
      "execution_count": null,
      "id": "6aafda71",
      "metadata": {
        "id": "6aafda71"
      },
      "outputs": [],
      "source": [
        "assert (X_mean_1 == np.array([[49], [57], [43], [52], [71]])).all()"
      ]
    },
    {
      "cell_type": "markdown",
      "id": "1b9123ad",
      "metadata": {
        "id": "1b9123ad"
      },
      "source": [
        "(2) `X`의 항목과 각 행별 평균값의 차이로 이루어진 (5, 7) 모양의 2차원 어레이를 변수 `Z` 가 가리키도록 하라."
      ]
    },
    {
      "cell_type": "code",
      "execution_count": null,
      "id": "b69c49f5",
      "metadata": {
        "id": "b69c49f5",
        "colab": {
          "base_uri": "https://localhost:8080/"
        },
        "outputId": "e7e486a1-afe9-4a73-f7a0-1307fb50fa92"
      },
      "outputs": [
        {
          "output_type": "execute_result",
          "data": {
            "text/plain": [
              "array([[  9,  19,   5, -28, -36,  48, -16],\n",
              "       [  3,  -8, -45,  31,  -7, -14,  42],\n",
              "       [ 37,   3,   8, -36, -11,  42, -39],\n",
              "       [ 41, -34,  34,  27, -35, -36,   7],\n",
              "       [ 17,  17,  -9,  27,  15, -26, -38]])"
            ]
          },
          "metadata": {},
          "execution_count": 111
        }
      ],
      "source": [
        "Z = X - X_mean_1"
      ]
    },
    {
      "cell_type": "markdown",
      "id": "a269d886",
      "metadata": {
        "id": "a269d886"
      },
      "source": [
        "아래 코드는 수정하지 마세요!!!"
      ]
    },
    {
      "cell_type": "code",
      "execution_count": null,
      "id": "f3e8c3a2",
      "metadata": {
        "id": "f3e8c3a2"
      },
      "outputs": [],
      "source": [
        "assert (Z == np.array([[  9,  19,   5, -28, -36,  48, -16],\n",
        "                        [  3,  -8, -45,  31,  -7, -14,  42],\n",
        "                        [ 37,   3,   8, -36, -11,  42, -39],\n",
        "                        [ 41, -34,  34,  27, -35, -36,   7],\n",
        "                        [ 17,  17,  -9,  27,  15, -26, -38]])).all()"
      ]
    },
    {
      "cell_type": "markdown",
      "id": "0b1b88e5",
      "metadata": {
        "id": "0b1b88e5"
      },
      "source": [
        "**문제 8**"
      ]
    },
    {
      "cell_type": "markdown",
      "id": "4fa0b4c5",
      "metadata": {
        "id": "4fa0b4c5"
      },
      "source": [
        "(1) 아래 어레이를 표준화하라.\n",
        "즉, 항목들의 평균값은 0, 표준편차는 1이 되도록 한다.\n",
        "단, `mean()` 메서드와 `std()` 메서드를 이용한다."
      ]
    },
    {
      "cell_type": "code",
      "execution_count": null,
      "id": "5144bc7f",
      "metadata": {
        "id": "5144bc7f",
        "outputId": "b5a08eba-77a3-4531-8343-2f9c41d3eaae",
        "colab": {
          "base_uri": "https://localhost:8080/"
        }
      },
      "outputs": [
        {
          "output_type": "execute_result",
          "data": {
            "text/plain": [
              "array([[0.46331112, 0.07368929, 0.27217903],\n",
              "       [0.97996257, 0.76926217, 0.02150133],\n",
              "       [0.8554381 , 0.0887842 , 0.03425799],\n",
              "       [0.98023897, 0.074182  , 0.7674808 ]])"
            ]
          },
          "metadata": {},
          "execution_count": 114
        }
      ],
      "source": [
        "X = np.random.rand(4, 3)\n",
        "X"
      ]
    },
    {
      "cell_type": "code",
      "execution_count": null,
      "id": "580154be",
      "metadata": {
        "id": "580154be",
        "colab": {
          "base_uri": "https://localhost:8080/"
        },
        "outputId": "b8d08fe7-0b30-48db-dcd7-cbb03ce91891"
      },
      "outputs": [
        {
          "output_type": "execute_result",
          "data": {
            "text/plain": [
              "array([[ 0.0393765 , -0.98657798, -0.46391363],\n",
              "       [ 1.39982609,  0.84500857, -1.12399962],\n",
              "       [ 1.07192752, -0.94682996, -1.0904087 ],\n",
              "       [ 1.4005539 , -0.98528056,  0.84031785]])"
            ]
          },
          "metadata": {},
          "execution_count": 119
        }
      ],
      "source": [
        "mean = X.mean()\n",
        "std_var = X.std()\n",
        "\n",
        "Z = (X - mean)/std_var"
      ]
    },
    {
      "cell_type": "markdown",
      "id": "b263db9e",
      "metadata": {
        "id": "b263db9e"
      },
      "source": [
        "아래 코드는 수정하지 마세요!!!"
      ]
    },
    {
      "cell_type": "code",
      "execution_count": null,
      "id": "cf3ccf43",
      "metadata": {
        "id": "cf3ccf43"
      },
      "outputs": [],
      "source": [
        "assert (round(Z.mean(), 2) == 0.0)\n",
        "assert (round(Z.std(), 1) == 1.)"
      ]
    },
    {
      "cell_type": "markdown",
      "id": "597b7b5a",
      "metadata": {
        "id": "597b7b5a"
      },
      "source": [
        "(2) `X`를 행 별로 표준화하라.\n",
        "즉, 각 행의 평균값은 0, 표준편차는 1이 되도록 한다."
      ]
    },
    {
      "cell_type": "code",
      "execution_count": null,
      "id": "3fe505c0",
      "metadata": {
        "id": "3fe505c0"
      },
      "outputs": [],
      "source": [
        "Z = (X - X.mean(axis=1, keepdims = True)) / X.std(axis=1, keepdims = True)"
      ]
    },
    {
      "cell_type": "markdown",
      "id": "f4fb97a4",
      "metadata": {
        "id": "f4fb97a4"
      },
      "source": [
        "아래 코드는 수정하지 마세요!!!"
      ]
    },
    {
      "cell_type": "code",
      "execution_count": null,
      "id": "d781becc",
      "metadata": {
        "id": "d781becc"
      },
      "outputs": [],
      "source": [
        "assert (np.round(Z.mean(axis=1), 1) == 0.).all()\n",
        "assert (np.round(Z.std(axis=1), 1) == 1.).all()"
      ]
    }
  ],
  "metadata": {
    "kernelspec": {
      "display_name": "base",
      "language": "python",
      "name": "python3"
    },
    "language_info": {
      "codemirror_mode": {
        "name": "ipython",
        "version": 3
      },
      "file_extension": ".py",
      "mimetype": "text/x-python",
      "name": "python",
      "nbconvert_exporter": "python",
      "pygments_lexer": "ipython3",
      "version": "3.9.12"
    },
    "vscode": {
      "interpreter": {
        "hash": "ad0f3c8a064f687cbf898a0868fd45ba1c7e928ac8a0404f7c241d812ddc1e76"
      }
    },
    "colab": {
      "provenance": [],
      "include_colab_link": true
    }
  },
  "nbformat": 4,
  "nbformat_minor": 5
}
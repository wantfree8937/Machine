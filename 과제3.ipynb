{
  "nbformat": 4,
  "nbformat_minor": 0,
  "metadata": {
    "colab": {
      "name": "과제3",
      "provenance": [],
      "collapsed_sections": [],
      "authorship_tag": "ABX9TyNaep0URD+K9IoEdShVYfs7",
      "include_colab_link": true
    },
    "kernelspec": {
      "name": "python3",
      "display_name": "Python 3"
    },
    "language_info": {
      "name": "python"
    }
  },
  "cells": [
    {
      "cell_type": "markdown",
      "metadata": {
        "id": "view-in-github",
        "colab_type": "text"
      },
      "source": [
        "<a href=\"https://colab.research.google.com/github/wantfree8937/Machine/blob/main/%EA%B3%BC%EC%A0%9C3.ipynb\" target=\"_parent\"><img src=\"https://colab.research.google.com/assets/colab-badge.svg\" alt=\"Open In Colab\"/></a>"
      ]
    },
    {
      "cell_type": "code",
      "execution_count": 200,
      "metadata": {
        "id": "AOnmxIpfm6we"
      },
      "outputs": [],
      "source": [
        "import sys\n",
        "assert sys.version_info >= (3, 7)"
      ]
    },
    {
      "cell_type": "code",
      "source": [
        "import sklearn\n",
        "assert sklearn.__version__ >= \"1.0.1\""
      ],
      "metadata": {
        "id": "ni4MDeNQuQIq"
      },
      "execution_count": 201,
      "outputs": []
    },
    {
      "cell_type": "code",
      "source": [
        "from pathlib import Path\n",
        "import numpy as np\n",
        "import pandas as pd\n",
        "import tarfile\n",
        "import urllib.request\n",
        "\n",
        "def load_housing_data():\n",
        "    tarball_path = Path(\"datasets/housing.tgz\")\n",
        "    if not tarball_path.is_file():\n",
        "        Path(\"datasets\").mkdir(parents=True, exist_ok=True)\n",
        "        url = \"https://github.com/ageron/data/raw/main/housing.tgz\"\n",
        "        urllib.request.urlretrieve(url, tarball_path)\n",
        "        with tarfile.open(tarball_path) as housing_tarball:\n",
        "            housing_tarball.extractall(path=\"datasets\")\n",
        "    return pd.read_csv(Path(\"datasets/housing/housing.csv\"))\n",
        "\n",
        "housing = load_housing_data()"
      ],
      "metadata": {
        "id": "s1Hh_dfgv6QB"
      },
      "execution_count": 202,
      "outputs": []
    },
    {
      "cell_type": "code",
      "source": [
        "import matplotlib.pyplot as plt\n",
        "\n",
        "plt.rc('font', size=14)\n",
        "plt.rc('axes', labelsize=14, titlesize=14)\n",
        "plt.rc('legend', fontsize=14)\n",
        "plt.rc('xtick', labelsize=10)\n",
        "plt.rc('ytick', labelsize=10)"
      ],
      "metadata": {
        "id": "Nz-UCES5wh-9"
      },
      "execution_count": 203,
      "outputs": []
    },
    {
      "cell_type": "code",
      "source": [
        "import numpy as np\n",
        "\n",
        "np.random.seed(42)"
      ],
      "metadata": {
        "id": "bIpVOUayOCcQ"
      },
      "execution_count": 204,
      "outputs": []
    },
    {
      "cell_type": "code",
      "source": [
        "from sklearn.model_selection import train_test_split\n",
        "\n",
        "train_set, test_set = train_test_split(housing, test_size=0.2, random_state=42)"
      ],
      "metadata": {
        "id": "-cg8S_1hODSl"
      },
      "execution_count": 205,
      "outputs": []
    },
    {
      "cell_type": "code",
      "source": [
        "housing[\"income_cat\"] = pd.cut(housing[\"median_income\"],\n",
        "                               bins=[0., 1.5, 3.0, 4.5, 6., np.inf],\n",
        "                               labels=[1, 2, 3, 4, 5])"
      ],
      "metadata": {
        "id": "onVpIj81bSFw"
      },
      "execution_count": 206,
      "outputs": []
    },
    {
      "cell_type": "code",
      "source": [
        "housing[\"income_cat\"].value_counts().sort_index().plot.bar(rot=0, grid=True)\n",
        "plt.xlabel(\"Income category\")\n",
        "plt.ylabel(\"Number of districts\")\n",
        "plt.show()"
      ],
      "metadata": {
        "colab": {
          "base_uri": "https://localhost:8080/",
          "height": 283
        },
        "id": "tr4eSfWEbT8P",
        "outputId": "fab29ff2-7b79-4887-fa9a-72ca23e2047f"
      },
      "execution_count": 207,
      "outputs": [
        {
          "output_type": "display_data",
          "data": {
            "text/plain": [
              "<Figure size 432x288 with 1 Axes>"
            ],
            "image/png": "[encoded data removed]"
          },
          "metadata": {
            "needs_background": "light"
          }
        }
      ]
    },
    {
      "cell_type": "code",
      "source": [
        "strat_train_set, strat_test_set = train_test_split(\n",
        "    housing, test_size=0.2, stratify=housing[\"income_cat\"], random_state=42)"
      ],
      "metadata": {
        "id": "PSIZdg2dbU5w"
      },
      "execution_count": 208,
      "outputs": []
    },
    {
      "cell_type": "code",
      "source": [
        "def income_cat_proportions(data):\n",
        "    return data[\"income_cat\"].value_counts() / len(data)\n",
        "\n",
        "train_set, test_set = train_test_split(housing, test_size=0.2, random_state=42)\n",
        "\n",
        "compare_props = pd.DataFrame({\n",
        "    \"Overall %\": income_cat_proportions(housing),\n",
        "    \"Stratified %\": income_cat_proportions(strat_test_set),\n",
        "    \"Random %\": income_cat_proportions(test_set),\n",
        "}).sort_index()\n",
        "\n",
        "compare_props.index.name = \"Income Category\"\n",
        "compare_props[\"Strat. Error %\"] = (compare_props[\"Stratified %\"] /\n",
        "                                   compare_props[\"Overall %\"] - 1)\n",
        "compare_props[\"Rand. Error %\"] = (compare_props[\"Random %\"] /\n",
        "                                  compare_props[\"Overall %\"] - 1)\n",
        "\n",
        "(compare_props * 100).round(2)"
      ],
      "metadata": {
        "colab": {
          "base_uri": "https://localhost:8080/",
          "height": 238
        },
        "id": "tykwG-4tbWYj",
        "outputId": "d0600d14-eea7-47ec-a057-936f512f649f"
      },
      "execution_count": 209,
      "outputs": [
        {
          "output_type": "execute_result",
          "data": {
            "text/plain": [
              "                 Overall %  Stratified %  Random %  Strat. Error %  \\\n",
              "Income Category                                                      \n",
              "1                     3.98          4.00      4.24            0.36   \n",
              "2                    31.88         31.88     30.74           -0.02   \n",
              "3                    35.06         35.05     34.52           -0.01   \n",
              "4                    17.63         17.64     18.41            0.03   \n",
              "5                    11.44         11.43     12.09           -0.08   \n",
              "\n",
              "                 Rand. Error %  \n",
              "Income Category                 \n",
              "1                         6.45  \n",
              "2                        -3.59  \n",
              "3                        -1.53  \n",
              "4                         4.42  \n",
              "5                         5.63  "
            ],
            "text/html": [
              "\n",
              "  <div id=\"df-9fa516ef-c3ad-42bc-8812-1b64629098e3\">\n",
              "    <div class=\"colab-df-container\">\n",
              "      <div>\n",
              "<style scoped>\n",
              "    .dataframe tbody tr th:only-of-type {\n",
              "        vertical-align: middle;\n",
              "    }\n",
              "\n",
              "    .dataframe tbody tr th {\n",
              "        vertical-align: top;\n",
              "    }\n",
              "\n",
              "    .dataframe thead th {\n",
              "        text-align: right;\n",
              "    }\n",
              "</style>\n",
              "<table border=\"1\" class=\"dataframe\">\n",
              "  <thead>\n",
              "    <tr style=\"text-align: right;\">\n",
              "      <th></th>\n",
              "      <th>Overall %</th>\n",
              "      <th>Stratified %</th>\n",
              "      <th>Random %</th>\n",
              "      <th>Strat. Error %</th>\n",
              "      <th>Rand. Error %</th>\n",
              "    </tr>\n",
              "    <tr>\n",
              "      <th>Income Category</th>\n",
              "      <th></th>\n",
              "      <th></th>\n",
              "      <th></th>\n",
              "      <th></th>\n",
              "      <th></th>\n",
              "    </tr>\n",
              "  </thead>\n",
              "  <tbody>\n",
              "    <tr>\n",
              "      <th>1</th>\n",
              "      <td>3.98</td>\n",
              "      <td>4.00</td>\n",
              "      <td>4.24</td>\n",
              "      <td>0.36</td>\n",
              "      <td>6.45</td>\n",
              "    </tr>\n",
              "    <tr>\n",
              "      <th>2</th>\n",
              "      <td>31.88</td>\n",
              "      <td>31.88</td>\n",
              "      <td>30.74</td>\n",
              "      <td>-0.02</td>\n",
              "      <td>-3.59</td>\n",
              "    </tr>\n",
              "    <tr>\n",
              "      <th>3</th>\n",
              "      <td>35.06</td>\n",
              "      <td>35.05</td>\n",
              "      <td>34.52</td>\n",
              "      <td>-0.01</td>\n",
              "      <td>-1.53</td>\n",
              "    </tr>\n",
              "    <tr>\n",
              "      <th>4</th>\n",
              "      <td>17.63</td>\n",
              "      <td>17.64</td>\n",
              "      <td>18.41</td>\n",
              "      <td>0.03</td>\n",
              "      <td>4.42</td>\n",
              "    </tr>\n",
              "    <tr>\n",
              "      <th>5</th>\n",
              "      <td>11.44</td>\n",
              "      <td>11.43</td>\n",
              "      <td>12.09</td>\n",
              "      <td>-0.08</td>\n",
              "      <td>5.63</td>\n",
              "    </tr>\n",
              "  </tbody>\n",
              "</table>\n",
              "</div>\n",
              "      <button class=\"colab-df-convert\" onclick=\"convertToInteractive('df-9fa516ef-c3ad-42bc-8812-1b64629098e3')\"\n",
              "              title=\"Convert this dataframe to an interactive table.\"\n",
              "              style=\"display:none;\">\n",
              "        \n",
              "  <svg xmlns=\"http://www.w3.org/2000/svg\" height=\"24px\"viewBox=\"0 0 24 24\"\n",
              "       width=\"24px\">\n",
              "    <path d=\"M0 0h24v24H0V0z\" fill=\"none\"/>\n",
              "    <path d=\"M18.56 5.44l.94 2.06.94-2.06 2.06-.94-2.06-.94-.94-2.06-.94 2.06-2.06.94zm-11 1L8.5 8.5l.94-2.06 2.06-.94-2.06-.94L8.5 2.5l-.94 2.06-2.06.94zm10 10l.94 2.06.94-2.06 2.06-.94-2.06-.94-.94-2.06-.94 2.06-2.06.94z\"/><path d=\"M17.41 7.96l-1.37-1.37c-.4-.4-.92-.59-1.43-.59-.52 0-1.04.2-1.43.59L10.3 9.45l-7.72 7.72c-.78.78-.78 2.05 0 2.83L4 21.41c.39.39.9.59 1.41.59.51 0 1.02-.2 1.41-.59l7.78-7.78 2.81-2.81c.8-.78.8-2.07 0-2.86zM5.41 20L4 18.59l7.72-7.72 1.47 1.35L5.41 20z\"/>\n",
              "  </svg>\n",
              "      </button>\n",
              "      \n",
              "  <style>\n",
              "    .colab-df-container {\n",
              "      display:flex;\n",
              "      flex-wrap:wrap;\n",
              "      gap: 12px;\n",
              "    }\n",
              "\n",
              "    .colab-df-convert {\n",
              "      background-color: #E8F0FE;\n",
              "      border: none;\n",
              "      border-radius: 50%;\n",
              "      cursor: pointer;\n",
              "      display: none;\n",
              "      fill: #1967D2;\n",
              "      height: 32px;\n",
              "      padding: 0 0 0 0;\n",
              "      width: 32px;\n",
              "    }\n",
              "\n",
              "    .colab-df-convert:hover {\n",
              "      background-color: #E2EBFA;\n",
              "      box-shadow: 0px 1px 2px rgba(60, 64, 67, 0.3), 0px 1px 3px 1px rgba(60, 64, 67, 0.15);\n",
              "      fill: #174EA6;\n",
              "    }\n",
              "\n",
              "    [theme=dark] .colab-df-convert {\n",
              "      background-color: #3B4455;\n",
              "      fill: #D2E3FC;\n",
              "    }\n",
              "\n",
              "    [theme=dark] .colab-df-convert:hover {\n",
              "      background-color: #434B5C;\n",
              "      box-shadow: 0px 1px 3px 1px rgba(0, 0, 0, 0.15);\n",
              "      filter: drop-shadow(0px 1px 2px rgba(0, 0, 0, 0.3));\n",
              "      fill: #FFFFFF;\n",
              "    }\n",
              "  </style>\n",
              "\n",
              "      <script>\n",
              "        const buttonEl =\n",
              "          document.querySelector('#df-9fa516ef-c3ad-42bc-8812-1b64629098e3 button.colab-df-convert');\n",
              "        buttonEl.style.display =\n",
              "          google.colab.kernel.accessAllowed ? 'block' : 'none';\n",
              "\n",
              "        async function convertToInteractive(key) {\n",
              "          const element = document.querySelector('#df-9fa516ef-c3ad-42bc-8812-1b64629098e3');\n",
              "          const dataTable =\n",
              "            await google.colab.kernel.invokeFunction('convertToInteractive',\n",
              "                                                     [key], {});\n",
              "          if (!dataTable) return;\n",
              "\n",
              "          const docLinkHtml = 'Like what you see? Visit the ' +\n",
              "            '<a target=\"_blank\" href=https://colab.research.google.com/notebooks/data_table.ipynb>data table notebook</a>'\n",
              "            + ' to learn more about interactive tables.';\n",
              "          element.innerHTML = '';\n",
              "          dataTable['output_type'] = 'display_data';\n",
              "          await google.colab.output.renderOutput(dataTable, element);\n",
              "          const docLink = document.createElement('div');\n",
              "          docLink.innerHTML = docLinkHtml;\n",
              "          element.appendChild(docLink);\n",
              "        }\n",
              "      </script>\n",
              "    </div>\n",
              "  </div>\n",
              "  "
            ]
          },
          "metadata": {},
          "execution_count": 209
        }
      ]
    },
    {
      "cell_type": "code",
      "source": [
        "for set_ in (strat_train_set, strat_test_set):\n",
        "    set_.drop(\"income_cat\", axis=1, inplace=True)"
      ],
      "metadata": {
        "id": "O_TFmnv2bXma"
      },
      "execution_count": 210,
      "outputs": []
    },
    {
      "cell_type": "code",
      "source": [
        "corr_matrix = housing.corr()"
      ],
      "metadata": {
        "id": "ax-KGmIOv7Jb"
      },
      "execution_count": 211,
      "outputs": []
    },
    {
      "cell_type": "code",
      "source": [
        "corr_matrix[\"median_house_value\"].sort_values(ascending=False)"
      ],
      "metadata": {
        "colab": {
          "base_uri": "https://localhost:8080/"
        },
        "id": "ZMA5mEoUwFj0",
        "outputId": "2b69356b-e7fb-43cd-fbdf-890d3c2d3788"
      },
      "execution_count": 212,
      "outputs": [
        {
          "output_type": "execute_result",
          "data": {
            "text/plain": [
              "median_house_value    1.000000\n",
              "median_income         0.688075\n",
              "total_rooms           0.134153\n",
              "housing_median_age    0.105623\n",
              "households            0.065843\n",
              "total_bedrooms        0.049686\n",
              "population           -0.024650\n",
              "longitude            -0.045967\n",
              "latitude             -0.144160\n",
              "Name: median_house_value, dtype: float64"
            ]
          },
          "metadata": {},
          "execution_count": 212
        }
      ]
    },
    {
      "cell_type": "code",
      "source": [
        "from pandas.plotting import scatter_matrix\n",
        "\n",
        "attributes = [\"median_house_value\", \"median_income\", \"total_rooms\",\n",
        "              \"housing_median_age\"]\n",
        "scatter_matrix(housing[attributes], figsize=(12, 8))\n",
        "plt.show()"
      ],
      "metadata": {
        "colab": {
          "base_uri": "https://localhost:8080/",
          "height": 540
        },
        "id": "EwLliRrSMJW7",
        "outputId": "4de008c9-933f-4300-a352-09280bb3a6b2"
      },
      "execution_count": 213,
      "outputs": [
        {
          "output_type": "display_data",
          "data": {
            "text/plain": [
              "<Figure size 864x576 with 16 Axes>"
            ],
            "image/png": "[encoded data removed]"
          },
          "metadata": {
            "needs_background": "light"
          }
        }
      ]
    },
    {
      "cell_type": "code",
      "source": [
        "housing.plot(kind=\"scatter\", x=\"median_income\", y=\"median_house_value\",\n",
        "             alpha=0.1, grid=True)\n",
        "plt.show()"
      ],
      "metadata": {
        "colab": {
          "base_uri": "https://localhost:8080/",
          "height": 283
        },
        "id": "KY_ErgNcw_rq",
        "outputId": "904a6155-8cca-40e0-fbb8-6d89a6aa8b5a"
      },
      "execution_count": 214,
      "outputs": [
        {
          "output_type": "display_data",
          "data": {
            "text/plain": [
              "<Figure size 432x288 with 1 Axes>"
            ],
            "image/png": "[encoded data removed]"
          },
          "metadata": {
            "needs_background": "light"
          }
        }
      ]
    },
    {
      "cell_type": "code",
      "source": [
        "housing.info()"
      ],
      "metadata": {
        "colab": {
          "base_uri": "https://localhost:8080/"
        },
        "id": "Mi7RMgkYXgQX",
        "outputId": "83ebfd49-38eb-4020-da12-316027cd8553"
      },
      "execution_count": 215,
      "outputs": [
        {
          "output_type": "stream",
          "name": "stdout",
          "text": [
            "<class 'pandas.core.frame.DataFrame'>\n",
            "RangeIndex: 20640 entries, 0 to 20639\n",
            "Data columns (total 11 columns):\n",
            " #   Column              Non-Null Count  Dtype   \n",
            "---  ------              --------------  -----   \n",
            " 0   longitude           20640 non-null  float64 \n",
            " 1   latitude            20640 non-null  float64 \n",
            " 2   housing_median_age  20640 non-null  float64 \n",
            " 3   total_rooms         20640 non-null  float64 \n",
            " 4   total_bedrooms      20433 non-null  float64 \n",
            " 5   population          20640 non-null  float64 \n",
            " 6   households          20640 non-null  float64 \n",
            " 7   median_income       20640 non-null  float64 \n",
            " 8   median_house_value  20640 non-null  float64 \n",
            " 9   ocean_proximity     20640 non-null  object  \n",
            " 10  income_cat          20640 non-null  category\n",
            "dtypes: category(1), float64(9), object(1)\n",
            "memory usage: 1.6+ MB\n"
          ]
        }
      ]
    },
    {
      "cell_type": "code",
      "source": [
        "dropcol = [\"longitude\",\"latitude\",\"housing_median_age\",\"total_rooms\",\"total_bedrooms\",\"population\",\"households\",\"ocean_proximity\", \"median_income\"]\n",
        "s1 = housing.drop(dropcol, axis=1)\n",
        "s1.value_counts(normalize=True)"
      ],
      "metadata": {
        "colab": {
          "base_uri": "https://localhost:8080/"
        },
        "id": "gDks3emsVYxn",
        "outputId": "bef598c2-a32e-4c0a-d355-16d5f54ae972"
      },
      "execution_count": 216,
      "outputs": [
        {
          "output_type": "execute_result",
          "data": {
            "text/plain": [
              "median_house_value  income_cat\n",
              "500001.0            5             0.031880\n",
              "                    4             0.006638\n",
              "                    3             0.006444\n",
              "137500.0            2             0.003101\n",
              "162500.0            2             0.002907\n",
              "                                    ...   \n",
              "52000.0             1             0.000048\n",
              "239300.0            4             0.000048\n",
              "239500.0            2             0.000048\n",
              "                    3             0.000048\n",
              "14999.0             1             0.000048\n",
              "Length: 8170, dtype: float64"
            ]
          },
          "metadata": {},
          "execution_count": 216
        }
      ]
    },
    {
      "cell_type": "code",
      "source": [
        "housing = strat_train_set.drop(\"median_house_value\", axis=1)\n",
        "housing_labels = strat_train_set[\"median_house_value\"].copy()"
      ],
      "metadata": {
        "id": "7MMQGjbKbCXW"
      },
      "execution_count": 217,
      "outputs": []
    },
    {
      "cell_type": "code",
      "source": [
        "null_rows_idx = housing.isnull().any(axis=1)\n",
        "housing.loc[null_rows_idx].head()"
      ],
      "metadata": {
        "colab": {
          "base_uri": "https://localhost:8080/",
          "height": 206
        },
        "id": "rXOkQB4NaJkh",
        "outputId": "06ed0a72-98a6-47cb-eb98-da035b40928d"
      },
      "execution_count": 218,
      "outputs": [
        {
          "output_type": "execute_result",
          "data": {
            "text/plain": [
              "       longitude  latitude  housing_median_age  total_rooms  total_bedrooms  \\\n",
              "14452    -120.67     40.50                15.0       5343.0             NaN   \n",
              "18217    -117.96     34.03                35.0       2093.0             NaN   \n",
              "11889    -118.05     34.04                33.0       1348.0             NaN   \n",
              "20325    -118.88     34.17                15.0       4260.0             NaN   \n",
              "14360    -117.87     33.62                 8.0       1266.0             NaN   \n",
              "\n",
              "       population  households  median_income ocean_proximity  \n",
              "14452      2503.0       902.0         3.5962          INLAND  \n",
              "18217      1755.0       403.0         3.4115       <1H OCEAN  \n",
              "11889      1098.0       257.0         4.2917       <1H OCEAN  \n",
              "20325      1701.0       669.0         5.1033       <1H OCEAN  \n",
              "14360       375.0       183.0         9.8020       <1H OCEAN  "
            ],
            "text/html": [
              "\n",
              "  <div id=\"df-467ab6d9-2acd-40e7-a74d-9d72aa81672c\">\n",
              "    <div class=\"colab-df-container\">\n",
              "      <div>\n",
              "<style scoped>\n",
              "    .dataframe tbody tr th:only-of-type {\n",
              "        vertical-align: middle;\n",
              "    }\n",
              "\n",
              "    .dataframe tbody tr th {\n",
              "        vertical-align: top;\n",
              "    }\n",
              "\n",
              "    .dataframe thead th {\n",
              "        text-align: right;\n",
              "    }\n",
              "</style>\n",
              "<table border=\"1\" class=\"dataframe\">\n",
              "  <thead>\n",
              "    <tr style=\"text-align: right;\">\n",
              "      <th></th>\n",
              "      <th>longitude</th>\n",
              "      <th>latitude</th>\n",
              "      <th>housing_median_age</th>\n",
              "      <th>total_rooms</th>\n",
              "      <th>total_bedrooms</th>\n",
              "      <th>population</th>\n",
              "      <th>households</th>\n",
              "      <th>median_income</th>\n",
              "      <th>ocean_proximity</th>\n",
              "    </tr>\n",
              "  </thead>\n",
              "  <tbody>\n",
              "    <tr>\n",
              "      <th>14452</th>\n",
              "      <td>-120.67</td>\n",
              "      <td>40.50</td>\n",
              "      <td>15.0</td>\n",
              "      <td>5343.0</td>\n",
              "      <td>NaN</td>\n",
              "      <td>2503.0</td>\n",
              "      <td>902.0</td>\n",
              "      <td>3.5962</td>\n",
              "      <td>INLAND</td>\n",
              "    </tr>\n",
              "    <tr>\n",
              "      <th>18217</th>\n",
              "      <td>-117.96</td>\n",
              "      <td>34.03</td>\n",
              "      <td>35.0</td>\n",
              "      <td>2093.0</td>\n",
              "      <td>NaN</td>\n",
              "      <td>1755.0</td>\n",
              "      <td>403.0</td>\n",
              "      <td>3.4115</td>\n",
              "      <td>&lt;1H OCEAN</td>\n",
              "    </tr>\n",
              "    <tr>\n",
              "      <th>11889</th>\n",
              "      <td>-118.05</td>\n",
              "      <td>34.04</td>\n",
              "      <td>33.0</td>\n",
              "      <td>1348.0</td>\n",
              "      <td>NaN</td>\n",
              "      <td>1098.0</td>\n",
              "      <td>257.0</td>\n",
              "      <td>4.2917</td>\n",
              "      <td>&lt;1H OCEAN</td>\n",
              "    </tr>\n",
              "    <tr>\n",
              "      <th>20325</th>\n",
              "      <td>-118.88</td>\n",
              "      <td>34.17</td>\n",
              "      <td>15.0</td>\n",
              "      <td>4260.0</td>\n",
              "      <td>NaN</td>\n",
              "      <td>1701.0</td>\n",
              "      <td>669.0</td>\n",
              "      <td>5.1033</td>\n",
              "      <td>&lt;1H OCEAN</td>\n",
              "    </tr>\n",
              "    <tr>\n",
              "      <th>14360</th>\n",
              "      <td>-117.87</td>\n",
              "      <td>33.62</td>\n",
              "      <td>8.0</td>\n",
              "      <td>1266.0</td>\n",
              "      <td>NaN</td>\n",
              "      <td>375.0</td>\n",
              "      <td>183.0</td>\n",
              "      <td>9.8020</td>\n",
              "      <td>&lt;1H OCEAN</td>\n",
              "    </tr>\n",
              "  </tbody>\n",
              "</table>\n",
              "</div>\n",
              "      <button class=\"colab-df-convert\" onclick=\"convertToInteractive('df-467ab6d9-2acd-40e7-a74d-9d72aa81672c')\"\n",
              "              title=\"Convert this dataframe to an interactive table.\"\n",
              "              style=\"display:none;\">\n",
              "        \n",
              "  <svg xmlns=\"http://www.w3.org/2000/svg\" height=\"24px\"viewBox=\"0 0 24 24\"\n",
              "       width=\"24px\">\n",
              "    <path d=\"M0 0h24v24H0V0z\" fill=\"none\"/>\n",
              "    <path d=\"M18.56 5.44l.94 2.06.94-2.06 2.06-.94-2.06-.94-.94-2.06-.94 2.06-2.06.94zm-11 1L8.5 8.5l.94-2.06 2.06-.94-2.06-.94L8.5 2.5l-.94 2.06-2.06.94zm10 10l.94 2.06.94-2.06 2.06-.94-2.06-.94-.94-2.06-.94 2.06-2.06.94z\"/><path d=\"M17.41 7.96l-1.37-1.37c-.4-.4-.92-.59-1.43-.59-.52 0-1.04.2-1.43.59L10.3 9.45l-7.72 7.72c-.78.78-.78 2.05 0 2.83L4 21.41c.39.39.9.59 1.41.59.51 0 1.02-.2 1.41-.59l7.78-7.78 2.81-2.81c.8-.78.8-2.07 0-2.86zM5.41 20L4 18.59l7.72-7.72 1.47 1.35L5.41 20z\"/>\n",
              "  </svg>\n",
              "      </button>\n",
              "      \n",
              "  <style>\n",
              "    .colab-df-container {\n",
              "      display:flex;\n",
              "      flex-wrap:wrap;\n",
              "      gap: 12px;\n",
              "    }\n",
              "\n",
              "    .colab-df-convert {\n",
              "      background-color: #E8F0FE;\n",
              "      border: none;\n",
              "      border-radius: 50%;\n",
              "      cursor: pointer;\n",
              "      display: none;\n",
              "      fill: #1967D2;\n",
              "      height: 32px;\n",
              "      padding: 0 0 0 0;\n",
              "      width: 32px;\n",
              "    }\n",
              "\n",
              "    .colab-df-convert:hover {\n",
              "      background-color: #E2EBFA;\n",
              "      box-shadow: 0px 1px 2px rgba(60, 64, 67, 0.3), 0px 1px 3px 1px rgba(60, 64, 67, 0.15);\n",
              "      fill: #174EA6;\n",
              "    }\n",
              "\n",
              "    [theme=dark] .colab-df-convert {\n",
              "      background-color: #3B4455;\n",
              "      fill: #D2E3FC;\n",
              "    }\n",
              "\n",
              "    [theme=dark] .colab-df-convert:hover {\n",
              "      background-color: #434B5C;\n",
              "      box-shadow: 0px 1px 3px 1px rgba(0, 0, 0, 0.15);\n",
              "      filter: drop-shadow(0px 1px 2px rgba(0, 0, 0, 0.3));\n",
              "      fill: #FFFFFF;\n",
              "    }\n",
              "  </style>\n",
              "\n",
              "      <script>\n",
              "        const buttonEl =\n",
              "          document.querySelector('#df-467ab6d9-2acd-40e7-a74d-9d72aa81672c button.colab-df-convert');\n",
              "        buttonEl.style.display =\n",
              "          google.colab.kernel.accessAllowed ? 'block' : 'none';\n",
              "\n",
              "        async function convertToInteractive(key) {\n",
              "          const element = document.querySelector('#df-467ab6d9-2acd-40e7-a74d-9d72aa81672c');\n",
              "          const dataTable =\n",
              "            await google.colab.kernel.invokeFunction('convertToInteractive',\n",
              "                                                     [key], {});\n",
              "          if (!dataTable) return;\n",
              "\n",
              "          const docLinkHtml = 'Like what you see? Visit the ' +\n",
              "            '<a target=\"_blank\" href=https://colab.research.google.com/notebooks/data_table.ipynb>data table notebook</a>'\n",
              "            + ' to learn more about interactive tables.';\n",
              "          element.innerHTML = '';\n",
              "          dataTable['output_type'] = 'display_data';\n",
              "          await google.colab.output.renderOutput(dataTable, element);\n",
              "          const docLink = document.createElement('div');\n",
              "          docLink.innerHTML = docLinkHtml;\n",
              "          element.appendChild(docLink);\n",
              "        }\n",
              "      </script>\n",
              "    </div>\n",
              "  </div>\n",
              "  "
            ]
          },
          "metadata": {},
          "execution_count": 218
        }
      ]
    },
    {
      "cell_type": "code",
      "source": [
        "housing_option1 = housing.copy()\n",
        "\n",
        "housing_option1.dropna(subset=[\"total_bedrooms\"], inplace=True)  # 옵션 1\n",
        "\n",
        "housing_option1.loc[null_rows_idx].head()"
      ],
      "metadata": {
        "colab": {
          "base_uri": "https://localhost:8080/",
          "height": 49
        },
        "id": "i3Dye3F4aOln",
        "outputId": "1e9f6746-c4fa-4bce-c131-060d0737e115"
      },
      "execution_count": 219,
      "outputs": [
        {
          "output_type": "execute_result",
          "data": {
            "text/plain": [
              "Empty DataFrame\n",
              "Columns: [longitude, latitude, housing_median_age, total_rooms, total_bedrooms, population, households, median_income, ocean_proximity]\n",
              "Index: []"
            ],
            "text/html": [
              "\n",
              "  <div id=\"df-de3591d1-3d63-4fe9-bd40-a8b514ba60ee\">\n",
              "    <div class=\"colab-df-container\">\n",
              "      <div>\n",
              "<style scoped>\n",
              "    .dataframe tbody tr th:only-of-type {\n",
              "        vertical-align: middle;\n",
              "    }\n",
              "\n",
              "    .dataframe tbody tr th {\n",
              "        vertical-align: top;\n",
              "    }\n",
              "\n",
              "    .dataframe thead th {\n",
              "        text-align: right;\n",
              "    }\n",
              "</style>\n",
              "<table border=\"1\" class=\"dataframe\">\n",
              "  <thead>\n",
              "    <tr style=\"text-align: right;\">\n",
              "      <th></th>\n",
              "      <th>longitude</th>\n",
              "      <th>latitude</th>\n",
              "      <th>housing_median_age</th>\n",
              "      <th>total_rooms</th>\n",
              "      <th>total_bedrooms</th>\n",
              "      <th>population</th>\n",
              "      <th>households</th>\n",
              "      <th>median_income</th>\n",
              "      <th>ocean_proximity</th>\n",
              "    </tr>\n",
              "  </thead>\n",
              "  <tbody>\n",
              "  </tbody>\n",
              "</table>\n",
              "</div>\n",
              "      <button class=\"colab-df-convert\" onclick=\"convertToInteractive('df-de3591d1-3d63-4fe9-bd40-a8b514ba60ee')\"\n",
              "              title=\"Convert this dataframe to an interactive table.\"\n",
              "              style=\"display:none;\">\n",
              "        \n",
              "  <svg xmlns=\"http://www.w3.org/2000/svg\" height=\"24px\"viewBox=\"0 0 24 24\"\n",
              "       width=\"24px\">\n",
              "    <path d=\"M0 0h24v24H0V0z\" fill=\"none\"/>\n",
              "    <path d=\"M18.56 5.44l.94 2.06.94-2.06 2.06-.94-2.06-.94-.94-2.06-.94 2.06-2.06.94zm-11 1L8.5 8.5l.94-2.06 2.06-.94-2.06-.94L8.5 2.5l-.94 2.06-2.06.94zm10 10l.94 2.06.94-2.06 2.06-.94-2.06-.94-.94-2.06-.94 2.06-2.06.94z\"/><path d=\"M17.41 7.96l-1.37-1.37c-.4-.4-.92-.59-1.43-.59-.52 0-1.04.2-1.43.59L10.3 9.45l-7.72 7.72c-.78.78-.78 2.05 0 2.83L4 21.41c.39.39.9.59 1.41.59.51 0 1.02-.2 1.41-.59l7.78-7.78 2.81-2.81c.8-.78.8-2.07 0-2.86zM5.41 20L4 18.59l7.72-7.72 1.47 1.35L5.41 20z\"/>\n",
              "  </svg>\n",
              "      </button>\n",
              "      \n",
              "  <style>\n",
              "    .colab-df-container {\n",
              "      display:flex;\n",
              "      flex-wrap:wrap;\n",
              "      gap: 12px;\n",
              "    }\n",
              "\n",
              "    .colab-df-convert {\n",
              "      background-color: #E8F0FE;\n",
              "      border: none;\n",
              "      border-radius: 50%;\n",
              "      cursor: pointer;\n",
              "      display: none;\n",
              "      fill: #1967D2;\n",
              "      height: 32px;\n",
              "      padding: 0 0 0 0;\n",
              "      width: 32px;\n",
              "    }\n",
              "\n",
              "    .colab-df-convert:hover {\n",
              "      background-color: #E2EBFA;\n",
              "      box-shadow: 0px 1px 2px rgba(60, 64, 67, 0.3), 0px 1px 3px 1px rgba(60, 64, 67, 0.15);\n",
              "      fill: #174EA6;\n",
              "    }\n",
              "\n",
              "    [theme=dark] .colab-df-convert {\n",
              "      background-color: #3B4455;\n",
              "      fill: #D2E3FC;\n",
              "    }\n",
              "\n",
              "    [theme=dark] .colab-df-convert:hover {\n",
              "      background-color: #434B5C;\n",
              "      box-shadow: 0px 1px 3px 1px rgba(0, 0, 0, 0.15);\n",
              "      filter: drop-shadow(0px 1px 2px rgba(0, 0, 0, 0.3));\n",
              "      fill: #FFFFFF;\n",
              "    }\n",
              "  </style>\n",
              "\n",
              "      <script>\n",
              "        const buttonEl =\n",
              "          document.querySelector('#df-de3591d1-3d63-4fe9-bd40-a8b514ba60ee button.colab-df-convert');\n",
              "        buttonEl.style.display =\n",
              "          google.colab.kernel.accessAllowed ? 'block' : 'none';\n",
              "\n",
              "        async function convertToInteractive(key) {\n",
              "          const element = document.querySelector('#df-de3591d1-3d63-4fe9-bd40-a8b514ba60ee');\n",
              "          const dataTable =\n",
              "            await google.colab.kernel.invokeFunction('convertToInteractive',\n",
              "                                                     [key], {});\n",
              "          if (!dataTable) return;\n",
              "\n",
              "          const docLinkHtml = 'Like what you see? Visit the ' +\n",
              "            '<a target=\"_blank\" href=https://colab.research.google.com/notebooks/data_table.ipynb>data table notebook</a>'\n",
              "            + ' to learn more about interactive tables.';\n",
              "          element.innerHTML = '';\n",
              "          dataTable['output_type'] = 'display_data';\n",
              "          await google.colab.output.renderOutput(dataTable, element);\n",
              "          const docLink = document.createElement('div');\n",
              "          docLink.innerHTML = docLinkHtml;\n",
              "          element.appendChild(docLink);\n",
              "        }\n",
              "      </script>\n",
              "    </div>\n",
              "  </div>\n",
              "  "
            ]
          },
          "metadata": {},
          "execution_count": 219
        }
      ]
    },
    {
      "cell_type": "code",
      "source": [
        "housing_option2 = housing.copy()\n",
        "\n",
        "housing_option2.drop(\"total_bedrooms\", axis=1, inplace=True)  # 옵션 2\n",
        "\n",
        "housing_option2.loc[null_rows_idx].head()"
      ],
      "metadata": {
        "colab": {
          "base_uri": "https://localhost:8080/",
          "height": 206
        },
        "id": "-qTGiUdfaQsW",
        "outputId": "bc6a33f6-bd68-4970-96f0-0af4acfaa645"
      },
      "execution_count": 220,
      "outputs": [
        {
          "output_type": "execute_result",
          "data": {
            "text/plain": [
              "       longitude  latitude  housing_median_age  total_rooms  population  \\\n",
              "14452    -120.67     40.50                15.0       5343.0      2503.0   \n",
              "18217    -117.96     34.03                35.0       2093.0      1755.0   \n",
              "11889    -118.05     34.04                33.0       1348.0      1098.0   \n",
              "20325    -118.88     34.17                15.0       4260.0      1701.0   \n",
              "14360    -117.87     33.62                 8.0       1266.0       375.0   \n",
              "\n",
              "       households  median_income ocean_proximity  \n",
              "14452       902.0         3.5962          INLAND  \n",
              "18217       403.0         3.4115       <1H OCEAN  \n",
              "11889       257.0         4.2917       <1H OCEAN  \n",
              "20325       669.0         5.1033       <1H OCEAN  \n",
              "14360       183.0         9.8020       <1H OCEAN  "
            ],
            "text/html": [
              "\n",
              "  <div id=\"df-17826497-e95b-4b1b-97f8-79e68de4d1f8\">\n",
              "    <div class=\"colab-df-container\">\n",
              "      <div>\n",
              "<style scoped>\n",
              "    .dataframe tbody tr th:only-of-type {\n",
              "        vertical-align: middle;\n",
              "    }\n",
              "\n",
              "    .dataframe tbody tr th {\n",
              "        vertical-align: top;\n",
              "    }\n",
              "\n",
              "    .dataframe thead th {\n",
              "        text-align: right;\n",
              "    }\n",
              "</style>\n",
              "<table border=\"1\" class=\"dataframe\">\n",
              "  <thead>\n",
              "    <tr style=\"text-align: right;\">\n",
              "      <th></th>\n",
              "      <th>longitude</th>\n",
              "      <th>latitude</th>\n",
              "      <th>housing_median_age</th>\n",
              "      <th>total_rooms</th>\n",
              "      <th>population</th>\n",
              "      <th>households</th>\n",
              "      <th>median_income</th>\n",
              "      <th>ocean_proximity</th>\n",
              "    </tr>\n",
              "  </thead>\n",
              "  <tbody>\n",
              "    <tr>\n",
              "      <th>14452</th>\n",
              "      <td>-120.67</td>\n",
              "      <td>40.50</td>\n",
              "      <td>15.0</td>\n",
              "      <td>5343.0</td>\n",
              "      <td>2503.0</td>\n",
              "      <td>902.0</td>\n",
              "      <td>3.5962</td>\n",
              "      <td>INLAND</td>\n",
              "    </tr>\n",
              "    <tr>\n",
              "      <th>18217</th>\n",
              "      <td>-117.96</td>\n",
              "      <td>34.03</td>\n",
              "      <td>35.0</td>\n",
              "      <td>2093.0</td>\n",
              "      <td>1755.0</td>\n",
              "      <td>403.0</td>\n",
              "      <td>3.4115</td>\n",
              "      <td>&lt;1H OCEAN</td>\n",
              "    </tr>\n",
              "    <tr>\n",
              "      <th>11889</th>\n",
              "      <td>-118.05</td>\n",
              "      <td>34.04</td>\n",
              "      <td>33.0</td>\n",
              "      <td>1348.0</td>\n",
              "      <td>1098.0</td>\n",
              "      <td>257.0</td>\n",
              "      <td>4.2917</td>\n",
              "      <td>&lt;1H OCEAN</td>\n",
              "    </tr>\n",
              "    <tr>\n",
              "      <th>20325</th>\n",
              "      <td>-118.88</td>\n",
              "      <td>34.17</td>\n",
              "      <td>15.0</td>\n",
              "      <td>4260.0</td>\n",
              "      <td>1701.0</td>\n",
              "      <td>669.0</td>\n",
              "      <td>5.1033</td>\n",
              "      <td>&lt;1H OCEAN</td>\n",
              "    </tr>\n",
              "    <tr>\n",
              "      <th>14360</th>\n",
              "      <td>-117.87</td>\n",
              "      <td>33.62</td>\n",
              "      <td>8.0</td>\n",
              "      <td>1266.0</td>\n",
              "      <td>375.0</td>\n",
              "      <td>183.0</td>\n",
              "      <td>9.8020</td>\n",
              "      <td>&lt;1H OCEAN</td>\n",
              "    </tr>\n",
              "  </tbody>\n",
              "</table>\n",
              "</div>\n",
              "      <button class=\"colab-df-convert\" onclick=\"convertToInteractive('df-17826497-e95b-4b1b-97f8-79e68de4d1f8')\"\n",
              "              title=\"Convert this dataframe to an interactive table.\"\n",
              "              style=\"display:none;\">\n",
              "        \n",
              "  <svg xmlns=\"http://www.w3.org/2000/svg\" height=\"24px\"viewBox=\"0 0 24 24\"\n",
              "       width=\"24px\">\n",
              "    <path d=\"M0 0h24v24H0V0z\" fill=\"none\"/>\n",
              "    <path d=\"M18.56 5.44l.94 2.06.94-2.06 2.06-.94-2.06-.94-.94-2.06-.94 2.06-2.06.94zm-11 1L8.5 8.5l.94-2.06 2.06-.94-2.06-.94L8.5 2.5l-.94 2.06-2.06.94zm10 10l.94 2.06.94-2.06 2.06-.94-2.06-.94-.94-2.06-.94 2.06-2.06.94z\"/><path d=\"M17.41 7.96l-1.37-1.37c-.4-.4-.92-.59-1.43-.59-.52 0-1.04.2-1.43.59L10.3 9.45l-7.72 7.72c-.78.78-.78 2.05 0 2.83L4 21.41c.39.39.9.59 1.41.59.51 0 1.02-.2 1.41-.59l7.78-7.78 2.81-2.81c.8-.78.8-2.07 0-2.86zM5.41 20L4 18.59l7.72-7.72 1.47 1.35L5.41 20z\"/>\n",
              "  </svg>\n",
              "      </button>\n",
              "      \n",
              "  <style>\n",
              "    .colab-df-container {\n",
              "      display:flex;\n",
              "      flex-wrap:wrap;\n",
              "      gap: 12px;\n",
              "    }\n",
              "\n",
              "    .colab-df-convert {\n",
              "      background-color: #E8F0FE;\n",
              "      border: none;\n",
              "      border-radius: 50%;\n",
              "      cursor: pointer;\n",
              "      display: none;\n",
              "      fill: #1967D2;\n",
              "      height: 32px;\n",
              "      padding: 0 0 0 0;\n",
              "      width: 32px;\n",
              "    }\n",
              "\n",
              "    .colab-df-convert:hover {\n",
              "      background-color: #E2EBFA;\n",
              "      box-shadow: 0px 1px 2px rgba(60, 64, 67, 0.3), 0px 1px 3px 1px rgba(60, 64, 67, 0.15);\n",
              "      fill: #174EA6;\n",
              "    }\n",
              "\n",
              "    [theme=dark] .colab-df-convert {\n",
              "      background-color: #3B4455;\n",
              "      fill: #D2E3FC;\n",
              "    }\n",
              "\n",
              "    [theme=dark] .colab-df-convert:hover {\n",
              "      background-color: #434B5C;\n",
              "      box-shadow: 0px 1px 3px 1px rgba(0, 0, 0, 0.15);\n",
              "      filter: drop-shadow(0px 1px 2px rgba(0, 0, 0, 0.3));\n",
              "      fill: #FFFFFF;\n",
              "    }\n",
              "  </style>\n",
              "\n",
              "      <script>\n",
              "        const buttonEl =\n",
              "          document.querySelector('#df-17826497-e95b-4b1b-97f8-79e68de4d1f8 button.colab-df-convert');\n",
              "        buttonEl.style.display =\n",
              "          google.colab.kernel.accessAllowed ? 'block' : 'none';\n",
              "\n",
              "        async function convertToInteractive(key) {\n",
              "          const element = document.querySelector('#df-17826497-e95b-4b1b-97f8-79e68de4d1f8');\n",
              "          const dataTable =\n",
              "            await google.colab.kernel.invokeFunction('convertToInteractive',\n",
              "                                                     [key], {});\n",
              "          if (!dataTable) return;\n",
              "\n",
              "          const docLinkHtml = 'Like what you see? Visit the ' +\n",
              "            '<a target=\"_blank\" href=https://colab.research.google.com/notebooks/data_table.ipynb>data table notebook</a>'\n",
              "            + ' to learn more about interactive tables.';\n",
              "          element.innerHTML = '';\n",
              "          dataTable['output_type'] = 'display_data';\n",
              "          await google.colab.output.renderOutput(dataTable, element);\n",
              "          const docLink = document.createElement('div');\n",
              "          docLink.innerHTML = docLinkHtml;\n",
              "          element.appendChild(docLink);\n",
              "        }\n",
              "      </script>\n",
              "    </div>\n",
              "  </div>\n",
              "  "
            ]
          },
          "metadata": {},
          "execution_count": 220
        }
      ]
    },
    {
      "cell_type": "code",
      "source": [
        "housing_option3 = housing.copy()\n",
        "\n",
        "median = housing[\"total_bedrooms\"].median()\n",
        "housing_option3[\"total_bedrooms\"].fillna(median, inplace=True)  # 옵션 3\n",
        "\n",
        "housing_option3.loc[null_rows_idx].head()"
      ],
      "metadata": {
        "colab": {
          "base_uri": "https://localhost:8080/",
          "height": 206
        },
        "id": "8SuTehUKaSXs",
        "outputId": "ea4f8f5b-40ed-42e9-dfaa-fad2df012649"
      },
      "execution_count": 221,
      "outputs": [
        {
          "output_type": "execute_result",
          "data": {
            "text/plain": [
              "       longitude  latitude  housing_median_age  total_rooms  total_bedrooms  \\\n",
              "14452    -120.67     40.50                15.0       5343.0           434.0   \n",
              "18217    -117.96     34.03                35.0       2093.0           434.0   \n",
              "11889    -118.05     34.04                33.0       1348.0           434.0   \n",
              "20325    -118.88     34.17                15.0       4260.0           434.0   \n",
              "14360    -117.87     33.62                 8.0       1266.0           434.0   \n",
              "\n",
              "       population  households  median_income ocean_proximity  \n",
              "14452      2503.0       902.0         3.5962          INLAND  \n",
              "18217      1755.0       403.0         3.4115       <1H OCEAN  \n",
              "11889      1098.0       257.0         4.2917       <1H OCEAN  \n",
              "20325      1701.0       669.0         5.1033       <1H OCEAN  \n",
              "14360       375.0       183.0         9.8020       <1H OCEAN  "
            ],
            "text/html": [
              "\n",
              "  <div id=\"df-c2473f6f-cac8-4c8e-b4bd-e3e444c3f5ee\">\n",
              "    <div class=\"colab-df-container\">\n",
              "      <div>\n",
              "<style scoped>\n",
              "    .dataframe tbody tr th:only-of-type {\n",
              "        vertical-align: middle;\n",
              "    }\n",
              "\n",
              "    .dataframe tbody tr th {\n",
              "        vertical-align: top;\n",
              "    }\n",
              "\n",
              "    .dataframe thead th {\n",
              "        text-align: right;\n",
              "    }\n",
              "</style>\n",
              "<table border=\"1\" class=\"dataframe\">\n",
              "  <thead>\n",
              "    <tr style=\"text-align: right;\">\n",
              "      <th></th>\n",
              "      <th>longitude</th>\n",
              "      <th>latitude</th>\n",
              "      <th>housing_median_age</th>\n",
              "      <th>total_rooms</th>\n",
              "      <th>total_bedrooms</th>\n",
              "      <th>population</th>\n",
              "      <th>households</th>\n",
              "      <th>median_income</th>\n",
              "      <th>ocean_proximity</th>\n",
              "    </tr>\n",
              "  </thead>\n",
              "  <tbody>\n",
              "    <tr>\n",
              "      <th>14452</th>\n",
              "      <td>-120.67</td>\n",
              "      <td>40.50</td>\n",
              "      <td>15.0</td>\n",
              "      <td>5343.0</td>\n",
              "      <td>434.0</td>\n",
              "      <td>2503.0</td>\n",
              "      <td>902.0</td>\n",
              "      <td>3.5962</td>\n",
              "      <td>INLAND</td>\n",
              "    </tr>\n",
              "    <tr>\n",
              "      <th>18217</th>\n",
              "      <td>-117.96</td>\n",
              "      <td>34.03</td>\n",
              "      <td>35.0</td>\n",
              "      <td>2093.0</td>\n",
              "      <td>434.0</td>\n",
              "      <td>1755.0</td>\n",
              "      <td>403.0</td>\n",
              "      <td>3.4115</td>\n",
              "      <td>&lt;1H OCEAN</td>\n",
              "    </tr>\n",
              "    <tr>\n",
              "      <th>11889</th>\n",
              "      <td>-118.05</td>\n",
              "      <td>34.04</td>\n",
              "      <td>33.0</td>\n",
              "      <td>1348.0</td>\n",
              "      <td>434.0</td>\n",
              "      <td>1098.0</td>\n",
              "      <td>257.0</td>\n",
              "      <td>4.2917</td>\n",
              "      <td>&lt;1H OCEAN</td>\n",
              "    </tr>\n",
              "    <tr>\n",
              "      <th>20325</th>\n",
              "      <td>-118.88</td>\n",
              "      <td>34.17</td>\n",
              "      <td>15.0</td>\n",
              "      <td>4260.0</td>\n",
              "      <td>434.0</td>\n",
              "      <td>1701.0</td>\n",
              "      <td>669.0</td>\n",
              "      <td>5.1033</td>\n",
              "      <td>&lt;1H OCEAN</td>\n",
              "    </tr>\n",
              "    <tr>\n",
              "      <th>14360</th>\n",
              "      <td>-117.87</td>\n",
              "      <td>33.62</td>\n",
              "      <td>8.0</td>\n",
              "      <td>1266.0</td>\n",
              "      <td>434.0</td>\n",
              "      <td>375.0</td>\n",
              "      <td>183.0</td>\n",
              "      <td>9.8020</td>\n",
              "      <td>&lt;1H OCEAN</td>\n",
              "    </tr>\n",
              "  </tbody>\n",
              "</table>\n",
              "</div>\n",
              "      <button class=\"colab-df-convert\" onclick=\"convertToInteractive('df-c2473f6f-cac8-4c8e-b4bd-e3e444c3f5ee')\"\n",
              "              title=\"Convert this dataframe to an interactive table.\"\n",
              "              style=\"display:none;\">\n",
              "        \n",
              "  <svg xmlns=\"http://www.w3.org/2000/svg\" height=\"24px\"viewBox=\"0 0 24 24\"\n",
              "       width=\"24px\">\n",
              "    <path d=\"M0 0h24v24H0V0z\" fill=\"none\"/>\n",
              "    <path d=\"M18.56 5.44l.94 2.06.94-2.06 2.06-.94-2.06-.94-.94-2.06-.94 2.06-2.06.94zm-11 1L8.5 8.5l.94-2.06 2.06-.94-2.06-.94L8.5 2.5l-.94 2.06-2.06.94zm10 10l.94 2.06.94-2.06 2.06-.94-2.06-.94-.94-2.06-.94 2.06-2.06.94z\"/><path d=\"M17.41 7.96l-1.37-1.37c-.4-.4-.92-.59-1.43-.59-.52 0-1.04.2-1.43.59L10.3 9.45l-7.72 7.72c-.78.78-.78 2.05 0 2.83L4 21.41c.39.39.9.59 1.41.59.51 0 1.02-.2 1.41-.59l7.78-7.78 2.81-2.81c.8-.78.8-2.07 0-2.86zM5.41 20L4 18.59l7.72-7.72 1.47 1.35L5.41 20z\"/>\n",
              "  </svg>\n",
              "      </button>\n",
              "      \n",
              "  <style>\n",
              "    .colab-df-container {\n",
              "      display:flex;\n",
              "      flex-wrap:wrap;\n",
              "      gap: 12px;\n",
              "    }\n",
              "\n",
              "    .colab-df-convert {\n",
              "      background-color: #E8F0FE;\n",
              "      border: none;\n",
              "      border-radius: 50%;\n",
              "      cursor: pointer;\n",
              "      display: none;\n",
              "      fill: #1967D2;\n",
              "      height: 32px;\n",
              "      padding: 0 0 0 0;\n",
              "      width: 32px;\n",
              "    }\n",
              "\n",
              "    .colab-df-convert:hover {\n",
              "      background-color: #E2EBFA;\n",
              "      box-shadow: 0px 1px 2px rgba(60, 64, 67, 0.3), 0px 1px 3px 1px rgba(60, 64, 67, 0.15);\n",
              "      fill: #174EA6;\n",
              "    }\n",
              "\n",
              "    [theme=dark] .colab-df-convert {\n",
              "      background-color: #3B4455;\n",
              "      fill: #D2E3FC;\n",
              "    }\n",
              "\n",
              "    [theme=dark] .colab-df-convert:hover {\n",
              "      background-color: #434B5C;\n",
              "      box-shadow: 0px 1px 3px 1px rgba(0, 0, 0, 0.15);\n",
              "      filter: drop-shadow(0px 1px 2px rgba(0, 0, 0, 0.3));\n",
              "      fill: #FFFFFF;\n",
              "    }\n",
              "  </style>\n",
              "\n",
              "      <script>\n",
              "        const buttonEl =\n",
              "          document.querySelector('#df-c2473f6f-cac8-4c8e-b4bd-e3e444c3f5ee button.colab-df-convert');\n",
              "        buttonEl.style.display =\n",
              "          google.colab.kernel.accessAllowed ? 'block' : 'none';\n",
              "\n",
              "        async function convertToInteractive(key) {\n",
              "          const element = document.querySelector('#df-c2473f6f-cac8-4c8e-b4bd-e3e444c3f5ee');\n",
              "          const dataTable =\n",
              "            await google.colab.kernel.invokeFunction('convertToInteractive',\n",
              "                                                     [key], {});\n",
              "          if (!dataTable) return;\n",
              "\n",
              "          const docLinkHtml = 'Like what you see? Visit the ' +\n",
              "            '<a target=\"_blank\" href=https://colab.research.google.com/notebooks/data_table.ipynb>data table notebook</a>'\n",
              "            + ' to learn more about interactive tables.';\n",
              "          element.innerHTML = '';\n",
              "          dataTable['output_type'] = 'display_data';\n",
              "          await google.colab.output.renderOutput(dataTable, element);\n",
              "          const docLink = document.createElement('div');\n",
              "          docLink.innerHTML = docLinkHtml;\n",
              "          element.appendChild(docLink);\n",
              "        }\n",
              "      </script>\n",
              "    </div>\n",
              "  </div>\n",
              "  "
            ]
          },
          "metadata": {},
          "execution_count": 221
        }
      ]
    },
    {
      "cell_type": "code",
      "source": [
        "from sklearn.impute import SimpleImputer\n",
        "\n",
        "imputer = SimpleImputer(strategy=\"median\")"
      ],
      "metadata": {
        "id": "C50RQbLwaUAl"
      },
      "execution_count": 222,
      "outputs": []
    },
    {
      "cell_type": "code",
      "source": [
        "housing_num = housing.select_dtypes(include=[np.number])"
      ],
      "metadata": {
        "id": "eAHKbLGLaVPw"
      },
      "execution_count": 223,
      "outputs": []
    },
    {
      "cell_type": "code",
      "source": [
        "imputer.fit(housing_num)\n",
        "\n",
        "imputer.statistics_"
      ],
      "metadata": {
        "colab": {
          "base_uri": "https://localhost:8080/"
        },
        "id": "y_TPYIZhaWML",
        "outputId": "247b9c55-2443-4af5-dad4-154108f1fddd"
      },
      "execution_count": 224,
      "outputs": [
        {
          "output_type": "execute_result",
          "data": {
            "text/plain": [
              "array([-118.51  ,   34.26  ,   29.    , 2125.    ,  434.    , 1167.    ,\n",
              "        408.    ,    3.5385])"
            ]
          },
          "metadata": {},
          "execution_count": 224
        }
      ]
    },
    {
      "cell_type": "code",
      "source": [
        "housing_num.median().values"
      ],
      "metadata": {
        "colab": {
          "base_uri": "https://localhost:8080/"
        },
        "id": "G4vnhtUXaW_q",
        "outputId": "e47b0655-2237-43c8-df0c-cbb908d44100"
      },
      "execution_count": 225,
      "outputs": [
        {
          "output_type": "execute_result",
          "data": {
            "text/plain": [
              "array([-118.51  ,   34.26  ,   29.    , 2125.    ,  434.    , 1167.    ,\n",
              "        408.    ,    3.5385])"
            ]
          },
          "metadata": {},
          "execution_count": 225
        }
      ]
    },
    {
      "cell_type": "code",
      "source": [
        "X = imputer.transform(housing_num)\n",
        "X"
      ],
      "metadata": {
        "colab": {
          "base_uri": "https://localhost:8080/"
        },
        "id": "hbPTYnexaYbp",
        "outputId": "c9c8d7d0-1cbb-4c34-d360-c0aaeea50d50"
      },
      "execution_count": 226,
      "outputs": [
        {
          "output_type": "execute_result",
          "data": {
            "text/plain": [
              "array([[-1.2242e+02,  3.7800e+01,  5.2000e+01, ...,  1.5760e+03,\n",
              "         1.0340e+03,  2.0987e+00],\n",
              "       [-1.1838e+02,  3.4140e+01,  4.0000e+01, ...,  6.6600e+02,\n",
              "         3.5700e+02,  6.0876e+00],\n",
              "       [-1.2198e+02,  3.8360e+01,  3.3000e+01, ...,  5.6200e+02,\n",
              "         2.0300e+02,  2.4330e+00],\n",
              "       ...,\n",
              "       [-1.1706e+02,  3.2590e+01,  1.3000e+01, ...,  2.8140e+03,\n",
              "         7.6000e+02,  4.0616e+00],\n",
              "       [-1.1840e+02,  3.4060e+01,  3.7000e+01, ...,  1.7250e+03,\n",
              "         8.3800e+02,  4.1455e+00],\n",
              "       [-1.2241e+02,  3.7660e+01,  4.4000e+01, ...,  6.8200e+02,\n",
              "         2.1200e+02,  3.2833e+00]])"
            ]
          },
          "metadata": {},
          "execution_count": 226
        }
      ]
    },
    {
      "cell_type": "code",
      "source": [
        "housing_tr = pd.DataFrame(X, columns=housing_num.columns,\n",
        "                          index=housing_num.index)\n",
        "\n",
        "housing_tr.loc[null_rows_idx].head()"
      ],
      "metadata": {
        "colab": {
          "base_uri": "https://localhost:8080/",
          "height": 206
        },
        "id": "QnQc8rsZaZ_U",
        "outputId": "cea3351f-afdb-4ef8-88ec-3d5086a49bf6"
      },
      "execution_count": 227,
      "outputs": [
        {
          "output_type": "execute_result",
          "data": {
            "text/plain": [
              "       longitude  latitude  housing_median_age  total_rooms  total_bedrooms  \\\n",
              "14452    -120.67     40.50                15.0       5343.0           434.0   \n",
              "18217    -117.96     34.03                35.0       2093.0           434.0   \n",
              "11889    -118.05     34.04                33.0       1348.0           434.0   \n",
              "20325    -118.88     34.17                15.0       4260.0           434.0   \n",
              "14360    -117.87     33.62                 8.0       1266.0           434.0   \n",
              "\n",
              "       population  households  median_income  \n",
              "14452      2503.0       902.0         3.5962  \n",
              "18217      1755.0       403.0         3.4115  \n",
              "11889      1098.0       257.0         4.2917  \n",
              "20325      1701.0       669.0         5.1033  \n",
              "14360       375.0       183.0         9.8020  "
            ],
            "text/html": [
              "\n",
              "  <div id=\"df-616e63d2-a68b-4faa-b666-711134fa8d54\">\n",
              "    <div class=\"colab-df-container\">\n",
              "      <div>\n",
              "<style scoped>\n",
              "    .dataframe tbody tr th:only-of-type {\n",
              "        vertical-align: middle;\n",
              "    }\n",
              "\n",
              "    .dataframe tbody tr th {\n",
              "        vertical-align: top;\n",
              "    }\n",
              "\n",
              "    .dataframe thead th {\n",
              "        text-align: right;\n",
              "    }\n",
              "</style>\n",
              "<table border=\"1\" class=\"dataframe\">\n",
              "  <thead>\n",
              "    <tr style=\"text-align: right;\">\n",
              "      <th></th>\n",
              "      <th>longitude</th>\n",
              "      <th>latitude</th>\n",
              "      <th>housing_median_age</th>\n",
              "      <th>total_rooms</th>\n",
              "      <th>total_bedrooms</th>\n",
              "      <th>population</th>\n",
              "      <th>households</th>\n",
              "      <th>median_income</th>\n",
              "    </tr>\n",
              "  </thead>\n",
              "  <tbody>\n",
              "    <tr>\n",
              "      <th>14452</th>\n",
              "      <td>-120.67</td>\n",
              "      <td>40.50</td>\n",
              "      <td>15.0</td>\n",
              "      <td>5343.0</td>\n",
              "      <td>434.0</td>\n",
              "      <td>2503.0</td>\n",
              "      <td>902.0</td>\n",
              "      <td>3.5962</td>\n",
              "    </tr>\n",
              "    <tr>\n",
              "      <th>18217</th>\n",
              "      <td>-117.96</td>\n",
              "      <td>34.03</td>\n",
              "      <td>35.0</td>\n",
              "      <td>2093.0</td>\n",
              "      <td>434.0</td>\n",
              "      <td>1755.0</td>\n",
              "      <td>403.0</td>\n",
              "      <td>3.4115</td>\n",
              "    </tr>\n",
              "    <tr>\n",
              "      <th>11889</th>\n",
              "      <td>-118.05</td>\n",
              "      <td>34.04</td>\n",
              "      <td>33.0</td>\n",
              "      <td>1348.0</td>\n",
              "      <td>434.0</td>\n",
              "      <td>1098.0</td>\n",
              "      <td>257.0</td>\n",
              "      <td>4.2917</td>\n",
              "    </tr>\n",
              "    <tr>\n",
              "      <th>20325</th>\n",
              "      <td>-118.88</td>\n",
              "      <td>34.17</td>\n",
              "      <td>15.0</td>\n",
              "      <td>4260.0</td>\n",
              "      <td>434.0</td>\n",
              "      <td>1701.0</td>\n",
              "      <td>669.0</td>\n",
              "      <td>5.1033</td>\n",
              "    </tr>\n",
              "    <tr>\n",
              "      <th>14360</th>\n",
              "      <td>-117.87</td>\n",
              "      <td>33.62</td>\n",
              "      <td>8.0</td>\n",
              "      <td>1266.0</td>\n",
              "      <td>434.0</td>\n",
              "      <td>375.0</td>\n",
              "      <td>183.0</td>\n",
              "      <td>9.8020</td>\n",
              "    </tr>\n",
              "  </tbody>\n",
              "</table>\n",
              "</div>\n",
              "      <button class=\"colab-df-convert\" onclick=\"convertToInteractive('df-616e63d2-a68b-4faa-b666-711134fa8d54')\"\n",
              "              title=\"Convert this dataframe to an interactive table.\"\n",
              "              style=\"display:none;\">\n",
              "        \n",
              "  <svg xmlns=\"http://www.w3.org/2000/svg\" height=\"24px\"viewBox=\"0 0 24 24\"\n",
              "       width=\"24px\">\n",
              "    <path d=\"M0 0h24v24H0V0z\" fill=\"none\"/>\n",
              "    <path d=\"M18.56 5.44l.94 2.06.94-2.06 2.06-.94-2.06-.94-.94-2.06-.94 2.06-2.06.94zm-11 1L8.5 8.5l.94-2.06 2.06-.94-2.06-.94L8.5 2.5l-.94 2.06-2.06.94zm10 10l.94 2.06.94-2.06 2.06-.94-2.06-.94-.94-2.06-.94 2.06-2.06.94z\"/><path d=\"M17.41 7.96l-1.37-1.37c-.4-.4-.92-.59-1.43-.59-.52 0-1.04.2-1.43.59L10.3 9.45l-7.72 7.72c-.78.78-.78 2.05 0 2.83L4 21.41c.39.39.9.59 1.41.59.51 0 1.02-.2 1.41-.59l7.78-7.78 2.81-2.81c.8-.78.8-2.07 0-2.86zM5.41 20L4 18.59l7.72-7.72 1.47 1.35L5.41 20z\"/>\n",
              "  </svg>\n",
              "      </button>\n",
              "      \n",
              "  <style>\n",
              "    .colab-df-container {\n",
              "      display:flex;\n",
              "      flex-wrap:wrap;\n",
              "      gap: 12px;\n",
              "    }\n",
              "\n",
              "    .colab-df-convert {\n",
              "      background-color: #E8F0FE;\n",
              "      border: none;\n",
              "      border-radius: 50%;\n",
              "      cursor: pointer;\n",
              "      display: none;\n",
              "      fill: #1967D2;\n",
              "      height: 32px;\n",
              "      padding: 0 0 0 0;\n",
              "      width: 32px;\n",
              "    }\n",
              "\n",
              "    .colab-df-convert:hover {\n",
              "      background-color: #E2EBFA;\n",
              "      box-shadow: 0px 1px 2px rgba(60, 64, 67, 0.3), 0px 1px 3px 1px rgba(60, 64, 67, 0.15);\n",
              "      fill: #174EA6;\n",
              "    }\n",
              "\n",
              "    [theme=dark] .colab-df-convert {\n",
              "      background-color: #3B4455;\n",
              "      fill: #D2E3FC;\n",
              "    }\n",
              "\n",
              "    [theme=dark] .colab-df-convert:hover {\n",
              "      background-color: #434B5C;\n",
              "      box-shadow: 0px 1px 3px 1px rgba(0, 0, 0, 0.15);\n",
              "      filter: drop-shadow(0px 1px 2px rgba(0, 0, 0, 0.3));\n",
              "      fill: #FFFFFF;\n",
              "    }\n",
              "  </style>\n",
              "\n",
              "      <script>\n",
              "        const buttonEl =\n",
              "          document.querySelector('#df-616e63d2-a68b-4faa-b666-711134fa8d54 button.colab-df-convert');\n",
              "        buttonEl.style.display =\n",
              "          google.colab.kernel.accessAllowed ? 'block' : 'none';\n",
              "\n",
              "        async function convertToInteractive(key) {\n",
              "          const element = document.querySelector('#df-616e63d2-a68b-4faa-b666-711134fa8d54');\n",
              "          const dataTable =\n",
              "            await google.colab.kernel.invokeFunction('convertToInteractive',\n",
              "                                                     [key], {});\n",
              "          if (!dataTable) return;\n",
              "\n",
              "          const docLinkHtml = 'Like what you see? Visit the ' +\n",
              "            '<a target=\"_blank\" href=https://colab.research.google.com/notebooks/data_table.ipynb>data table notebook</a>'\n",
              "            + ' to learn more about interactive tables.';\n",
              "          element.innerHTML = '';\n",
              "          dataTable['output_type'] = 'display_data';\n",
              "          await google.colab.output.renderOutput(dataTable, element);\n",
              "          const docLink = document.createElement('div');\n",
              "          docLink.innerHTML = docLinkHtml;\n",
              "          element.appendChild(docLink);\n",
              "        }\n",
              "      </script>\n",
              "    </div>\n",
              "  </div>\n",
              "  "
            ]
          },
          "metadata": {},
          "execution_count": 227
        }
      ]
    },
    {
      "cell_type": "code",
      "source": [
        "pd.unique(housing[\"ocean_proximity\"])"
      ],
      "metadata": {
        "colab": {
          "base_uri": "https://localhost:8080/"
        },
        "id": "7Rq6iN1bac63",
        "outputId": "5a3061be-7267-4e71-e8da-1ea8c17008f5"
      },
      "execution_count": 228,
      "outputs": [
        {
          "output_type": "execute_result",
          "data": {
            "text/plain": [
              "array(['NEAR BAY', '<1H OCEAN', 'INLAND', 'NEAR OCEAN', 'ISLAND'],\n",
              "      dtype=object)"
            ]
          },
          "metadata": {},
          "execution_count": 228
        }
      ]
    },
    {
      "cell_type": "code",
      "source": [
        "housing_cat = housing[[\"ocean_proximity\"]]"
      ],
      "metadata": {
        "id": "7gNStQHDadTV"
      },
      "execution_count": 229,
      "outputs": []
    },
    {
      "cell_type": "code",
      "source": [
        "from sklearn.preprocessing import OrdinalEncoder\n",
        "\n",
        "ordinal_encoder = OrdinalEncoder()\n",
        "housing_cat_encoded = ordinal_encoder.fit_transform(housing_cat)"
      ],
      "metadata": {
        "id": "Nrqr_ZXjafoq"
      },
      "execution_count": 230,
      "outputs": []
    },
    {
      "cell_type": "code",
      "source": [
        "housing_cat_encoded[:5]"
      ],
      "metadata": {
        "colab": {
          "base_uri": "https://localhost:8080/"
        },
        "id": "kcVFxG7hagO5",
        "outputId": "249d7141-bd28-49b6-bb04-1a61a15f1fae"
      },
      "execution_count": 231,
      "outputs": [
        {
          "output_type": "execute_result",
          "data": {
            "text/plain": [
              "array([[3.],\n",
              "       [0.],\n",
              "       [1.],\n",
              "       [1.],\n",
              "       [4.]])"
            ]
          },
          "metadata": {},
          "execution_count": 231
        }
      ]
    },
    {
      "cell_type": "code",
      "source": [
        "from sklearn.preprocessing import OneHotEncoder\n",
        "\n",
        "cat_encoder = OneHotEncoder()\n",
        "housing_cat_1hot = cat_encoder.fit_transform(housing_cat)"
      ],
      "metadata": {
        "id": "kRvaJKWXaivS"
      },
      "execution_count": 232,
      "outputs": []
    },
    {
      "cell_type": "code",
      "source": [
        "housing_cat_1hot"
      ],
      "metadata": {
        "colab": {
          "base_uri": "https://localhost:8080/"
        },
        "id": "SPf9PP4yajQM",
        "outputId": "ac4cd60c-cc35-4af9-86cc-34852a7d3354"
      },
      "execution_count": 233,
      "outputs": [
        {
          "output_type": "execute_result",
          "data": {
            "text/plain": [
              "<16512x5 sparse matrix of type '<class 'numpy.float64'>'\n",
              "\twith 16512 stored elements in Compressed Sparse Row format>"
            ]
          },
          "metadata": {},
          "execution_count": 233
        }
      ]
    },
    {
      "cell_type": "code",
      "source": [
        "housing_cat_1hot.toarray()"
      ],
      "metadata": {
        "colab": {
          "base_uri": "https://localhost:8080/"
        },
        "id": "nvQpOAIGalFh",
        "outputId": "2550c24f-c039-4a53-e966-8b7805726ae0"
      },
      "execution_count": 234,
      "outputs": [
        {
          "output_type": "execute_result",
          "data": {
            "text/plain": [
              "array([[0., 0., 0., 1., 0.],\n",
              "       [1., 0., 0., 0., 0.],\n",
              "       [0., 1., 0., 0., 0.],\n",
              "       ...,\n",
              "       [0., 0., 0., 0., 1.],\n",
              "       [1., 0., 0., 0., 0.],\n",
              "       [0., 0., 0., 0., 1.]])"
            ]
          },
          "metadata": {},
          "execution_count": 234
        }
      ]
    },
    {
      "cell_type": "code",
      "source": [
        "cat_encoder = OneHotEncoder(sparse=False)\n",
        "housing_cat_1hot = cat_encoder.fit_transform(housing_cat)\n",
        "housing_cat_1hot"
      ],
      "metadata": {
        "colab": {
          "base_uri": "https://localhost:8080/"
        },
        "id": "OOExudLUal7X",
        "outputId": "0352cc15-eb4a-442e-9922-ea4211aa65ba"
      },
      "execution_count": 235,
      "outputs": [
        {
          "output_type": "execute_result",
          "data": {
            "text/plain": [
              "array([[0., 0., 0., 1., 0.],\n",
              "       [1., 0., 0., 0., 0.],\n",
              "       [0., 1., 0., 0., 0.],\n",
              "       ...,\n",
              "       [0., 0., 0., 0., 1.],\n",
              "       [1., 0., 0., 0., 0.],\n",
              "       [0., 0., 0., 0., 1.]])"
            ]
          },
          "metadata": {},
          "execution_count": 235
        }
      ]
    },
    {
      "cell_type": "code",
      "source": [
        "cat_encoder.categories_"
      ],
      "metadata": {
        "colab": {
          "base_uri": "https://localhost:8080/"
        },
        "id": "9gkZ-o0nam4A",
        "outputId": "3d15ac85-40ec-4abe-a894-b745a044f06d"
      },
      "execution_count": 236,
      "outputs": [
        {
          "output_type": "execute_result",
          "data": {
            "text/plain": [
              "[array(['<1H OCEAN', 'INLAND', 'ISLAND', 'NEAR BAY', 'NEAR OCEAN'],\n",
              "       dtype=object)]"
            ]
          },
          "metadata": {},
          "execution_count": 236
        }
      ]
    },
    {
      "cell_type": "code",
      "source": [
        "cat_encoder.feature_names_in_"
      ],
      "metadata": {
        "colab": {
          "base_uri": "https://localhost:8080/"
        },
        "id": "th-IZDzKanwS",
        "outputId": "ca25d94c-6eba-497f-99ee-3e3ff83697e4"
      },
      "execution_count": 237,
      "outputs": [
        {
          "output_type": "execute_result",
          "data": {
            "text/plain": [
              "array(['ocean_proximity'], dtype=object)"
            ]
          },
          "metadata": {},
          "execution_count": 237
        }
      ]
    },
    {
      "cell_type": "code",
      "source": [
        "cat_encoder.get_feature_names_out()"
      ],
      "metadata": {
        "colab": {
          "base_uri": "https://localhost:8080/"
        },
        "id": "saxKLVn_ao2l",
        "outputId": "dc247585-d0c1-4951-93e6-8019b270f66c"
      },
      "execution_count": 238,
      "outputs": [
        {
          "output_type": "execute_result",
          "data": {
            "text/plain": [
              "array(['ocean_proximity_<1H OCEAN', 'ocean_proximity_INLAND',\n",
              "       'ocean_proximity_ISLAND', 'ocean_proximity_NEAR BAY',\n",
              "       'ocean_proximity_NEAR OCEAN'], dtype=object)"
            ]
          },
          "metadata": {},
          "execution_count": 238
        }
      ]
    },
    {
      "cell_type": "code",
      "source": [
        "df_output = pd.DataFrame(housing_cat_1hot,\n",
        "                         columns=cat_encoder.get_feature_names_out(),\n",
        "                         index=housing_cat.index)\n",
        "\n",
        "df_output.head()"
      ],
      "metadata": {
        "colab": {
          "base_uri": "https://localhost:8080/",
          "height": 206
        },
        "id": "NReOrBxTap7u",
        "outputId": "16896c6a-8ae3-4d17-d843-3302f9c25812"
      },
      "execution_count": 239,
      "outputs": [
        {
          "output_type": "execute_result",
          "data": {
            "text/plain": [
              "       ocean_proximity_<1H OCEAN  ocean_proximity_INLAND  \\\n",
              "13096                        0.0                     0.0   \n",
              "14973                        1.0                     0.0   \n",
              "3785                         0.0                     1.0   \n",
              "14689                        0.0                     1.0   \n",
              "20507                        0.0                     0.0   \n",
              "\n",
              "       ocean_proximity_ISLAND  ocean_proximity_NEAR BAY  \\\n",
              "13096                     0.0                       1.0   \n",
              "14973                     0.0                       0.0   \n",
              "3785                      0.0                       0.0   \n",
              "14689                     0.0                       0.0   \n",
              "20507                     0.0                       0.0   \n",
              "\n",
              "       ocean_proximity_NEAR OCEAN  \n",
              "13096                         0.0  \n",
              "14973                         0.0  \n",
              "3785                          0.0  \n",
              "14689                         0.0  \n",
              "20507                         1.0  "
            ],
            "text/html": [
              "\n",
              "  <div id=\"df-38005d11-6c2e-4d7c-8bb6-b6a37d083447\">\n",
              "    <div class=\"colab-df-container\">\n",
              "      <div>\n",
              "<style scoped>\n",
              "    .dataframe tbody tr th:only-of-type {\n",
              "        vertical-align: middle;\n",
              "    }\n",
              "\n",
              "    .dataframe tbody tr th {\n",
              "        vertical-align: top;\n",
              "    }\n",
              "\n",
              "    .dataframe thead th {\n",
              "        text-align: right;\n",
              "    }\n",
              "</style>\n",
              "<table border=\"1\" class=\"dataframe\">\n",
              "  <thead>\n",
              "    <tr style=\"text-align: right;\">\n",
              "      <th></th>\n",
              "      <th>ocean_proximity_&lt;1H OCEAN</th>\n",
              "      <th>ocean_proximity_INLAND</th>\n",
              "      <th>ocean_proximity_ISLAND</th>\n",
              "      <th>ocean_proximity_NEAR BAY</th>\n",
              "      <th>ocean_proximity_NEAR OCEAN</th>\n",
              "    </tr>\n",
              "  </thead>\n",
              "  <tbody>\n",
              "    <tr>\n",
              "      <th>13096</th>\n",
              "      <td>0.0</td>\n",
              "      <td>0.0</td>\n",
              "      <td>0.0</td>\n",
              "      <td>1.0</td>\n",
              "      <td>0.0</td>\n",
              "    </tr>\n",
              "    <tr>\n",
              "      <th>14973</th>\n",
              "      <td>1.0</td>\n",
              "      <td>0.0</td>\n",
              "      <td>0.0</td>\n",
              "      <td>0.0</td>\n",
              "      <td>0.0</td>\n",
              "    </tr>\n",
              "    <tr>\n",
              "      <th>3785</th>\n",
              "      <td>0.0</td>\n",
              "      <td>1.0</td>\n",
              "      <td>0.0</td>\n",
              "      <td>0.0</td>\n",
              "      <td>0.0</td>\n",
              "    </tr>\n",
              "    <tr>\n",
              "      <th>14689</th>\n",
              "      <td>0.0</td>\n",
              "      <td>1.0</td>\n",
              "      <td>0.0</td>\n",
              "      <td>0.0</td>\n",
              "      <td>0.0</td>\n",
              "    </tr>\n",
              "    <tr>\n",
              "      <th>20507</th>\n",
              "      <td>0.0</td>\n",
              "      <td>0.0</td>\n",
              "      <td>0.0</td>\n",
              "      <td>0.0</td>\n",
              "      <td>1.0</td>\n",
              "    </tr>\n",
              "  </tbody>\n",
              "</table>\n",
              "</div>\n",
              "      <button class=\"colab-df-convert\" onclick=\"convertToInteractive('df-38005d11-6c2e-4d7c-8bb6-b6a37d083447')\"\n",
              "              title=\"Convert this dataframe to an interactive table.\"\n",
              "              style=\"display:none;\">\n",
              "        \n",
              "  <svg xmlns=\"http://www.w3.org/2000/svg\" height=\"24px\"viewBox=\"0 0 24 24\"\n",
              "       width=\"24px\">\n",
              "    <path d=\"M0 0h24v24H0V0z\" fill=\"none\"/>\n",
              "    <path d=\"M18.56 5.44l.94 2.06.94-2.06 2.06-.94-2.06-.94-.94-2.06-.94 2.06-2.06.94zm-11 1L8.5 8.5l.94-2.06 2.06-.94-2.06-.94L8.5 2.5l-.94 2.06-2.06.94zm10 10l.94 2.06.94-2.06 2.06-.94-2.06-.94-.94-2.06-.94 2.06-2.06.94z\"/><path d=\"M17.41 7.96l-1.37-1.37c-.4-.4-.92-.59-1.43-.59-.52 0-1.04.2-1.43.59L10.3 9.45l-7.72 7.72c-.78.78-.78 2.05 0 2.83L4 21.41c.39.39.9.59 1.41.59.51 0 1.02-.2 1.41-.59l7.78-7.78 2.81-2.81c.8-.78.8-2.07 0-2.86zM5.41 20L4 18.59l7.72-7.72 1.47 1.35L5.41 20z\"/>\n",
              "  </svg>\n",
              "      </button>\n",
              "      \n",
              "  <style>\n",
              "    .colab-df-container {\n",
              "      display:flex;\n",
              "      flex-wrap:wrap;\n",
              "      gap: 12px;\n",
              "    }\n",
              "\n",
              "    .colab-df-convert {\n",
              "      background-color: #E8F0FE;\n",
              "      border: none;\n",
              "      border-radius: 50%;\n",
              "      cursor: pointer;\n",
              "      display: none;\n",
              "      fill: #1967D2;\n",
              "      height: 32px;\n",
              "      padding: 0 0 0 0;\n",
              "      width: 32px;\n",
              "    }\n",
              "\n",
              "    .colab-df-convert:hover {\n",
              "      background-color: #E2EBFA;\n",
              "      box-shadow: 0px 1px 2px rgba(60, 64, 67, 0.3), 0px 1px 3px 1px rgba(60, 64, 67, 0.15);\n",
              "      fill: #174EA6;\n",
              "    }\n",
              "\n",
              "    [theme=dark] .colab-df-convert {\n",
              "      background-color: #3B4455;\n",
              "      fill: #D2E3FC;\n",
              "    }\n",
              "\n",
              "    [theme=dark] .colab-df-convert:hover {\n",
              "      background-color: #434B5C;\n",
              "      box-shadow: 0px 1px 3px 1px rgba(0, 0, 0, 0.15);\n",
              "      filter: drop-shadow(0px 1px 2px rgba(0, 0, 0, 0.3));\n",
              "      fill: #FFFFFF;\n",
              "    }\n",
              "  </style>\n",
              "\n",
              "      <script>\n",
              "        const buttonEl =\n",
              "          document.querySelector('#df-38005d11-6c2e-4d7c-8bb6-b6a37d083447 button.colab-df-convert');\n",
              "        buttonEl.style.display =\n",
              "          google.colab.kernel.accessAllowed ? 'block' : 'none';\n",
              "\n",
              "        async function convertToInteractive(key) {\n",
              "          const element = document.querySelector('#df-38005d11-6c2e-4d7c-8bb6-b6a37d083447');\n",
              "          const dataTable =\n",
              "            await google.colab.kernel.invokeFunction('convertToInteractive',\n",
              "                                                     [key], {});\n",
              "          if (!dataTable) return;\n",
              "\n",
              "          const docLinkHtml = 'Like what you see? Visit the ' +\n",
              "            '<a target=\"_blank\" href=https://colab.research.google.com/notebooks/data_table.ipynb>data table notebook</a>'\n",
              "            + ' to learn more about interactive tables.';\n",
              "          element.innerHTML = '';\n",
              "          dataTable['output_type'] = 'display_data';\n",
              "          await google.colab.output.renderOutput(dataTable, element);\n",
              "          const docLink = document.createElement('div');\n",
              "          docLink.innerHTML = docLinkHtml;\n",
              "          element.appendChild(docLink);\n",
              "        }\n",
              "      </script>\n",
              "    </div>\n",
              "  </div>\n",
              "  "
            ]
          },
          "metadata": {},
          "execution_count": 239
        }
      ]
    },
    {
      "cell_type": "code",
      "source": [
        "from sklearn.preprocessing import MinMaxScaler\n",
        "\n",
        "min_max_scaler = MinMaxScaler(feature_range=(-1, 1))\n",
        "housing_num_min_max_scaled = min_max_scaler.fit_transform(housing_num)"
      ],
      "metadata": {
        "id": "NcDAYyvsarlv"
      },
      "execution_count": 240,
      "outputs": []
    },
    {
      "cell_type": "code",
      "source": [
        "from sklearn.preprocessing import StandardScaler\n",
        "\n",
        "std_scaler = StandardScaler()\n",
        "housing_num_std_scaled = std_scaler.fit_transform(housing_num)"
      ],
      "metadata": {
        "id": "7T3NN5pRasZm"
      },
      "execution_count": 241,
      "outputs": []
    },
    {
      "cell_type": "code",
      "source": [
        "from sklearn.preprocessing import FunctionTransformer\n",
        "\n",
        "log_transformer = FunctionTransformer(np.log, inverse_func=np.exp)\n",
        "log_pop = log_transformer.transform(housing[[\"population\"]])"
      ],
      "metadata": {
        "id": "4SoIfEKqatU9"
      },
      "execution_count": 242,
      "outputs": []
    },
    {
      "cell_type": "code",
      "source": [
        "ratio_transformer = FunctionTransformer(lambda X: X[:, [0]] / X[:, [1]])"
      ],
      "metadata": {
        "id": "Y7KXl0HhauiY"
      },
      "execution_count": 243,
      "outputs": []
    },
    {
      "cell_type": "code",
      "source": [
        "from sklearn.base import BaseEstimator, TransformerMixin\n",
        "from sklearn.cluster import KMeans\n",
        "from sklearn.metrics.pairwise import rbf_kernel\n",
        "\n",
        "class ClusterSimilarity(BaseEstimator, TransformerMixin):\n",
        "    def __init__(self, n_clusters=10, gamma=1.0, random_state=None):\n",
        "        self.n_clusters = n_clusters\n",
        "        self.gamma = gamma\n",
        "        self.random_state = random_state\n",
        "\n",
        "    # 군집화\n",
        "    def fit(self, X, y=None, sample_weight=None):\n",
        "        self.kmeans_ = KMeans(self.n_clusters, random_state=self.random_state)\n",
        "        self.kmeans_.fit(X, sample_weight=sample_weight)\n",
        "        return self  # fit() 함수의 반환값은 언제나 self!\n",
        "\n",
        "    # fit() 이 찾아낸 군집별 유사도를 새로운 특성으로 추가\n",
        "    def transform(self, X):\n",
        "        return rbf_kernel(X, self.kmeans_.cluster_centers_, gamma=self.gamma)\n",
        "    \n",
        "    # 새롭게 생성된 특성 이름\n",
        "    def get_feature_names_out(self, names=None):\n",
        "        return [f\"Cluster {i} similarity\" for i in range(self.n_clusters)]"
      ],
      "metadata": {
        "id": "L0YHfag_av4m"
      },
      "execution_count": 244,
      "outputs": []
    },
    {
      "cell_type": "code",
      "source": [
        "cluster_simil = ClusterSimilarity(n_clusters=10, gamma=1., random_state=42)\n",
        "similarities = cluster_simil.fit_transform(housing[[\"latitude\", \"longitude\"]],\n",
        "                                           sample_weight=housing_labels)"
      ],
      "metadata": {
        "id": "9kZxd58NayTy"
      },
      "execution_count": 245,
      "outputs": []
    },
    {
      "cell_type": "code",
      "source": [
        "similarities[:3].round(2)"
      ],
      "metadata": {
        "colab": {
          "base_uri": "https://localhost:8080/"
        },
        "id": "ped7cDdSaznW",
        "outputId": "8006a587-5b43-450c-cd22-d001a59474e9"
      },
      "execution_count": 246,
      "outputs": [
        {
          "output_type": "execute_result",
          "data": {
            "text/plain": [
              "array([[0.  , 0.14, 0.  , 0.  , 0.  , 0.08, 0.  , 0.99, 0.  , 0.6 ],\n",
              "       [0.63, 0.  , 0.99, 0.  , 0.  , 0.  , 0.04, 0.  , 0.11, 0.  ],\n",
              "       [0.  , 0.29, 0.  , 0.  , 0.01, 0.44, 0.  , 0.7 , 0.  , 0.3 ]])"
            ]
          },
          "metadata": {},
          "execution_count": 246
        }
      ]
    },
    {
      "cell_type": "code",
      "source": [
        "from sklearn.pipeline import Pipeline\n",
        "\n",
        "num_pipeline = Pipeline([\n",
        "    (\"impute\", SimpleImputer(strategy=\"median\")),\n",
        "    (\"standardize\", StandardScaler()),\n",
        "])"
      ],
      "metadata": {
        "id": "jMD9Vgjpa06B"
      },
      "execution_count": 247,
      "outputs": []
    },
    {
      "cell_type": "code",
      "source": [
        "from sklearn.pipeline import make_pipeline\n",
        "\n",
        "num_pipeline = make_pipeline(SimpleImputer(strategy=\"median\"), \n",
        "                             StandardScaler())"
      ],
      "metadata": {
        "id": "qX-xkqJfbgso"
      },
      "execution_count": 248,
      "outputs": []
    },
    {
      "cell_type": "code",
      "source": [
        "from sklearn import set_config\n",
        "\n",
        "set_config(display='diagram')"
      ],
      "metadata": {
        "id": "q1uihzdubhwM"
      },
      "execution_count": 249,
      "outputs": []
    },
    {
      "cell_type": "code",
      "source": [
        "num_pipeline"
      ],
      "metadata": {
        "colab": {
          "base_uri": "https://localhost:8080/",
          "height": 126
        },
        "id": "8aaS4bneboCo",
        "outputId": "11cbf58c-61e2-452d-92dc-048867ddcbe4"
      },
      "execution_count": 250,
      "outputs": [
        {
          "output_type": "execute_result",
          "data": {
            "text/plain": [
              "Pipeline(steps=[('simpleimputer', SimpleImputer(strategy='median')),\n",
              "                ('standardscaler', StandardScaler())])"
            ],
            "text/html": [
              "<style>#sk-915568d2-db88-4fc2-972d-e4c3af334f25 {color: black;background-color: white;}#sk-915568d2-db88-4fc2-972d-e4c3af334f25 pre{padding: 0;}#sk-915568d2-db88-4fc2-972d-e4c3af334f25 div.sk-toggleable {background-color: white;}#sk-915568d2-db88-4fc2-972d-e4c3af334f25 label.sk-toggleable__label {cursor: pointer;display: block;width: 100%;margin-bottom: 0;padding: 0.3em;box-sizing: border-box;text-align: center;}#sk-915568d2-db88-4fc2-972d-e4c3af334f25 label.sk-toggleable__label-arrow:before {content: \"▸\";float: left;margin-right: 0.25em;color: #696969;}#sk-915568d2-db88-4fc2-972d-e4c3af334f25 label.sk-toggleable__label-arrow:hover:before {color: black;}#sk-915568d2-db88-4fc2-972d-e4c3af334f25 div.sk-estimator:hover label.sk-toggleable__label-arrow:before {color: black;}#sk-915568d2-db88-4fc2-972d-e4c3af334f25 div.sk-toggleable__content {max-height: 0;max-width: 0;overflow: hidden;text-align: left;background-color: #f0f8ff;}#sk-915568d2-db88-4fc2-972d-e4c3af334f25 div.sk-toggleable__content pre {margin: 0.2em;color: black;border-radius: 0.25em;background-color: #f0f8ff;}#sk-915568d2-db88-4fc2-972d-e4c3af334f25 input.sk-toggleable__control:checked~div.sk-toggleable__content {max-height: 200px;max-width: 100%;overflow: auto;}#sk-915568d2-db88-4fc2-972d-e4c3af334f25 input.sk-toggleable__control:checked~label.sk-toggleable__label-arrow:before {content: \"▾\";}#sk-915568d2-db88-4fc2-972d-e4c3af334f25 div.sk-estimator input.sk-toggleable__control:checked~label.sk-toggleable__label {background-color: #d4ebff;}#sk-915568d2-db88-4fc2-972d-e4c3af334f25 div.sk-label input.sk-toggleable__control:checked~label.sk-toggleable__label {background-color: #d4ebff;}#sk-915568d2-db88-4fc2-972d-e4c3af334f25 input.sk-hidden--visually {border: 0;clip: rect(1px 1px 1px 1px);clip: rect(1px, 1px, 1px, 1px);height: 1px;margin: -1px;overflow: hidden;padding: 0;position: absolute;width: 1px;}#sk-915568d2-db88-4fc2-972d-e4c3af334f25 div.sk-estimator {font-family: monospace;background-color: #f0f8ff;border: 1px dotted black;border-radius: 0.25em;box-sizing: border-box;margin-bottom: 0.5em;}#sk-915568d2-db88-4fc2-972d-e4c3af334f25 div.sk-estimator:hover {background-color: #d4ebff;}#sk-915568d2-db88-4fc2-972d-e4c3af334f25 div.sk-parallel-item::after {content: \"\";width: 100%;border-bottom: 1px solid gray;flex-grow: 1;}#sk-915568d2-db88-4fc2-972d-e4c3af334f25 div.sk-label:hover label.sk-toggleable__label {background-color: #d4ebff;}#sk-915568d2-db88-4fc2-972d-e4c3af334f25 div.sk-serial::before {content: \"\";position: absolute;border-left: 1px solid gray;box-sizing: border-box;top: 2em;bottom: 0;left: 50%;}#sk-915568d2-db88-4fc2-972d-e4c3af334f25 div.sk-serial {display: flex;flex-direction: column;align-items: center;background-color: white;padding-right: 0.2em;padding-left: 0.2em;}#sk-915568d2-db88-4fc2-972d-e4c3af334f25 div.sk-item {z-index: 1;}#sk-915568d2-db88-4fc2-972d-e4c3af334f25 div.sk-parallel {display: flex;align-items: stretch;justify-content: center;background-color: white;}#sk-915568d2-db88-4fc2-972d-e4c3af334f25 div.sk-parallel::before {content: \"\";position: absolute;border-left: 1px solid gray;box-sizing: border-box;top: 2em;bottom: 0;left: 50%;}#sk-915568d2-db88-4fc2-972d-e4c3af334f25 div.sk-parallel-item {display: flex;flex-direction: column;position: relative;background-color: white;}#sk-915568d2-db88-4fc2-972d-e4c3af334f25 div.sk-parallel-item:first-child::after {align-self: flex-end;width: 50%;}#sk-915568d2-db88-4fc2-972d-e4c3af334f25 div.sk-parallel-item:last-child::after {align-self: flex-start;width: 50%;}#sk-915568d2-db88-4fc2-972d-e4c3af334f25 div.sk-parallel-item:only-child::after {width: 0;}#sk-915568d2-db88-4fc2-972d-e4c3af334f25 div.sk-dashed-wrapped {border: 1px dashed gray;margin: 0 0.4em 0.5em 0.4em;box-sizing: border-box;padding-bottom: 0.4em;background-color: white;position: relative;}#sk-915568d2-db88-4fc2-972d-e4c3af334f25 div.sk-label label {font-family: monospace;font-weight: bold;background-color: white;display: inline-block;line-height: 1.2em;}#sk-915568d2-db88-4fc2-972d-e4c3af334f25 div.sk-label-container {position: relative;z-index: 2;text-align: center;}#sk-915568d2-db88-4fc2-972d-e4c3af334f25 div.sk-container {/* jupyter's `normalize.less` sets `[hidden] { display: none; }` but bootstrap.min.css set `[hidden] { display: none !important; }` so we also need the `!important` here to be able to override the default hidden behavior on the sphinx rendered scikit-learn.org. See: https://github.com/scikit-learn/scikit-learn/issues/21755 */display: inline-block !important;position: relative;}#sk-915568d2-db88-4fc2-972d-e4c3af334f25 div.sk-text-repr-fallback {display: none;}</style><div id=\"sk-915568d2-db88-4fc2-972d-e4c3af334f25\" class=\"sk-top-container\"><div class=\"sk-text-repr-fallback\"><pre>Pipeline(steps=[(&#x27;simpleimputer&#x27;, SimpleImputer(strategy=&#x27;median&#x27;)),\n",
              "                (&#x27;standardscaler&#x27;, StandardScaler())])</pre><b>Please rerun this cell to show the HTML repr or trust the notebook.</b></div><div class=\"sk-container\" hidden><div class=\"sk-item sk-dashed-wrapped\"><div class=\"sk-label-container\"><div class=\"sk-label sk-toggleable\"><input class=\"sk-toggleable__control sk-hidden--visually\" id=\"5c57efc2-abff-4440-a14e-6698fc14817b\" type=\"checkbox\" ><label for=\"5c57efc2-abff-4440-a14e-6698fc14817b\" class=\"sk-toggleable__label sk-toggleable__label-arrow\">Pipeline</label><div class=\"sk-toggleable__content\"><pre>Pipeline(steps=[(&#x27;simpleimputer&#x27;, SimpleImputer(strategy=&#x27;median&#x27;)),\n",
              "                (&#x27;standardscaler&#x27;, StandardScaler())])</pre></div></div></div><div class=\"sk-serial\"><div class=\"sk-item\"><div class=\"sk-estimator sk-toggleable\"><input class=\"sk-toggleable__control sk-hidden--visually\" id=\"850075dc-1a4f-4719-81ac-b70c0762151e\" type=\"checkbox\" ><label for=\"850075dc-1a4f-4719-81ac-b70c0762151e\" class=\"sk-toggleable__label sk-toggleable__label-arrow\">SimpleImputer</label><div class=\"sk-toggleable__content\"><pre>SimpleImputer(strategy=&#x27;median&#x27;)</pre></div></div></div><div class=\"sk-item\"><div class=\"sk-estimator sk-toggleable\"><input class=\"sk-toggleable__control sk-hidden--visually\" id=\"c614deff-ebbe-44ac-804d-61e97a6c2d32\" type=\"checkbox\" ><label for=\"c614deff-ebbe-44ac-804d-61e97a6c2d32\" class=\"sk-toggleable__label sk-toggleable__label-arrow\">StandardScaler</label><div class=\"sk-toggleable__content\"><pre>StandardScaler()</pre></div></div></div></div></div></div></div>"
            ]
          },
          "metadata": {},
          "execution_count": 250
        }
      ]
    },
    {
      "cell_type": "code",
      "source": [
        "num_pipeline.steps"
      ],
      "metadata": {
        "colab": {
          "base_uri": "https://localhost:8080/"
        },
        "id": "-1AXB9gobqhu",
        "outputId": "50102c01-9f34-4cb8-a2dd-162599a9b3bd"
      },
      "execution_count": 251,
      "outputs": [
        {
          "output_type": "execute_result",
          "data": {
            "text/plain": [
              "[('simpleimputer', SimpleImputer(strategy='median')),\n",
              " ('standardscaler', StandardScaler())]"
            ]
          },
          "metadata": {},
          "execution_count": 251
        }
      ]
    },
    {
      "cell_type": "code",
      "source": [
        "num_pipeline[1]"
      ],
      "metadata": {
        "colab": {
          "base_uri": "https://localhost:8080/",
          "height": 75
        },
        "id": "8_BHJWZlbreF",
        "outputId": "d15d042d-0cfd-4788-f1a3-b0cf0eafca4d"
      },
      "execution_count": 252,
      "outputs": [
        {
          "output_type": "execute_result",
          "data": {
            "text/plain": [
              "StandardScaler()"
            ],
            "text/html": [
              "<style>#sk-724943e7-8546-4370-963e-57f15850d5b8 {color: black;background-color: white;}#sk-724943e7-8546-4370-963e-57f15850d5b8 pre{padding: 0;}#sk-724943e7-8546-4370-963e-57f15850d5b8 div.sk-toggleable {background-color: white;}#sk-724943e7-8546-4370-963e-57f15850d5b8 label.sk-toggleable__label {cursor: pointer;display: block;width: 100%;margin-bottom: 0;padding: 0.3em;box-sizing: border-box;text-align: center;}#sk-724943e7-8546-4370-963e-57f15850d5b8 label.sk-toggleable__label-arrow:before {content: \"▸\";float: left;margin-right: 0.25em;color: #696969;}#sk-724943e7-8546-4370-963e-57f15850d5b8 label.sk-toggleable__label-arrow:hover:before {color: black;}#sk-724943e7-8546-4370-963e-57f15850d5b8 div.sk-estimator:hover label.sk-toggleable__label-arrow:before {color: black;}#sk-724943e7-8546-4370-963e-57f15850d5b8 div.sk-toggleable__content {max-height: 0;max-width: 0;overflow: hidden;text-align: left;background-color: #f0f8ff;}#sk-724943e7-8546-4370-963e-57f15850d5b8 div.sk-toggleable__content pre {margin: 0.2em;color: black;border-radius: 0.25em;background-color: #f0f8ff;}#sk-724943e7-8546-4370-963e-57f15850d5b8 input.sk-toggleable__control:checked~div.sk-toggleable__content {max-height: 200px;max-width: 100%;overflow: auto;}#sk-724943e7-8546-4370-963e-57f15850d5b8 input.sk-toggleable__control:checked~label.sk-toggleable__label-arrow:before {content: \"▾\";}#sk-724943e7-8546-4370-963e-57f15850d5b8 div.sk-estimator input.sk-toggleable__control:checked~label.sk-toggleable__label {background-color: #d4ebff;}#sk-724943e7-8546-4370-963e-57f15850d5b8 div.sk-label input.sk-toggleable__control:checked~label.sk-toggleable__label {background-color: #d4ebff;}#sk-724943e7-8546-4370-963e-57f15850d5b8 input.sk-hidden--visually {border: 0;clip: rect(1px 1px 1px 1px);clip: rect(1px, 1px, 1px, 1px);height: 1px;margin: -1px;overflow: hidden;padding: 0;position: absolute;width: 1px;}#sk-724943e7-8546-4370-963e-57f15850d5b8 div.sk-estimator {font-family: monospace;background-color: #f0f8ff;border: 1px dotted black;border-radius: 0.25em;box-sizing: border-box;margin-bottom: 0.5em;}#sk-724943e7-8546-4370-963e-57f15850d5b8 div.sk-estimator:hover {background-color: #d4ebff;}#sk-724943e7-8546-4370-963e-57f15850d5b8 div.sk-parallel-item::after {content: \"\";width: 100%;border-bottom: 1px solid gray;flex-grow: 1;}#sk-724943e7-8546-4370-963e-57f15850d5b8 div.sk-label:hover label.sk-toggleable__label {background-color: #d4ebff;}#sk-724943e7-8546-4370-963e-57f15850d5b8 div.sk-serial::before {content: \"\";position: absolute;border-left: 1px solid gray;box-sizing: border-box;top: 2em;bottom: 0;left: 50%;}#sk-724943e7-8546-4370-963e-57f15850d5b8 div.sk-serial {display: flex;flex-direction: column;align-items: center;background-color: white;padding-right: 0.2em;padding-left: 0.2em;}#sk-724943e7-8546-4370-963e-57f15850d5b8 div.sk-item {z-index: 1;}#sk-724943e7-8546-4370-963e-57f15850d5b8 div.sk-parallel {display: flex;align-items: stretch;justify-content: center;background-color: white;}#sk-724943e7-8546-4370-963e-57f15850d5b8 div.sk-parallel::before {content: \"\";position: absolute;border-left: 1px solid gray;box-sizing: border-box;top: 2em;bottom: 0;left: 50%;}#sk-724943e7-8546-4370-963e-57f15850d5b8 div.sk-parallel-item {display: flex;flex-direction: column;position: relative;background-color: white;}#sk-724943e7-8546-4370-963e-57f15850d5b8 div.sk-parallel-item:first-child::after {align-self: flex-end;width: 50%;}#sk-724943e7-8546-4370-963e-57f15850d5b8 div.sk-parallel-item:last-child::after {align-self: flex-start;width: 50%;}#sk-724943e7-8546-4370-963e-57f15850d5b8 div.sk-parallel-item:only-child::after {width: 0;}#sk-724943e7-8546-4370-963e-57f15850d5b8 div.sk-dashed-wrapped {border: 1px dashed gray;margin: 0 0.4em 0.5em 0.4em;box-sizing: border-box;padding-bottom: 0.4em;background-color: white;position: relative;}#sk-724943e7-8546-4370-963e-57f15850d5b8 div.sk-label label {font-family: monospace;font-weight: bold;background-color: white;display: inline-block;line-height: 1.2em;}#sk-724943e7-8546-4370-963e-57f15850d5b8 div.sk-label-container {position: relative;z-index: 2;text-align: center;}#sk-724943e7-8546-4370-963e-57f15850d5b8 div.sk-container {/* jupyter's `normalize.less` sets `[hidden] { display: none; }` but bootstrap.min.css set `[hidden] { display: none !important; }` so we also need the `!important` here to be able to override the default hidden behavior on the sphinx rendered scikit-learn.org. See: https://github.com/scikit-learn/scikit-learn/issues/21755 */display: inline-block !important;position: relative;}#sk-724943e7-8546-4370-963e-57f15850d5b8 div.sk-text-repr-fallback {display: none;}</style><div id=\"sk-724943e7-8546-4370-963e-57f15850d5b8\" class=\"sk-top-container\"><div class=\"sk-text-repr-fallback\"><pre>StandardScaler()</pre><b>Please rerun this cell to show the HTML repr or trust the notebook.</b></div><div class=\"sk-container\" hidden><div class=\"sk-item\"><div class=\"sk-estimator sk-toggleable\"><input class=\"sk-toggleable__control sk-hidden--visually\" id=\"e9e72cd3-791d-4103-a520-77d00fe59a63\" type=\"checkbox\" checked><label for=\"e9e72cd3-791d-4103-a520-77d00fe59a63\" class=\"sk-toggleable__label sk-toggleable__label-arrow\">StandardScaler</label><div class=\"sk-toggleable__content\"><pre>StandardScaler()</pre></div></div></div></div></div>"
            ]
          },
          "metadata": {},
          "execution_count": 252
        }
      ]
    },
    {
      "cell_type": "code",
      "source": [
        "num_pipeline[:-1]"
      ],
      "metadata": {
        "colab": {
          "base_uri": "https://localhost:8080/",
          "height": 92
        },
        "id": "fp6RNmA6btQO",
        "outputId": "5fd79936-f33b-49cd-ff41-480a1ee6a773"
      },
      "execution_count": 253,
      "outputs": [
        {
          "output_type": "execute_result",
          "data": {
            "text/plain": [
              "Pipeline(steps=[('simpleimputer', SimpleImputer(strategy='median'))])"
            ],
            "text/html": [
              "<style>#sk-0371d850-b452-4577-b180-473ba6739fbf {color: black;background-color: white;}#sk-0371d850-b452-4577-b180-473ba6739fbf pre{padding: 0;}#sk-0371d850-b452-4577-b180-473ba6739fbf div.sk-toggleable {background-color: white;}#sk-0371d850-b452-4577-b180-473ba6739fbf label.sk-toggleable__label {cursor: pointer;display: block;width: 100%;margin-bottom: 0;padding: 0.3em;box-sizing: border-box;text-align: center;}#sk-0371d850-b452-4577-b180-473ba6739fbf label.sk-toggleable__label-arrow:before {content: \"▸\";float: left;margin-right: 0.25em;color: #696969;}#sk-0371d850-b452-4577-b180-473ba6739fbf label.sk-toggleable__label-arrow:hover:before {color: black;}#sk-0371d850-b452-4577-b180-473ba6739fbf div.sk-estimator:hover label.sk-toggleable__label-arrow:before {color: black;}#sk-0371d850-b452-4577-b180-473ba6739fbf div.sk-toggleable__content {max-height: 0;max-width: 0;overflow: hidden;text-align: left;background-color: #f0f8ff;}#sk-0371d850-b452-4577-b180-473ba6739fbf div.sk-toggleable__content pre {margin: 0.2em;color: black;border-radius: 0.25em;background-color: #f0f8ff;}#sk-0371d850-b452-4577-b180-473ba6739fbf input.sk-toggleable__control:checked~div.sk-toggleable__content {max-height: 200px;max-width: 100%;overflow: auto;}#sk-0371d850-b452-4577-b180-473ba6739fbf input.sk-toggleable__control:checked~label.sk-toggleable__label-arrow:before {content: \"▾\";}#sk-0371d850-b452-4577-b180-473ba6739fbf div.sk-estimator input.sk-toggleable__control:checked~label.sk-toggleable__label {background-color: #d4ebff;}#sk-0371d850-b452-4577-b180-473ba6739fbf div.sk-label input.sk-toggleable__control:checked~label.sk-toggleable__label {background-color: #d4ebff;}#sk-0371d850-b452-4577-b180-473ba6739fbf input.sk-hidden--visually {border: 0;clip: rect(1px 1px 1px 1px);clip: rect(1px, 1px, 1px, 1px);height: 1px;margin: -1px;overflow: hidden;padding: 0;position: absolute;width: 1px;}#sk-0371d850-b452-4577-b180-473ba6739fbf div.sk-estimator {font-family: monospace;background-color: #f0f8ff;border: 1px dotted black;border-radius: 0.25em;box-sizing: border-box;margin-bottom: 0.5em;}#sk-0371d850-b452-4577-b180-473ba6739fbf div.sk-estimator:hover {background-color: #d4ebff;}#sk-0371d850-b452-4577-b180-473ba6739fbf div.sk-parallel-item::after {content: \"\";width: 100%;border-bottom: 1px solid gray;flex-grow: 1;}#sk-0371d850-b452-4577-b180-473ba6739fbf div.sk-label:hover label.sk-toggleable__label {background-color: #d4ebff;}#sk-0371d850-b452-4577-b180-473ba6739fbf div.sk-serial::before {content: \"\";position: absolute;border-left: 1px solid gray;box-sizing: border-box;top: 2em;bottom: 0;left: 50%;}#sk-0371d850-b452-4577-b180-473ba6739fbf div.sk-serial {display: flex;flex-direction: column;align-items: center;background-color: white;padding-right: 0.2em;padding-left: 0.2em;}#sk-0371d850-b452-4577-b180-473ba6739fbf div.sk-item {z-index: 1;}#sk-0371d850-b452-4577-b180-473ba6739fbf div.sk-parallel {display: flex;align-items: stretch;justify-content: center;background-color: white;}#sk-0371d850-b452-4577-b180-473ba6739fbf div.sk-parallel::before {content: \"\";position: absolute;border-left: 1px solid gray;box-sizing: border-box;top: 2em;bottom: 0;left: 50%;}#sk-0371d850-b452-4577-b180-473ba6739fbf div.sk-parallel-item {display: flex;flex-direction: column;position: relative;background-color: white;}#sk-0371d850-b452-4577-b180-473ba6739fbf div.sk-parallel-item:first-child::after {align-self: flex-end;width: 50%;}#sk-0371d850-b452-4577-b180-473ba6739fbf div.sk-parallel-item:last-child::after {align-self: flex-start;width: 50%;}#sk-0371d850-b452-4577-b180-473ba6739fbf div.sk-parallel-item:only-child::after {width: 0;}#sk-0371d850-b452-4577-b180-473ba6739fbf div.sk-dashed-wrapped {border: 1px dashed gray;margin: 0 0.4em 0.5em 0.4em;box-sizing: border-box;padding-bottom: 0.4em;background-color: white;position: relative;}#sk-0371d850-b452-4577-b180-473ba6739fbf div.sk-label label {font-family: monospace;font-weight: bold;background-color: white;display: inline-block;line-height: 1.2em;}#sk-0371d850-b452-4577-b180-473ba6739fbf div.sk-label-container {position: relative;z-index: 2;text-align: center;}#sk-0371d850-b452-4577-b180-473ba6739fbf div.sk-container {/* jupyter's `normalize.less` sets `[hidden] { display: none; }` but bootstrap.min.css set `[hidden] { display: none !important; }` so we also need the `!important` here to be able to override the default hidden behavior on the sphinx rendered scikit-learn.org. See: https://github.com/scikit-learn/scikit-learn/issues/21755 */display: inline-block !important;position: relative;}#sk-0371d850-b452-4577-b180-473ba6739fbf div.sk-text-repr-fallback {display: none;}</style><div id=\"sk-0371d850-b452-4577-b180-473ba6739fbf\" class=\"sk-top-container\"><div class=\"sk-text-repr-fallback\"><pre>Pipeline(steps=[(&#x27;simpleimputer&#x27;, SimpleImputer(strategy=&#x27;median&#x27;))])</pre><b>Please rerun this cell to show the HTML repr or trust the notebook.</b></div><div class=\"sk-container\" hidden><div class=\"sk-item sk-dashed-wrapped\"><div class=\"sk-label-container\"><div class=\"sk-label sk-toggleable\"><input class=\"sk-toggleable__control sk-hidden--visually\" id=\"14c9b49f-65af-4b4d-9e1e-453690c72c72\" type=\"checkbox\" ><label for=\"14c9b49f-65af-4b4d-9e1e-453690c72c72\" class=\"sk-toggleable__label sk-toggleable__label-arrow\">Pipeline</label><div class=\"sk-toggleable__content\"><pre>Pipeline(steps=[(&#x27;simpleimputer&#x27;, SimpleImputer(strategy=&#x27;median&#x27;))])</pre></div></div></div><div class=\"sk-serial\"><div class=\"sk-item\"><div class=\"sk-estimator sk-toggleable\"><input class=\"sk-toggleable__control sk-hidden--visually\" id=\"6750c9ad-806e-44a3-9fc1-ae513c8f5772\" type=\"checkbox\" ><label for=\"6750c9ad-806e-44a3-9fc1-ae513c8f5772\" class=\"sk-toggleable__label sk-toggleable__label-arrow\">SimpleImputer</label><div class=\"sk-toggleable__content\"><pre>SimpleImputer(strategy=&#x27;median&#x27;)</pre></div></div></div></div></div></div></div>"
            ]
          },
          "metadata": {},
          "execution_count": 253
        }
      ]
    },
    {
      "cell_type": "code",
      "source": [
        "num_pipeline.named_steps[\"simpleimputer\"]"
      ],
      "metadata": {
        "colab": {
          "base_uri": "https://localhost:8080/",
          "height": 75
        },
        "id": "fQw3ftQgbuiT",
        "outputId": "35b4a735-b982-41aa-bf48-bf2d24f1bf69"
      },
      "execution_count": 254,
      "outputs": [
        {
          "output_type": "execute_result",
          "data": {
            "text/plain": [
              "SimpleImputer(strategy='median')"
            ],
            "text/html": [
              "<style>#sk-95459986-f59e-4aa4-9e4a-c8e9376371ac {color: black;background-color: white;}#sk-95459986-f59e-4aa4-9e4a-c8e9376371ac pre{padding: 0;}#sk-95459986-f59e-4aa4-9e4a-c8e9376371ac div.sk-toggleable {background-color: white;}#sk-95459986-f59e-4aa4-9e4a-c8e9376371ac label.sk-toggleable__label {cursor: pointer;display: block;width: 100%;margin-bottom: 0;padding: 0.3em;box-sizing: border-box;text-align: center;}#sk-95459986-f59e-4aa4-9e4a-c8e9376371ac label.sk-toggleable__label-arrow:before {content: \"▸\";float: left;margin-right: 0.25em;color: #696969;}#sk-95459986-f59e-4aa4-9e4a-c8e9376371ac label.sk-toggleable__label-arrow:hover:before {color: black;}#sk-95459986-f59e-4aa4-9e4a-c8e9376371ac div.sk-estimator:hover label.sk-toggleable__label-arrow:before {color: black;}#sk-95459986-f59e-4aa4-9e4a-c8e9376371ac div.sk-toggleable__content {max-height: 0;max-width: 0;overflow: hidden;text-align: left;background-color: #f0f8ff;}#sk-95459986-f59e-4aa4-9e4a-c8e9376371ac div.sk-toggleable__content pre {margin: 0.2em;color: black;border-radius: 0.25em;background-color: #f0f8ff;}#sk-95459986-f59e-4aa4-9e4a-c8e9376371ac input.sk-toggleable__control:checked~div.sk-toggleable__content {max-height: 200px;max-width: 100%;overflow: auto;}#sk-95459986-f59e-4aa4-9e4a-c8e9376371ac input.sk-toggleable__control:checked~label.sk-toggleable__label-arrow:before {content: \"▾\";}#sk-95459986-f59e-4aa4-9e4a-c8e9376371ac div.sk-estimator input.sk-toggleable__control:checked~label.sk-toggleable__label {background-color: #d4ebff;}#sk-95459986-f59e-4aa4-9e4a-c8e9376371ac div.sk-label input.sk-toggleable__control:checked~label.sk-toggleable__label {background-color: #d4ebff;}#sk-95459986-f59e-4aa4-9e4a-c8e9376371ac input.sk-hidden--visually {border: 0;clip: rect(1px 1px 1px 1px);clip: rect(1px, 1px, 1px, 1px);height: 1px;margin: -1px;overflow: hidden;padding: 0;position: absolute;width: 1px;}#sk-95459986-f59e-4aa4-9e4a-c8e9376371ac div.sk-estimator {font-family: monospace;background-color: #f0f8ff;border: 1px dotted black;border-radius: 0.25em;box-sizing: border-box;margin-bottom: 0.5em;}#sk-95459986-f59e-4aa4-9e4a-c8e9376371ac div.sk-estimator:hover {background-color: #d4ebff;}#sk-95459986-f59e-4aa4-9e4a-c8e9376371ac div.sk-parallel-item::after {content: \"\";width: 100%;border-bottom: 1px solid gray;flex-grow: 1;}#sk-95459986-f59e-4aa4-9e4a-c8e9376371ac div.sk-label:hover label.sk-toggleable__label {background-color: #d4ebff;}#sk-95459986-f59e-4aa4-9e4a-c8e9376371ac div.sk-serial::before {content: \"\";position: absolute;border-left: 1px solid gray;box-sizing: border-box;top: 2em;bottom: 0;left: 50%;}#sk-95459986-f59e-4aa4-9e4a-c8e9376371ac div.sk-serial {display: flex;flex-direction: column;align-items: center;background-color: white;padding-right: 0.2em;padding-left: 0.2em;}#sk-95459986-f59e-4aa4-9e4a-c8e9376371ac div.sk-item {z-index: 1;}#sk-95459986-f59e-4aa4-9e4a-c8e9376371ac div.sk-parallel {display: flex;align-items: stretch;justify-content: center;background-color: white;}#sk-95459986-f59e-4aa4-9e4a-c8e9376371ac div.sk-parallel::before {content: \"\";position: absolute;border-left: 1px solid gray;box-sizing: border-box;top: 2em;bottom: 0;left: 50%;}#sk-95459986-f59e-4aa4-9e4a-c8e9376371ac div.sk-parallel-item {display: flex;flex-direction: column;position: relative;background-color: white;}#sk-95459986-f59e-4aa4-9e4a-c8e9376371ac div.sk-parallel-item:first-child::after {align-self: flex-end;width: 50%;}#sk-95459986-f59e-4aa4-9e4a-c8e9376371ac div.sk-parallel-item:last-child::after {align-self: flex-start;width: 50%;}#sk-95459986-f59e-4aa4-9e4a-c8e9376371ac div.sk-parallel-item:only-child::after {width: 0;}#sk-95459986-f59e-4aa4-9e4a-c8e9376371ac div.sk-dashed-wrapped {border: 1px dashed gray;margin: 0 0.4em 0.5em 0.4em;box-sizing: border-box;padding-bottom: 0.4em;background-color: white;position: relative;}#sk-95459986-f59e-4aa4-9e4a-c8e9376371ac div.sk-label label {font-family: monospace;font-weight: bold;background-color: white;display: inline-block;line-height: 1.2em;}#sk-95459986-f59e-4aa4-9e4a-c8e9376371ac div.sk-label-container {position: relative;z-index: 2;text-align: center;}#sk-95459986-f59e-4aa4-9e4a-c8e9376371ac div.sk-container {/* jupyter's `normalize.less` sets `[hidden] { display: none; }` but bootstrap.min.css set `[hidden] { display: none !important; }` so we also need the `!important` here to be able to override the default hidden behavior on the sphinx rendered scikit-learn.org. See: https://github.com/scikit-learn/scikit-learn/issues/21755 */display: inline-block !important;position: relative;}#sk-95459986-f59e-4aa4-9e4a-c8e9376371ac div.sk-text-repr-fallback {display: none;}</style><div id=\"sk-95459986-f59e-4aa4-9e4a-c8e9376371ac\" class=\"sk-top-container\"><div class=\"sk-text-repr-fallback\"><pre>SimpleImputer(strategy=&#x27;median&#x27;)</pre><b>Please rerun this cell to show the HTML repr or trust the notebook.</b></div><div class=\"sk-container\" hidden><div class=\"sk-item\"><div class=\"sk-estimator sk-toggleable\"><input class=\"sk-toggleable__control sk-hidden--visually\" id=\"c5fc374a-7f47-460e-9367-1c438b5ba4d1\" type=\"checkbox\" checked><label for=\"c5fc374a-7f47-460e-9367-1c438b5ba4d1\" class=\"sk-toggleable__label sk-toggleable__label-arrow\">SimpleImputer</label><div class=\"sk-toggleable__content\"><pre>SimpleImputer(strategy=&#x27;median&#x27;)</pre></div></div></div></div></div>"
            ]
          },
          "metadata": {},
          "execution_count": 254
        }
      ]
    },
    {
      "cell_type": "code",
      "source": [
        "num_pipeline.set_params(simpleimputer__strategy=\"mean\")"
      ],
      "metadata": {
        "colab": {
          "base_uri": "https://localhost:8080/",
          "height": 126
        },
        "id": "d48XMAJDbvY7",
        "outputId": "d1a3fed6-a0c1-4af7-97ac-2cae94e2af0c"
      },
      "execution_count": 255,
      "outputs": [
        {
          "output_type": "execute_result",
          "data": {
            "text/plain": [
              "Pipeline(steps=[('simpleimputer', SimpleImputer()),\n",
              "                ('standardscaler', StandardScaler())])"
            ],
            "text/html": [
              "<style>#sk-23b70f68-2223-42dd-93c1-065c631e7021 {color: black;background-color: white;}#sk-23b70f68-2223-42dd-93c1-065c631e7021 pre{padding: 0;}#sk-23b70f68-2223-42dd-93c1-065c631e7021 div.sk-toggleable {background-color: white;}#sk-23b70f68-2223-42dd-93c1-065c631e7021 label.sk-toggleable__label {cursor: pointer;display: block;width: 100%;margin-bottom: 0;padding: 0.3em;box-sizing: border-box;text-align: center;}#sk-23b70f68-2223-42dd-93c1-065c631e7021 label.sk-toggleable__label-arrow:before {content: \"▸\";float: left;margin-right: 0.25em;color: #696969;}#sk-23b70f68-2223-42dd-93c1-065c631e7021 label.sk-toggleable__label-arrow:hover:before {color: black;}#sk-23b70f68-2223-42dd-93c1-065c631e7021 div.sk-estimator:hover label.sk-toggleable__label-arrow:before {color: black;}#sk-23b70f68-2223-42dd-93c1-065c631e7021 div.sk-toggleable__content {max-height: 0;max-width: 0;overflow: hidden;text-align: left;background-color: #f0f8ff;}#sk-23b70f68-2223-42dd-93c1-065c631e7021 div.sk-toggleable__content pre {margin: 0.2em;color: black;border-radius: 0.25em;background-color: #f0f8ff;}#sk-23b70f68-2223-42dd-93c1-065c631e7021 input.sk-toggleable__control:checked~div.sk-toggleable__content {max-height: 200px;max-width: 100%;overflow: auto;}#sk-23b70f68-2223-42dd-93c1-065c631e7021 input.sk-toggleable__control:checked~label.sk-toggleable__label-arrow:before {content: \"▾\";}#sk-23b70f68-2223-42dd-93c1-065c631e7021 div.sk-estimator input.sk-toggleable__control:checked~label.sk-toggleable__label {background-color: #d4ebff;}#sk-23b70f68-2223-42dd-93c1-065c631e7021 div.sk-label input.sk-toggleable__control:checked~label.sk-toggleable__label {background-color: #d4ebff;}#sk-23b70f68-2223-42dd-93c1-065c631e7021 input.sk-hidden--visually {border: 0;clip: rect(1px 1px 1px 1px);clip: rect(1px, 1px, 1px, 1px);height: 1px;margin: -1px;overflow: hidden;padding: 0;position: absolute;width: 1px;}#sk-23b70f68-2223-42dd-93c1-065c631e7021 div.sk-estimator {font-family: monospace;background-color: #f0f8ff;border: 1px dotted black;border-radius: 0.25em;box-sizing: border-box;margin-bottom: 0.5em;}#sk-23b70f68-2223-42dd-93c1-065c631e7021 div.sk-estimator:hover {background-color: #d4ebff;}#sk-23b70f68-2223-42dd-93c1-065c631e7021 div.sk-parallel-item::after {content: \"\";width: 100%;border-bottom: 1px solid gray;flex-grow: 1;}#sk-23b70f68-2223-42dd-93c1-065c631e7021 div.sk-label:hover label.sk-toggleable__label {background-color: #d4ebff;}#sk-23b70f68-2223-42dd-93c1-065c631e7021 div.sk-serial::before {content: \"\";position: absolute;border-left: 1px solid gray;box-sizing: border-box;top: 2em;bottom: 0;left: 50%;}#sk-23b70f68-2223-42dd-93c1-065c631e7021 div.sk-serial {display: flex;flex-direction: column;align-items: center;background-color: white;padding-right: 0.2em;padding-left: 0.2em;}#sk-23b70f68-2223-42dd-93c1-065c631e7021 div.sk-item {z-index: 1;}#sk-23b70f68-2223-42dd-93c1-065c631e7021 div.sk-parallel {display: flex;align-items: stretch;justify-content: center;background-color: white;}#sk-23b70f68-2223-42dd-93c1-065c631e7021 div.sk-parallel::before {content: \"\";position: absolute;border-left: 1px solid gray;box-sizing: border-box;top: 2em;bottom: 0;left: 50%;}#sk-23b70f68-2223-42dd-93c1-065c631e7021 div.sk-parallel-item {display: flex;flex-direction: column;position: relative;background-color: white;}#sk-23b70f68-2223-42dd-93c1-065c631e7021 div.sk-parallel-item:first-child::after {align-self: flex-end;width: 50%;}#sk-23b70f68-2223-42dd-93c1-065c631e7021 div.sk-parallel-item:last-child::after {align-self: flex-start;width: 50%;}#sk-23b70f68-2223-42dd-93c1-065c631e7021 div.sk-parallel-item:only-child::after {width: 0;}#sk-23b70f68-2223-42dd-93c1-065c631e7021 div.sk-dashed-wrapped {border: 1px dashed gray;margin: 0 0.4em 0.5em 0.4em;box-sizing: border-box;padding-bottom: 0.4em;background-color: white;position: relative;}#sk-23b70f68-2223-42dd-93c1-065c631e7021 div.sk-label label {font-family: monospace;font-weight: bold;background-color: white;display: inline-block;line-height: 1.2em;}#sk-23b70f68-2223-42dd-93c1-065c631e7021 div.sk-label-container {position: relative;z-index: 2;text-align: center;}#sk-23b70f68-2223-42dd-93c1-065c631e7021 div.sk-container {/* jupyter's `normalize.less` sets `[hidden] { display: none; }` but bootstrap.min.css set `[hidden] { display: none !important; }` so we also need the `!important` here to be able to override the default hidden behavior on the sphinx rendered scikit-learn.org. See: https://github.com/scikit-learn/scikit-learn/issues/21755 */display: inline-block !important;position: relative;}#sk-23b70f68-2223-42dd-93c1-065c631e7021 div.sk-text-repr-fallback {display: none;}</style><div id=\"sk-23b70f68-2223-42dd-93c1-065c631e7021\" class=\"sk-top-container\"><div class=\"sk-text-repr-fallback\"><pre>Pipeline(steps=[(&#x27;simpleimputer&#x27;, SimpleImputer()),\n",
              "                (&#x27;standardscaler&#x27;, StandardScaler())])</pre><b>Please rerun this cell to show the HTML repr or trust the notebook.</b></div><div class=\"sk-container\" hidden><div class=\"sk-item sk-dashed-wrapped\"><div class=\"sk-label-container\"><div class=\"sk-label sk-toggleable\"><input class=\"sk-toggleable__control sk-hidden--visually\" id=\"44ff9efc-2c2f-4939-8eb4-224b6e6454ec\" type=\"checkbox\" ><label for=\"44ff9efc-2c2f-4939-8eb4-224b6e6454ec\" class=\"sk-toggleable__label sk-toggleable__label-arrow\">Pipeline</label><div class=\"sk-toggleable__content\"><pre>Pipeline(steps=[(&#x27;simpleimputer&#x27;, SimpleImputer()),\n",
              "                (&#x27;standardscaler&#x27;, StandardScaler())])</pre></div></div></div><div class=\"sk-serial\"><div class=\"sk-item\"><div class=\"sk-estimator sk-toggleable\"><input class=\"sk-toggleable__control sk-hidden--visually\" id=\"4c1d055a-afb8-4909-aca0-cc91af805f2e\" type=\"checkbox\" ><label for=\"4c1d055a-afb8-4909-aca0-cc91af805f2e\" class=\"sk-toggleable__label sk-toggleable__label-arrow\">SimpleImputer</label><div class=\"sk-toggleable__content\"><pre>SimpleImputer()</pre></div></div></div><div class=\"sk-item\"><div class=\"sk-estimator sk-toggleable\"><input class=\"sk-toggleable__control sk-hidden--visually\" id=\"b6b75ad6-e4c2-4df9-9f1c-f858d0d136d4\" type=\"checkbox\" ><label for=\"b6b75ad6-e4c2-4df9-9f1c-f858d0d136d4\" class=\"sk-toggleable__label sk-toggleable__label-arrow\">StandardScaler</label><div class=\"sk-toggleable__content\"><pre>StandardScaler()</pre></div></div></div></div></div></div></div>"
            ]
          },
          "metadata": {},
          "execution_count": 255
        }
      ]
    },
    {
      "cell_type": "code",
      "source": [
        "num_pipeline.set_params(simpleimputer__strategy=\"median\")"
      ],
      "metadata": {
        "colab": {
          "base_uri": "https://localhost:8080/",
          "height": 126
        },
        "id": "pKv3UCuXbyI0",
        "outputId": "2422ff58-4b09-4e2e-f666-3e6728376a6d"
      },
      "execution_count": 256,
      "outputs": [
        {
          "output_type": "execute_result",
          "data": {
            "text/plain": [
              "Pipeline(steps=[('simpleimputer', SimpleImputer(strategy='median')),\n",
              "                ('standardscaler', StandardScaler())])"
            ],
            "text/html": [
              "<style>#sk-afe1cf1f-e414-4d1d-b578-b0734d989f7e {color: black;background-color: white;}#sk-afe1cf1f-e414-4d1d-b578-b0734d989f7e pre{padding: 0;}#sk-afe1cf1f-e414-4d1d-b578-b0734d989f7e div.sk-toggleable {background-color: white;}#sk-afe1cf1f-e414-4d1d-b578-b0734d989f7e label.sk-toggleable__label {cursor: pointer;display: block;width: 100%;margin-bottom: 0;padding: 0.3em;box-sizing: border-box;text-align: center;}#sk-afe1cf1f-e414-4d1d-b578-b0734d989f7e label.sk-toggleable__label-arrow:before {content: \"▸\";float: left;margin-right: 0.25em;color: #696969;}#sk-afe1cf1f-e414-4d1d-b578-b0734d989f7e label.sk-toggleable__label-arrow:hover:before {color: black;}#sk-afe1cf1f-e414-4d1d-b578-b0734d989f7e div.sk-estimator:hover label.sk-toggleable__label-arrow:before {color: black;}#sk-afe1cf1f-e414-4d1d-b578-b0734d989f7e div.sk-toggleable__content {max-height: 0;max-width: 0;overflow: hidden;text-align: left;background-color: #f0f8ff;}#sk-afe1cf1f-e414-4d1d-b578-b0734d989f7e div.sk-toggleable__content pre {margin: 0.2em;color: black;border-radius: 0.25em;background-color: #f0f8ff;}#sk-afe1cf1f-e414-4d1d-b578-b0734d989f7e input.sk-toggleable__control:checked~div.sk-toggleable__content {max-height: 200px;max-width: 100%;overflow: auto;}#sk-afe1cf1f-e414-4d1d-b578-b0734d989f7e input.sk-toggleable__control:checked~label.sk-toggleable__label-arrow:before {content: \"▾\";}#sk-afe1cf1f-e414-4d1d-b578-b0734d989f7e div.sk-estimator input.sk-toggleable__control:checked~label.sk-toggleable__label {background-color: #d4ebff;}#sk-afe1cf1f-e414-4d1d-b578-b0734d989f7e div.sk-label input.sk-toggleable__control:checked~label.sk-toggleable__label {background-color: #d4ebff;}#sk-afe1cf1f-e414-4d1d-b578-b0734d989f7e input.sk-hidden--visually {border: 0;clip: rect(1px 1px 1px 1px);clip: rect(1px, 1px, 1px, 1px);height: 1px;margin: -1px;overflow: hidden;padding: 0;position: absolute;width: 1px;}#sk-afe1cf1f-e414-4d1d-b578-b0734d989f7e div.sk-estimator {font-family: monospace;background-color: #f0f8ff;border: 1px dotted black;border-radius: 0.25em;box-sizing: border-box;margin-bottom: 0.5em;}#sk-afe1cf1f-e414-4d1d-b578-b0734d989f7e div.sk-estimator:hover {background-color: #d4ebff;}#sk-afe1cf1f-e414-4d1d-b578-b0734d989f7e div.sk-parallel-item::after {content: \"\";width: 100%;border-bottom: 1px solid gray;flex-grow: 1;}#sk-afe1cf1f-e414-4d1d-b578-b0734d989f7e div.sk-label:hover label.sk-toggleable__label {background-color: #d4ebff;}#sk-afe1cf1f-e414-4d1d-b578-b0734d989f7e div.sk-serial::before {content: \"\";position: absolute;border-left: 1px solid gray;box-sizing: border-box;top: 2em;bottom: 0;left: 50%;}#sk-afe1cf1f-e414-4d1d-b578-b0734d989f7e div.sk-serial {display: flex;flex-direction: column;align-items: center;background-color: white;padding-right: 0.2em;padding-left: 0.2em;}#sk-afe1cf1f-e414-4d1d-b578-b0734d989f7e div.sk-item {z-index: 1;}#sk-afe1cf1f-e414-4d1d-b578-b0734d989f7e div.sk-parallel {display: flex;align-items: stretch;justify-content: center;background-color: white;}#sk-afe1cf1f-e414-4d1d-b578-b0734d989f7e div.sk-parallel::before {content: \"\";position: absolute;border-left: 1px solid gray;box-sizing: border-box;top: 2em;bottom: 0;left: 50%;}#sk-afe1cf1f-e414-4d1d-b578-b0734d989f7e div.sk-parallel-item {display: flex;flex-direction: column;position: relative;background-color: white;}#sk-afe1cf1f-e414-4d1d-b578-b0734d989f7e div.sk-parallel-item:first-child::after {align-self: flex-end;width: 50%;}#sk-afe1cf1f-e414-4d1d-b578-b0734d989f7e div.sk-parallel-item:last-child::after {align-self: flex-start;width: 50%;}#sk-afe1cf1f-e414-4d1d-b578-b0734d989f7e div.sk-parallel-item:only-child::after {width: 0;}#sk-afe1cf1f-e414-4d1d-b578-b0734d989f7e div.sk-dashed-wrapped {border: 1px dashed gray;margin: 0 0.4em 0.5em 0.4em;box-sizing: border-box;padding-bottom: 0.4em;background-color: white;position: relative;}#sk-afe1cf1f-e414-4d1d-b578-b0734d989f7e div.sk-label label {font-family: monospace;font-weight: bold;background-color: white;display: inline-block;line-height: 1.2em;}#sk-afe1cf1f-e414-4d1d-b578-b0734d989f7e div.sk-label-container {position: relative;z-index: 2;text-align: center;}#sk-afe1cf1f-e414-4d1d-b578-b0734d989f7e div.sk-container {/* jupyter's `normalize.less` sets `[hidden] { display: none; }` but bootstrap.min.css set `[hidden] { display: none !important; }` so we also need the `!important` here to be able to override the default hidden behavior on the sphinx rendered scikit-learn.org. See: https://github.com/scikit-learn/scikit-learn/issues/21755 */display: inline-block !important;position: relative;}#sk-afe1cf1f-e414-4d1d-b578-b0734d989f7e div.sk-text-repr-fallback {display: none;}</style><div id=\"sk-afe1cf1f-e414-4d1d-b578-b0734d989f7e\" class=\"sk-top-container\"><div class=\"sk-text-repr-fallback\"><pre>Pipeline(steps=[(&#x27;simpleimputer&#x27;, SimpleImputer(strategy=&#x27;median&#x27;)),\n",
              "                (&#x27;standardscaler&#x27;, StandardScaler())])</pre><b>Please rerun this cell to show the HTML repr or trust the notebook.</b></div><div class=\"sk-container\" hidden><div class=\"sk-item sk-dashed-wrapped\"><div class=\"sk-label-container\"><div class=\"sk-label sk-toggleable\"><input class=\"sk-toggleable__control sk-hidden--visually\" id=\"7d9df3b5-d7a5-4b81-b31b-a64461ed4c46\" type=\"checkbox\" ><label for=\"7d9df3b5-d7a5-4b81-b31b-a64461ed4c46\" class=\"sk-toggleable__label sk-toggleable__label-arrow\">Pipeline</label><div class=\"sk-toggleable__content\"><pre>Pipeline(steps=[(&#x27;simpleimputer&#x27;, SimpleImputer(strategy=&#x27;median&#x27;)),\n",
              "                (&#x27;standardscaler&#x27;, StandardScaler())])</pre></div></div></div><div class=\"sk-serial\"><div class=\"sk-item\"><div class=\"sk-estimator sk-toggleable\"><input class=\"sk-toggleable__control sk-hidden--visually\" id=\"da439de6-9683-46d3-968b-4980d3dc1479\" type=\"checkbox\" ><label for=\"da439de6-9683-46d3-968b-4980d3dc1479\" class=\"sk-toggleable__label sk-toggleable__label-arrow\">SimpleImputer</label><div class=\"sk-toggleable__content\"><pre>SimpleImputer(strategy=&#x27;median&#x27;)</pre></div></div></div><div class=\"sk-item\"><div class=\"sk-estimator sk-toggleable\"><input class=\"sk-toggleable__control sk-hidden--visually\" id=\"e6f25147-fc61-4bb2-a972-fb627ba5ec55\" type=\"checkbox\" ><label for=\"e6f25147-fc61-4bb2-a972-fb627ba5ec55\" class=\"sk-toggleable__label sk-toggleable__label-arrow\">StandardScaler</label><div class=\"sk-toggleable__content\"><pre>StandardScaler()</pre></div></div></div></div></div></div></div>"
            ]
          },
          "metadata": {},
          "execution_count": 256
        }
      ]
    },
    {
      "cell_type": "code",
      "source": [
        "housing_num_prepared = num_pipeline.fit_transform(housing_num)"
      ],
      "metadata": {
        "id": "5KEZkJ1Iby9W"
      },
      "execution_count": 257,
      "outputs": []
    },
    {
      "cell_type": "code",
      "source": [
        "# 사이킷런의 이후 버전에서는 필요하지 않을 수 있다.\n",
        "\n",
        "def monkey_patch_get_signature_names_out():\n",
        "    \"\"\"Monkey patch some classes which did not handle get_feature_names_out()\n",
        "       correctly in 1.0.0.\"\"\"\n",
        "    from inspect import Signature, signature, Parameter\n",
        "    import pandas as pd\n",
        "    from sklearn.impute import SimpleImputer\n",
        "    from sklearn.pipeline import make_pipeline, Pipeline\n",
        "    from sklearn.preprocessing import FunctionTransformer, StandardScaler\n",
        "\n",
        "    default_get_feature_names_out = StandardScaler.get_feature_names_out\n",
        "\n",
        "    if not hasattr(SimpleImputer, \"get_feature_names_out\"):\n",
        "      print(\"Monkey-patching SimpleImputer.get_feature_names_out()\")\n",
        "      SimpleImputer.get_feature_names_out = default_get_feature_names_out\n",
        "\n",
        "    if not hasattr(FunctionTransformer, \"get_feature_names_out\"):\n",
        "        print(\"Monkey-patching FunctionTransformer.get_feature_names_out()\")\n",
        "        orig_init = FunctionTransformer.__init__\n",
        "        orig_sig = signature(orig_init)\n",
        "\n",
        "        def __init__(*args, feature_names_out=None, **kwargs):\n",
        "            orig_sig.bind(*args, **kwargs)\n",
        "            orig_init(*args, **kwargs)\n",
        "            args[0].feature_names_out = feature_names_out\n",
        "\n",
        "        __init__.__signature__ = Signature(\n",
        "            list(signature(orig_init).parameters.values()) + [\n",
        "                Parameter(\"feature_names_out\", Parameter.KEYWORD_ONLY)])\n",
        "\n",
        "        def get_feature_names_out(self, names=None):\n",
        "            if self.feature_names_out is None:\n",
        "                return default_get_feature_names_out(self, names)\n",
        "            elif callable(self.feature_names_out):\n",
        "                return self.feature_names_out(names)\n",
        "            else:\n",
        "                return self.feature_names_out\n",
        "\n",
        "        FunctionTransformer.__init__ = __init__\n",
        "        FunctionTransformer.get_feature_names_out = get_feature_names_out\n",
        "\n",
        "monkey_patch_get_signature_names_out()"
      ],
      "metadata": {
        "id": "kY0CEnDrb0vn"
      },
      "execution_count": 258,
      "outputs": []
    },
    {
      "cell_type": "code",
      "source": [
        "df_housing_num_prepared = pd.DataFrame(housing_num_prepared, \n",
        "                                       columns=num_pipeline.get_feature_names_out(),\n",
        "                                       index=housing_num.index)\n",
        "\n",
        "df_housing_num_prepared.head()"
      ],
      "metadata": {
        "colab": {
          "base_uri": "https://localhost:8080/",
          "height": 206
        },
        "id": "4NEljhOMb3oQ",
        "outputId": "1611c0a7-aad2-4bd3-b8f0-8be003aa5f49"
      },
      "execution_count": 259,
      "outputs": [
        {
          "output_type": "execute_result",
          "data": {
            "text/plain": [
              "       longitude  latitude  housing_median_age  total_rooms  total_bedrooms  \\\n",
              "13096  -1.423037  1.013606            1.861119     0.311912        1.368167   \n",
              "14973   0.596394 -0.702103            0.907630    -0.308620       -0.435925   \n",
              "3785   -1.203098  1.276119            0.351428    -0.712240       -0.760709   \n",
              "14689   1.231216 -0.884924           -0.919891     0.702262        0.742306   \n",
              "20507   0.711362 -0.875549            0.589800     0.790125        1.595753   \n",
              "\n",
              "       population  households  median_income  \n",
              "13096    0.137460    1.394812      -0.936491  \n",
              "14973   -0.693771   -0.373485       1.171942  \n",
              "3785    -0.788768   -0.775727      -0.759789  \n",
              "14689    0.383175    0.731375      -0.850281  \n",
              "20507    0.444376    1.755263      -0.180365  "
            ],
            "text/html": [
              "\n",
              "  <div id=\"df-7194d69e-1a12-4033-93dc-e26311668f97\">\n",
              "    <div class=\"colab-df-container\">\n",
              "      <div>\n",
              "<style scoped>\n",
              "    .dataframe tbody tr th:only-of-type {\n",
              "        vertical-align: middle;\n",
              "    }\n",
              "\n",
              "    .dataframe tbody tr th {\n",
              "        vertical-align: top;\n",
              "    }\n",
              "\n",
              "    .dataframe thead th {\n",
              "        text-align: right;\n",
              "    }\n",
              "</style>\n",
              "<table border=\"1\" class=\"dataframe\">\n",
              "  <thead>\n",
              "    <tr style=\"text-align: right;\">\n",
              "      <th></th>\n",
              "      <th>longitude</th>\n",
              "      <th>latitude</th>\n",
              "      <th>housing_median_age</th>\n",
              "      <th>total_rooms</th>\n",
              "      <th>total_bedrooms</th>\n",
              "      <th>population</th>\n",
              "      <th>households</th>\n",
              "      <th>median_income</th>\n",
              "    </tr>\n",
              "  </thead>\n",
              "  <tbody>\n",
              "    <tr>\n",
              "      <th>13096</th>\n",
              "      <td>-1.423037</td>\n",
              "      <td>1.013606</td>\n",
              "      <td>1.861119</td>\n",
              "      <td>0.311912</td>\n",
              "      <td>1.368167</td>\n",
              "      <td>0.137460</td>\n",
              "      <td>1.394812</td>\n",
              "      <td>-0.936491</td>\n",
              "    </tr>\n",
              "    <tr>\n",
              "      <th>14973</th>\n",
              "      <td>0.596394</td>\n",
              "      <td>-0.702103</td>\n",
              "      <td>0.907630</td>\n",
              "      <td>-0.308620</td>\n",
              "      <td>-0.435925</td>\n",
              "      <td>-0.693771</td>\n",
              "      <td>-0.373485</td>\n",
              "      <td>1.171942</td>\n",
              "    </tr>\n",
              "    <tr>\n",
              "      <th>3785</th>\n",
              "      <td>-1.203098</td>\n",
              "      <td>1.276119</td>\n",
              "      <td>0.351428</td>\n",
              "      <td>-0.712240</td>\n",
              "      <td>-0.760709</td>\n",
              "      <td>-0.788768</td>\n",
              "      <td>-0.775727</td>\n",
              "      <td>-0.759789</td>\n",
              "    </tr>\n",
              "    <tr>\n",
              "      <th>14689</th>\n",
              "      <td>1.231216</td>\n",
              "      <td>-0.884924</td>\n",
              "      <td>-0.919891</td>\n",
              "      <td>0.702262</td>\n",
              "      <td>0.742306</td>\n",
              "      <td>0.383175</td>\n",
              "      <td>0.731375</td>\n",
              "      <td>-0.850281</td>\n",
              "    </tr>\n",
              "    <tr>\n",
              "      <th>20507</th>\n",
              "      <td>0.711362</td>\n",
              "      <td>-0.875549</td>\n",
              "      <td>0.589800</td>\n",
              "      <td>0.790125</td>\n",
              "      <td>1.595753</td>\n",
              "      <td>0.444376</td>\n",
              "      <td>1.755263</td>\n",
              "      <td>-0.180365</td>\n",
              "    </tr>\n",
              "  </tbody>\n",
              "</table>\n",
              "</div>\n",
              "      <button class=\"colab-df-convert\" onclick=\"convertToInteractive('df-7194d69e-1a12-4033-93dc-e26311668f97')\"\n",
              "              title=\"Convert this dataframe to an interactive table.\"\n",
              "              style=\"display:none;\">\n",
              "        \n",
              "  <svg xmlns=\"http://www.w3.org/2000/svg\" height=\"24px\"viewBox=\"0 0 24 24\"\n",
              "       width=\"24px\">\n",
              "    <path d=\"M0 0h24v24H0V0z\" fill=\"none\"/>\n",
              "    <path d=\"M18.56 5.44l.94 2.06.94-2.06 2.06-.94-2.06-.94-.94-2.06-.94 2.06-2.06.94zm-11 1L8.5 8.5l.94-2.06 2.06-.94-2.06-.94L8.5 2.5l-.94 2.06-2.06.94zm10 10l.94 2.06.94-2.06 2.06-.94-2.06-.94-.94-2.06-.94 2.06-2.06.94z\"/><path d=\"M17.41 7.96l-1.37-1.37c-.4-.4-.92-.59-1.43-.59-.52 0-1.04.2-1.43.59L10.3 9.45l-7.72 7.72c-.78.78-.78 2.05 0 2.83L4 21.41c.39.39.9.59 1.41.59.51 0 1.02-.2 1.41-.59l7.78-7.78 2.81-2.81c.8-.78.8-2.07 0-2.86zM5.41 20L4 18.59l7.72-7.72 1.47 1.35L5.41 20z\"/>\n",
              "  </svg>\n",
              "      </button>\n",
              "      \n",
              "  <style>\n",
              "    .colab-df-container {\n",
              "      display:flex;\n",
              "      flex-wrap:wrap;\n",
              "      gap: 12px;\n",
              "    }\n",
              "\n",
              "    .colab-df-convert {\n",
              "      background-color: #E8F0FE;\n",
              "      border: none;\n",
              "      border-radius: 50%;\n",
              "      cursor: pointer;\n",
              "      display: none;\n",
              "      fill: #1967D2;\n",
              "      height: 32px;\n",
              "      padding: 0 0 0 0;\n",
              "      width: 32px;\n",
              "    }\n",
              "\n",
              "    .colab-df-convert:hover {\n",
              "      background-color: #E2EBFA;\n",
              "      box-shadow: 0px 1px 2px rgba(60, 64, 67, 0.3), 0px 1px 3px 1px rgba(60, 64, 67, 0.15);\n",
              "      fill: #174EA6;\n",
              "    }\n",
              "\n",
              "    [theme=dark] .colab-df-convert {\n",
              "      background-color: #3B4455;\n",
              "      fill: #D2E3FC;\n",
              "    }\n",
              "\n",
              "    [theme=dark] .colab-df-convert:hover {\n",
              "      background-color: #434B5C;\n",
              "      box-shadow: 0px 1px 3px 1px rgba(0, 0, 0, 0.15);\n",
              "      filter: drop-shadow(0px 1px 2px rgba(0, 0, 0, 0.3));\n",
              "      fill: #FFFFFF;\n",
              "    }\n",
              "  </style>\n",
              "\n",
              "      <script>\n",
              "        const buttonEl =\n",
              "          document.querySelector('#df-7194d69e-1a12-4033-93dc-e26311668f97 button.colab-df-convert');\n",
              "        buttonEl.style.display =\n",
              "          google.colab.kernel.accessAllowed ? 'block' : 'none';\n",
              "\n",
              "        async function convertToInteractive(key) {\n",
              "          const element = document.querySelector('#df-7194d69e-1a12-4033-93dc-e26311668f97');\n",
              "          const dataTable =\n",
              "            await google.colab.kernel.invokeFunction('convertToInteractive',\n",
              "                                                     [key], {});\n",
              "          if (!dataTable) return;\n",
              "\n",
              "          const docLinkHtml = 'Like what you see? Visit the ' +\n",
              "            '<a target=\"_blank\" href=https://colab.research.google.com/notebooks/data_table.ipynb>data table notebook</a>'\n",
              "            + ' to learn more about interactive tables.';\n",
              "          element.innerHTML = '';\n",
              "          dataTable['output_type'] = 'display_data';\n",
              "          await google.colab.output.renderOutput(dataTable, element);\n",
              "          const docLink = document.createElement('div');\n",
              "          docLink.innerHTML = docLinkHtml;\n",
              "          element.appendChild(docLink);\n",
              "        }\n",
              "      </script>\n",
              "    </div>\n",
              "  </div>\n",
              "  "
            ]
          },
          "metadata": {},
          "execution_count": 259
        }
      ]
    },
    {
      "cell_type": "code",
      "source": [
        "from sklearn.compose import ColumnTransformer\n",
        "\n",
        "num_attribs = [\"longitude\", \"latitude\", \"housing_median_age\", \"total_rooms\",\n",
        "               \"total_bedrooms\", \"population\", \"households\", \"median_income\"]\n",
        "cat_attribs = [\"ocean_proximity\"]\n",
        "\n",
        "# 범주형 특성 파이프라인\n",
        "cat_pipeline = make_pipeline(\n",
        "    SimpleImputer(strategy=\"most_frequent\"),\n",
        "    OneHotEncoder(handle_unknown=\"ignore\"))\n",
        "\n",
        "# 수치형과 범주형을 구별하여 파이프라인 구성\n",
        "preprocessing = ColumnTransformer([(\"num\", num_pipeline, num_attribs),\n",
        "                                   (\"cat\", cat_pipeline, cat_attribs),\n",
        "                                  ])"
      ],
      "metadata": {
        "id": "hRQQfN1Zb49D"
      },
      "execution_count": 260,
      "outputs": []
    },
    {
      "cell_type": "code",
      "source": [
        "from sklearn.compose import make_column_selector, make_column_transformer\n",
        "\n",
        "preprocessing = make_column_transformer(\n",
        "    (num_pipeline, make_column_selector(dtype_include=np.number)),\n",
        "    (cat_pipeline, make_column_selector(dtype_include=object)),     # np.object 대신 object 사용\n",
        ")"
      ],
      "metadata": {
        "id": "IUV2bzs1b6WG"
      },
      "execution_count": 261,
      "outputs": []
    },
    {
      "cell_type": "code",
      "source": [
        "housing_prepared = preprocessing.fit_transform(housing)"
      ],
      "metadata": {
        "id": "kRaSPyrNb7od"
      },
      "execution_count": 262,
      "outputs": []
    },
    {
      "cell_type": "code",
      "source": [
        "def column_ratio(X):\n",
        "    return X[:, [0]] / X[:, [1]]\n",
        "\n",
        "def ratio_pipeline(name=None):\n",
        "    return make_pipeline(SimpleImputer(strategy=\"median\"),\n",
        "                         FunctionTransformer(column_ratio, \n",
        "                                             feature_names_out=[name]),  # sklearn 1.1 버전부터 지원부터.\n",
        "                         StandardScaler())\n",
        "\n",
        "log_pipeline = make_pipeline(SimpleImputer(strategy=\"median\"),\n",
        "                             FunctionTransformer(np.log),\n",
        "                             StandardScaler())\n",
        "\n",
        "cluster_simil = ClusterSimilarity(n_clusters=10, gamma=1., random_state=42)\n",
        "\n",
        "default_num_pipeline = make_pipeline(SimpleImputer(strategy=\"median\"),\n",
        "                                     StandardScaler())\n",
        "\n",
        "# 정제와 전처리 과정 전체를 아우루는 변환 파이프라인\n",
        "preprocessing = ColumnTransformer([\n",
        "        (\"bedrooms_ratio\", ratio_pipeline(\"bedrooms_ratio\"), \n",
        "                           [\"total_bedrooms\", \"total_rooms\"]),                 # 방당 침실 수\n",
        "        (\"rooms_per_house\", ratio_pipeline(\"rooms_per_house\"), \n",
        "                            [\"total_rooms\", \"households\"]),                    # 가구당 방 수\n",
        "        (\"people_per_house\", ratio_pipeline(\"people_per_house\"), \n",
        "                            [\"population\", \"households\"]),                     # 가구당 인원\n",
        "        (\"log\", log_pipeline, [\"total_bedrooms\", \"total_rooms\", \n",
        "                               \"population\", \"households\", \"median_income\"]),  # 로그 변환\n",
        "        (\"geo\", cluster_simil, [\"latitude\", \"longitude\"]),                     # 구역별 군집 정보\n",
        "        (\"cat\", cat_pipeline, make_column_selector(dtype_include=object)),     # 범주형 특성 전처리\n",
        "    ],\n",
        "    remainder=default_num_pipeline)                        # 중간 주택 년수(housing_median_age) 대상"
      ],
      "metadata": {
        "id": "yBUlSTTFb-Bd"
      },
      "execution_count": 263,
      "outputs": []
    },
    {
      "cell_type": "code",
      "source": [
        "housing_prepared = preprocessing.fit_transform(housing)"
      ],
      "metadata": {
        "id": "yqWpivZ7b_M8"
      },
      "execution_count": 264,
      "outputs": []
    },
    {
      "cell_type": "code",
      "source": [
        "housing_prepared.shape"
      ],
      "metadata": {
        "colab": {
          "base_uri": "https://localhost:8080/"
        },
        "id": "2MgR6TNqcAQw",
        "outputId": "cd14b776-e17c-4da5-ec9c-9a46918dcb35"
      },
      "execution_count": 265,
      "outputs": [
        {
          "output_type": "execute_result",
          "data": {
            "text/plain": [
              "(16512, 24)"
            ]
          },
          "metadata": {},
          "execution_count": 265
        }
      ]
    },
    {
      "cell_type": "code",
      "source": [
        "preprocessing.get_feature_names_out()"
      ],
      "metadata": {
        "colab": {
          "base_uri": "https://localhost:8080/"
        },
        "id": "gPxHPQjVcJYL",
        "outputId": "167c617c-ffe2-45ac-b06c-980a3b3ea88e"
      },
      "execution_count": 266,
      "outputs": [
        {
          "output_type": "execute_result",
          "data": {
            "text/plain": [
              "array(['bedrooms_ratio__bedrooms_ratio',\n",
              "       'rooms_per_house__rooms_per_house',\n",
              "       'people_per_house__people_per_house', 'log__total_bedrooms',\n",
              "       'log__total_rooms', 'log__population', 'log__households',\n",
              "       'log__median_income', 'geo__Cluster 0 similarity',\n",
              "       'geo__Cluster 1 similarity', 'geo__Cluster 2 similarity',\n",
              "       'geo__Cluster 3 similarity', 'geo__Cluster 4 similarity',\n",
              "       'geo__Cluster 5 similarity', 'geo__Cluster 6 similarity',\n",
              "       'geo__Cluster 7 similarity', 'geo__Cluster 8 similarity',\n",
              "       'geo__Cluster 9 similarity', 'cat__ocean_proximity_<1H OCEAN',\n",
              "       'cat__ocean_proximity_INLAND', 'cat__ocean_proximity_ISLAND',\n",
              "       'cat__ocean_proximity_NEAR BAY', 'cat__ocean_proximity_NEAR OCEAN',\n",
              "       'remainder__housing_median_age'], dtype=object)"
            ]
          },
          "metadata": {},
          "execution_count": 266
        }
      ]
    },
    {
      "cell_type": "markdown",
      "source": [
        "1."
      ],
      "metadata": {
        "id": "db6Hzyv7cUqk"
      }
    },
    {
      "cell_type": "code",
      "source": [
        "from sklearn.model_selection import GridSearchCV\n",
        "from sklearn.svm import SVR\n",
        "\n",
        "param_grid = [\n",
        "        {'svr__kernel': ['linear'], 'svr__C': [10., 30., 100., 300., 1000.,\n",
        "                                               3000., 10000., 30000.0]},\n",
        "        {'svr__kernel': ['rbf'], 'svr__C': [1.0, 3.0, 10., 30., 100., 300.,\n",
        "                                            1000.0],\n",
        "         'svr__gamma': [0.01, 0.03, 0.1, 0.3, 1.0, 3.0]},\n",
        "    ]\n",
        "\n",
        "svr_pipeline = Pipeline([(\"preprocessing\", preprocessing), (\"svr\", SVR())])\n",
        "grid_search = GridSearchCV(svr_pipeline, param_grid, cv=3,\n",
        "                           scoring='neg_root_mean_squared_error')\n",
        "grid_search.fit(housing.iloc[:5000], housing_labels.iloc[:5000])"
      ],
      "metadata": {
        "colab": {
          "base_uri": "https://localhost:8080/",
          "height": 400
        },
        "id": "ke-kF0sgcNpe",
        "outputId": "7c214aa2-076b-4c57-96eb-8a4e91d255b4"
      },
      "execution_count": 267,
      "outputs": [
        {
          "output_type": "error",
          "ename": "KeyboardInterrupt",
          "evalue": "ignored",
          "traceback": [
            "\u001b[0;31m---------------------------------------------------------------------------\u001b[0m",
            "\u001b[0;31mKeyboardInterrupt\u001b[0m                         Traceback (most recent call last)",
            "\u001b[0;32m<ipython-input-267-380eaefe30cb>\u001b[0m in \u001b[0;36m<module>\u001b[0;34m()\u001b[0m\n\u001b[1;32m     13\u001b[0m grid_search = GridSearchCV(svr_pipeline, param_grid, cv=3,\n\u001b[1;32m     14\u001b[0m                            scoring='neg_root_mean_squared_error')\n\u001b[0;32m---> 15\u001b[0;31m \u001b[0mgrid_search\u001b[0m\u001b[0;34m.\u001b[0m\u001b[0mfit\u001b[0m\u001b[0;34m(\u001b[0m\u001b[0mhousing\u001b[0m\u001b[0;34m.\u001b[0m\u001b[0miloc\u001b[0m\u001b[0;34m[\u001b[0m\u001b[0;34m:\u001b[0m\u001b[0;36m5000\u001b[0m\u001b[0;34m]\u001b[0m\u001b[0;34m,\u001b[0m \u001b[0mhousing_labels\u001b[0m\u001b[0;34m.\u001b[0m\u001b[0miloc\u001b[0m\u001b[0;34m[\u001b[0m\u001b[0;34m:\u001b[0m\u001b[0;36m5000\u001b[0m\u001b[0;34m]\u001b[0m\u001b[0;34m)\u001b[0m\u001b[0;34m\u001b[0m\u001b[0;34m\u001b[0m\u001b[0m\n\u001b[0m",
            "\u001b[0;32m/usr/local/lib/python3.7/dist-packages/sklearn/model_selection/_search.py\u001b[0m in \u001b[0;36mfit\u001b[0;34m(self, X, y, groups, **fit_params)\u001b[0m\n\u001b[1;32m    889\u001b[0m                 \u001b[0;32mreturn\u001b[0m \u001b[0mresults\u001b[0m\u001b[0;34m\u001b[0m\u001b[0;34m\u001b[0m\u001b[0m\n\u001b[1;32m    890\u001b[0m \u001b[0;34m\u001b[0m\u001b[0m\n\u001b[0;32m--> 891\u001b[0;31m             \u001b[0mself\u001b[0m\u001b[0;34m.\u001b[0m\u001b[0m_run_search\u001b[0m\u001b[0;34m(\u001b[0m\u001b[0mevaluate_candidates\u001b[0m\u001b[0;34m)\u001b[0m\u001b[0;34m\u001b[0m\u001b[0;34m\u001b[0m\u001b[0m\n\u001b[0m\u001b[1;32m    892\u001b[0m \u001b[0;34m\u001b[0m\u001b[0m\n\u001b[1;32m    893\u001b[0m             \u001b[0;31m# multimetric is determined here because in the case of a callable\u001b[0m\u001b[0;34m\u001b[0m\u001b[0;34m\u001b[0m\u001b[0;34m\u001b[0m\u001b[0m\n",
            "\u001b[0;32m/usr/local/lib/python3.7/dist-packages/sklearn/model_selection/_search.py\u001b[0m in \u001b[0;36m_run_search\u001b[0;34m(self, evaluate_candidates)\u001b[0m\n\u001b[1;32m   1390\u001b[0m     \u001b[0;32mdef\u001b[0m \u001b[0m_run_search\u001b[0m\u001b[0;34m(\u001b[0m\u001b[0mself\u001b[0m\u001b[0;34m,\u001b[0m \u001b[0mevaluate_candidates\u001b[0m\u001b[0;34m)\u001b[0m\u001b[0;34m:\u001b[0m\u001b[0;34m\u001b[0m\u001b[0;34m\u001b[0m\u001b[0m\n\u001b[1;32m   1391\u001b[0m         \u001b[0;34m\"\"\"Search all candidates in param_grid\"\"\"\u001b[0m\u001b[0;34m\u001b[0m\u001b[0;34m\u001b[0m\u001b[0m\n\u001b[0;32m-> 1392\u001b[0;31m         \u001b[0mevaluate_candidates\u001b[0m\u001b[0;34m(\u001b[0m\u001b[0mParameterGrid\u001b[0m\u001b[0;34m(\u001b[0m\u001b[0mself\u001b[0m\u001b[0;34m.\u001b[0m\u001b[0mparam_grid\u001b[0m\u001b[0;34m)\u001b[0m\u001b[0;34m)\u001b[0m\u001b[0;34m\u001b[0m\u001b[0;34m\u001b[0m\u001b[0m\n\u001b[0m\u001b[1;32m   1393\u001b[0m \u001b[0;34m\u001b[0m\u001b[0m\n\u001b[1;32m   1394\u001b[0m \u001b[0;34m\u001b[0m\u001b[0m\n",
            "\u001b[0;32m/usr/local/lib/python3.7/dist-packages/sklearn/model_selection/_search.py\u001b[0m in \u001b[0;36mevaluate_candidates\u001b[0;34m(candidate_params, cv, more_results)\u001b[0m\n\u001b[1;32m    849\u001b[0m                     )\n\u001b[1;32m    850\u001b[0m                     for (cand_idx, parameters), (split_idx, (train, test)) in product(\n\u001b[0;32m--> 851\u001b[0;31m                         \u001b[0menumerate\u001b[0m\u001b[0;34m(\u001b[0m\u001b[0mcandidate_params\u001b[0m\u001b[0;34m)\u001b[0m\u001b[0;34m,\u001b[0m \u001b[0menumerate\u001b[0m\u001b[0;34m(\u001b[0m\u001b[0mcv\u001b[0m\u001b[0;34m.\u001b[0m\u001b[0msplit\u001b[0m\u001b[0;34m(\u001b[0m\u001b[0mX\u001b[0m\u001b[0;34m,\u001b[0m \u001b[0my\u001b[0m\u001b[0;34m,\u001b[0m \u001b[0mgroups\u001b[0m\u001b[0;34m)\u001b[0m\u001b[0;34m)\u001b[0m\u001b[0;34m\u001b[0m\u001b[0;34m\u001b[0m\u001b[0m\n\u001b[0m\u001b[1;32m    852\u001b[0m                     )\n\u001b[1;32m    853\u001b[0m                 )\n",
            "\u001b[0;32m/usr/local/lib/python3.7/dist-packages/joblib/parallel.py\u001b[0m in \u001b[0;36m__call__\u001b[0;34m(self, iterable)\u001b[0m\n\u001b[1;32m   1044\u001b[0m                 \u001b[0mself\u001b[0m\u001b[0;34m.\u001b[0m\u001b[0m_iterating\u001b[0m \u001b[0;34m=\u001b[0m \u001b[0mself\u001b[0m\u001b[0;34m.\u001b[0m\u001b[0m_original_iterator\u001b[0m \u001b[0;32mis\u001b[0m \u001b[0;32mnot\u001b[0m \u001b[0;32mNone\u001b[0m\u001b[0;34m\u001b[0m\u001b[0;34m\u001b[0m\u001b[0m\n\u001b[1;32m   1045\u001b[0m \u001b[0;34m\u001b[0m\u001b[0m\n\u001b[0;32m-> 1046\u001b[0;31m             \u001b[0;32mwhile\u001b[0m \u001b[0mself\u001b[0m\u001b[0;34m.\u001b[0m\u001b[0mdispatch_one_batch\u001b[0m\u001b[0;34m(\u001b[0m\u001b[0miterator\u001b[0m\u001b[0;34m)\u001b[0m\u001b[0;34m:\u001b[0m\u001b[0;34m\u001b[0m\u001b[0;34m\u001b[0m\u001b[0m\n\u001b[0m\u001b[1;32m   1047\u001b[0m                 \u001b[0;32mpass\u001b[0m\u001b[0;34m\u001b[0m\u001b[0;34m\u001b[0m\u001b[0m\n\u001b[1;32m   1048\u001b[0m \u001b[0;34m\u001b[0m\u001b[0m\n",
            "\u001b[0;32m/usr/local/lib/python3.7/dist-packages/joblib/parallel.py\u001b[0m in \u001b[0;36mdispatch_one_batch\u001b[0;34m(self, iterator)\u001b[0m\n\u001b[1;32m    859\u001b[0m                 \u001b[0;32mreturn\u001b[0m \u001b[0;32mFalse\u001b[0m\u001b[0;34m\u001b[0m\u001b[0;34m\u001b[0m\u001b[0m\n\u001b[1;32m    860\u001b[0m             \u001b[0;32melse\u001b[0m\u001b[0;34m:\u001b[0m\u001b[0;34m\u001b[0m\u001b[0;34m\u001b[0m\u001b[0m\n\u001b[0;32m--> 861\u001b[0;31m                 \u001b[0mself\u001b[0m\u001b[0;34m.\u001b[0m\u001b[0m_dispatch\u001b[0m\u001b[0;34m(\u001b[0m\u001b[0mtasks\u001b[0m\u001b[0;34m)\u001b[0m\u001b[0;34m\u001b[0m\u001b[0;34m\u001b[0m\u001b[0m\n\u001b[0m\u001b[1;32m    862\u001b[0m                 \u001b[0;32mreturn\u001b[0m \u001b[0;32mTrue\u001b[0m\u001b[0;34m\u001b[0m\u001b[0;34m\u001b[0m\u001b[0m\n\u001b[1;32m    863\u001b[0m \u001b[0;34m\u001b[0m\u001b[0m\n",
            "\u001b[0;32m/usr/local/lib/python3.7/dist-packages/joblib/parallel.py\u001b[0m in \u001b[0;36m_dispatch\u001b[0;34m(self, batch)\u001b[0m\n\u001b[1;32m    777\u001b[0m         \u001b[0;32mwith\u001b[0m \u001b[0mself\u001b[0m\u001b[0;34m.\u001b[0m\u001b[0m_lock\u001b[0m\u001b[0;34m:\u001b[0m\u001b[0;34m\u001b[0m\u001b[0;34m\u001b[0m\u001b[0m\n\u001b[1;32m    778\u001b[0m             \u001b[0mjob_idx\u001b[0m \u001b[0;34m=\u001b[0m \u001b[0mlen\u001b[0m\u001b[0;34m(\u001b[0m\u001b[0mself\u001b[0m\u001b[0;34m.\u001b[0m\u001b[0m_jobs\u001b[0m\u001b[0;34m)\u001b[0m\u001b[0;34m\u001b[0m\u001b[0;34m\u001b[0m\u001b[0m\n\u001b[0;32m--> 779\u001b[0;31m             \u001b[0mjob\u001b[0m \u001b[0;34m=\u001b[0m \u001b[0mself\u001b[0m\u001b[0;34m.\u001b[0m\u001b[0m_backend\u001b[0m\u001b[0;34m.\u001b[0m\u001b[0mapply_async\u001b[0m\u001b[0;34m(\u001b[0m\u001b[0mbatch\u001b[0m\u001b[0;34m,\u001b[0m \u001b[0mcallback\u001b[0m\u001b[0;34m=\u001b[0m\u001b[0mcb\u001b[0m\u001b[0;34m)\u001b[0m\u001b[0;34m\u001b[0m\u001b[0;34m\u001b[0m\u001b[0m\n\u001b[0m\u001b[1;32m    780\u001b[0m             \u001b[0;31m# A job can complete so quickly than its callback is\u001b[0m\u001b[0;34m\u001b[0m\u001b[0;34m\u001b[0m\u001b[0;34m\u001b[0m\u001b[0m\n\u001b[1;32m    781\u001b[0m             \u001b[0;31m# called before we get here, causing self._jobs to\u001b[0m\u001b[0;34m\u001b[0m\u001b[0;34m\u001b[0m\u001b[0;34m\u001b[0m\u001b[0m\n",
            "\u001b[0;32m/usr/local/lib/python3.7/dist-packages/joblib/_parallel_backends.py\u001b[0m in \u001b[0;36mapply_async\u001b[0;34m(self, func, callback)\u001b[0m\n\u001b[1;32m    206\u001b[0m     \u001b[0;32mdef\u001b[0m \u001b[0mapply_async\u001b[0m\u001b[0;34m(\u001b[0m\u001b[0mself\u001b[0m\u001b[0;34m,\u001b[0m \u001b[0mfunc\u001b[0m\u001b[0;34m,\u001b[0m \u001b[0mcallback\u001b[0m\u001b[0;34m=\u001b[0m\u001b[0;32mNone\u001b[0m\u001b[0;34m)\u001b[0m\u001b[0;34m:\u001b[0m\u001b[0;34m\u001b[0m\u001b[0;34m\u001b[0m\u001b[0m\n\u001b[1;32m    207\u001b[0m         \u001b[0;34m\"\"\"Schedule a func to be run\"\"\"\u001b[0m\u001b[0;34m\u001b[0m\u001b[0;34m\u001b[0m\u001b[0m\n\u001b[0;32m--> 208\u001b[0;31m         \u001b[0mresult\u001b[0m \u001b[0;34m=\u001b[0m \u001b[0mImmediateResult\u001b[0m\u001b[0;34m(\u001b[0m\u001b[0mfunc\u001b[0m\u001b[0;34m)\u001b[0m\u001b[0;34m\u001b[0m\u001b[0;34m\u001b[0m\u001b[0m\n\u001b[0m\u001b[1;32m    209\u001b[0m         \u001b[0;32mif\u001b[0m \u001b[0mcallback\u001b[0m\u001b[0;34m:\u001b[0m\u001b[0;34m\u001b[0m\u001b[0;34m\u001b[0m\u001b[0m\n\u001b[1;32m    210\u001b[0m             \u001b[0mcallback\u001b[0m\u001b[0;34m(\u001b[0m\u001b[0mresult\u001b[0m\u001b[0;34m)\u001b[0m\u001b[0;34m\u001b[0m\u001b[0;34m\u001b[0m\u001b[0m\n",
            "\u001b[0;32m/usr/local/lib/python3.7/dist-packages/joblib/_parallel_backends.py\u001b[0m in \u001b[0;36m__init__\u001b[0;34m(self, batch)\u001b[0m\n\u001b[1;32m    570\u001b[0m         \u001b[0;31m# Don't delay the application, to avoid keeping the input\u001b[0m\u001b[0;34m\u001b[0m\u001b[0;34m\u001b[0m\u001b[0;34m\u001b[0m\u001b[0m\n\u001b[1;32m    571\u001b[0m         \u001b[0;31m# arguments in memory\u001b[0m\u001b[0;34m\u001b[0m\u001b[0;34m\u001b[0m\u001b[0;34m\u001b[0m\u001b[0m\n\u001b[0;32m--> 572\u001b[0;31m         \u001b[0mself\u001b[0m\u001b[0;34m.\u001b[0m\u001b[0mresults\u001b[0m \u001b[0;34m=\u001b[0m \u001b[0mbatch\u001b[0m\u001b[0;34m(\u001b[0m\u001b[0;34m)\u001b[0m\u001b[0;34m\u001b[0m\u001b[0;34m\u001b[0m\u001b[0m\n\u001b[0m\u001b[1;32m    573\u001b[0m \u001b[0;34m\u001b[0m\u001b[0m\n\u001b[1;32m    574\u001b[0m     \u001b[0;32mdef\u001b[0m \u001b[0mget\u001b[0m\u001b[0;34m(\u001b[0m\u001b[0mself\u001b[0m\u001b[0;34m)\u001b[0m\u001b[0;34m:\u001b[0m\u001b[0;34m\u001b[0m\u001b[0;34m\u001b[0m\u001b[0m\n",
            "\u001b[0;32m/usr/local/lib/python3.7/dist-packages/joblib/parallel.py\u001b[0m in \u001b[0;36m__call__\u001b[0;34m(self)\u001b[0m\n\u001b[1;32m    261\u001b[0m         \u001b[0;32mwith\u001b[0m \u001b[0mparallel_backend\u001b[0m\u001b[0;34m(\u001b[0m\u001b[0mself\u001b[0m\u001b[0;34m.\u001b[0m\u001b[0m_backend\u001b[0m\u001b[0;34m,\u001b[0m \u001b[0mn_jobs\u001b[0m\u001b[0;34m=\u001b[0m\u001b[0mself\u001b[0m\u001b[0;34m.\u001b[0m\u001b[0m_n_jobs\u001b[0m\u001b[0;34m)\u001b[0m\u001b[0;34m:\u001b[0m\u001b[0;34m\u001b[0m\u001b[0;34m\u001b[0m\u001b[0m\n\u001b[1;32m    262\u001b[0m             return [func(*args, **kwargs)\n\u001b[0;32m--> 263\u001b[0;31m                     for func, args, kwargs in self.items]\n\u001b[0m\u001b[1;32m    264\u001b[0m \u001b[0;34m\u001b[0m\u001b[0m\n\u001b[1;32m    265\u001b[0m     \u001b[0;32mdef\u001b[0m \u001b[0m__reduce__\u001b[0m\u001b[0;34m(\u001b[0m\u001b[0mself\u001b[0m\u001b[0;34m)\u001b[0m\u001b[0;34m:\u001b[0m\u001b[0;34m\u001b[0m\u001b[0;34m\u001b[0m\u001b[0m\n",
            "\u001b[0;32m/usr/local/lib/python3.7/dist-packages/joblib/parallel.py\u001b[0m in \u001b[0;36m<listcomp>\u001b[0;34m(.0)\u001b[0m\n\u001b[1;32m    261\u001b[0m         \u001b[0;32mwith\u001b[0m \u001b[0mparallel_backend\u001b[0m\u001b[0;34m(\u001b[0m\u001b[0mself\u001b[0m\u001b[0;34m.\u001b[0m\u001b[0m_backend\u001b[0m\u001b[0;34m,\u001b[0m \u001b[0mn_jobs\u001b[0m\u001b[0;34m=\u001b[0m\u001b[0mself\u001b[0m\u001b[0;34m.\u001b[0m\u001b[0m_n_jobs\u001b[0m\u001b[0;34m)\u001b[0m\u001b[0;34m:\u001b[0m\u001b[0;34m\u001b[0m\u001b[0;34m\u001b[0m\u001b[0m\n\u001b[1;32m    262\u001b[0m             return [func(*args, **kwargs)\n\u001b[0;32m--> 263\u001b[0;31m                     for func, args, kwargs in self.items]\n\u001b[0m\u001b[1;32m    264\u001b[0m \u001b[0;34m\u001b[0m\u001b[0m\n\u001b[1;32m    265\u001b[0m     \u001b[0;32mdef\u001b[0m \u001b[0m__reduce__\u001b[0m\u001b[0;34m(\u001b[0m\u001b[0mself\u001b[0m\u001b[0;34m)\u001b[0m\u001b[0;34m:\u001b[0m\u001b[0;34m\u001b[0m\u001b[0;34m\u001b[0m\u001b[0m\n",
            "\u001b[0;32m/usr/local/lib/python3.7/dist-packages/sklearn/utils/fixes.py\u001b[0m in \u001b[0;36m__call__\u001b[0;34m(self, *args, **kwargs)\u001b[0m\n\u001b[1;32m    214\u001b[0m     \u001b[0;32mdef\u001b[0m \u001b[0m__call__\u001b[0m\u001b[0;34m(\u001b[0m\u001b[0mself\u001b[0m\u001b[0;34m,\u001b[0m \u001b[0;34m*\u001b[0m\u001b[0margs\u001b[0m\u001b[0;34m,\u001b[0m \u001b[0;34m**\u001b[0m\u001b[0mkwargs\u001b[0m\u001b[0;34m)\u001b[0m\u001b[0;34m:\u001b[0m\u001b[0;34m\u001b[0m\u001b[0;34m\u001b[0m\u001b[0m\n\u001b[1;32m    215\u001b[0m         \u001b[0;32mwith\u001b[0m \u001b[0mconfig_context\u001b[0m\u001b[0;34m(\u001b[0m\u001b[0;34m**\u001b[0m\u001b[0mself\u001b[0m\u001b[0;34m.\u001b[0m\u001b[0mconfig\u001b[0m\u001b[0;34m)\u001b[0m\u001b[0;34m:\u001b[0m\u001b[0;34m\u001b[0m\u001b[0;34m\u001b[0m\u001b[0m\n\u001b[0;32m--> 216\u001b[0;31m             \u001b[0;32mreturn\u001b[0m \u001b[0mself\u001b[0m\u001b[0;34m.\u001b[0m\u001b[0mfunction\u001b[0m\u001b[0;34m(\u001b[0m\u001b[0;34m*\u001b[0m\u001b[0margs\u001b[0m\u001b[0;34m,\u001b[0m \u001b[0;34m**\u001b[0m\u001b[0mkwargs\u001b[0m\u001b[0;34m)\u001b[0m\u001b[0;34m\u001b[0m\u001b[0;34m\u001b[0m\u001b[0m\n\u001b[0m\u001b[1;32m    217\u001b[0m \u001b[0;34m\u001b[0m\u001b[0m\n\u001b[1;32m    218\u001b[0m \u001b[0;34m\u001b[0m\u001b[0m\n",
            "\u001b[0;32m/usr/local/lib/python3.7/dist-packages/sklearn/model_selection/_validation.py\u001b[0m in \u001b[0;36m_fit_and_score\u001b[0;34m(estimator, X, y, scorer, train, test, verbose, parameters, fit_params, return_train_score, return_parameters, return_n_test_samples, return_times, return_estimator, split_progress, candidate_progress, error_score)\u001b[0m\n\u001b[1;32m    678\u001b[0m             \u001b[0mestimator\u001b[0m\u001b[0;34m.\u001b[0m\u001b[0mfit\u001b[0m\u001b[0;34m(\u001b[0m\u001b[0mX_train\u001b[0m\u001b[0;34m,\u001b[0m \u001b[0;34m**\u001b[0m\u001b[0mfit_params\u001b[0m\u001b[0;34m)\u001b[0m\u001b[0;34m\u001b[0m\u001b[0;34m\u001b[0m\u001b[0m\n\u001b[1;32m    679\u001b[0m         \u001b[0;32melse\u001b[0m\u001b[0;34m:\u001b[0m\u001b[0;34m\u001b[0m\u001b[0;34m\u001b[0m\u001b[0m\n\u001b[0;32m--> 680\u001b[0;31m             \u001b[0mestimator\u001b[0m\u001b[0;34m.\u001b[0m\u001b[0mfit\u001b[0m\u001b[0;34m(\u001b[0m\u001b[0mX_train\u001b[0m\u001b[0;34m,\u001b[0m \u001b[0my_train\u001b[0m\u001b[0;34m,\u001b[0m \u001b[0;34m**\u001b[0m\u001b[0mfit_params\u001b[0m\u001b[0;34m)\u001b[0m\u001b[0;34m\u001b[0m\u001b[0;34m\u001b[0m\u001b[0m\n\u001b[0m\u001b[1;32m    681\u001b[0m \u001b[0;34m\u001b[0m\u001b[0m\n\u001b[1;32m    682\u001b[0m     \u001b[0;32mexcept\u001b[0m \u001b[0mException\u001b[0m\u001b[0;34m:\u001b[0m\u001b[0;34m\u001b[0m\u001b[0;34m\u001b[0m\u001b[0m\n",
            "\u001b[0;32m/usr/local/lib/python3.7/dist-packages/sklearn/pipeline.py\u001b[0m in \u001b[0;36mfit\u001b[0;34m(self, X, y, **fit_params)\u001b[0m\n\u001b[1;32m    392\u001b[0m             \u001b[0;32mif\u001b[0m \u001b[0mself\u001b[0m\u001b[0;34m.\u001b[0m\u001b[0m_final_estimator\u001b[0m \u001b[0;34m!=\u001b[0m \u001b[0;34m\"passthrough\"\u001b[0m\u001b[0;34m:\u001b[0m\u001b[0;34m\u001b[0m\u001b[0;34m\u001b[0m\u001b[0m\n\u001b[1;32m    393\u001b[0m                 \u001b[0mfit_params_last_step\u001b[0m \u001b[0;34m=\u001b[0m \u001b[0mfit_params_steps\u001b[0m\u001b[0;34m[\u001b[0m\u001b[0mself\u001b[0m\u001b[0;34m.\u001b[0m\u001b[0msteps\u001b[0m\u001b[0;34m[\u001b[0m\u001b[0;34m-\u001b[0m\u001b[0;36m1\u001b[0m\u001b[0;34m]\u001b[0m\u001b[0;34m[\u001b[0m\u001b[0;36m0\u001b[0m\u001b[0;34m]\u001b[0m\u001b[0;34m]\u001b[0m\u001b[0;34m\u001b[0m\u001b[0;34m\u001b[0m\u001b[0m\n\u001b[0;32m--> 394\u001b[0;31m                 \u001b[0mself\u001b[0m\u001b[0;34m.\u001b[0m\u001b[0m_final_estimator\u001b[0m\u001b[0;34m.\u001b[0m\u001b[0mfit\u001b[0m\u001b[0;34m(\u001b[0m\u001b[0mXt\u001b[0m\u001b[0;34m,\u001b[0m \u001b[0my\u001b[0m\u001b[0;34m,\u001b[0m \u001b[0;34m**\u001b[0m\u001b[0mfit_params_last_step\u001b[0m\u001b[0;34m)\u001b[0m\u001b[0;34m\u001b[0m\u001b[0;34m\u001b[0m\u001b[0m\n\u001b[0m\u001b[1;32m    395\u001b[0m \u001b[0;34m\u001b[0m\u001b[0m\n\u001b[1;32m    396\u001b[0m         \u001b[0;32mreturn\u001b[0m \u001b[0mself\u001b[0m\u001b[0;34m\u001b[0m\u001b[0;34m\u001b[0m\u001b[0m\n",
            "\u001b[0;32m/usr/local/lib/python3.7/dist-packages/sklearn/svm/_base.py\u001b[0m in \u001b[0;36mfit\u001b[0;34m(self, X, y, sample_weight)\u001b[0m\n\u001b[1;32m    253\u001b[0m \u001b[0;34m\u001b[0m\u001b[0m\n\u001b[1;32m    254\u001b[0m         \u001b[0mseed\u001b[0m \u001b[0;34m=\u001b[0m \u001b[0mrnd\u001b[0m\u001b[0;34m.\u001b[0m\u001b[0mrandint\u001b[0m\u001b[0;34m(\u001b[0m\u001b[0mnp\u001b[0m\u001b[0;34m.\u001b[0m\u001b[0miinfo\u001b[0m\u001b[0;34m(\u001b[0m\u001b[0;34m\"i\"\u001b[0m\u001b[0;34m)\u001b[0m\u001b[0;34m.\u001b[0m\u001b[0mmax\u001b[0m\u001b[0;34m)\u001b[0m\u001b[0;34m\u001b[0m\u001b[0;34m\u001b[0m\u001b[0m\n\u001b[0;32m--> 255\u001b[0;31m         \u001b[0mfit\u001b[0m\u001b[0;34m(\u001b[0m\u001b[0mX\u001b[0m\u001b[0;34m,\u001b[0m \u001b[0my\u001b[0m\u001b[0;34m,\u001b[0m \u001b[0msample_weight\u001b[0m\u001b[0;34m,\u001b[0m \u001b[0msolver_type\u001b[0m\u001b[0;34m,\u001b[0m \u001b[0mkernel\u001b[0m\u001b[0;34m,\u001b[0m \u001b[0mrandom_seed\u001b[0m\u001b[0;34m=\u001b[0m\u001b[0mseed\u001b[0m\u001b[0;34m)\u001b[0m\u001b[0;34m\u001b[0m\u001b[0;34m\u001b[0m\u001b[0m\n\u001b[0m\u001b[1;32m    256\u001b[0m         \u001b[0;31m# see comment on the other call to np.iinfo in this file\u001b[0m\u001b[0;34m\u001b[0m\u001b[0;34m\u001b[0m\u001b[0;34m\u001b[0m\u001b[0m\n\u001b[1;32m    257\u001b[0m \u001b[0;34m\u001b[0m\u001b[0m\n",
            "\u001b[0;32m/usr/local/lib/python3.7/dist-packages/sklearn/svm/_base.py\u001b[0m in \u001b[0;36m_dense_fit\u001b[0;34m(self, X, y, sample_weight, solver_type, kernel, random_seed)\u001b[0m\n\u001b[1;32m    331\u001b[0m             \u001b[0mepsilon\u001b[0m\u001b[0;34m=\u001b[0m\u001b[0mself\u001b[0m\u001b[0;34m.\u001b[0m\u001b[0mepsilon\u001b[0m\u001b[0;34m,\u001b[0m\u001b[0;34m\u001b[0m\u001b[0;34m\u001b[0m\u001b[0m\n\u001b[1;32m    332\u001b[0m             \u001b[0mmax_iter\u001b[0m\u001b[0;34m=\u001b[0m\u001b[0mself\u001b[0m\u001b[0;34m.\u001b[0m\u001b[0mmax_iter\u001b[0m\u001b[0;34m,\u001b[0m\u001b[0;34m\u001b[0m\u001b[0;34m\u001b[0m\u001b[0m\n\u001b[0;32m--> 333\u001b[0;31m             \u001b[0mrandom_seed\u001b[0m\u001b[0;34m=\u001b[0m\u001b[0mrandom_seed\u001b[0m\u001b[0;34m,\u001b[0m\u001b[0;34m\u001b[0m\u001b[0;34m\u001b[0m\u001b[0m\n\u001b[0m\u001b[1;32m    334\u001b[0m         )\n\u001b[1;32m    335\u001b[0m \u001b[0;34m\u001b[0m\u001b[0m\n",
            "\u001b[0;32msklearn/svm/_libsvm.pyx\u001b[0m in \u001b[0;36msklearn.svm._libsvm.fit\u001b[0;34m()\u001b[0m\n",
            "\u001b[0;31mKeyboardInterrupt\u001b[0m: "
          ]
        }
      ]
    },
    {
      "cell_type": "code",
      "source": [
        "svr_grid_search_rmse = -grid_search.best_score_\n",
        "svr_grid_search_rmse"
      ],
      "metadata": {
        "id": "Pth7EJA7cPtW"
      },
      "execution_count": null,
      "outputs": []
    },
    {
      "cell_type": "code",
      "source": [
        "grid_search.best_params_"
      ],
      "metadata": {
        "id": "_UanGXe-cQX_"
      },
      "execution_count": null,
      "outputs": []
    },
    {
      "cell_type": "markdown",
      "source": [
        "2."
      ],
      "metadata": {
        "id": "zHE9QUqbccz-"
      }
    },
    {
      "cell_type": "code",
      "source": [
        "from sklearn.model_selection import RandomizedSearchCV\n",
        "from scipy.stats import expon, reciprocal\n",
        "\n",
        "# see https://docs.scipy.org/doc/scipy/reference/stats.html\n",
        "# for `expon()` and `reciprocal()` documentation and more probability distribution functions.\n",
        "\n",
        "# Note: gamma is ignored when kernel is \"linear\"\n",
        "param_distribs = {\n",
        "        'svr__kernel': ['linear', 'rbf'],\n",
        "        'svr__C': reciprocal(20, 200_000),\n",
        "        'svr__gamma': expon(scale=1.0),\n",
        "    }\n",
        "\n",
        "rnd_search = RandomizedSearchCV(svr_pipeline,\n",
        "                                param_distributions=param_distribs,\n",
        "                                n_iter=50, cv=3,\n",
        "                                scoring='neg_root_mean_squared_error',\n",
        "                                random_state=42)\n",
        "rnd_search.fit(housing.iloc[:5000], housing_labels.iloc[:5000])"
      ],
      "metadata": {
        "id": "aXwnERspcTPx"
      },
      "execution_count": null,
      "outputs": []
    },
    {
      "cell_type": "code",
      "source": [
        "svr_rnd_search_rmse = -rnd_search.best_score_\n",
        "svr_rnd_search_rmse"
      ],
      "metadata": {
        "id": "oSgNEiIFcXc7"
      },
      "execution_count": null,
      "outputs": []
    },
    {
      "cell_type": "code",
      "source": [
        "rnd_search.best_params_"
      ],
      "metadata": {
        "id": "HvWU_jpecY3i"
      },
      "execution_count": null,
      "outputs": []
    },
    {
      "cell_type": "code",
      "source": [
        "np.random.seed(42)\n",
        "\n",
        "s = expon(scale=1).rvs(100_000)  # get 100,000 samples\n",
        "((s > 0.105) & (s < 2.29)).sum() / 100_000"
      ],
      "metadata": {
        "id": "ey63VEuRcaY2"
      },
      "execution_count": null,
      "outputs": []
    },
    {
      "cell_type": "markdown",
      "source": [
        "3."
      ],
      "metadata": {
        "id": "5AljbpEacfBw"
      }
    },
    {
      "cell_type": "code",
      "source": [
        "from sklearn.feature_selection import SelectFromModel\n",
        "\n",
        "selector_pipeline = Pipeline([\n",
        "    ('preprocessing', preprocessing),\n",
        "    ('selector', SelectFromModel(RandomForestRegressor(random_state=42),\n",
        "                                 threshold=0.005)),  # min feature importance\n",
        "    ('svr', SVR(C=rnd_search.best_params_[\"svr__C\"],\n",
        "                gamma=rnd_search.best_params_[\"svr__gamma\"],\n",
        "                kernel=rnd_search.best_params_[\"svr__kernel\"])),\n",
        "])"
      ],
      "metadata": {
        "id": "pRo0c-vKcgLC"
      },
      "execution_count": null,
      "outputs": []
    },
    {
      "cell_type": "code",
      "source": [
        "selector_rmses = -cross_val_score(selector_pipeline,\n",
        "                                  housing.iloc[:5000],\n",
        "                                  housing_labels.iloc[:5000],\n",
        "                                  scoring=\"neg_root_mean_squared_error\",\n",
        "                                  cv=3)\n",
        "pd.Series(selector_rmses).describe()"
      ],
      "metadata": {
        "id": "4oCmFjnTchLE"
      },
      "execution_count": null,
      "outputs": []
    },
    {
      "cell_type": "markdown",
      "source": [
        "4."
      ],
      "metadata": {
        "id": "RXU3V0tgcjpQ"
      }
    },
    {
      "cell_type": "code",
      "source": [
        "from sklearn.neighbors import KNeighborsRegressor\n",
        "from sklearn.base import MetaEstimatorMixin, clone\n",
        "from sklearn.utils.validation import check_array, check_is_fitted\n",
        "\n",
        "class FeatureFromRegressor(MetaEstimatorMixin, BaseEstimator, TransformerMixin):\n",
        "    def __init__(self, estimator):\n",
        "        self.estimator = estimator\n",
        "\n",
        "    def fit(self, X, y=None):\n",
        "        estimator_ = clone(self.estimator)\n",
        "        estimator_.fit(X, y)\n",
        "        self.estimator_ = estimator_\n",
        "        self.n_features_in_ = self.estimator_.n_features_in_\n",
        "        if hasattr(self.estimator, \"feature_names_in_\"):\n",
        "            self.feature_names_in_ = self.estimator.feature_names_in_\n",
        "        return self  # always return self!\n",
        "    \n",
        "    def transform(self, X):\n",
        "        check_is_fitted(self)\n",
        "        predictions = self.estimator_.predict(X)\n",
        "        if predictions.ndim == 1:\n",
        "            predictions = predictions.reshape(-1, 1)\n",
        "        return predictions\n",
        "\n",
        "    def get_feature_names_out(self, names=None):\n",
        "        check_is_fitted(self)\n",
        "        n_outputs = getattr(self.estimator_, \"n_outputs_\", 1)\n",
        "        estimator_class_name = self.estimator_.__class__.__name__\n",
        "        estimator_short_name = estimator_class_name.lower().replace(\"_\", \"\")\n",
        "        return [f\"{estimator_short_name}_prediction_{i}\"\n",
        "                for i in range(n_outputs)]"
      ],
      "metadata": {
        "id": "j8Df1MLDcmi7"
      },
      "execution_count": null,
      "outputs": []
    },
    {
      "cell_type": "code",
      "source": [
        "from sklearn.utils.estimator_checks import check_estimator\n",
        "\n",
        "check_estimator(FeatureFromRegressor(KNeighborsRegressor()))"
      ],
      "metadata": {
        "id": "kg8jpVBFcnmC"
      },
      "execution_count": null,
      "outputs": []
    },
    {
      "cell_type": "code",
      "source": [
        "knn_reg = KNeighborsRegressor(n_neighbors=3, weights=\"distance\")\n",
        "knn_transformer = FeatureFromRegressor(knn_reg)\n",
        "geo_features = housing[[\"latitude\", \"longitude\"]]\n",
        "knn_transformer.fit_transform(geo_features, housing_labels)"
      ],
      "metadata": {
        "id": "0PQqeS4tcn-0"
      },
      "execution_count": null,
      "outputs": []
    },
    {
      "cell_type": "code",
      "source": [
        "knn_transformer.get_feature_names_out()"
      ],
      "metadata": {
        "id": "PgKWdTd5cqVO"
      },
      "execution_count": null,
      "outputs": []
    },
    {
      "cell_type": "code",
      "source": [
        "from sklearn.base import clone\n",
        "\n",
        "transformers = [(name, clone(transformer), columns)\n",
        "                for name, transformer, columns in preprocessing.transformers]\n",
        "geo_index = [name for name, _, _ in transformers].index(\"geo\")\n",
        "transformers[geo_index] = (\"geo\", knn_transformer, [\"latitude\", \"longitude\"])\n",
        "\n",
        "new_geo_preprocessing = ColumnTransformer(transformers)"
      ],
      "metadata": {
        "id": "nLvZSTxycrPd"
      },
      "execution_count": null,
      "outputs": []
    },
    {
      "cell_type": "code",
      "source": [
        "new_geo_pipeline = Pipeline([\n",
        "    ('preprocessing', new_geo_preprocessing),\n",
        "    ('svr', SVR(C=rnd_search.best_params_[\"svr__C\"],\n",
        "                gamma=rnd_search.best_params_[\"svr__gamma\"],\n",
        "                kernel=rnd_search.best_params_[\"svr__kernel\"])),\n",
        "])"
      ],
      "metadata": {
        "id": "EHbz0BRpcsjZ"
      },
      "execution_count": null,
      "outputs": []
    },
    {
      "cell_type": "code",
      "source": [
        "new_pipe_rmses = -cross_val_score(new_geo_pipeline,\n",
        "                                  housing.iloc[:5000],\n",
        "                                  housing_labels.iloc[:5000],\n",
        "                                  scoring=\"neg_root_mean_squared_error\",\n",
        "                                  cv=3)\n",
        "pd.Series(new_pipe_rmses).describe()"
      ],
      "metadata": {
        "id": "Ee5B-6-ecua1"
      },
      "execution_count": null,
      "outputs": []
    },
    {
      "cell_type": "markdown",
      "source": [
        "5."
      ],
      "metadata": {
        "id": "ONP0YEKbcvk2"
      }
    },
    {
      "cell_type": "code",
      "source": [
        "param_distribs = {\n",
        "    \"preprocessing__geo__estimator__n_neighbors\": range(1, 30),\n",
        "    \"preprocessing__geo__estimator__weights\": [\"distance\", \"uniform\"],\n",
        "    \"svr__C\": reciprocal(20, 200_000),\n",
        "    \"svr__gamma\": expon(scale=1.0),\n",
        "}\n",
        "\n",
        "new_geo_rnd_search = RandomizedSearchCV(new_geo_pipeline,\n",
        "                                        param_distributions=param_distribs,\n",
        "                                        n_iter=50,\n",
        "                                        cv=3,\n",
        "                                        scoring='neg_root_mean_squared_error',\n",
        "                                        random_state=42)\n",
        "new_geo_rnd_search.fit(housing.iloc[:5000], housing_labels.iloc[:5000])"
      ],
      "metadata": {
        "id": "KHGsfi_FcwSv"
      },
      "execution_count": null,
      "outputs": []
    },
    {
      "cell_type": "code",
      "source": [
        "new_geo_rnd_search_rmse = -new_geo_rnd_search.best_score_\n",
        "new_geo_rnd_search_rmse"
      ],
      "metadata": {
        "id": "wz0qHio7czyl"
      },
      "execution_count": null,
      "outputs": []
    },
    {
      "cell_type": "markdown",
      "source": [
        "6."
      ],
      "metadata": {
        "id": "eNUwQiXsc16w"
      }
    },
    {
      "cell_type": "code",
      "source": [
        "from sklearn.base import BaseEstimator, TransformerMixin\n",
        "from sklearn.utils.validation import check_array, check_is_fitted\n",
        "\n",
        "class StandardScalerClone(BaseEstimator, TransformerMixin):\n",
        "    def __init__(self, with_mean=True):  # no *args or **kwargs!\n",
        "        self.with_mean = with_mean\n",
        "\n",
        "    def fit(self, X, y=None):  # y is required even though we don't use it\n",
        "        X_orig = X\n",
        "        X = check_array(X)  # checks that X is an array with finite float values\n",
        "        self.mean_ = X.mean(axis=0)\n",
        "        self.scale_ = X.std(axis=0)\n",
        "        self.n_features_in_ = X.shape[1]  # every estimator stores this in fit()\n",
        "        if hasattr(X_orig, \"columns\"):\n",
        "            self.feature_names_in_ = np.array(X_orig.columns, dtype=object) # np.object 대신 object 사용\n",
        "        return self  # always return self!\n",
        "\n",
        "    def transform(self, X):\n",
        "        check_is_fitted(self)  # looks for learned attributes (with trailing _)\n",
        "        X = check_array(X)\n",
        "        if self.n_features_in_ != X.shape[1]:\n",
        "            raise ValueError(\"Unexpected number of features\")\n",
        "        if self.with_mean:\n",
        "            X = X - self.mean_\n",
        "        return X / self.scale_\n",
        "    \n",
        "    def inverse_transform(self, X):\n",
        "        check_is_fitted(self)\n",
        "        X = check_array(X)\n",
        "        if self.n_features_in_ != X.shape[1]:\n",
        "            raise ValueError(\"Unexpected number of features\")\n",
        "        X = X * self.scale_\n",
        "        return X + self.mean_ if self.with_mean else X\n",
        "    \n",
        "    def get_feature_names_out(self, input_features=None):\n",
        "        if input_features is None:\n",
        "            return getattr(self, \"feature_names_in_\",\n",
        "                           [f\"x{i}\" for i in range(self.n_features_in_)])\n",
        "        else:\n",
        "            if len(input_features) != self.n_features_in_:\n",
        "                raise ValueError(\"Invalid number of features\")\n",
        "            if hasattr(self, \"feature_names_in_\") and not np.all(\n",
        "                self.feature_names_in_ == input_features\n",
        "            ):\n",
        "                raise ValueError(\"input_features ≠ feature_names_in_\")\n",
        "            return input_features"
      ],
      "metadata": {
        "id": "mIYHy77xc3Pl"
      },
      "execution_count": null,
      "outputs": []
    },
    {
      "cell_type": "code",
      "source": [
        "from sklearn.utils.estimator_checks import check_estimator\n",
        " \n",
        "check_estimator(StandardScalerClone())"
      ],
      "metadata": {
        "id": "8uSCrpzSc5B2"
      },
      "execution_count": null,
      "outputs": []
    },
    {
      "cell_type": "code",
      "source": [
        "np.random.seed(42)\n",
        "X = np.random.rand(1000, 3)\n",
        "\n",
        "scaler = StandardScalerClone()\n",
        "X_scaled = scaler.fit_transform(X)\n",
        "\n",
        "assert np.allclose(X_scaled, (X - X.mean(axis=0)) / X.std(axis=0))"
      ],
      "metadata": {
        "id": "OaySRHVKc6BQ"
      },
      "execution_count": null,
      "outputs": []
    },
    {
      "cell_type": "code",
      "source": [
        "scaler = StandardScalerClone(with_mean=False)\n",
        "X_scaled_uncentered = scaler.fit_transform(X)\n",
        "\n",
        "assert np.allclose(X_scaled_uncentered, X / X.std(axis=0))"
      ],
      "metadata": {
        "id": "k7rwMRDXc7qA"
      },
      "execution_count": null,
      "outputs": []
    },
    {
      "cell_type": "code",
      "source": [
        "assert np.all(scaler.get_feature_names_out() == [\"x0\", \"x1\", \"x2\"])\n",
        "assert np.all(scaler.get_feature_names_out([\"a\", \"b\", \"c\"]) == [\"a\", \"b\", \"c\"])"
      ],
      "metadata": {
        "id": "V9RkiS2Cc8ki"
      },
      "execution_count": null,
      "outputs": []
    },
    {
      "cell_type": "code",
      "source": [
        "df = pd.DataFrame({\"a\": np.random.rand(100), \"b\": np.random.rand(100)})\n",
        "scaler = StandardScalerClone()\n",
        "X_scaled = scaler.fit_transform(df)\n",
        "\n",
        "assert np.all(scaler.feature_names_in_ == [\"a\", \"b\"])\n",
        "assert np.all(scaler.get_feature_names_out() == [\"a\", \"b\"])"
      ],
      "metadata": {
        "id": "Ikd8e54wc-ha"
      },
      "execution_count": null,
      "outputs": []
    }
  ]
}
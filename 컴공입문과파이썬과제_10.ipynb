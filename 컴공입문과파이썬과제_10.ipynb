{
  "cells": [
    {
      "cell_type": "markdown",
      "metadata": {
        "id": "view-in-github",
        "colab_type": "text"
      },
      "source": [
        "<a href=\"https://colab.research.google.com/github/wantfree8937/Machine/blob/main/%EC%BB%B4%EA%B3%B5%EC%9E%85%EB%AC%B8%EA%B3%BC%ED%8C%8C%EC%9D%B4%EC%8D%AC%EA%B3%BC%EC%A0%9C_10.ipynb\" target=\"_parent\"><img src=\"https://colab.research.google.com/assets/colab-badge.svg\" alt=\"Open In Colab\"/></a>"
      ]
    },
    {
      "cell_type": "markdown",
      "id": "bd286fa2",
      "metadata": {
        "id": "bd286fa2"
      },
      "source": [
        "# (실습) 모음 자료형 2부: 집합, 사전, `range`, 조건제시법"
      ]
    },
    {
      "cell_type": "markdown",
      "id": "a5c511c1",
      "metadata": {
        "id": "a5c511c1"
      },
      "source": [
        "## 집합"
      ]
    },
    {
      "cell_type": "markdown",
      "id": "8d7431a2",
      "metadata": {
        "id": "8d7431a2"
      },
      "source": [
        "**문제 1**"
      ]
    },
    {
      "cell_type": "markdown",
      "id": "a8996e7c",
      "metadata": {
        "id": "a8996e7c"
      },
      "source": [
        "세 집합 A, B, C가 다음과 같이 주어졌다. "
      ]
    },
    {
      "cell_type": "code",
      "execution_count": 2,
      "id": "40f7078d",
      "metadata": {
        "id": "40f7078d"
      },
      "outputs": [],
      "source": [
        "A = {2, 4, 5}\n",
        "B = {1, 2, 2, 1, 10, 4}\n",
        "C = {3, 3, 3, 4}"
      ]
    },
    {
      "cell_type": "markdown",
      "id": "3e8ae185",
      "metadata": {
        "id": "3e8ae185"
      },
      "source": [
        "* $A \\cap B \\cap C$"
      ]
    },
    {
      "cell_type": "code",
      "execution_count": 3,
      "id": "a871f333",
      "metadata": {
        "id": "a871f333"
      },
      "outputs": [],
      "source": [
        "# pass 와  None을 적절한 명령문과 표현식으로 대체하라.\n",
        "\n",
        "AnBnC = A&B&C"
      ]
    },
    {
      "cell_type": "code",
      "execution_count": 4,
      "id": "23f462d7",
      "metadata": {
        "id": "23f462d7"
      },
      "outputs": [],
      "source": [
        "# 아래 코드의 주석 기호를 삭제하고 실행할 때 오류가 발생하지 않아야 한다.\n",
        "\n",
        "assert AnBnC == {4}"
      ]
    },
    {
      "cell_type": "markdown",
      "id": "e6de4d9e",
      "metadata": {
        "id": "e6de4d9e"
      },
      "source": [
        "* $(A \\cup B \\cup C) - A$"
      ]
    },
    {
      "cell_type": "code",
      "execution_count": 5,
      "id": "7c5d05be",
      "metadata": {
        "id": "7c5d05be"
      },
      "outputs": [],
      "source": [
        "# pass 와  None을 적절한 명령문과 표현식으로 대체하라.\n",
        "\n",
        "ArBrCmA = (A|B|C) - A"
      ]
    },
    {
      "cell_type": "code",
      "execution_count": 6,
      "id": "5701a40f",
      "metadata": {
        "id": "5701a40f"
      },
      "outputs": [],
      "source": [
        "# 아래 코드의 주석 기호를 삭제하고 실행할 때 오류가 발생하지 않아야 한다.\n",
        "\n",
        "assert ArBrCmA == {1, 3, 10}"
      ]
    },
    {
      "cell_type": "markdown",
      "id": "66466065",
      "metadata": {
        "id": "66466065"
      },
      "source": [
        "**문제 2**"
      ]
    },
    {
      "cell_type": "markdown",
      "id": "4b1ab94f",
      "metadata": {
        "id": "4b1ab94f"
      },
      "source": [
        "리스트가 입력되면 중복된 항목은 제거하고 남은 항목들을 내림차순으로 정렬한\n",
        "리스트를 반환하는 `unique_values()` 함수를 구현하라. "
      ]
    },
    {
      "cell_type": "code",
      "execution_count": 7,
      "id": "d87b4c29",
      "metadata": {
        "id": "d87b4c29"
      },
      "outputs": [],
      "source": [
        "# pass 와  None을 적절한 명령문과 표현식으로 대체하라.\n",
        "\n",
        "def unique_values(aList):\n",
        "\n",
        "    aList = set(aList)\n",
        "    aList = list(aList)\n",
        "    aList.sort(reverse=True)    \n",
        "\n",
        "    return aList"
      ]
    },
    {
      "cell_type": "code",
      "execution_count": 8,
      "id": "247e8ee8",
      "metadata": {
        "id": "247e8ee8"
      },
      "outputs": [],
      "source": [
        "# 아래 코드의 주석 기호를 삭제하고 실행할 때 오류가 발생하지 않아야 한다.\n",
        "\n",
        "assert unique_values([1, 2, 1, 3]) == [3, 2, 1]\n",
        "assert unique_values(['z', 'f', 'a', 'z']) == ['z', 'f', 'a']"
      ]
    },
    {
      "cell_type": "markdown",
      "id": "a20b4710",
      "metadata": {
        "id": "a20b4710"
      },
      "source": [
        "## 사전"
      ]
    },
    {
      "cell_type": "markdown",
      "id": "0932631b",
      "metadata": {
        "id": "0932631b"
      },
      "source": [
        "**문제 3**"
      ]
    },
    {
      "cell_type": "markdown",
      "id": "aa4161ad",
      "metadata": {
        "id": "aa4161ad"
      },
      "source": [
        "다음 `participants` 변수는 모임일과 그날 참석한 사람들의 이름을 저장하는 사전을 가리킨다."
      ]
    },
    {
      "cell_type": "code",
      "execution_count": 9,
      "id": "2ee676cc",
      "metadata": {
        "id": "2ee676cc"
      },
      "outputs": [],
      "source": [
        "participants = {'1월3일' : ['현성', '문정', '현무', '강현'], \n",
        "                '2월10일' : ['문정', '강현', '정훈'], \n",
        "                '3월7일' : ['현성', '연아', '현무', '지아']}"
      ]
    },
    {
      "cell_type": "markdown",
      "id": "b2c0c0f6",
      "metadata": {
        "id": "b2c0c0f6"
      },
      "source": [
        "(1) 그런데 3월7일 모임에 강현이가 참석하였는데, 이 정보가 누락되었다.  \n",
        "3월7일 참석자 명단 마지막에 '강현'을 추가한 다음, 아래와 같은 형식으로 출력하는 코드를 작성하여라.   \n",
        "\n",
        "```python\n",
        "3월7일 모임에는 ['현성', '연아', '현무', '지아', '강현'], 총 5명이 참석했습니다.\n",
        "```"
      ]
    },
    {
      "cell_type": "code",
      "execution_count": 10,
      "id": "9a1592f4",
      "metadata": {
        "id": "9a1592f4",
        "colab": {
          "base_uri": "https://localhost:8080/"
        },
        "outputId": "6480dd32-a816-433e-c688-aea0fcdfee88"
      },
      "outputs": [
        {
          "output_type": "stream",
          "name": "stdout",
          "text": [
            "3월7일 모임에는  ['현성', '연아', '현무', '지아', '강현'] , 총 5명이 참석했습니다\n"
          ]
        }
      ],
      "source": [
        "# pass 를 적절한 명령문과 표현식으로 대체하라.\n",
        "# 단, 앞서 언급된 출력값을 직접 사용하지는 않아야 한다.\n",
        "\n",
        "participants['3월7일'].append('강현')\n",
        "print('3월7일 모임에는 ', participants['3월7일'], ', 총 5명이 참석했습니다')"
      ]
    },
    {
      "cell_type": "markdown",
      "id": "5a278630",
      "metadata": {
        "id": "5a278630"
      },
      "source": [
        "(2) 이름을 입력받아 1월3일 모임에 참석했으면 `True`, 아니면 `False`를 출력하는 \n",
        "`attended()` 함수를 작성하라.   "
      ]
    },
    {
      "cell_type": "code",
      "execution_count": 11,
      "id": "5afe29a5",
      "metadata": {
        "id": "5afe29a5"
      },
      "outputs": [],
      "source": [
        "# pass 와  None을 적절한 명령문과 표현식으로 대체하라.\n",
        "\n",
        "def attended(name):\n",
        "    if name in participants['1월3일']:\n",
        "      return True\n",
        "\n",
        "    return False"
      ]
    },
    {
      "cell_type": "code",
      "execution_count": 12,
      "id": "f7d7d317",
      "metadata": {
        "id": "f7d7d317"
      },
      "outputs": [],
      "source": [
        "# 아래 코드의 주석 기호를 삭제하고 실행할 때 오류가 발생하지 않아야 한다.\n",
        "\n",
        "assert attended(\"현성\") == True\n",
        "assert attended(\"찬호\") == False"
      ]
    },
    {
      "cell_type": "markdown",
      "id": "faa26cd6",
      "metadata": {
        "id": "faa26cd6"
      },
      "source": [
        "**문제 4**"
      ]
    },
    {
      "cell_type": "markdown",
      "id": "ca952ba4",
      "metadata": {
        "id": "ca952ba4"
      },
      "source": [
        "어느 반 학생들의 이름이 리스트로 주어졌다."
      ]
    },
    {
      "cell_type": "code",
      "execution_count": 13,
      "id": "aed88923",
      "metadata": {
        "id": "aed88923"
      },
      "outputs": [],
      "source": [
        "students = ['Apeach', 'Ryan', 'Muzi', 'Choonsik', 'Neo', 'Tube']"
      ]
    },
    {
      "cell_type": "markdown",
      "id": "1b676b52",
      "metadata": {
        "id": "1b676b52"
      },
      "source": [
        "번호와 이름을 키와 값으로 갖는 사전을 출력하는 코드를 작성하여라.\n",
        "단, 번호는 이름의 오름차순으로 부여되고, 동명이인은 없다고 가정한다.  \n",
        "\n",
        "힌트: `sorted()` 함수와 `enumerate()` 함수를 이용할 수 있다."
      ]
    },
    {
      "cell_type": "code",
      "execution_count": 14,
      "id": "d51ed57c",
      "metadata": {
        "id": "d51ed57c"
      },
      "outputs": [],
      "source": [
        "# pass 와  None을 적절한 명령문과 표현식으로 대체하라.\n",
        "\n",
        "students.sort()\n",
        "my_dict = {}\n",
        "for i, name  in enumerate(students):\n",
        "  my_dict[str(i+1)] = name\n",
        "\n",
        "name_numbers = my_dict"
      ]
    },
    {
      "cell_type": "code",
      "execution_count": 15,
      "id": "b1f125dc",
      "metadata": {
        "id": "b1f125dc"
      },
      "outputs": [],
      "source": [
        "# 아래 코드의 주석 기호를 삭제하고 실행할 때 오류가 발생하지 않아야 한다.\n",
        "\n",
        "assert name_numbers == {'1': 'Apeach', '2': 'Choonsik', '3': 'Muzi', '4': 'Neo', '5': 'Ryan', '6': 'Tube'}"
      ]
    },
    {
      "cell_type": "markdown",
      "id": "8d72c674",
      "metadata": {
        "id": "8d72c674"
      },
      "source": [
        "**문제 5**"
      ]
    },
    {
      "cell_type": "markdown",
      "id": "41c01768",
      "metadata": {
        "id": "41c01768"
      },
      "source": [
        "A대학의 일반차량에 대한 주차요금은 아래와 같다.   \n",
        "\n",
        "* 2,000원/최초 30분, 초과 10분마다 500원, 1일(24시간)은 40,000원   \n",
        "\n",
        "일반차량에 대한 입출차 기록이 리스트로 주어졌다."
      ]
    },
    {
      "cell_type": "code",
      "execution_count": 16,
      "id": "eb201274",
      "metadata": {
        "id": "eb201274"
      },
      "outputs": [],
      "source": [
        "car_in_out = ['07:30 1234 IN', \n",
        "              '07:35 2580 IN',\n",
        "              '08:15 0328 IN',\n",
        "              '08:45 2580 OUT',\n",
        "              '08:55 9876 IN',\n",
        "              '11:00 1597 IN',\n",
        "              '15:15 1234 OUT',\n",
        "              '21:00 0328 OUT',\n",
        "              '23:45 9876 OUT']"
      ]
    },
    {
      "cell_type": "markdown",
      "id": "c13d654a",
      "metadata": {
        "id": "c13d654a"
      },
      "source": [
        "\n",
        "차량별로 주차시간과 주차요금이 사전 자료형으로 정리하는 코드를 작성하라.\n",
        "단, 아래 사항을 가정한다.\n",
        "\n",
        "* 차량번호는 차량 뒷번호 4자리를 기록하고, 동일한 차량번호는 없다.\n",
        "* 시간은 24시간제를 사용하고, 모든 차량은 00:00부터 23:59분 사이에 한 번씩만 입출차 한다.\n",
        "* 아직 출차하지 않은 차량에 대해서는 주차시간과 주차요금을 정리할 수 없다.  "
      ]
    },
    {
      "cell_type": "code",
      "source": [
        "import datetime\n",
        "import math\n",
        "\n",
        "car_dict = {}\n",
        "\n",
        "for item in car_in_out: \n",
        "  time, car_num, status = item.split()    # time, car_num, status로 각각 항목을 나눔\n",
        "  if car_num not in car_dict:             # 차가 들어와 있지 않을 때\n",
        "    car_dict[car_num] = {'IN' : time}\n",
        "  else:                                   # 차가 들어와 있을 때\n",
        "    car_dict[car_num][\"OUT\"] = time\n",
        "    time1 = datetime.datetime.strptime(car_dict[car_num]['IN'], \"%H:%M\")    # 들어올때 시간\n",
        "    time2 = datetime.datetime.strptime(car_dict[car_num]['OUT'], \"%H:%M\")   # 나올때 시간\n",
        "    duration = int((time2 - time1).seconds / 60)                            # 두 시간 차를 분 단위로 계산\n",
        "    car_dict[car_num]['parking_duration'] = duration\n",
        "    if duration < 1440:                                                     # 주차 시간이 하루 미만일 경우\n",
        "      car_dict[car_num]['parking_fee'] = int(500 + math.ceil((duration) / 10) * 500) \n",
        "car_parking_log = car_dict"
      ],
      "metadata": {
        "id": "xWxeHt4CZdgi"
      },
      "id": "xWxeHt4CZdgi",
      "execution_count": 17,
      "outputs": []
    },
    {
      "cell_type": "markdown",
      "id": "1df61440",
      "metadata": {
        "id": "1df61440"
      },
      "source": [
        "위 코드를 실행하면 다음과 같이 보여져야 한다."
      ]
    },
    {
      "cell_type": "code",
      "execution_count": 18,
      "id": "edf60fb7",
      "metadata": {
        "id": "edf60fb7"
      },
      "outputs": [],
      "source": [
        "answer = {'1234': {'IN': '07:30',\n",
        "                   'OUT': '15:15',\n",
        "                   'parking_duration': 465,\n",
        "                   'parking_fee': 24000},\n",
        "          '2580': {'IN': '07:35',\n",
        "                   'OUT': '08:45',\n",
        "                   'parking_duration': 70,\n",
        "                   'parking_fee': 4000},\n",
        "          '0328': {'IN': '08:15',\n",
        "                   'OUT': '21:00',\n",
        "                   'parking_duration': 765,\n",
        "                   'parking_fee': 39000},\n",
        "          '9876': {'IN': '08:55',\n",
        "                   'OUT': '23:45',\n",
        "                   'parking_duration': 890,\n",
        "                   'parking_fee': 45000},\n",
        "          '1597': {'IN': '11:00'}}"
      ]
    },
    {
      "cell_type": "code",
      "execution_count": 19,
      "id": "9c6a529d",
      "metadata": {
        "id": "9c6a529d"
      },
      "outputs": [],
      "source": [
        "# 아래 코드의 주석 기호를 삭제하고 실행할 때 오류가 발생하지 않아야 한다.\n",
        "\n",
        "assert car_parking_log == answer"
      ]
    },
    {
      "cell_type": "markdown",
      "id": "b9b51324",
      "metadata": {
        "id": "b9b51324"
      },
      "source": [
        "## 조건제시법"
      ]
    },
    {
      "cell_type": "markdown",
      "id": "d1df8fdd",
      "metadata": {
        "id": "d1df8fdd"
      },
      "source": [
        "**문제 6**"
      ]
    },
    {
      "cell_type": "markdown",
      "id": "c34a9353",
      "metadata": {
        "id": "c34a9353"
      },
      "source": [
        "다음 월리스 공식<font size='2'>Wallis formula</font>을 이용하여 \n",
        "원주율 PI를 소수점 이하 다섯째 자리까지 구하라.\n",
        "단, 조건제시법을 반드시 이용한다.\n",
        "또한 소수점 이하 다섯째 자리까지 구하기 위해 필요한 $i$ 의 최소값을 알아내야 한다.\n",
        "\n",
        "$$\n",
        "\\pi = 2 \\prod_{i=1}^{\\infty} \\frac{4 i^2}{4 i^2 -1}\n",
        "$$\n",
        "\n",
        "힌트: `range()` 함수, `math` 모듈의 `log()`, `exp()` 함수, \n",
        "`functools` 모듈의 `reduce()` 함수 등을 이용할 수 있다.\n",
        "또한 다음과 같이 로스 함수와 지수 함수를 이용한다.\n",
        "\n",
        "$$\n",
        "\\log\\pi = \\log 2 + \\sum_{i=1}^{\\infty} \\left (\\log(4 i^2) - \\log(4 i^2 -1)\\right )\n",
        "$$\n",
        "\n",
        "소수점 이하 다섯째 자리까지 구하기 위해 3.14159를 직접 이용하지는 않아야 한다.\n",
        "대신에 $i$ 번째, $i+1$ 번째, ... , $i+k$ 번째 값이 소수점 이하 다섯째 자리까지 동일하도록\n",
        "만드는 $i$ 값을 찾는 방법을 사용해야 한다. $k$를 얼마로 해야할지는 실험을 통해\n",
        "알아내야 한다.\n",
        "\n",
        "이런 방식을 사용하면 미리 알지 못하는 임의의 값의 수렴값을 원하는 정밀도까지 계산할 수 있다.\n"
      ]
    },
    {
      "cell_type": "code",
      "source": [
        "for i in range(1, 1000000):\n",
        "  if i == 1:\n",
        "    result = math.log(4*i**2) - math.log(4*i**2 - 1)\n",
        "  else:\n",
        "    result += math.log(4*i**2) - math.log(4*i**2 - 1)\n",
        "    if math.trunc(math.exp(math.log(2) + result) * 100000 ) / 100000 == round(math.pi, 5):\n",
        "      break\n",
        "print(i)"
      ],
      "metadata": {
        "colab": {
          "base_uri": "https://localhost:8080/"
        },
        "id": "dEOCI54S5-Ow",
        "outputId": "eaa67370-7a57-44ab-b19b-3e7fa01a2ccd"
      },
      "id": "dEOCI54S5-Ow",
      "execution_count": 171,
      "outputs": [
        {
          "output_type": "stream",
          "name": "stdout",
          "text": [
            "295976\n"
          ]
        }
      ]
    }
  ],
  "metadata": {
    "kernelspec": {
      "display_name": "Python 3 (ipykernel)",
      "language": "python",
      "name": "python3"
    },
    "language_info": {
      "codemirror_mode": {
        "name": "ipython",
        "version": 3
      },
      "file_extension": ".py",
      "mimetype": "text/x-python",
      "name": "python",
      "nbconvert_exporter": "python",
      "pygments_lexer": "ipython3",
      "version": "3.9.13"
    },
    "colab": {
      "provenance": [],
      "include_colab_link": true
    }
  },
  "nbformat": 4,
  "nbformat_minor": 5
}